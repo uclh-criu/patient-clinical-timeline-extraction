{
 "cells": [
  {
   "cell_type": "markdown",
   "id": "8d5fd842",
   "metadata": {},
   "source": [
    "How to use/adapt:\n",
    "\n",
    "Change entities, filler_phrases, or sections to mimic different clinical scenarios.\n",
    "\n",
    "Adjust n_dates, min_distance, or noise parameters for more/less complexity.\n",
    "\n",
    "Loop as needed to generate as many records as you want."
   ]
  },
  {
   "cell_type": "code",
   "execution_count": 3,
   "id": "8e74d032",
   "metadata": {},
   "outputs": [],
   "source": [
    "# 1) Imports\n",
    "import pandas as pd\n",
    "\n",
    "# EDA stats (already implemented)\n",
    "from eda_analysis import (\n",
    "    get_doc_length_stats,\n",
    "    get_entity_count_stats,\n",
    "    get_entity_frequency,\n",
    "    get_date_count_stats,\n",
    ")\n",
    "\n",
    "# Reusable filler phrases and curated entities\n",
    "from constants import FILLER_TEXT, TOP_DIAGNOSIS_ENTITIES\n",
    "\n",
    "# Stepwise generation utilities\n",
    "from create_synthetic_data import (\n",
    "    seed_all,\n",
    "    # sampling\n",
    "    sample_note_length, sample_count, sample_entities,\n",
    "    # base note\n",
    "    generate_base_note,\n",
    "    # placement (boundary-aware recommended)\n",
    "    insert_entities_at_boundaries, insert_dates_at_boundaries,\n",
    "    # relationship logic\n",
    "    link_relationships_by_proximity, update_relationship_positions,\n",
    "    # distance/capacity controls\n",
    "    ensure_min_distance_for_all_pairs, match_date_density,\n",
    "    # finishing touches\n",
    "    add_filler_text, inject_noise,\n",
    "    # cleanup & correction\n",
    "    deduplicate_entities, deduplicate_diagnoses, correct_entity_positions,\n",
    ")"
   ]
  },
  {
   "cell_type": "markdown",
   "id": "0de2720f",
   "metadata": {},
   "source": [
    "Real Data"
   ]
  },
  {
   "cell_type": "code",
   "execution_count": 4,
   "id": "151d4561",
   "metadata": {},
   "outputs": [],
   "source": [
    "seed_all(42)\n",
    "df = pd.read_csv(\"../data/synthetic.csv\")"
   ]
  },
  {
   "cell_type": "code",
   "execution_count": null,
   "id": "4794d7b9",
   "metadata": {},
   "outputs": [
    {
     "data": {
      "text/plain": [
       "{'mean': 1366.4752475247524,\n",
       " 'std': 64.96007913471257,\n",
       " 'min': 1261,\n",
       " 'max': 1568,\n",
       " 'median': 1359.0}"
      ]
     },
     "execution_count": 5,
     "metadata": {},
     "output_type": "execute_result"
    }
   ],
   "source": [
    "# doc length\n",
    "length_stats = get_doc_length_stats(df)\n",
    "length_stats"
   ]
  },
  {
   "cell_type": "code",
   "execution_count": null,
   "id": "ff6b3cf8",
   "metadata": {},
   "outputs": [
    {
     "data": {
      "text/plain": [
       "{'mean': 6.178217821782178,\n",
       " 'std': 0.5549061110487141,\n",
       " 'min': 6,\n",
       " 'max': 9,\n",
       " 'median': 6.0}"
      ]
     },
     "execution_count": 6,
     "metadata": {},
     "output_type": "execute_result"
    }
   ],
   "source": [
    "# entity counts\n",
    "entity_stats = get_entity_count_stats(df)\n",
    "entity_stats"
   ]
  },
  {
   "cell_type": "code",
   "execution_count": 13,
   "id": "6b445b4a",
   "metadata": {},
   "outputs": [
    {
     "data": {
      "text/plain": [
       "(61,\n",
       " {'asthma': 19,\n",
       "  'pituitary_adenoma': 15,\n",
       "  'rheumatoid_arthritis': 9,\n",
       "  'pneumonia': 11,\n",
       "  'gerd': 11,\n",
       "  'meningitis': 7,\n",
       "  'multiple_sclerosis': 14,\n",
       "  'bronchitis': 21,\n",
       "  'tension_headache': 21,\n",
       "  'congenital malformation': 33,\n",
       "  'osteoarthritis': 16,\n",
       "  'diabetes_mellitus': 11,\n",
       "  'anemia': 12,\n",
       "  'depression': 18,\n",
       "  'copd': 21,\n",
       "  'hyperlipidemia': 19,\n",
       "  'ibs': 16,\n",
       "  'schizophrenia': 16,\n",
       "  'stroke': 7,\n",
       "  'microadenoma': 12,\n",
       "  'disorder of optic nerve': 10,\n",
       "  'pituitary macroadenoma': 15,\n",
       "  'cerebral hemorrhage': 18,\n",
       "  'neoplasm of pituitary gland': 6,\n",
       "  'bipolar_disorder': 11,\n",
       "  'hypothyroidism': 17,\n",
       "  'anxiety': 12,\n",
       "  'pituitary adenoma': 5,\n",
       "  'disorder of pituitary gland': 3,\n",
       "  'ulcerative_colitis': 12,\n",
       "  'leukemia': 10,\n",
       "  'soft tissue lesion': 6,\n",
       "  'macroadenoma': 11,\n",
       "  'epilepsy': 15,\n",
       "  'prolactinoma': 16,\n",
       "  'cluster_headache': 12,\n",
       "  'atrial fibrillation': 2,\n",
       "  'gout': 15,\n",
       "  'type 2 diabetes': 1,\n",
       "  'adrenal_insufficiency': 11,\n",
       "  'fibromyalgia': 8,\n",
       "  'migraine': 12,\n",
       "  'obesity': 3,\n",
       "  'myeloma': 9,\n",
       "  'disorder of liver': 3,\n",
       "  'ebola virus disease': 2,\n",
       "  'disorder of pancreas': 1,\n",
       "  'hydrocephalus': 11,\n",
       "  'anxiety disorder': 4,\n",
       "  'cyst': 5,\n",
       "  'hypertension': 13,\n",
       "  'lymphoma': 8,\n",
       "  'hyperthyroidism': 10,\n",
       "  'radiologic infiltrate of lung': 4,\n",
       "  'pneumocephalus': 4,\n",
       "  'internal carotid artery stenosis': 2,\n",
       "  'intracranial meningioma': 3,\n",
       "  'synovitis': 1,\n",
       "  'chronic kidney disease': 1,\n",
       "  'sleep apnea': 2,\n",
       "  'acromegaly': 1})"
      ]
     },
     "execution_count": 13,
     "metadata": {},
     "output_type": "execute_result"
    }
   ],
   "source": [
    "# entity frequency\n",
    "entity_freqs = get_entity_frequency(df)\n",
    "len(entity_freqs), entity_freqs"
   ]
  },
  {
   "cell_type": "code",
   "execution_count": null,
   "id": "2fe7145f",
   "metadata": {},
   "outputs": [
    {
     "data": {
      "text/plain": [
       "{'mean': 1.99009900990099,\n",
       " 'std': 0.09950371902099892,\n",
       " 'min': 1,\n",
       " 'max': 2,\n",
       " 'median': 2.0}"
      ]
     },
     "execution_count": 8,
     "metadata": {},
     "output_type": "execute_result"
    }
   ],
   "source": [
    "# date counts\n",
    "date_stats = get_date_count_stats(df)\n",
    "date_stats"
   ]
  },
  {
   "cell_type": "code",
   "execution_count": 9,
   "id": "0161b308",
   "metadata": {},
   "outputs": [
    {
     "data": {
      "text/plain": [
       "['congenital malformation',\n",
       " 'cerebral hemorrhage',\n",
       " 'pituitary macroadenoma',\n",
       " 'disorder of optic nerve',\n",
       " 'hydrocephalus',\n",
       " 'disorder of pituitary gland',\n",
       " 'pituitary adenoma',\n",
       " 'cyst',\n",
       " 'pneumocephalus',\n",
       " 'neoplasm of pituitary gland',\n",
       " 'disorder of liver',\n",
       " 'disorder of pancreas',\n",
       " 'intracranial meningioma',\n",
       " 'soft tissue lesion',\n",
       " 'internal carotid artery stenosis',\n",
       " 'meningitis',\n",
       " 'radiologic infiltrate of lung',\n",
       " 'hypertension',\n",
       " 'type 2 diabetes',\n",
       " 'migraine',\n",
       " 'asthma',\n",
       " 'chronic kidney disease',\n",
       " 'hypothyroidism',\n",
       " 'hyperlipidemia',\n",
       " 'osteoarthritis',\n",
       " 'depression',\n",
       " 'anxiety disorder',\n",
       " 'gastroesophageal reflux disease',\n",
       " 'atrial fibrillation',\n",
       " 'chronic obstructive pulmonary disease',\n",
       " 'obesity',\n",
       " 'coronary artery disease',\n",
       " 'heart failure',\n",
       " 'osteoporosis',\n",
       " 'anemia',\n",
       " 'vitamin D deficiency',\n",
       " 'sleep apnea']"
      ]
     },
     "execution_count": 9,
     "metadata": {},
     "output_type": "execute_result"
    }
   ],
   "source": [
    "TOP_DIAGNOSIS_ENTITIES"
   ]
  },
  {
   "cell_type": "code",
   "execution_count": 12,
   "id": "74beb1df",
   "metadata": {},
   "outputs": [
    {
     "data": {
      "text/plain": [
       "67"
      ]
     },
     "execution_count": 12,
     "metadata": {},
     "output_type": "execute_result"
    }
   ],
   "source": [
    "# Optional: backfill curated entities to ensure variety even if missing in this sample\n",
    "for e in TOP_DIAGNOSIS_ENTITIES:\n",
    "    entity_freqs.setdefault(e, 1)\n",
    "\n",
    "len(entity_freqs)"
   ]
  },
  {
   "cell_type": "markdown",
   "id": "add11d45",
   "metadata": {},
   "source": [
    "Synthetic Generation"
   ]
  },
  {
   "cell_type": "code",
   "execution_count": 15,
   "id": "a310d1d8",
   "metadata": {},
   "outputs": [
    {
     "name": "stdout",
     "output_type": "stream",
     "text": [
      "Targets -> length: 1465, entities: 6, dates: 1\n"
     ]
    }
   ],
   "source": [
    "# Sample targets\n",
    "target_length = sample_note_length(length_stats)\n",
    "n_entities    = sample_count(entity_stats)\n",
    "n_dates       = sample_count(date_stats)\n",
    "\n",
    "print(f\"Targets -> length: {target_length}, entities: {n_entities}, dates: {n_dates}\")"
   ]
  },
  {
   "cell_type": "code",
   "execution_count": 17,
   "id": "5ab2db79",
   "metadata": {},
   "outputs": [
    {
     "data": {
      "text/plain": [
       "\"Complete blood count shows WBC 7.2, Hgb 13.5, Plt 250. Patient instructed to follow up with specialist for further evaluation. Patient reports compliance with current medication regimen. The patient's vital signs are stable. Lungs clear to auscultation bilaterally. GI: Bowel sounds present in all four quadrants. No hepatosplenomegaly. Cardiovascular: Regular rate and rhythm. No murmurs, rubs, or gallops. Normal S1 and S2. Patient reports compliance with current medication regimen. No acute distress noted on examination. Neurological exam within normal limits. Cardiovascular: Regular rate and rhythm. No murmurs, rubs, or gallops. Normal S1 and S2. Labs from this morning were unremarkable. The plan was discussed with the patient, who understands and agrees. Skin: No rashes, lesions, or abnormal pigmentation. Good turgor and hydration. Labs from this morning were unremarkable. Respiratory: Clear to auscultation bilaterally. No wheezes, rales, or rhonchi. Respiratory: Clear to auscultation bilaterally. No wheezes, rales, or rhonchi. Recommended lifestyle modifications including diet changes and regular exercise. Medications were reconciled during the visit. He denies any fever, chills, or night sweats. Basic metabolic panel within normal limits with sodium 140, potassium 4.2, creatinine 0.9. Chest X-ray reveals clear lung fields without infiltrates or effusions. Follow-up appointment scheduled in 3 months. Skin: No rashes, lesions, or abnormal p\""
      ]
     },
     "execution_count": 17,
     "metadata": {},
     "output_type": "execute_result"
    }
   ],
   "source": [
    "# 6) Generate a base note (variety comes from FILLER_TEXT)\n",
    "note = generate_base_note(target_length=target_length, filler_phrases=FILLER_TEXT)\n",
    "note"
   ]
  },
  {
   "cell_type": "code",
   "execution_count": 21,
   "id": "9d800250",
   "metadata": {},
   "outputs": [
    {
     "name": "stdout",
     "output_type": "stream",
     "text": [
      "Entities placed: ['rheumatoid_arthritis', 'pituitary macroadenoma', 'disorder of optic nerve', 'intracranial meningioma', 'cerebral hemorrhage', 'hyperlipidemia']\n"
     ]
    },
    {
     "data": {
      "text/plain": [
       "\"Complete blood count shows WBC 7.2, Hgb 13.5, Plt 250. Patient instructed to follow up with specialist for further evaluation. Patient reports compliance with current medication regimen. The patient's vital signs are stable. Lungs clear to auscultation bilaterally. GI: Bowel sounds present in all four quadrants. No hepatosplenomegaly. Cardiovascular: Regular rate and rhythm. No murmurs, rubs, or gallops. Normal S1 and S2. Patient reports compliance with current medication regimen. No acute distress noted on examination. Neurological exam within normal limits. Cardiovascular: Regular rate and rhythm. No murmurs, rubs, or gallops. Normal S1 and S2. Labs from this morning were unremarkable. The plan was discussed with the patient, who understands and agrees. Skin: No rashes, lesions, or abnormal pigmentation. Good turgor and hydration. Labs from this morning were unremarkable. Respiratory: Clear to auscultation bilaterally. No wheezes, rales, or rhonchi. Respiratory: Clear to auscultation bilaterally. No wheezes, rales, or rhonchi. Recommended lifestyle modifications including diet changes and regular exercise. Medications were reconciled during the visit. He denies any fever, chills, or night sweats. Basic metabolic panel within normal limits with sodium 140, potassium 4.2, creatinine 0.9. Chest X-ray reveals clear lung fields without infiltrates or effusions. Follow-up appointment scheduled in 3 months. Skin: No rashes, lesions, or abnormal p\""
      ]
     },
     "execution_count": 21,
     "metadata": {},
     "output_type": "execute_result"
    }
   ],
   "source": [
    "# Sample entities (weighted by real frequencies) and place non-overlapping at boundaries\n",
    "entities = sample_entities(entity_freqs, n_entities)\n",
    "entity_spans = insert_entities_at_boundaries(note, entities, min_distance=30)\n",
    "print(\"Entities placed:\", [e['label'] for e in entity_spans])\n",
    "note"
   ]
  },
  {
   "cell_type": "code",
   "execution_count": 20,
   "id": "10a3dab6",
   "metadata": {},
   "outputs": [
    {
     "name": "stdout",
     "output_type": "stream",
     "text": [
      "Dates placed: ['(01 Jan 2020)']\n"
     ]
    },
    {
     "data": {
      "text/plain": [
       "\"Complete blood count shows WBC 7.2, Hgb 13.5, Plt 250. Patient instructed to follow up with specialist for further evaluation. Patient reports compliance with current medication regimen. The patient's vital signs are stable. Lungs clear to auscultation bilaterally. GI: Bowel sounds present in all four quadrants. No hepatosplenomegaly. Cardiovascular: Regular rate and rhythm. No murmurs, rubs, or gallops. Normal S1 and S2. Patient reports compliance with current medication regimen. No acute distress noted on examination. Neurological exam within normal limits. Cardiovascular: Regular rate and rhythm. No murmurs, rubs, or gallops. Normal S1 and S2. Labs from this morning were unremarkable. The plan was discussed with the patient, who understands and agrees. Skin: No rashes, lesions, or abnormal pigmentation. Good turgor and hydration. Labs from this morning were unremarkable. Respiratory: Clear to auscultation bilaterally. No wheezes, rales, or rhonchi. Respiratory: Clear to auscultation bilaterally. No wheezes, rales, or rhonchi. Recommended lifestyle modifications including diet changes and regular exercise. Medications were reconciled during the visit. He denies any fever, chills, or night sweats. Basic metabolic panel within normal limits with sodium 140, potassium 4.2, creatinine 0.9. Chest X-ray reveals clear lung fields without infiltrates or effusions. Follow-up appointment scheduled in 3 months. Skin: No rashes, lesions, or abnormal p\""
      ]
     },
     "execution_count": 20,
     "metadata": {},
     "output_type": "execute_result"
    }
   ],
   "source": [
    "# Insert dates at boundaries (with simple format variety internally)\n",
    "date_spans = insert_dates_at_boundaries(note, n_dates=n_dates, min_distance=40)\n",
    "print(\"Dates placed:\", [d['original'] for d in date_spans])\n",
    "note"
   ]
  },
  {
   "cell_type": "code",
   "execution_count": 22,
   "id": "d33bfba1",
   "metadata": {},
   "outputs": [
    {
     "data": {
      "text/plain": [
       "[{'date': '2020-01-01',\n",
       "  'date_position': 550,\n",
       "  'diagnoses': [{'diagnosis': 'pituitary macroadenoma', 'position': 987}]},\n",
       " {'date': '2020-01-01',\n",
       "  'date_position': 550,\n",
       "  'diagnoses': [{'diagnosis': 'disorder of optic nerve', 'position': 669}]},\n",
       " {'date': '2020-01-01',\n",
       "  'date_position': 550,\n",
       "  'diagnoses': [{'diagnosis': 'intracranial meningioma', 'position': 484}]},\n",
       " {'date': '2020-01-01',\n",
       "  'date_position': 550,\n",
       "  'diagnoses': [{'diagnosis': 'cerebral hemorrhage', 'position': 282}]}]"
      ]
     },
     "execution_count": 22,
     "metadata": {},
     "output_type": "execute_result"
    }
   ],
   "source": [
    "# Create positive relationships by proximity (more realistic than round-robin)\n",
    "relationships = link_relationships_by_proximity(entity_spans, date_spans, max_distance=500)\n",
    "relationships"
   ]
  },
  {
   "cell_type": "code",
   "execution_count": 24,
   "id": "c15f2b77",
   "metadata": {},
   "outputs": [
    {
     "data": {
      "text/plain": [
       "\"Complete blood count shows WBC 7.2, Hgb 13.5, Plt 250. Patient instructed to follow up with specialist for further evaluation. Patient reports compliance with current medication regimen. The patient's vital signs are stable. Lungs clear to auscultation bilaterally. GI: Bowel sounds present in all four quadrants. No hepatosplenomegaly. Cardiovascular: Regular rate and rhythm. No murmurs, rubs, or gallops. Normal S1 and S2. Patient reports compliance with current medication regimen. No acute distress not Complete blood count shows WBC 7.2, Hgb 13.5, Plt 250. ed on examination. Neurological exam within Lymphatic: No cervical, axillary, or inguinal lymphadenopathy.  Urinalysis negative for blood, protein, and leukocyte esterase.  normal limits. Cardiovascular: Regular rate and rhythm. No murmurs, rubs, or gallops. Normal S1 and S2. Labs from this morning were unremarkable. The plan was discussed with the patient, who understands and agrees. Skin: No rashes, lesions, or abnormal pigmentation. Good turgor and hydration. Labs from this morning were unremarkable. Respiratory: Clear to auscultation bilaterally. No wheezes, rales, or rhonchi. Respiratory: Clear to auscultation bilaterally. No wheezes, rales, or rhonchi. Recommended lifestyle modifications including diet changes and regular exercise. Medications were reconciled during the visit. He denies any fever, chills, or night sweats. Basic metabolic panel within normal limits with sodium 140, potassium 4.2, creatinine 0.9. Chest X-ray reveals clear lung fields without infiltrates or effusions. Follow-up appointment scheduled in 3 months. Skin: No rashes, lesions, or abnormal p\""
      ]
     },
     "execution_count": 24,
     "metadata": {},
     "output_type": "execute_result"
    }
   ],
   "source": [
    "# 10) Enforce a minimum distance for all positive pairs (inserts filler between close pairs)\n",
    "#     This may shift positions, so we will refresh relationship positions after\n",
    "note, entity_spans, date_spans = ensure_min_distance_for_all_pairs(\n",
    "    note=note,\n",
    "    entities=entity_spans,\n",
    "    dates=date_spans,\n",
    "    relationships=relationships,\n",
    "    min_distance=180,\n",
    "    filler_phrases=FILLER_TEXT\n",
    ")\n",
    "\n",
    "note"
   ]
  },
  {
   "cell_type": "code",
   "execution_count": 25,
   "id": "a1a5e79e",
   "metadata": {},
   "outputs": [
    {
     "data": {
      "text/plain": [
       "[{'date': '2020-01-01',\n",
       "  'date_position': 735,\n",
       "  'diagnoses': [{'diagnosis': 'pituitary macroadenoma', 'position': 1172}]},\n",
       " {'date': '2020-01-01',\n",
       "  'date_position': 735,\n",
       "  'diagnoses': [{'diagnosis': 'disorder of optic nerve', 'position': 854}]},\n",
       " {'date': '2020-01-01',\n",
       "  'date_position': 735,\n",
       "  'diagnoses': [{'diagnosis': 'intracranial meningioma', 'position': 484}]},\n",
       " {'date': '2020-01-01',\n",
       "  'date_position': 735,\n",
       "  'diagnoses': [{'diagnosis': 'cerebral hemorrhage', 'position': 282}]}]"
      ]
     },
     "execution_count": 25,
     "metadata": {},
     "output_type": "execute_result"
    }
   ],
   "source": [
    "# Refresh relationship positions after span shifts\n",
    "relationships = update_relationship_positions(relationships, entity_spans, date_spans)\n",
    "relationships"
   ]
  },
  {
   "cell_type": "code",
   "execution_count": 26,
   "id": "a236da70",
   "metadata": {},
   "outputs": [
    {
     "data": {
      "text/plain": [
       "[{'original': '(01 Jan 2020)',\n",
       "  'parsed': '2020-01-01',\n",
       "  'start': 735,\n",
       "  'end': 748}]"
      ]
     },
     "execution_count": 26,
     "metadata": {},
     "output_type": "execute_result"
    }
   ],
   "source": [
    "# 11) Match date density if needed (e.g., reduce to target average)\n",
    "date_spans, relationships = match_date_density(date_spans, relationships, target_avg=date_stats['mean'])\n",
    "date_spans"
   ]
  },
  {
   "cell_type": "code",
   "execution_count": 27,
   "id": "c536a5ed",
   "metadata": {},
   "outputs": [
    {
     "data": {
      "text/plain": [
       "\"Complete blood count shows WBC 7.2, Hgb 13.5, Plt 250. Patient instructed to follow up with specialist for further evaluation. Patient reports compliance with current medication regimen. The patient's vital signs are stable. Lungs clear to auscultation bilaterally. GI: Bowel sounds present in all four quadrants. No hepatosplenomegaly. Cardiovascular: Regular rate and rhythm. No murmurs, rubs, or gallops. Normal S1 and S2. Patient reports compliance with current medication regimen. No acute distress not Complete blood count shows WBC 7.2, Hgb 13.5, Plt 250. ed on examination. Neurological exam within Lymphatic: No cervical, axillary, or inguinal lymphadenopathy.  Urinalysis negative for blood, protein, and leukocyte esterase.  normal limits. Cardiovascular: Regular rate and rhythm. No murmurs, rubs, or gallops. Normal S1 and S2. Labs from this morning were unremarkable. The plan was discussed with the patient, who understands and agrees. Skin: No rashes, lesions, or abnormal pigmentation. Good turgor and hydration. Labs from this morning were unremarkable. Respiratory: Clear to auscultation bilaterally. No wheezes, rales, or rhonchi. Respiratory: Clear to auscultation bilaterally. No wheezes, rales, or rhonchi. Recommended lifestyle modifications including diet changes and regular exercise. Medications were reconciled during the visit. He denies any fever, chills, or night sweats. Basic metabolic panel within normal limits with sodium 140, po\""
      ]
     },
     "execution_count": 27,
     "metadata": {},
     "output_type": "execute_result"
    }
   ],
   "source": [
    "# 12) Top up to target length if enforcing distances shortened the note\n",
    "note = add_filler_text(note, target_length=target_length, filler_phrases=FILLER_TEXT)\n",
    "note"
   ]
  },
  {
   "cell_type": "code",
   "execution_count": 28,
   "id": "858425eb",
   "metadata": {},
   "outputs": [
    {
     "data": {
      "text/plain": [
       "\"Complete blood count shows WBC 7.2, Hgb 13.5, Plt 250. Patient instructed to follow up with specialist for further evaluation. Patient reports compliance with current medication regimen. The patient's vital signs are stable. Lungs clear to auscultation bilaterally. GI: Bowel sounds present in all four quadrants. No hepatosplenomegaly. Cardiovascular: Regular rate and rhythm. No murmurs, rubs, or gallops. Normal S1 and S2. Patient reports compliance with current medication regimen. No acute distress not Complete blood couwt shows WBC 7.2, Hgb 13.5, mlt 250. ed on examination. Neurological exam within Lymphatic: No cervical, axillary, or inguinal lymphadenopathy.  Urinalysis negative for blood, protein, and leukocyte esterase.  normal limits. Cardiovascular: Regular rate and rhythm. No murmurs, rubs, or gallops. Normal S1 and S2. Labs from this morning were unremarkable. The plan was discussed with the patient, who understands and agrees. Skin: No rashes, lesions, or abnormal pigmentation. Good turgor and hydration. Labs from this morning were unremarkable. Respiratory: Clear to auscultation bilaterally. No wheezes, rales, or rhonchi. Respiratory: Clear to auscultation bilaterally. No wheezes, rales, or rhonchi. Recommended lifestyle modifications including diet changes and regular exercise. Medications were reconciled during the visit. He denies any fever, chills, or night sweats. Basic metabolic panel within normal limits with sodium 140, po\""
      ]
     },
     "execution_count": 28,
     "metadata": {},
     "output_type": "execute_result"
    }
   ],
   "source": [
    "# 13) Optional: inject mild noise (typos) for realism\n",
    "note_noisy = inject_noise(note, typo_prob=0.002, ambiguous_prob=0.0)\n",
    "note_noisy"
   ]
  },
  {
   "cell_type": "code",
   "execution_count": 29,
   "id": "cac6289f",
   "metadata": {},
   "outputs": [
    {
     "ename": "SyntaxError",
     "evalue": "unexpected EOF while parsing (3612558129.py, line 4)",
     "output_type": "error",
     "traceback": [
      "\u001b[1;36m  Cell \u001b[1;32mIn[29], line 4\u001b[1;36m\u001b[0m\n\u001b[1;33m    r['diagnoses'] = deduplicate_diagnoses(r.get('diagnoses', [])\u001b[0m\n\u001b[1;37m                                                                 ^\u001b[0m\n\u001b[1;31mSyntaxError\u001b[0m\u001b[1;31m:\u001b[0m unexpected EOF while parsing\n"
     ]
    }
   ],
   "source": [
    "# 14) Cleanup: deduplicate and correct positions against the final note text\n",
    "entity_spans = deduplicate_entities(entity_spans)\n",
    "for r in relationships:\n",
    "    r['diagnoses'] = deduplicate_diagnoses(r.get('diagnoses', [])"
   ]
  },
  {
   "cell_type": "code",
   "execution_count": 30,
   "id": "4759793f",
   "metadata": {},
   "outputs": [],
   "source": [
    "# Re-scan positions of entities in the final text (defensive correction)\n",
    "entity_spans = correct_entity_positions(note_noisy, entity_spans)\n",
    "relationships = update_relationship_positions(relationships, entity_spans, date_spans)"
   ]
  },
  {
   "cell_type": "code",
   "execution_count": 31,
   "id": "4da5602b",
   "metadata": {},
   "outputs": [],
   "source": [
    "# 15) Inspect the final assembled record\n",
    "synthetic_record = {\n",
    "    'note': note_noisy,\n",
    "    'entities': entity_spans,\n",
    "    'dates': date_spans,\n",
    "    'relationships': relationships\n",
    "}\n"
   ]
  },
  {
   "cell_type": "code",
   "execution_count": 32,
   "id": "ef144fe2",
   "metadata": {},
   "outputs": [
    {
     "name": "stdout",
     "output_type": "stream",
     "text": [
      "Note preview:\n",
      "Complete blood count shows WBC 7.2, Hgb 13.5, Plt 250. Patient instructed to follow up with specialist for further evaluation. Patient reports compliance with current medication regimen. The patient's vital signs are stable. Lungs clear to auscultation bilaterally. GI: Bowel sounds present in all four quadrants. No hepatosplenomegaly. Cardiovascular: Regular rate and rhythm. No murmurs, rubs, or gallops. Normal S1 and S2. Patient reports compliance with current medication regimen. No acute distress not Complete blood couwt shows WBC 7.2, Hgb 13.5, mlt 250. ed on examination. Neurological exam within Lymphatic: No cervical, axillary, or inguinal lymphadenopathy.  Urinalysis negative for blood, protein, and leukocyte esterase.  normal limits. Cardiovascular: Regular rate and rhythm. No murmu ...\n",
      "\n",
      "Entities: []\n",
      "Dates: [{'original': '(01 Jan 2020)', 'parsed': '2020-01-01', 'start': 735, 'end': 748}]\n",
      "Relationships: [{'date': '2020-01-01', 'date_position': 735, 'diagnoses': [{'diagnosis': 'pituitary macroadenoma', 'position': 1172}]}, {'date': '2020-01-01', 'date_position': 735, 'diagnoses': [{'diagnosis': 'disorder of optic nerve', 'position': 854}]}, {'date': '2020-01-01', 'date_position': 735, 'diagnoses': [{'diagnosis': 'intracranial meningioma', 'position': 484}]}, {'date': '2020-01-01', 'date_position': 735, 'diagnoses': [{'diagnosis': 'cerebral hemorrhage', 'position': 282}]}]\n"
     ]
    }
   ],
   "source": [
    "# Quick inspection helpers\n",
    "print(\"Note preview:\")\n",
    "print(synthetic_record['note'][:800], \"...\\n\")\n",
    "print(\"Entities:\", synthetic_record['entities'][:10])\n",
    "print(\"Dates:\", synthetic_record['dates'])\n",
    "print(\"Relationships:\", synthetic_record['relationships'][:10])"
   ]
  },
  {
   "cell_type": "code",
   "execution_count": null,
   "id": "52b1e294",
   "metadata": {},
   "outputs": [],
   "source": [
    "# 9. (Optional) Repeat in a loop to create a dataset\n",
    "dataset = []\n",
    "for i in range(5):\n",
    "    note = generate_note_with_template(sections)\n",
    "    note = add_filler_text(note, target_length=500, filler_phrases=filler_phrases)\n",
    "    note = inject_noise(note, typo_prob=0.01, ambiguous_prob=0.01)\n",
    "    entity_spans = insert_entities(note, entities, min_distance=50)\n",
    "    date_spans = insert_dates(note, n_dates=n_dates)\n",
    "    entity_spans = deduplicate_entities(entity_spans)\n",
    "    relationships = generate_relationships(entity_spans, date_spans, mode=\"diagnosis_only\")\n",
    "    dataset.append({\n",
    "        \"note\": note,\n",
    "        \"entities\": entity_spans,\n",
    "        \"dates\": date_spans,\n",
    "        \"relationships\": relationships,\n",
    "    })\n",
    "\n",
    "dataset"
   ]
  },
  {
   "cell_type": "code",
   "execution_count": null,
   "id": "69a6cdec",
   "metadata": {},
   "outputs": [],
   "source": [
    "# 10. Convert to DataFrame for inspection (optional)\n",
    "import pandas as pd\n",
    "df = pd.DataFrame(dataset)\n",
    "df.head()"
   ]
  }
 ],
 "metadata": {
  "kernelspec": {
   "display_name": "venv",
   "language": "python",
   "name": "python3"
  },
  "language_info": {
   "codemirror_mode": {
    "name": "ipython",
    "version": 3
   },
   "file_extension": ".py",
   "mimetype": "text/x-python",
   "name": "python",
   "nbconvert_exporter": "python",
   "pygments_lexer": "ipython3",
   "version": "3.9.8"
  }
 },
 "nbformat": 4,
 "nbformat_minor": 5
}
