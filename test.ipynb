{
 "cells": [
  {
   "cell_type": "markdown",
   "id": "dfb4652a",
   "metadata": {},
   "source": [
    "Imports"
   ]
  },
  {
   "cell_type": "code",
   "execution_count": 19,
   "id": "02c805a7",
   "metadata": {},
   "outputs": [],
   "source": [
    "#imports\n",
    "from transformers import AutoTokenizer, AutoModelForSequenceClassification, AutoModelForCausalLM, pipeline\n",
    "\n",
    "from utils import load_data, prepare_all_samples, get_entity_date_pairs, calculate_metrics\n",
    "from naive_extractor import naive_extraction\n",
    "from bert_extractor import bert_extraction\n",
    "from llama_extractor import llama_extraction, process_llama_response"
   ]
  },
  {
   "cell_type": "markdown",
   "id": "e368136f",
   "metadata": {},
   "source": [
    "Data Loading"
   ]
  },
  {
   "cell_type": "code",
   "execution_count": 20,
   "id": "8b69680b",
   "metadata": {},
   "outputs": [
    {
     "name": "stdout",
     "output_type": "stream",
     "text": [
      "Loaded 101 records\n"
     ]
    }
   ],
   "source": [
    "# Load data\n",
    "df = load_data(\"synthetic.csv\")\n",
    "print(f\"Loaded {len(df)} records\")\n",
    "#df"
   ]
  },
  {
   "cell_type": "code",
   "execution_count": 21,
   "id": "e0fc9f0c",
   "metadata": {},
   "outputs": [
    {
     "name": "stdout",
     "output_type": "stream",
     "text": [
      "Prepared 101 samples\n"
     ]
    }
   ],
   "source": [
    "# Prepare all samples\n",
    "samples = prepare_all_samples(df)\n",
    "print(f\"Prepared {len(samples)} samples\")\n",
    "#samples[0]"
   ]
  },
  {
   "cell_type": "markdown",
   "id": "1fcbfec6",
   "metadata": {},
   "source": [
    "Naive Extractor"
   ]
  },
  {
   "cell_type": "code",
   "execution_count": 22,
   "id": "ff99b113",
   "metadata": {},
   "outputs": [],
   "source": [
    "#Process samples\n",
    "predictions = []\n",
    "\n",
    "for sample in samples:\n",
    "    relationships = naive_extraction(sample['note_text'], sample['entities_list'], sample['dates'])\n",
    "    predictions.extend(relationships)"
   ]
  },
  {
   "cell_type": "code",
   "execution_count": 23,
   "id": "d13cd164",
   "metadata": {},
   "outputs": [],
   "source": [
    "# Look at predictions\n",
    "#predictions"
   ]
  },
  {
   "cell_type": "code",
   "execution_count": 24,
   "id": "1792c878",
   "metadata": {},
   "outputs": [
    {
     "data": {
      "text/plain": [
       "{'precision': 0.1277533039647577,\n",
       " 'recall': 0.13551401869158877,\n",
       " 'f1': 0.13151927437641722,\n",
       " 'tp': 29,\n",
       " 'fp': 198,\n",
       " 'fn': 185}"
      ]
     },
     "execution_count": 24,
     "metadata": {},
     "output_type": "execute_result"
    }
   ],
   "source": [
    "# Calculate metrics\n",
    "metrics = calculate_metrics(predictions, df)\n",
    "metrics"
   ]
  },
  {
   "cell_type": "markdown",
   "id": "128c81f2",
   "metadata": {},
   "source": [
    "BERT"
   ]
  },
  {
   "cell_type": "code",
   "execution_count": 25,
   "id": "597c91cc",
   "metadata": {},
   "outputs": [
    {
     "name": "stderr",
     "output_type": "stream",
     "text": [
      "Some weights of BertForSequenceClassification were not initialized from the model checkpoint at google/bert_uncased_L-2_H-128_A-2 and are newly initialized: ['classifier.bias', 'classifier.weight']\n",
      "You should probably TRAIN this model on a down-stream task to be able to use it for predictions and inference.\n"
     ]
    }
   ],
   "source": [
    "# Load model and tokenizer\n",
    "model_name = \"google/bert_uncased_L-2_H-128_A-2\"\n",
    "tokenizer = AutoTokenizer.from_pretrained(model_name)\n",
    "model = AutoModelForSequenceClassification.from_pretrained(model_name)"
   ]
  },
  {
   "cell_type": "code",
   "execution_count": 26,
   "id": "f37d6298",
   "metadata": {},
   "outputs": [],
   "source": [
    "# Your extraction logic in notebook\n",
    "predictions = []\n",
    "for sample in samples:\n",
    "    pairs = get_entity_date_pairs(sample['entities_list'], sample['dates'])\n",
    "    \n",
    "    for pair in pairs:\n",
    "        text = f\"Does '{pair['entity_label']}' relate to '{pair['date']}'? {sample['note_text'][:200]}...\"\n",
    "        pred, conf = bert_extraction(text, model, tokenizer)\n",
    "        \n",
    "        if pred == 1:\n",
    "            predictions.append({'entity_label': pair['entity_label'], 'date': pair['date'], 'confidence': conf})"
   ]
  },
  {
   "cell_type": "code",
   "execution_count": 27,
   "id": "6d434c6c",
   "metadata": {},
   "outputs": [
    {
     "data": {
      "text/plain": [
       "{'precision': 0.1724137931034483,\n",
       " 'recall': 0.02336448598130841,\n",
       " 'f1': 0.0411522633744856,\n",
       " 'tp': 5,\n",
       " 'fp': 24,\n",
       " 'fn': 209}"
      ]
     },
     "execution_count": 27,
     "metadata": {},
     "output_type": "execute_result"
    }
   ],
   "source": [
    "# Calculate metrics\n",
    "metrics = calculate_metrics(predictions, df)\n",
    "metrics"
   ]
  },
  {
   "cell_type": "markdown",
   "id": "fc438d4a",
   "metadata": {},
   "source": [
    "Llama"
   ]
  },
  {
   "cell_type": "code",
   "execution_count": 28,
   "id": "8eece5fe",
   "metadata": {},
   "outputs": [
    {
     "data": {
      "application/vnd.jupyter.widget-view+json": {
       "model_id": "aaa02749868f4b53b962def344cd93e7",
       "version_major": 2,
       "version_minor": 0
      },
      "text/plain": [
       "Loading checkpoint shards:   0%|          | 0/2 [00:00<?, ?it/s]"
      ]
     },
     "metadata": {},
     "output_type": "display_data"
    }
   ],
   "source": [
    "# Load from local directory\n",
    "model_path = \"../Llama-3.2-3B-Instruct\"\n",
    "tokenizer = AutoTokenizer.from_pretrained(model_path)\n",
    "model = AutoModelForCausalLM.from_pretrained(model_path)"
   ]
  },
  {
   "cell_type": "code",
   "execution_count": 29,
   "id": "81853642",
   "metadata": {},
   "outputs": [
    {
     "data": {
      "application/vnd.jupyter.widget-view+json": {
       "model_id": "136f2192b29d49e39e2b1b86783d3c83",
       "version_major": 2,
       "version_minor": 0
      },
      "text/plain": [
       "Loading checkpoint shards:   0%|          | 0/2 [00:00<?, ?it/s]"
      ]
     },
     "metadata": {},
     "output_type": "display_data"
    },
    {
     "name": "stderr",
     "output_type": "stream",
     "text": [
      "Device set to use cpu\n"
     ]
    }
   ],
   "source": [
    "# Load in notebook (you control this)\n",
    "generator = pipeline(\"text-generation\", model=\"../Llama-3.2-3B-Instruct\", device=-1)"
   ]
  },
  {
   "cell_type": "code",
   "execution_count": 30,
   "id": "e4af851f",
   "metadata": {},
   "outputs": [],
   "source": [
    "# Create prompt in notebook\n",
    "#prompt = f\"In the following text, confirm if {text} Answer YES or NO:\"\n",
    "#response = llama_extraction(prompt, generator)"
   ]
  },
  {
   "cell_type": "code",
   "execution_count": 31,
   "id": "f0bed914",
   "metadata": {},
   "outputs": [],
   "source": [
    "#prompt"
   ]
  },
  {
   "cell_type": "code",
   "execution_count": 32,
   "id": "0956169e",
   "metadata": {},
   "outputs": [
    {
     "name": "stderr",
     "output_type": "stream",
     "text": [
      "The following generation flags are not valid and may be ignored: ['temperature', 'top_p']. Set `TRANSFORMERS_VERBOSITY=info` for more details.\n",
      "Setting `pad_token_id` to `eos_token_id`:128001 for open-end generation.\n"
     ]
    }
   ],
   "source": [
    "predictions = []\n",
    "\n",
    "for sample in samples[:1]:\n",
    "    pairs = get_entity_date_pairs(sample['entities_list'], sample['dates'])\n",
    "\n",
    "    for pair in pairs[:1]:\n",
    "        prompt = f\"Does '{pair['entity_label']}' relate to '{pair['date']}' in this medical text? Answer YES or NO: {sample['note_text'][:200]}.\"\n",
    "        \n",
    "        # Get Llama response\n",
    "        response = llama_extraction(prompt, generator)\n",
    "        \n",
    "        # Process response to get prediction\n",
    "        prediction, confidence = process_llama_response(response)\n",
    "        \n",
    "        if prediction == 1:  # Only save positive predictions\n",
    "            predictions.append({\n",
    "                'entity_label': pair['entity_label'],\n",
    "                'date': pair['date'],\n",
    "                'confidence': confidence\n",
    "            })"
   ]
  },
  {
   "cell_type": "code",
   "execution_count": 33,
   "id": "bb0307c6",
   "metadata": {},
   "outputs": [
    {
     "data": {
      "text/plain": [
       "\"Does 'asthma' relate to '2024-08-02' in this medical text? Answer YES or NO: Ultrasound (30nd Jun 2024): no significant findings.imp: asthma\\n\\nShe denies any nausea, vomiting, or diarrhea.\\nC Patient reports compliance with current medication regimen. Basic metabolic panel withi.\""
      ]
     },
     "execution_count": 33,
     "metadata": {},
     "output_type": "execute_result"
    }
   ],
   "source": [
    "prompt"
   ]
  },
  {
   "cell_type": "code",
   "execution_count": 34,
   "id": "36dbefd8",
   "metadata": {},
   "outputs": [
    {
     "data": {
      "text/plain": [
       "{'precision': 0, 'recall': 0.0, 'f1': 0, 'tp': 0, 'fp': 0, 'fn': 214}"
      ]
     },
     "execution_count": 34,
     "metadata": {},
     "output_type": "execute_result"
    }
   ],
   "source": [
    "metrics = calculate_metrics(predictions, df)\n",
    "metrics"
   ]
  }
 ],
 "metadata": {
  "kernelspec": {
   "display_name": "venv",
   "language": "python",
   "name": "python3"
  },
  "language_info": {
   "codemirror_mode": {
    "name": "ipython",
    "version": 3
   },
   "file_extension": ".py",
   "mimetype": "text/x-python",
   "name": "python",
   "nbconvert_exporter": "python",
   "pygments_lexer": "ipython3",
   "version": "3.9.8"
  }
 },
 "nbformat": 4,
 "nbformat_minor": 5
}
