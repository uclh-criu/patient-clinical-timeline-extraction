{
 "cells": [
  {
   "cell_type": "code",
   "execution_count": null,
   "id": "c6ea4704",
   "metadata": {},
   "outputs": [],
   "source": [
    "# Imports\n",
    "import sys\n",
    "import os\n",
    "from datetime import datetime\n",
    "import pandas as pd\n",
    "\n",
    "# Add utils directory to system path to allow imports\n",
    "utils_path = os.path.abspath(os.path.join(os.getcwd(), '..', 'utils'))\n",
    "if utils_path not in sys.path:\n",
    "    sys.path.insert(0, utils_path)\n",
    "\n",
    "# Import the function we want to test\n",
    "from post_processing_utils import standardize_date\n",
    "from date_extractor_utils import extract_relative_dates"
   ]
  },
  {
   "cell_type": "markdown",
   "id": "a0d7447b",
   "metadata": {},
   "source": [
    "Test Cases for Handler Functions"
   ]
  },
  {
   "cell_type": "code",
   "execution_count": null,
   "id": "a5025774",
   "metadata": {},
   "outputs": [],
   "source": [
    "# Test Harness\n",
    "def run_test(test_case):\n",
    "    \"\"\"\n",
    "    Executes a single test case against the standardize_date function.\n",
    "    \"\"\"\n",
    "    # standardize_date expects a pandas Series (like a DataFrame row)\n",
    "    row = pd.Series({\n",
    "        'date': test_case['input'],\n",
    "        'date_type': 'relative',\n",
    "        'document_timestamp': test_case['doc_date']\n",
    "    })\n",
    "    \n",
    "    # Get the actual result from the function\n",
    "    actual_date = standardize_date(row)\n",
    "    \n",
    "    # Define the expected result\n",
    "    expected_date = pd.to_datetime(test_case['expected_date']) if test_case['expected_date'] else pd.NaT\n",
    "    \n",
    "    # Compare actual vs. expected and determine pass/fail\n",
    "    if pd.isna(actual_date) and pd.isna(expected_date):\n",
    "        result_status = \"PASS\"\n",
    "    elif actual_date == expected_date:\n",
    "        result_status = \"PASS\"\n",
    "    else:\n",
    "        result_status = f\"FAIL (Expected: {expected_date}, Got: {actual_date})\"\n",
    "        \n",
    "    print(f\"Test '{test_case['name']}': {result_status}\")\n",
    "    return result_status == \"PASS\""
   ]
  },
  {
   "cell_type": "code",
   "execution_count": null,
   "id": "7d27f49f",
   "metadata": {},
   "outputs": [],
   "source": [
    "# A consistent document date for predictable results\n",
    "doc_date = datetime(2023, 3, 31)"
   ]
  },
  {
   "cell_type": "code",
   "execution_count": null,
   "id": "fbae92ee",
   "metadata": {},
   "outputs": [],
   "source": [
    "# Test Case Definitions\n",
    "test_cases = [\n",
    "    # --- Basic Time Units ---\n",
    "    {'name': 'time_unit: last week', 'input': 'last week', 'doc_date': doc_date, 'expected_date': '2023-03-24'},\n",
    "    {'name': 'common_no_today: yesterday', 'input': 'yesterday', 'doc_date': doc_date, 'expected_date': '2023-03-30'},\n",
    "    \n",
    "    # --- Numeric Relative Patterns ---\n",
    "    {'name': 'numeric_relative: 3 days ago', 'input': '3 days ago', 'doc_date': doc_date, 'expected_date': '2023-03-28'},\n",
    "    {'name': 'numeric_relative: 1 month ago (from Mar 31)', 'input': '1 month ago', 'doc_date': doc_date, 'expected_date': '2023-02-28'},\n",
    "    {'name': 'numeric_relative: 1 year ago (from leap day)', 'input': '1 year ago', 'doc_date': datetime(2024, 2, 29), 'expected_date': '2023-02-28'},\n",
    "    {'name': 'numeric_relative: number-word', 'input': 'two weeks ago', 'doc_date': doc_date, 'expected_date': '2023-03-17'},\n",
    "    {'name': 'numeric_relative: decimal', 'input': '1.5 years ago', 'doc_date': datetime(2023, 12, 31), 'expected_date': '2022-06-30'},\n",
    "    {'name': 'numeric_relative: qualitative (few)', 'input': 'a few months ago', 'doc_date': doc_date, 'expected_date': '2023-01-31'},\n",
    "\n",
    "    # --- Clinical & Event-Based Patterns ---\n",
    "    {'name': 'history_period: 10 year history', 'input': '10 year history', 'doc_date': doc_date, 'expected_date': '2013-03-31'},\n",
    "    {'name': 'prior_to_event: prior to admission', 'input': 'prior to admission', 'doc_date': doc_date, 'expected_date': '2023-03-31'},\n",
    "    {'name': 'preceding_period: preceding days', 'input': 'preceding days', 'doc_date': doc_date, 'expected_date': '2023-03-30'},\n",
    "\n",
    "    # --- Year, Month, and Day Part Patterns ---\n",
    "    {'name': 'since_year: since 2020', 'input': 'since 2020', 'doc_date': doc_date, 'expected_date': '2020-01-01'},\n",
    "    {'name': 'since_month: since January 2023', 'input': 'since January 2023', 'doc_date': doc_date, 'expected_date': '2023-01-01'},\n",
    "    {'name': 'month_last_year: September last year', 'input': 'September last year', 'doc_date': doc_date, 'expected_date': '2022-09-01'},\n",
    "    {'name': 'part_of_day: last evening', 'input': 'last evening', 'doc_date': doc_date, 'expected_date': '2023-03-30'},\n",
    "\n",
    "    # --- Range Patterns ---\n",
    "    {'name': 'numeric_range_modified: 2-3 years ago', 'input': '2-3 years ago', 'doc_date': doc_date, 'expected_date': '2020-03-31'},\n",
    "\n",
    "    # --- Edge Cases ---\n",
    "    {'name': 'Edge Case: unsupported pattern', 'input': 'around noon', 'doc_date': doc_date, 'expected_date': None},\n",
    "]"
   ]
  },
  {
   "cell_type": "code",
   "execution_count": null,
   "id": "a12c7487",
   "metadata": {},
   "outputs": [],
   "source": [
    "# Test Runner\n",
    "print(\"--- Running Post-Processing Tests ---\")\n",
    "results = [run_test(case) for case in test_cases]\n",
    "print(\"\\n\" + \"=\"*30)\n",
    "print(\"--- SUMMARY ---\")\n",
    "print(f\"{sum(results)} / {len(results)} tests passed.\")\n",
    "print(\"=\"*30)"
   ]
  },
  {
   "cell_type": "markdown",
   "id": "c0797169",
   "metadata": {},
   "source": [
    "Visual Sanity Checks"
   ]
  },
  {
   "cell_type": "code",
   "execution_count": null,
   "id": "15a626e2",
   "metadata": {},
   "outputs": [],
   "source": [
    "# Define a consistent document date for predictable results\n",
    "doc_date = datetime(2023, 10, 27)"
   ]
  },
  {
   "cell_type": "code",
   "execution_count": null,
   "id": "aff0c6d2",
   "metadata": {},
   "outputs": [],
   "source": [
    "# Define Test Cases\n",
    "visual_test_cases = [\n",
    "    {\n",
    "        \"name\": \"Simple Past Date\",\n",
    "        \"text\": \"Patient reported symptoms started two weeks ago.\",\n",
    "    },\n",
    "    {\n",
    "        \"name\": \"Month and Year\",\n",
    "        \"text\": \"Last follow-up was in September last year.\",\n",
    "    },\n",
    "    {\n",
    "        \"name\": \"Clinical History\",\n",
    "        \"text\": \"There is a 10 year history of smoking.\",\n",
    "    },\n",
    "    {\n",
    "        \"name\": \"Event-Based\",\n",
    "        \"text\": \"Admitted for observation prior to surgery.\",\n",
    "    },\n",
    "    {\n",
    "        \"name\": \"Multiple Dates\",\n",
    "        \"text\": \"Patient was seen yesterday and a follow-up was scheduled for next week.\",\n",
    "    }\n",
    "]"
   ]
  },
  {
   "cell_type": "code",
   "execution_count": null,
   "id": "507847c6",
   "metadata": {},
   "outputs": [],
   "source": [
    "# Run and Display Tests\n",
    "print(\"Running Visual Sanity Checks\\n\")\n",
    "\n",
    "for case in visual_test_cases:\n",
    "    print(f\"Test Case: '{case['name']}'\")\n",
    "    print(f\"Input Text: \\\"{case['text']}\\\"\")\n",
    "    print(f\"Document Date: {doc_date.strftime('%Y-%m-%d')}\")\n",
    "    \n",
    "    # Extract relative dates from the text\n",
    "    extracted_dates = extract_relative_dates(case['text'])\n",
    "    \n",
    "    if not extracted_dates:\n",
    "        print(\"  -> No relative dates extracted.\")\n",
    "    else:\n",
    "        for date_info in extracted_dates:\n",
    "            original_value = date_info['value']\n",
    "            \n",
    "            # Standardize the extracted date\n",
    "            row = pd.Series({\n",
    "                'date': original_value,\n",
    "                'date_type': 'relative',\n",
    "                'document_timestamp': doc_date\n",
    "            })\n",
    "            standardized_date = standardize_date(row)\n",
    "            \n",
    "            # Print the result\n",
    "            std_date_str = standardized_date.strftime('%Y-%m-%d') if pd.notna(standardized_date) else \"N/A\"\n",
    "            print(f\"  -> Extracted: '{original_value}'  =>  Standardized: {std_date_str}\")\n",
    "            \n",
    "    print(\"\\n\")"
   ]
  }
 ],
 "metadata": {
  "kernelspec": {
   "display_name": "venv",
   "language": "python",
   "name": "python3"
  },
  "language_info": {
   "codemirror_mode": {
    "name": "ipython",
    "version": 3
   },
   "file_extension": ".py",
   "mimetype": "text/x-python",
   "name": "python",
   "nbconvert_exporter": "python",
   "pygments_lexer": "ipython3",
   "version": "3.9.8"
  }
 },
 "nbformat": 4,
 "nbformat_minor": 5
}
