{
 "cells": [
  {
   "cell_type": "markdown",
   "id": "dfb4652a",
   "metadata": {},
   "source": [
    "Imports"
   ]
  },
  {
   "cell_type": "code",
   "execution_count": null,
   "id": "02c805a7",
   "metadata": {},
   "outputs": [],
   "source": [
    "#imports\n",
    "from transformers import pipeline\n",
    "\n",
    "import sys\n",
    "import os\n",
    "\n",
    "utils_path = os.path.abspath(os.path.join(os.getcwd(), '..', 'utils'))\n",
    "\n",
    "if utils_path not in sys.path:\n",
    "    sys.path.insert(0, utils_path)\n",
    "\n",
    "from llm_extractor import llm_extraction"
   ]
  },
  {
   "cell_type": "markdown",
   "id": "fc438d4a",
   "metadata": {},
   "source": [
    "LLM Testing"
   ]
  },
  {
   "cell_type": "code",
   "execution_count": null,
   "id": "81853642",
   "metadata": {},
   "outputs": [],
   "source": [
    "# Define generator\n",
    "#generator = pipeline(\"text-generation\", model=\"../Llama-3.2-3B-Instruct\", device=-1)\n",
    "generator = pipeline(\"text2text-generation\", model=\"google/flan-t5-small\", device=-1)"
   ]
  },
  {
   "cell_type": "code",
   "execution_count": null,
   "id": "735f60be",
   "metadata": {},
   "outputs": [],
   "source": [
    "# Test simple prompt using generator\n",
    "prompt = \"Does the following text indicate a relationship between 'asthma' and '2024-08-02'? Answer YES or NO. Text: Patient diagnosed with asthma on 2024-08-02.\"\n",
    "result = generator(prompt)\n",
    "print(result[0]['generated_text'])"
   ]
  },
  {
   "cell_type": "code",
   "execution_count": null,
   "id": "e4af851f",
   "metadata": {},
   "outputs": [],
   "source": [
    "# Test simple prompt using llm_extraction() function\n",
    "prompt = \"Does the following text indicate a relationship between 'asthma' and '2024-08-02'? Answer YES or NO. Text: Patient diagnosed with asthma on 2024-08-02.\"\n",
    "response = llm_extraction(prompt, generator)\n",
    "response"
   ]
  }
 ],
 "metadata": {
  "kernelspec": {
   "display_name": "venv",
   "language": "python",
   "name": "python3"
  },
  "language_info": {
   "codemirror_mode": {
    "name": "ipython",
    "version": 3
   },
   "file_extension": ".py",
   "mimetype": "text/x-python",
   "name": "python",
   "nbconvert_exporter": "python",
   "pygments_lexer": "ipython3",
   "version": "3.9.8"
  }
 },
 "nbformat": 4,
 "nbformat_minor": 5
}
