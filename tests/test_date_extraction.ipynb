{
 "cells": [
  {
   "cell_type": "code",
   "execution_count": 3,
   "id": "b7ae3025",
   "metadata": {},
   "outputs": [],
   "source": [
    "#Imports\n",
    "import pandas as pd\n",
    "import sys\n",
    "import os\n",
    "import json\n",
    "\n",
    "# Add utils to path\n",
    "utils_path = os.path.abspath(os.path.join(os.getcwd(), '..', 'utils'))\n",
    "if utils_path not in sys.path:\n",
    "    sys.path.insert(0, utils_path)\n",
    "\n",
    "from date_extractor import extract_relative_dates, add_relative_dates, extract_absolute_dates\n",
    "from utils import load_data"
   ]
  },
  {
   "cell_type": "markdown",
   "id": "92ed2da3",
   "metadata": {},
   "source": [
    "Test Absolute Dates"
   ]
  },
  {
   "cell_type": "code",
   "execution_count": 4,
   "id": "9470e563",
   "metadata": {},
   "outputs": [
    {
     "name": "stdout",
     "output_type": "stream",
     "text": [
      "\n",
      "Simple test:\n",
      "Text: Patient was seen on 15/06/2025 for follow-up. Next appointment scheduled for January 4th, 2026.\n",
      "Results:\n",
      "  'on 15/06/2025' -> (start: 16, end: 31)\n",
      "  'January 4th, 2026' -> (start: 76, end: 95)\n"
     ]
    }
   ],
   "source": [
    "# Test on simple example\n",
    "test_text = \"Patient was seen on 15/06/2025 for follow-up. Next appointment scheduled for January 4th, 2026.\"\n",
    "absolute_dates = extract_absolute_dates(test_text)\n",
    "print(\"\\nSimple test:\")\n",
    "print(f\"Text: {test_text}\")\n",
    "print(\"Results:\")\n",
    "for date in absolute_dates:\n",
    "    print(f\"  '{date['value']}' -> (start: {date['start']}, end: {date['end']})\")"
   ]
  },
  {
   "cell_type": "code",
   "execution_count": 5,
   "id": "b3af8f23",
   "metadata": {},
   "outputs": [
    {
     "name": "stdout",
     "output_type": "stream",
     "text": [
      "\n",
      "Comprehensive test:\n",
      "Text: \n",
      "Various date formats:\n",
      "1. Standard formats:\n",
      "   - 15/06/2025\n",
      "   - 2025-06-15\n",
      "   - 15-06-2025\n",
      "   \n",
      "2. Month name formats:\n",
      "   - June 15, 2025\n",
      "   - 15 June 2025\n",
      "   - Jun 15, 2025\n",
      "   \n",
      "3. Mixed in text:\n",
      "   The patient was seen on 15/06/2025 and had a follow-up on June 15, 2025.\n",
      "   Next appointment scheduled for January 4th, 2026.\n",
      "\n",
      "\n",
      "Results:\n",
      "  'on 15/06/2025' -> (start: 219, end: 234)\n",
      "  'January 4th, 2026' -> (start: 305, end: 325)\n"
     ]
    }
   ],
   "source": [
    "# Test on comprehensive examples\n",
    "test_text = \"\"\"\n",
    "Various date formats:\n",
    "1. Standard formats:\n",
    "   - 15/06/2025\n",
    "   - 2025-06-15\n",
    "   - 15-06-2025\n",
    "   \n",
    "2. Month name formats:\n",
    "   - June 15, 2025\n",
    "   - 15 June 2025\n",
    "   - Jun 15, 2025\n",
    "   \n",
    "3. Mixed in text:\n",
    "   The patient was seen on 15/06/2025 and had a follow-up on June 15, 2025.\n",
    "   Next appointment scheduled for January 4th, 2026.\n",
    "\"\"\"\n",
    "\n",
    "print(\"\\nComprehensive test:\")\n",
    "print(f\"Text: {test_text}\")\n",
    "absolute_dates = extract_absolute_dates(test_text)\n",
    "print(\"\\nResults:\")\n",
    "for date in absolute_dates:\n",
    "    print(f\"  '{date['value']}' -> (start: {date['start']}, end: {date['end']})\")"
   ]
  },
  {
   "cell_type": "code",
   "execution_count": 6,
   "id": "c73a2336",
   "metadata": {},
   "outputs": [
    {
     "name": "stdout",
     "output_type": "stream",
     "text": [
      "\n",
      "Testing edge cases:\n",
      "\n",
      "Text: ''\n",
      "Found 0 dates:\n",
      "\n",
      "Text: 'No dates here'\n",
      "Found 0 dates:\n",
      "\n",
      "Text: 'Invalid dates: 35/13/2025, 00/00/0000'\n",
      "Found 0 dates:\n",
      "\n",
      "Text: 'Partial dates: June 2025, 2025'\n",
      "Found 0 dates:\n"
     ]
    }
   ],
   "source": [
    "# Test edge cases\n",
    "edge_cases = [\n",
    "    \"\",  # Empty string\n",
    "    \"No dates here\",  # No dates\n",
    "    \"Invalid dates: 35/13/2025, 00/00/0000\",  # Invalid dates\n",
    "    \"Partial dates: June 2025, 2025\",  # Partial dates\n",
    "]\n",
    "\n",
    "print(\"\\nTesting edge cases:\")\n",
    "for text in edge_cases:\n",
    "    dates = extract_absolute_dates(text)\n",
    "    print(f\"\\nText: '{text}'\")\n",
    "    print(f\"Found {len(dates)} dates:\")\n",
    "    for date in dates:\n",
    "        print(f\"  '{date['value']}' -> (start: {date['start']}, end: {date['end']})\")"
   ]
  },
  {
   "cell_type": "code",
   "execution_count": 8,
   "id": "0e71ecfb",
   "metadata": {},
   "outputs": [
    {
     "name": "stdout",
     "output_type": "stream",
     "text": [
      "\n",
      "Testing on dataset sample:\n",
      "Text: Ultrasound (30nd Jun 2024): no significant findings.imp: asthma\n",
      "\n",
      "She denies any nausea, vomiting, or diarrhea.\n",
      "C Patient reports compliance with current medication regimen. Basic metabolic panel withi...\n",
      "\n",
      "Found 10 dates:\n",
      "  '30nd Jun 2024' -> (start: 12, end: 25)\n",
      "  '140' -> (start: 227, end: 233)\n",
      "  '4.2' -> (start: 242, end: 248)\n",
      "  '02nd Aug 2024' -> (start: 312, end: 325)\n",
      "  '12nd Sep 2024' -> (start: 363, end: 376)\n",
      "  '3.1' -> (start: 384, end: 388)\n",
      "  '16 Sep' -> (start: 443, end: 449)\n",
      "  '23rd Oct 2024' -> (start: 588, end: 601)\n",
      "  '16st Nov 2024' -> (start: 1205, end: 1218)\n",
      "  '17.12.24' -> (start: 1286, end: 1294)\n"
     ]
    }
   ],
   "source": [
    "# Test on actual dataset sample\n",
    "print(\"\\nTesting on dataset sample:\")\n",
    "df = pd.read_csv(\"../data/original.csv\")\n",
    "sample_text = df.iloc[0]['text']\n",
    "print(f\"Text: {sample_text[:200]}...\")\n",
    "dates = extract_absolute_dates(sample_text)\n",
    "print(f\"\\nFound {len(dates)} dates:\")\n",
    "for date in dates:\n",
    "    print(f\"  '{date['value']}' -> (start: {date['start']}, end: {date['end']})\")"
   ]
  },
  {
   "cell_type": "markdown",
   "id": "71af7aca",
   "metadata": {},
   "source": [
    "Test Relative Dates"
   ]
  },
  {
   "cell_type": "code",
   "execution_count": 4,
   "id": "69a93e91",
   "metadata": {},
   "outputs": [
    {
     "data": {
      "text/plain": [
       "[{'id': 'rel_1',\n",
       "  'value': 'last week',\n",
       "  'start': 17,\n",
       "  'end': 26,\n",
       "  'pattern_type': 'time_unit'},\n",
       " {'id': 'rel_2',\n",
       "  'value': '3 days ago',\n",
       "  'start': 100,\n",
       "  'end': 110,\n",
       "  'pattern_type': 'ago'},\n",
       " {'id': 'rel_3',\n",
       "  'value': 'tomorrow',\n",
       "  'start': 73,\n",
       "  'end': 81,\n",
       "  'pattern_type': 'common'}]"
      ]
     },
     "execution_count": 4,
     "metadata": {},
     "output_type": "execute_result"
    }
   ],
   "source": [
    "# Test on one example\n",
    "test_text = \"Patient was seen last week for follow-up. Next appointment scheduled for tomorrow. Symptoms started 3 days ago.\"\n",
    "relative_dates = extract_relative_dates(test_text)\n",
    "relative_dates"
   ]
  },
  {
   "cell_type": "code",
   "execution_count": 6,
   "id": "515f3bfc",
   "metadata": {},
   "outputs": [
    {
     "name": "stdout",
     "output_type": "stream",
     "text": [
      "Testing comprehensive relative date extraction:\n",
      "Text: Patient was seen last week for follow-up. \n",
      "Next appointment scheduled for tomorrow. \n",
      "Symptoms started 3 days ago.\n",
      "Last visit was on Monday.\n",
      "Previous checkup was 2 weeks earlier.\n",
      "Past few days have been difficult.\n",
      "Several months ago the condition worsened.\n",
      "Earlier this week the patient improved.\n",
      "Last visit was productive.\n",
      "Next few days will be critical.\n",
      "\n",
      "Results:\n",
      "  'last week' -> (pattern: time_unit)\n",
      "  'this week' -> (pattern: time_unit)\n",
      "  '3 days ago' -> (pattern: ago)\n",
      "  '2 weeks earlier' -> (pattern: earlier)\n",
      "  'tomorrow' -> (pattern: common)\n",
      "  'Earlier this week' -> (pattern: earlier_period)\n",
      "\n",
      "Total patterns found: 6\n"
     ]
    }
   ],
   "source": [
    "# Test on comprehensive examples to verify all pattern types\n",
    "test_text = \"\"\"\n",
    "Patient was seen last week for follow-up. \n",
    "Next appointment scheduled for tomorrow. \n",
    "Symptoms started 3 days ago.\n",
    "Last visit was on Monday.\n",
    "Previous checkup was 2 weeks earlier.\n",
    "Past few days have been difficult.\n",
    "Several months ago the condition worsened.\n",
    "Earlier this week the patient improved.\n",
    "Last visit was productive.\n",
    "Next few days will be critical.\n",
    "\"\"\"\n",
    "\n",
    "print(\"Testing comprehensive relative date extraction:\")\n",
    "print(f\"Text: {test_text.strip()}\")\n",
    "print(\"\\nResults:\")\n",
    "\n",
    "results = extract_relative_dates(test_text)\n",
    "for result in results:\n",
    "    print(f\"  '{result['value']}' -> (pattern: {result['pattern_type']})\")\n",
    "\n",
    "print(f\"\\nTotal patterns found: {len(results)}\")"
   ]
  },
  {
   "cell_type": "code",
   "execution_count": 7,
   "id": "1a1bd9be",
   "metadata": {},
   "outputs": [
    {
     "name": "stdout",
     "output_type": "stream",
     "text": [
      "Main dataset: (101, 4)\n"
     ]
    }
   ],
   "source": [
    "# Load main dataset using existing load_data function\n",
    "df = load_data(\"../data/synthetic_new.csv\")\n",
    "\n",
    "print(f\"Main dataset: {df.shape}\")"
   ]
  },
  {
   "cell_type": "code",
   "execution_count": 8,
   "id": "798d7468",
   "metadata": {},
   "outputs": [
    {
     "name": "stdout",
     "output_type": "stream",
     "text": [
      "Added relative_dates_json column\n",
      "Final dataset shape: (101, 5)\n"
     ]
    }
   ],
   "source": [
    "# Add relative dates using the simplified function\n",
    "df = add_relative_dates(df)\n",
    "\n",
    "print(f\"Added relative_dates_json column\")\n",
    "print(f\"Final dataset shape: {df.shape}\")"
   ]
  },
  {
   "cell_type": "code",
   "execution_count": 9,
   "id": "d07ea77f",
   "metadata": {},
   "outputs": [
    {
     "name": "stdout",
     "output_type": "stream",
     "text": [
      "Rows with relative dates: 1\n",
      "Total relative dates found: 3\n"
     ]
    }
   ],
   "source": [
    "# Count how many rows have relative dates\n",
    "has_relative_dates = df['relative_dates_json'].apply(lambda x: x != '[]')\n",
    "print(f\"Rows with relative dates: {has_relative_dates.sum()}\")\n",
    "print(f\"Total relative dates found: {sum(len(json.loads(rd)) for rd in df['relative_dates_json'])}\")"
   ]
  },
  {
   "cell_type": "code",
   "execution_count": 10,
   "id": "0928ffe4",
   "metadata": {},
   "outputs": [
    {
     "name": "stdout",
     "output_type": "stream",
     "text": [
      "\n",
      "Examining 1 rows with relative dates:\n",
      "\n",
      "--- Row 1 (Index 100) ---\n",
      "Text: CLINIC VISIT (15/06/2025): Patient was Current medications include: lisinopril 10mg daily, metformin 500mg twice daily, and atorvastatin 20mg at bedtime. Cardiovascular: Regular rate and rhythm. Skin:...\n",
      "Found 3 relative dates:\n",
      "  'last year' -> (pattern: time_unit)\n",
      "  'last week' -> (pattern: time_unit)\n",
      "  '2 years ago' -> (pattern: ago)\n"
     ]
    }
   ],
   "source": [
    "# Get rows that have relative dates\n",
    "rows_with_relative_dates = df[has_relative_dates]\n",
    "\n",
    "print(f\"\\nExamining {len(rows_with_relative_dates)} rows with relative dates:\")\n",
    "\n",
    "# Show detailed results for each row with relative dates\n",
    "for i, (idx, row) in enumerate(rows_with_relative_dates.iterrows()):\n",
    "    print(f\"\\n--- Row {i+1} (Index {idx}) ---\")\n",
    "    print(f\"Text: {row['note_text'][:200]}...\")\n",
    "    \n",
    "    # Parse and display relative dates\n",
    "    relative_dates = json.loads(row['relative_dates_json'])\n",
    "    print(f\"Found {len(relative_dates)} relative dates:\")\n",
    "    for rd in relative_dates:\n",
    "        print(f\"  '{rd['value']}' -> (pattern: {rd['pattern_type']})\")\n",
    "    \n",
    "    # Only show first 5 rows to avoid too much output\n",
    "    if i >= 4:\n",
    "        remaining = len(rows_with_relative_dates) - 5\n",
    "        if remaining > 0:\n",
    "            print(f\"\\n... and {remaining} more rows with relative dates\")\n",
    "        break"
   ]
  },
  {
   "cell_type": "code",
   "execution_count": 11,
   "id": "9109d404",
   "metadata": {},
   "outputs": [
    {
     "name": "stdout",
     "output_type": "stream",
     "text": [
      "Testing naive extractor with relative dates:\n",
      "Text: CLINIC VISIT (15/06/2025): Patient was Current medications include: lisinopril 10mg daily, metformin 500mg twice daily, and atorvastatin 20mg at bedtime. Cardiovascular: Regular rate and rhythm. Skin:...\n",
      "\n",
      "Entities: 25\n",
      "  1. Skin problem (pos: 195)\n",
      "  2. Eruption of skin (pos: 204)\n",
      "  3. Congenital malformation (pos: 274)\n",
      "\n",
      "Absolute dates: 1\n",
      "  1. 15/06/2025 (pos: 14)\n",
      "\n",
      "Relative dates: 3\n",
      "  1. last year (pos: 796)\n",
      "  2. last week (pos: 1368)\n",
      "  3. 2 years ago (pos: 1176)\n"
     ]
    }
   ],
   "source": [
    "from naive_extractor import naive_extraction\n",
    "\n",
    "# Get the row with relative dates\n",
    "row_with_relative = df[has_relative_dates].iloc[0]\n",
    "print(\"Testing naive extractor with relative dates:\")\n",
    "print(f\"Text: {row_with_relative['note_text'][:200]}...\")\n",
    "\n",
    "# Get entities and dates\n",
    "entities = row_with_relative['entities_json']\n",
    "absolute_dates = row_with_relative['dates_json']\n",
    "relative_dates = json.loads(row_with_relative['relative_dates_json'])\n",
    "\n",
    "print(f\"\\nEntities: {len(entities)}\")\n",
    "for i, entity in enumerate(entities[:3]):  # Show first 3\n",
    "    print(f\"  {i+1}. {entity['value']} (pos: {entity['start']})\")\n",
    "\n",
    "print(f\"\\nAbsolute dates: {len(absolute_dates)}\")\n",
    "for i, date in enumerate(absolute_dates[:3]):  # Show first 3\n",
    "    print(f\"  {i+1}. {date['value']} (pos: {date['start']})\")\n",
    "\n",
    "print(f\"\\nRelative dates: {len(relative_dates)}\")\n",
    "for i, date in enumerate(relative_dates):\n",
    "    print(f\"  {i+1}. {date['value']} (pos: {date['start']})\")"
   ]
  },
  {
   "cell_type": "code",
   "execution_count": 12,
   "id": "fd035207",
   "metadata": {},
   "outputs": [
    {
     "name": "stdout",
     "output_type": "stream",
     "text": [
      "=== NAIVE EXTRACTION WITH ABSOLUTE DATES ONLY ===\n",
      "Found 2 relationships:\n",
      "  Skin problem -> 15/06/2025 (distance: 181)\n",
      "  Eruption of skin -> 15/06/2025 (distance: 190)\n"
     ]
    }
   ],
   "source": [
    "# Test naive extraction with absolute dates only\n",
    "print(\"=== NAIVE EXTRACTION WITH ABSOLUTE DATES ONLY ===\")\n",
    "relationships_absolute = naive_extraction(entities, absolute_dates)\n",
    "print(f\"Found {len(relationships_absolute)} relationships:\")\n",
    "for rel in relationships_absolute:\n",
    "    print(f\"  {rel['entity_label']} -> {rel['date']} (distance: {rel['distance']})\")"
   ]
  },
  {
   "cell_type": "code",
   "execution_count": null,
   "id": "5271e379",
   "metadata": {},
   "outputs": [
    {
     "name": "stdout",
     "output_type": "stream",
     "text": [
      "=== NAIVE EXTRACTION WITH RELATIVE DATES ONLY ===\n",
      "Found 16 relationships:\n",
      "  Follow-up (wait and see) -> last year (distance: 142)\n",
      "  Computed tomography of head -> last year (distance: 97)\n",
      "  Congenital malformation -> last year (distance: 49)\n",
      "  Pituitary adenoma -> last year (distance: 18)\n",
      "  Physical examination procedure -> last year (distance: 11)\n",
      "  Soft tissue lesion -> last year (distance: 31)\n",
      "  Inguinal lymphadenopathy -> last year (distance: 100)\n",
      "  Gastrointestinal hemorrhage -> last year (distance: 168)\n",
      "  Normal bowel sounds -> last year (distance: 172)\n",
      "  Hepatosplenomegaly -> 2 years ago (distance: 161)\n",
      "  Pituitary adenoma -> 2 years ago (distance: 135)\n",
      "  Acromegaly -> 2 years ago (distance: 11)\n",
      "  Dietary finding -> last week (distance: 95)\n",
      "  Visual symptoms -> last week (distance: 60)\n",
      "  Headache -> last week (distance: 18)\n",
      "  Normal vital signs -> last week (distance: 66)\n"
     ]
    }
   ],
   "source": [
    "# Test naive extraction with relative dates only\n",
    "print(\"=== NAIVE EXTRACTION WITH RELATIVE DATES ONLY ===\")\n",
    "relationships_relative = naive_extraction(entities, relative_dates)\n",
    "print(f\"Found {len(relationships_relative)} relationships:\")\n",
    "for rel in relationships_relative:\n",
    "    print(f\"  {rel['entity_label']} -> {rel['date']} (distance: {rel['distance']})\")"
   ]
  },
  {
   "cell_type": "code",
   "execution_count": 14,
   "id": "118896bb",
   "metadata": {},
   "outputs": [
    {
     "name": "stdout",
     "output_type": "stream",
     "text": [
      "=== NAIVE EXTRACTION WITH COMBINED DATES ===\n",
      "Total dates: 4 (absolute: 1, relative: 3)\n",
      "Found 18 relationships:\n",
      "  Skin problem -> 15/06/2025 (distance: 181)\n",
      "  Eruption of skin -> 15/06/2025 (distance: 190)\n",
      "  Follow-up (wait and see) -> last year (distance: 142)\n",
      "  Computed tomography of head -> last year (distance: 97)\n",
      "  Congenital malformation -> last year (distance: 49)\n",
      "  Pituitary adenoma -> last year (distance: 18)\n",
      "  Physical examination procedure -> last year (distance: 11)\n",
      "  Soft tissue lesion -> last year (distance: 31)\n",
      "  Inguinal lymphadenopathy -> last year (distance: 100)\n",
      "  Gastrointestinal hemorrhage -> last year (distance: 168)\n",
      "  Normal bowel sounds -> last year (distance: 172)\n",
      "  Hepatosplenomegaly -> 2 years ago (distance: 161)\n",
      "  Pituitary adenoma -> 2 years ago (distance: 135)\n",
      "  Acromegaly -> 2 years ago (distance: 11)\n",
      "  Dietary finding -> last week (distance: 95)\n",
      "  Visual symptoms -> last week (distance: 60)\n",
      "  Headache -> last week (distance: 18)\n",
      "  Normal vital signs -> last week (distance: 66)\n"
     ]
    }
   ],
   "source": [
    "# Test naive extraction with combined dates\n",
    "print(\"=== NAIVE EXTRACTION WITH COMBINED DATES ===\")\n",
    "all_dates = absolute_dates + relative_dates\n",
    "print(f\"Total dates: {len(all_dates)} (absolute: {len(absolute_dates)}, relative: {len(relative_dates)})\")\n",
    "\n",
    "relationships_combined = naive_extraction(entities, all_dates)\n",
    "print(f\"Found {len(relationships_combined)} relationships:\")\n",
    "for rel in relationships_combined:\n",
    "    print(f\"  {rel['entity_label']} -> {rel['date']} (distance: {rel['distance']})\")"
   ]
  },
  {
   "cell_type": "code",
   "execution_count": 15,
   "id": "ecbb3760",
   "metadata": {},
   "outputs": [
    {
     "name": "stdout",
     "output_type": "stream",
     "text": [
      "=== ENTITY-DATE DISTANCE ANALYSIS ===\n",
      "\n",
      "Entity: Skin problem (pos: 195)\n",
      "Distances to dates:\n",
      "  15/06/2025 (absolute): distance = 181\n",
      "  last year (relative): distance = 601\n",
      "  last week (relative): distance = 1173\n",
      "  2 years ago (relative): distance = 981\n",
      "\n",
      "Entity: Eruption of skin (pos: 204)\n",
      "Distances to dates:\n",
      "  15/06/2025 (absolute): distance = 190\n",
      "  last year (relative): distance = 592\n",
      "  last week (relative): distance = 1164\n",
      "  2 years ago (relative): distance = 972\n",
      "\n",
      "Entity: Congenital malformation (pos: 274)\n",
      "Distances to dates:\n",
      "  15/06/2025 (absolute): distance = 260\n",
      "  last year (relative): distance = 522\n",
      "  last week (relative): distance = 1094\n",
      "  2 years ago (relative): distance = 902\n",
      "\n",
      "Entity: Murmur (pos: 316)\n",
      "Distances to dates:\n",
      "  15/06/2025 (absolute): distance = 302\n",
      "  last year (relative): distance = 480\n",
      "  last week (relative): distance = 1052\n",
      "  2 years ago (relative): distance = 860\n",
      "\n",
      "Entity: Pericardial friction rub (pos: 325)\n",
      "Distances to dates:\n",
      "  15/06/2025 (absolute): distance = 311\n",
      "  last year (relative): distance = 471\n",
      "  last week (relative): distance = 1043\n",
      "  2 years ago (relative): distance = 851\n",
      "\n",
      "Entity: Fever with chills (pos: 400)\n",
      "Distances to dates:\n",
      "  15/06/2025 (absolute): distance = 386\n",
      "  last year (relative): distance = 396\n",
      "  last week (relative): distance = 968\n",
      "  2 years ago (relative): distance = 776\n",
      "\n",
      "Entity: Night sweats (pos: 418)\n",
      "Distances to dates:\n",
      "  15/06/2025 (absolute): distance = 404\n",
      "  last year (relative): distance = 378\n",
      "  last week (relative): distance = 950\n",
      "  2 years ago (relative): distance = 758\n",
      "\n",
      "Entity: Cerebral hemorrhage (pos: 498)\n",
      "Distances to dates:\n",
      "  15/06/2025 (absolute): distance = 484\n",
      "  last year (relative): distance = 298\n",
      "  last week (relative): distance = 870\n",
      "  2 years ago (relative): distance = 678\n",
      "\n",
      "Entity: Heart sounds normal (pos: 519)\n",
      "Distances to dates:\n",
      "  15/06/2025 (absolute): distance = 505\n",
      "  last year (relative): distance = 277\n",
      "  last week (relative): distance = 849\n",
      "  2 years ago (relative): distance = 657\n",
      "\n",
      "Entity: Follow-up (wait and see) (pos: 654)\n",
      "Distances to dates:\n",
      "  15/06/2025 (absolute): distance = 640\n",
      "  last year (relative): distance = 142\n",
      "  last week (relative): distance = 714\n",
      "  2 years ago (relative): distance = 522\n",
      "\n",
      "Entity: Computed tomography of head (pos: 699)\n",
      "Distances to dates:\n",
      "  15/06/2025 (absolute): distance = 685\n",
      "  last year (relative): distance = 97\n",
      "  last week (relative): distance = 669\n",
      "  2 years ago (relative): distance = 477\n",
      "\n",
      "Entity: Congenital malformation (pos: 747)\n",
      "Distances to dates:\n",
      "  15/06/2025 (absolute): distance = 733\n",
      "  last year (relative): distance = 49\n",
      "  last week (relative): distance = 621\n",
      "  2 years ago (relative): distance = 429\n",
      "\n",
      "Entity: Pituitary adenoma (pos: 778)\n",
      "Distances to dates:\n",
      "  15/06/2025 (absolute): distance = 764\n",
      "  last year (relative): distance = 18\n",
      "  last week (relative): distance = 590\n",
      "  2 years ago (relative): distance = 398\n",
      "\n",
      "Entity: Physical examination procedure (pos: 807)\n",
      "Distances to dates:\n",
      "  15/06/2025 (absolute): distance = 793\n",
      "  last year (relative): distance = 11\n",
      "  last week (relative): distance = 561\n",
      "  2 years ago (relative): distance = 369\n",
      "\n",
      "Entity: Soft tissue lesion (pos: 827)\n",
      "Distances to dates:\n",
      "  15/06/2025 (absolute): distance = 813\n",
      "  last year (relative): distance = 31\n",
      "  last week (relative): distance = 541\n",
      "  2 years ago (relative): distance = 349\n",
      "\n",
      "Entity: Inguinal lymphadenopathy (pos: 896)\n",
      "Distances to dates:\n",
      "  15/06/2025 (absolute): distance = 882\n",
      "  last year (relative): distance = 100\n",
      "  last week (relative): distance = 472\n",
      "  2 years ago (relative): distance = 280\n",
      "\n",
      "Entity: Gastrointestinal hemorrhage (pos: 964)\n",
      "Distances to dates:\n",
      "  15/06/2025 (absolute): distance = 950\n",
      "  last year (relative): distance = 168\n",
      "  last week (relative): distance = 404\n",
      "  2 years ago (relative): distance = 212\n",
      "\n",
      "Entity: Normal bowel sounds (pos: 968)\n",
      "Distances to dates:\n",
      "  15/06/2025 (absolute): distance = 954\n",
      "  last year (relative): distance = 172\n",
      "  last week (relative): distance = 400\n",
      "  2 years ago (relative): distance = 208\n",
      "\n",
      "Entity: Hepatosplenomegaly (pos: 1015)\n",
      "Distances to dates:\n",
      "  15/06/2025 (absolute): distance = 1001\n",
      "  last year (relative): distance = 219\n",
      "  last week (relative): distance = 353\n",
      "  2 years ago (relative): distance = 161\n",
      "\n",
      "Entity: Pituitary adenoma (pos: 1041)\n",
      "Distances to dates:\n",
      "  15/06/2025 (absolute): distance = 1027\n",
      "  last year (relative): distance = 245\n",
      "  last week (relative): distance = 327\n",
      "  2 years ago (relative): distance = 135\n",
      "\n",
      "Entity: Acromegaly (pos: 1165)\n",
      "Distances to dates:\n",
      "  15/06/2025 (absolute): distance = 1151\n",
      "  last year (relative): distance = 369\n",
      "  last week (relative): distance = 203\n",
      "  2 years ago (relative): distance = 11\n",
      "\n",
      "Entity: Dietary finding (pos: 1273)\n",
      "Distances to dates:\n",
      "  15/06/2025 (absolute): distance = 1259\n",
      "  last year (relative): distance = 477\n",
      "  last week (relative): distance = 95\n",
      "  2 years ago (relative): distance = 97\n",
      "\n",
      "Entity: Visual symptoms (pos: 1308)\n",
      "Distances to dates:\n",
      "  15/06/2025 (absolute): distance = 1294\n",
      "  last year (relative): distance = 512\n",
      "  last week (relative): distance = 60\n",
      "  2 years ago (relative): distance = 132\n",
      "\n",
      "Entity: Headache (pos: 1350)\n",
      "Distances to dates:\n",
      "  15/06/2025 (absolute): distance = 1336\n",
      "  last year (relative): distance = 554\n",
      "  last week (relative): distance = 18\n",
      "  2 years ago (relative): distance = 174\n",
      "\n",
      "Entity: Normal vital signs (pos: 1434)\n",
      "Distances to dates:\n",
      "  15/06/2025 (absolute): distance = 1420\n",
      "  last year (relative): distance = 638\n",
      "  last week (relative): distance = 66\n",
      "  2 years ago (relative): distance = 258\n"
     ]
    }
   ],
   "source": [
    "# Debug - show all entity-date distances\n",
    "print(\"=== ENTITY-DATE DISTANCE ANALYSIS ===\")\n",
    "for entity in entities:\n",
    "    print(f\"\\nEntity: {entity['value']} (pos: {entity['start']})\")\n",
    "    print(\"Distances to dates:\")\n",
    "    \n",
    "    for date in all_dates:\n",
    "        distance = abs(entity['start'] - date['start'])\n",
    "        date_type = \"absolute\" if date in absolute_dates else \"relative\"\n",
    "        print(f\"  {date['value']} ({date_type}): distance = {distance}\")"
   ]
  }
 ],
 "metadata": {
  "kernelspec": {
   "display_name": "venv",
   "language": "python",
   "name": "python3"
  },
  "language_info": {
   "codemirror_mode": {
    "name": "ipython",
    "version": 3
   },
   "file_extension": ".py",
   "mimetype": "text/x-python",
   "name": "python",
   "nbconvert_exporter": "python",
   "pygments_lexer": "ipython3",
   "version": "3.9.8"
  }
 },
 "nbformat": 4,
 "nbformat_minor": 5
}
