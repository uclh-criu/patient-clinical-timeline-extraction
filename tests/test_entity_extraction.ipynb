{
 "cells": [
  {
   "cell_type": "code",
   "execution_count": null,
   "id": "6cb92b6e",
   "metadata": {},
   "outputs": [],
   "source": [
    "#Imports\n",
    "import json \n",
    "import csv"
   ]
  },
  {
   "cell_type": "code",
   "execution_count": null,
   "id": "5306b1e8",
   "metadata": {},
   "outputs": [],
   "source": [
    "#Load medcat export\n",
    "file = '../data/MedCAT_Export_NPH' \n",
    "user_filter = 'any' #'any' for all users"
   ]
  },
  {
   "cell_type": "code",
   "execution_count": null,
   "id": "e8426f47",
   "metadata": {},
   "outputs": [],
   "source": [
    "#Open file\n",
    "with open(f'{file}.json', 'r') as f: \n",
    "    data = json.load(f)"
   ]
  },
  {
   "cell_type": "code",
   "execution_count": null,
   "id": "d845a4e0",
   "metadata": {},
   "outputs": [],
   "source": [
    "#Get stats per concept\n",
    "concept_stats = {}\n",
    "\n",
    "for project in data.get('projects', []):\n",
    "    for doc in project.get('documents', []):\n",
    "        for ann in doc.get('annotations', []):\n",
    "\n",
    "            # User filter\n",
    "            if user_filter != 'any' and ann.get('user') != user_filter:\n",
    "                continue\n",
    "\n",
    "            validated = ann.get('validated', False)\n",
    "            if not validated:\n",
    "                continue  # Keep only validated annotations\n",
    "\n",
    "            cui = ann.get('cui')\n",
    "            value = ann.get('value') or ann.get('term')\n",
    "            if not cui or not value:\n",
    "                continue\n",
    "\n",
    "            correct = ann.get('correct', False)\n",
    "            deleted = ann.get('deleted', False)\n",
    "            alternative = ann.get('alternative', False)\n",
    "\n",
    "            # Determine TP / FN / FP\n",
    "            is_tp = correct\n",
    "            is_fn = alternative\n",
    "            is_fp = not correct and not alternative and not deleted\n",
    "\n",
    "            # Store stats keyed by (cui, user_for_output)\n",
    "            user_for_output = ann.get('user') if user_filter == 'any' else user_filter\n",
    "            key = (cui, user_for_output)\n",
    "\n",
    "            if key not in concept_stats:\n",
    "                concept_stats[key] = {\n",
    "                    'TP': 0,\n",
    "                    'FP': 0,\n",
    "                    'FN': 0,\n",
    "                    'Support': 0,\n",
    "                    'Values': set()\n",
    "                }\n",
    "\n",
    "            concept_stats[key]['Support'] += 1\n",
    "            concept_stats[key]['Values'].add(value)\n",
    "\n",
    "            if is_tp:\n",
    "                concept_stats[key]['TP'] += 1\n",
    "            elif is_fn:\n",
    "                concept_stats[key]['FN'] += 1\n",
    "            elif is_fp:\n",
    "                concept_stats[key]['FP'] += 1"
   ]
  },
  {
   "cell_type": "code",
   "execution_count": 8,
   "id": "75c8ca06",
   "metadata": {},
   "outputs": [],
   "source": [
    "# Prepare sorted results\n",
    "results = []\n",
    "for (cui, user_for_output), stats in concept_stats.items():\n",
    "    TP = stats['TP']\n",
    "    FP = stats['FP']\n",
    "    FN = stats['FN']\n",
    "    support = stats['Support']\n",
    "\n",
    "    if TP == 0 and FP == 0 and FN == 0:\n",
    "        continue\n",
    "\n",
    "    precision = TP / (TP + FP) if (TP + FP) > 0 else 0.0\n",
    "    recall = TP / (TP + FN) if (TP + FN) > 0 else 0.0\n",
    "    f1 = 2 * precision * recall / (precision + recall) if (precision + recall) > 0 else 0.0\n",
    "\n",
    "    results.append({\n",
    "        'user': user_for_output,\n",
    "        'concept': cui,\n",
    "        'value': ', '.join(sorted(stats['Values'])),\n",
    "        'support': support,\n",
    "        'precision': round(precision, 4),\n",
    "        'recall': round(recall, 4),\n",
    "        'f1': round(f1, 4)\n",
    "    })"
   ]
  },
  {
   "cell_type": "code",
   "execution_count": 9,
   "id": "43a55d48",
   "metadata": {},
   "outputs": [],
   "source": [
    "# Sort by support descending\n",
    "results.sort(key=lambda x: x['support'], reverse=True)"
   ]
  },
  {
   "cell_type": "code",
   "execution_count": 10,
   "id": "cfc5ad60",
   "metadata": {},
   "outputs": [],
   "source": [
    "# Write to CSV\n",
    "with open(f'{file}_concept_metrics.csv', 'w', newline='') as csvfile:\n",
    "    fieldnames = ['user', 'concept', 'value', 'support', 'precision', 'recall', 'f1']\n",
    "    writer = csv.DictWriter(csvfile, fieldnames=fieldnames)\n",
    "    writer.writeheader()\n",
    "    writer.writerows(results)"
   ]
  },
  {
   "cell_type": "code",
   "execution_count": 11,
   "id": "9e69300a",
   "metadata": {},
   "outputs": [
    {
     "name": "stdout",
     "output_type": "stream",
     "text": [
      "Macro mean F1 across all concepts: 0.8428\n"
     ]
    }
   ],
   "source": [
    "# Calculate macro mean F1 across all concepts\n",
    "if results:\n",
    "    macro_f1 = sum(r['f1'] for r in results) / len(results)\n",
    "    print(f\"Macro mean F1 across all concepts: {round(macro_f1, 4)}\")\n",
    "else:\n",
    "    print(\"No results to calculate macro mean F1.\")"
   ]
  }
 ],
 "metadata": {
  "kernelspec": {
   "display_name": "venv",
   "language": "python",
   "name": "python3"
  },
  "language_info": {
   "codemirror_mode": {
    "name": "ipython",
    "version": 3
   },
   "file_extension": ".py",
   "mimetype": "text/x-python",
   "name": "python",
   "nbconvert_exporter": "python",
   "pygments_lexer": "ipython3",
   "version": "3.9.8"
  }
 },
 "nbformat": 4,
 "nbformat_minor": 5
}
