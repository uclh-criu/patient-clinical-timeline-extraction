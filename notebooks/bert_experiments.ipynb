{
 "cells": [
  {
   "cell_type": "markdown",
   "id": "dfb4652a",
   "metadata": {},
   "source": [
    "Imports"
   ]
  },
  {
   "cell_type": "code",
   "execution_count": 22,
   "id": "02c805a7",
   "metadata": {},
   "outputs": [],
   "source": [
    "#imports\n",
    "from tqdm import tqdm\n",
    "from datasets import Dataset\n",
    "from transformers import AutoTokenizer, AutoModelForSequenceClassification, pipeline, Trainer, TrainingArguments\n",
    "from sklearn.model_selection import train_test_split\n",
    "from utils import load_data, prepare_all_samples, get_entity_date_pairs, calculate_metrics\n",
    "from bert_training import tokenize_function, add_special_tokens, make_training_pairs, balance_classes, gold_lookup\n",
    "from bert_extractor import get_context_window, mark_entity, mark_date, preprocess_input, bert_extraction"
   ]
  },
  {
   "cell_type": "markdown",
   "id": "e368136f",
   "metadata": {},
   "source": [
    "Data Loading"
   ]
  },
  {
   "cell_type": "code",
   "execution_count": 23,
   "id": "8b69680b",
   "metadata": {},
   "outputs": [
    {
     "name": "stdout",
     "output_type": "stream",
     "text": [
      "Loaded 101 records\n"
     ]
    },
    {
     "data": {
      "text/html": [
       "<div>\n",
       "<style scoped>\n",
       "    .dataframe tbody tr th:only-of-type {\n",
       "        vertical-align: middle;\n",
       "    }\n",
       "\n",
       "    .dataframe tbody tr th {\n",
       "        vertical-align: top;\n",
       "    }\n",
       "\n",
       "    .dataframe thead th {\n",
       "        text-align: right;\n",
       "    }\n",
       "</style>\n",
       "<table border=\"1\" class=\"dataframe\">\n",
       "  <thead>\n",
       "    <tr style=\"text-align: right;\">\n",
       "      <th></th>\n",
       "      <th>patient</th>\n",
       "      <th>note_id</th>\n",
       "      <th>note</th>\n",
       "      <th>document_timestamp</th>\n",
       "      <th>extracted_disorders</th>\n",
       "      <th>formatted_dates</th>\n",
       "      <th>relationship_gold</th>\n",
       "    </tr>\n",
       "  </thead>\n",
       "  <tbody>\n",
       "    <tr>\n",
       "      <th>0</th>\n",
       "      <td>1</td>\n",
       "      <td>0</td>\n",
       "      <td>Ultrasound (30nd Jun 2024): no significant fin...</td>\n",
       "      <td>14/05/2025</td>\n",
       "      <td>[{'label': 'asthma', 'start': 57, 'end': 63}, ...</td>\n",
       "      <td>[{'original': '(02nd Aug 2024)', 'parsed': '20...</td>\n",
       "      <td>[{'date': '2024-08-02', 'date_position': 311, ...</td>\n",
       "    </tr>\n",
       "    <tr>\n",
       "      <th>1</th>\n",
       "      <td>2</td>\n",
       "      <td>1</td>\n",
       "      <td>Labs (27th Sep 2024): anemia. resolving  Skin:...</td>\n",
       "      <td>14/05/2025</td>\n",
       "      <td>[{'label': 'multiple_sclerosis', 'start': 307,...</td>\n",
       "      <td>[{'original': '(27th Sep 2024)', 'parsed': '20...</td>\n",
       "      <td>[{'date': '2024-09-27', 'date_position': 5, 'd...</td>\n",
       "    </tr>\n",
       "    <tr>\n",
       "      <th>2</th>\n",
       "      <td>3</td>\n",
       "      <td>2</td>\n",
       "      <td>URGENT REVIEW (2024-10-04): cough. suspect ost...</td>\n",
       "      <td>14/05/2025</td>\n",
       "      <td>[{'label': 'osteoarthritis', 'start': 43, 'end...</td>\n",
       "      <td>[{'original': '(2024-10-04)', 'parsed': '2004-...</td>\n",
       "      <td>[{'date': '2024-10-04', 'date_position': 16, '...</td>\n",
       "    </tr>\n",
       "    <tr>\n",
       "      <th>3</th>\n",
       "      <td>4</td>\n",
       "      <td>3</td>\n",
       "      <td>URGENT REVIEW (13rd Feb 2025) MRI of the brain...</td>\n",
       "      <td>14/05/2025</td>\n",
       "      <td>[{'label': 'schizophrenia', 'start': 437, 'end...</td>\n",
       "      <td>[{'original': '(13rd Feb 2025)', 'parsed': '20...</td>\n",
       "      <td>[{'date': '2025-02-13', 'date_position': 14, '...</td>\n",
       "    </tr>\n",
       "    <tr>\n",
       "      <th>4</th>\n",
       "      <td>5</td>\n",
       "      <td>4</td>\n",
       "      <td>New pt((18/11/24)): pt presents with nausea/vo...</td>\n",
       "      <td>14/05/2025</td>\n",
       "      <td>[{'label': 'diabetes_mellitus', 'start': 440, ...</td>\n",
       "      <td>[{'original': '(18/11/24)', 'parsed': '2024-11...</td>\n",
       "      <td>[{'date': '2024-11-18', 'date_position': 7, 'd...</td>\n",
       "    </tr>\n",
       "    <tr>\n",
       "      <th>...</th>\n",
       "      <td>...</td>\n",
       "      <td>...</td>\n",
       "      <td>...</td>\n",
       "      <td>...</td>\n",
       "      <td>...</td>\n",
       "      <td>...</td>\n",
       "      <td>...</td>\n",
       "    </tr>\n",
       "    <tr>\n",
       "      <th>96</th>\n",
       "      <td>7</td>\n",
       "      <td>96</td>\n",
       "      <td>Visit((08/10/24)): pt presents with joint pain...</td>\n",
       "      <td>14/05/2025</td>\n",
       "      <td>[{'label': 'macroadenoma', 'start': 112, 'end'...</td>\n",
       "      <td>[{'original': '(11/12/2024)', 'parsed': '2024-...</td>\n",
       "      <td>[{'date': '2024-12-11', 'date_position': 624, ...</td>\n",
       "    </tr>\n",
       "    <tr>\n",
       "      <th>97</th>\n",
       "      <td>8</td>\n",
       "      <td>97</td>\n",
       "      <td>F/U (31 Aug 2024): resolved A review of system...</td>\n",
       "      <td>14/05/2025</td>\n",
       "      <td>[{'label': 'macroadenoma', 'start': 315, 'end'...</td>\n",
       "      <td>[{'original': '(31 Aug 2024)', 'parsed': '2024...</td>\n",
       "      <td>[{'date': '2024-08-31', 'date_position': 4, 'd...</td>\n",
       "    </tr>\n",
       "    <tr>\n",
       "      <th>98</th>\n",
       "      <td>9</td>\n",
       "      <td>98</td>\n",
       "      <td>Phone note((12-10-2024)): slightly improved. o...</td>\n",
       "      <td>14/05/2025</td>\n",
       "      <td>[{'label': 'tension_headache', 'start': 108, '...</td>\n",
       "      <td>[{'original': '(01/03/2025)', 'parsed': '2025-...</td>\n",
       "      <td>[{'date': '2025-03-01', 'date_position': 228, ...</td>\n",
       "    </tr>\n",
       "    <tr>\n",
       "      <th>99</th>\n",
       "      <td>10</td>\n",
       "      <td>99</td>\n",
       "      <td>F/U (2025-02-23): fluctuating. confirmed multi...</td>\n",
       "      <td>14/05/2025</td>\n",
       "      <td>[{'label': 'multiple_sclerosis', 'start': 41, ...</td>\n",
       "      <td>[{'original': '(2025-02-23)', 'parsed': '2023-...</td>\n",
       "      <td>[{'date': '2025-02-23', 'date_position': 6, 'd...</td>\n",
       "    </tr>\n",
       "    <tr>\n",
       "      <th>100</th>\n",
       "      <td>1</td>\n",
       "      <td>100</td>\n",
       "      <td>CLINIC VISIT (15/06/2025): Patient was Current...</td>\n",
       "      <td>14/05/2025</td>\n",
       "      <td>[{'label': 'pituitary_adenoma', 'start': 778, ...</td>\n",
       "      <td>[{'original': '(15/06/2025)', 'parsed': '2025-...</td>\n",
       "      <td>[{'date': '2025-06-15', 'date_position': 13, '...</td>\n",
       "    </tr>\n",
       "  </tbody>\n",
       "</table>\n",
       "<p>101 rows × 7 columns</p>\n",
       "</div>"
      ],
      "text/plain": [
       "     patient  note_id                                               note  \\\n",
       "0          1        0  Ultrasound (30nd Jun 2024): no significant fin...   \n",
       "1          2        1  Labs (27th Sep 2024): anemia. resolving  Skin:...   \n",
       "2          3        2  URGENT REVIEW (2024-10-04): cough. suspect ost...   \n",
       "3          4        3  URGENT REVIEW (13rd Feb 2025) MRI of the brain...   \n",
       "4          5        4  New pt((18/11/24)): pt presents with nausea/vo...   \n",
       "..       ...      ...                                                ...   \n",
       "96         7       96  Visit((08/10/24)): pt presents with joint pain...   \n",
       "97         8       97  F/U (31 Aug 2024): resolved A review of system...   \n",
       "98         9       98  Phone note((12-10-2024)): slightly improved. o...   \n",
       "99        10       99  F/U (2025-02-23): fluctuating. confirmed multi...   \n",
       "100        1      100  CLINIC VISIT (15/06/2025): Patient was Current...   \n",
       "\n",
       "    document_timestamp                                extracted_disorders  \\\n",
       "0           14/05/2025  [{'label': 'asthma', 'start': 57, 'end': 63}, ...   \n",
       "1           14/05/2025  [{'label': 'multiple_sclerosis', 'start': 307,...   \n",
       "2           14/05/2025  [{'label': 'osteoarthritis', 'start': 43, 'end...   \n",
       "3           14/05/2025  [{'label': 'schizophrenia', 'start': 437, 'end...   \n",
       "4           14/05/2025  [{'label': 'diabetes_mellitus', 'start': 440, ...   \n",
       "..                 ...                                                ...   \n",
       "96          14/05/2025  [{'label': 'macroadenoma', 'start': 112, 'end'...   \n",
       "97          14/05/2025  [{'label': 'macroadenoma', 'start': 315, 'end'...   \n",
       "98          14/05/2025  [{'label': 'tension_headache', 'start': 108, '...   \n",
       "99          14/05/2025  [{'label': 'multiple_sclerosis', 'start': 41, ...   \n",
       "100         14/05/2025  [{'label': 'pituitary_adenoma', 'start': 778, ...   \n",
       "\n",
       "                                       formatted_dates  \\\n",
       "0    [{'original': '(02nd Aug 2024)', 'parsed': '20...   \n",
       "1    [{'original': '(27th Sep 2024)', 'parsed': '20...   \n",
       "2    [{'original': '(2024-10-04)', 'parsed': '2004-...   \n",
       "3    [{'original': '(13rd Feb 2025)', 'parsed': '20...   \n",
       "4    [{'original': '(18/11/24)', 'parsed': '2024-11...   \n",
       "..                                                 ...   \n",
       "96   [{'original': '(11/12/2024)', 'parsed': '2024-...   \n",
       "97   [{'original': '(31 Aug 2024)', 'parsed': '2024...   \n",
       "98   [{'original': '(01/03/2025)', 'parsed': '2025-...   \n",
       "99   [{'original': '(2025-02-23)', 'parsed': '2023-...   \n",
       "100  [{'original': '(15/06/2025)', 'parsed': '2025-...   \n",
       "\n",
       "                                     relationship_gold  \n",
       "0    [{'date': '2024-08-02', 'date_position': 311, ...  \n",
       "1    [{'date': '2024-09-27', 'date_position': 5, 'd...  \n",
       "2    [{'date': '2024-10-04', 'date_position': 16, '...  \n",
       "3    [{'date': '2025-02-13', 'date_position': 14, '...  \n",
       "4    [{'date': '2024-11-18', 'date_position': 7, 'd...  \n",
       "..                                                 ...  \n",
       "96   [{'date': '2024-12-11', 'date_position': 624, ...  \n",
       "97   [{'date': '2024-08-31', 'date_position': 4, 'd...  \n",
       "98   [{'date': '2025-03-01', 'date_position': 228, ...  \n",
       "99   [{'date': '2025-02-23', 'date_position': 6, 'd...  \n",
       "100  [{'date': '2025-06-15', 'date_position': 13, '...  \n",
       "\n",
       "[101 rows x 7 columns]"
      ]
     },
     "execution_count": 23,
     "metadata": {},
     "output_type": "execute_result"
    }
   ],
   "source": [
    "# Load data\n",
    "df = load_data(\"data/synthetic.csv\")\n",
    "print(f\"Loaded {len(df)} records\")\n",
    "df"
   ]
  },
  {
   "cell_type": "code",
   "execution_count": 24,
   "id": "e0fc9f0c",
   "metadata": {},
   "outputs": [
    {
     "name": "stdout",
     "output_type": "stream",
     "text": [
      "Prepared 101 samples\n"
     ]
    },
    {
     "data": {
      "text/plain": [
       "{'note_text': \"Ultrasound (30nd Jun 2024): no significant findings.imp: asthma\\n\\nShe denies any nausea, vomiting, or diarrhea.\\nC Patient reports compliance with current medication regimen. Basic metabolic panel within normal limits with sodium 140, potassium 4.2, creatinine 0.9.\\nPatient is afebrile with normal vital signs. T (02nd Aug 2024): reveals asthma.imp: asthma\\n\\nX-ray (12nd Sep 2024): shows 3.1cm mass in brain.imp: pituitary_adenoma\\n\\nCLINIC VISIT (16 Sep'24): nausea/vomiting worsening confirmed rheumatoid_arthritis switch to aspirin\\n\\nPast medical history is non-contributory.\\nURGENT REVIEW (23rd Oct 2024): headache x1 day.r Will order additional laboratory studies at next visit if symptoms persist. Heart: Regular rate and rhythm, no murmurs. Patient has a history of meningitis. GI: Bowel sounds present in all four quadrants.\\n Liver function tests show mild elevation in ALT and AST, likely due to medication effect.Chest X-ray reveals clear lung fields without infiltrates or effusions. No hepatosplenomegaly.\\nShe denies any nausea, vomiting, or diarrhea. Patient advised to maintain a symptom diary for review at next appointment. esolving pneumonia\\n\\nMedications were reconciled during the visit.\\nF/U (16st Nov 2024): improved.rule out pituitary_adenoma observe and reassess\\n\\nX-ray (17.12.24): reveals GERD.imp: GERD\",\n",
       " 'entities_list': [{'label': 'asthma', 'start': 57, 'end': 63},\n",
       "  {'label': 'pituitary_adenoma', 'start': 410, 'end': 427},\n",
       "  {'label': 'rheumatoid_arthritis', 'start': 491, 'end': 511},\n",
       "  {'label': 'pneumonia', 'start': 1143, 'end': 1152},\n",
       "  {'label': 'gerd', 'start': 1305, 'end': 1309},\n",
       "  {'label': 'meningitis', 'start': 767, 'end': 777}],\n",
       " 'dates': [{'original': '(02nd Aug 2024)',\n",
       "   'parsed': '2024-08-02',\n",
       "   'start': 311,\n",
       "   'end': 326},\n",
       "  {'original': '(23rd Oct 2024)',\n",
       "   'parsed': '2024-10-23',\n",
       "   'start': 587,\n",
       "   'end': 602}],\n",
       " 'relationship_gold': [{'date': '2024-08-02',\n",
       "   'date_position': 311,\n",
       "   'diagnoses': [{'diagnosis': 'asthma', 'position': 57}]},\n",
       "  {'date': '2024-10-23',\n",
       "   'date_position': 587,\n",
       "   'diagnoses': [{'diagnosis': 'pneumonia', 'position': 1143}]}],\n",
       " 'patient_id': 1,\n",
       " 'note_id': 0}"
      ]
     },
     "execution_count": 24,
     "metadata": {},
     "output_type": "execute_result"
    }
   ],
   "source": [
    "# Prepare all samples\n",
    "samples = prepare_all_samples(df)\n",
    "print(f\"Prepared {len(samples)} samples\")\n",
    "samples[0]"
   ]
  },
  {
   "cell_type": "markdown",
   "id": "128c81f2",
   "metadata": {},
   "source": [
    "BERT Base"
   ]
  },
  {
   "cell_type": "code",
   "execution_count": 25,
   "id": "597c91cc",
   "metadata": {},
   "outputs": [
    {
     "name": "stderr",
     "output_type": "stream",
     "text": [
      "Some weights of BertForSequenceClassification were not initialized from the model checkpoint at google/bert_uncased_L-2_H-128_A-2 and are newly initialized: ['classifier.bias', 'classifier.weight']\n",
      "You should probably TRAIN this model on a down-stream task to be able to use it for predictions and inference.\n"
     ]
    }
   ],
   "source": [
    "# Load local model and tokenizer\n",
    "#model_path = \"./bert_model_training/base_model\"\n",
    "model_path = \"google/bert_uncased_L-2_H-128_A-2\"\n",
    "tokenizer = AutoTokenizer.from_pretrained(model_path)\n",
    "model = AutoModelForSequenceClassification.from_pretrained(model_path, num_labels=2, ignore_mismatched_sizes=True)"
   ]
  },
  {
   "cell_type": "code",
   "execution_count": 26,
   "id": "dbe8a875",
   "metadata": {},
   "outputs": [
    {
     "data": {
      "text/plain": [
       "('Patient diagnosed with asthma on 2024-08-02. Diabetes was ruled out on 2024-08-02. Family history of hypertension, last reviewed in 2022. Patient may have pneumonia, last seen on 2024-08-02.',\n",
       " {'start': 23, 'end': 29, 'label': 'asthma'},\n",
       " {'start': 33, 'end': 43, 'parsed': '2024-08-02'})"
      ]
     },
     "execution_count": 26,
     "metadata": {},
     "output_type": "execute_result"
    }
   ],
   "source": [
    "#Example note\n",
    "note_text = (\n",
    "    \"Patient diagnosed with asthma on 2024-08-02. \"\n",
    "    \"Diabetes was ruled out on 2024-08-02. \"\n",
    "    \"Family history of hypertension, last reviewed in 2022. \"\n",
    "    \"Patient may have pneumonia, last seen on 2024-08-02.\"\n",
    ")\n",
    "\n",
    "# Example entity and date spans (positions are for illustration)\n",
    "entity = {'start': 23, 'end': 29, 'label': 'asthma'}  # \"asthma\"\n",
    "date = {'start': 33, 'end': 43, 'parsed': '2024-08-02'}  # \"2024-08-02\"\n",
    "\n",
    "note_text, entity, date"
   ]
  },
  {
   "cell_type": "code",
   "execution_count": 27,
   "id": "5fc165b1",
   "metadata": {},
   "outputs": [
    {
     "name": "stdout",
     "output_type": "stream",
     "text": [
      "Context window:\n",
      " Patient diagnosed with asthma on 2024-08-02. Diabetes was ruled out on 2024-08-02. \n"
     ]
    }
   ],
   "source": [
    "#Test context window\n",
    "context = get_context_window(note_text, entity['start'], date['start'], window_size=50)\n",
    "print(\"Context window:\\n\", context)"
   ]
  },
  {
   "cell_type": "code",
   "execution_count": 28,
   "id": "0aee65a1",
   "metadata": {},
   "outputs": [
    {
     "name": "stdout",
     "output_type": "stream",
     "text": [
      "Entity marked:\n",
      " Patient diagnosed with [E]asthma[E] on 2024-08-02. Diabetes was ruled out on 2024-08-02. \n"
     ]
    }
   ],
   "source": [
    "#Test entity marking\n",
    "entity_text = note_text[entity['start']:entity['end']]\n",
    "offset = context.find(entity_text)\n",
    "entity_rel = {'start': offset, 'end': offset + len(entity_text)}\n",
    "\n",
    "marked_entity = mark_entity(context, entity_rel)\n",
    "print(\"Entity marked:\\n\", marked_entity)"
   ]
  },
  {
   "cell_type": "code",
   "execution_count": 29,
   "id": "98b8343f",
   "metadata": {},
   "outputs": [
    {
     "name": "stdout",
     "output_type": "stream",
     "text": [
      "Date marked:\n",
      " Patient diagnosed with asthma on [D]2024-08-02[D]. Diabetes was ruled out on 2024-08-02. \n"
     ]
    }
   ],
   "source": [
    "#Test date marking\n",
    "date_text = note_text[date['start']:date['end']]\n",
    "offset_date = context.find(date_text)\n",
    "date_rel = {'start': offset_date, 'end': offset_date + len(date_text)}\n",
    "\n",
    "marked_date = mark_date(context, date_rel)\n",
    "print(\"Date marked:\\n\", marked_date)"
   ]
  },
  {
   "cell_type": "code",
   "execution_count": 34,
   "id": "312bc800",
   "metadata": {},
   "outputs": [
    {
     "name": "stdout",
     "output_type": "stream",
     "text": [
      "Preprocessed input:\n",
      " [E][E]Patient diagn[D]osed with as[D]thma on 2024-08-02. Diabetes was ruled out on 2024-08-02. Family history of hypertension, last reviewed in 2022. Patient may have pneumonia, last seen on 2024-08-02.\n"
     ]
    },
    {
     "data": {
      "text/plain": [
       "'[E][E]Patient diagn[D]osed with as[D]thma on 2024-08-02. Diabetes was ruled out on 2024-08-02. Family history of hypertension, last reviewed in 2022. Patient may have pneumonia, last seen on 2024-08-02.'"
      ]
     },
     "execution_count": 34,
     "metadata": {},
     "output_type": "execute_result"
    }
   ],
   "source": [
    "#Do full pre-processing\n",
    "preprocessed = preprocess_input(note_text, entity, date, window_size=20)\n",
    "print(\"Preprocessed input:\\n\", preprocessed)\n",
    "preprocessed"
   ]
  },
  {
   "cell_type": "code",
   "execution_count": 35,
   "id": "f37d6298",
   "metadata": {},
   "outputs": [
    {
     "name": "stderr",
     "output_type": "stream",
     "text": [
      "Samples: 100%|██████████| 1/1 [00:00<00:00, 53.05it/s]"
     ]
    },
    {
     "name": "stdout",
     "output_type": "stream",
     "text": [
      "{'entity': {'label': 'asthma', 'start': 57, 'end': 63}, 'date_info': {'original': '(02nd Aug 2024)', 'parsed': '2024-08-02', 'start': 311, 'end': 326}, 'entity_label': 'asthma', 'date': '2024-08-02', 'distance': 254}\n"
     ]
    },
    {
     "name": "stderr",
     "output_type": "stream",
     "text": [
      "\n"
     ]
    }
   ],
   "source": [
    "# Process samples\n",
    "predictions = []\n",
    "\n",
    "#for sample in tqdm(samples, desc=\"Samples\"):\n",
    "    #pairs = get_entity_date_pairs(sample['entities_list'], sample['dates'])\n",
    "    #for pair in pairs:\n",
    "        #text = f\"Does '{pair['entity_label']}' relate to '{pair['date']}'? {sample['note_text']}...\"\n",
    "        #pred, conf = bert_extraction(text, model, tokenizer)\n",
    "        #if pred == 1:\n",
    "            #predictions.append({'entity_label': pair['entity_label'], 'date': pair['date'], 'confidence': conf})\n",
    "\n",
    "for sample in tqdm(samples[:1], desc=\"Samples\"):\n",
    "    pairs = get_entity_date_pairs(sample['entities_list'], sample['dates'])\n",
    "    for pair in pairs[:1]:\n",
    "        print(pair)\n",
    "        entity = pair['entity']\n",
    "        date = pair['date_info']\n",
    "        pred, conf = bert_extraction(sample['note_text'], entity, date, model, tokenizer, window_size=100)\n",
    "        if pred == 1:\n",
    "            predictions.append({'entity_label': entity['label'], 'date': date['parsed'], 'confidence': conf})"
   ]
  },
  {
   "cell_type": "code",
   "execution_count": 32,
   "id": "13064391",
   "metadata": {},
   "outputs": [
    {
     "data": {
      "text/plain": [
       "[]"
      ]
     },
     "execution_count": 32,
     "metadata": {},
     "output_type": "execute_result"
    }
   ],
   "source": [
    "#Look at predictions\n",
    "predictions"
   ]
  },
  {
   "cell_type": "code",
   "execution_count": 33,
   "id": "6d434c6c",
   "metadata": {},
   "outputs": [
    {
     "data": {
      "text/plain": [
       "{'precision': 0, 'recall': 0.0, 'f1': 0, 'tp': 0, 'fp': 0, 'fn': 214}"
      ]
     },
     "execution_count": 33,
     "metadata": {},
     "output_type": "execute_result"
    }
   ],
   "source": [
    "# Calculate metrics\n",
    "metrics = calculate_metrics(predictions, df)\n",
    "metrics"
   ]
  },
  {
   "cell_type": "markdown",
   "id": "50803ee7",
   "metadata": {},
   "source": [
    "BERT Finetuning"
   ]
  },
  {
   "cell_type": "code",
   "execution_count": 36,
   "id": "203003ad",
   "metadata": {},
   "outputs": [
    {
     "data": {
      "text/plain": [
       "Embedding(30524, 128, padding_idx=0)"
      ]
     },
     "execution_count": 36,
     "metadata": {},
     "output_type": "execute_result"
    }
   ],
   "source": [
    "#Add special tokens to tokenizer\n",
    "add_special_tokens(tokenizer)\n",
    "\n",
    "# Resize model embeddings to match new tokenizer size\n",
    "model.resize_token_embeddings(len(tokenizer))"
   ]
  },
  {
   "cell_type": "code",
   "execution_count": null,
   "id": "afe92557",
   "metadata": {},
   "outputs": [],
   "source": [
    "#Do some layer freezing here?"
   ]
  },
  {
   "cell_type": "code",
   "execution_count": null,
   "id": "7ed8e670",
   "metadata": {},
   "outputs": [],
   "source": [
    "#Split samples\n",
    "train_samples, val_samples = train_test_split(samples, test_size=0.2, random_state=42)\n",
    "print(f\"Train: {len(train_samples)}, Val: {len(val_samples)}\")"
   ]
  },
  {
   "cell_type": "code",
   "execution_count": null,
   "id": "dbda4182",
   "metadata": {},
   "outputs": [],
   "source": [
    "#Prepare training pairs\n",
    "training_pairs = make_training_pairs(train_samples, gold_lookup, window_size=100)\n",
    "val_pairs = make_training_pairs(val_samples, gold_lookup, window_size=100)"
   ]
  },
  {
   "cell_type": "code",
   "execution_count": null,
   "id": "bc6666cf",
   "metadata": {},
   "outputs": [],
   "source": [
    "#Balance classes (only training set)\n",
    "training_pairs = balance_classes(training_pairs, ratio=1.0)"
   ]
  },
  {
   "cell_type": "code",
   "execution_count": null,
   "id": "8a5c8ae4",
   "metadata": {},
   "outputs": [],
   "source": [
    "#Convert to Datasets\n",
    "train_dataset = Dataset.from_pandas(training_pairs)\n",
    "val_dataset = Dataset.from_pandas(val_pairs)"
   ]
  },
  {
   "cell_type": "code",
   "execution_count": null,
   "id": "b782d845",
   "metadata": {},
   "outputs": [],
   "source": [
    "#Tokenization\n",
    "tokenized_train = train_dataset.map(lambda x: tokenize_function(x, tokenizer), batched=True)\n",
    "tokenized_val = val_dataset.map(lambda x: tokenize_function(x, tokenizer), batched=True)"
   ]
  },
  {
   "cell_type": "code",
   "execution_count": null,
   "id": "793e648e",
   "metadata": {},
   "outputs": [],
   "source": [
    "#Look at tokenized dataset\n",
    "tokenized_train"
   ]
  },
  {
   "cell_type": "code",
   "execution_count": null,
   "id": "00d7bbc7",
   "metadata": {},
   "outputs": [],
   "source": [
    "#Define training args\n",
    "training_args = TrainingArguments(\n",
    "    output_dir=\"./bert_model_training/bert_finetuned\",\n",
    "    per_device_train_batch_size=16,\n",
    "    num_train_epochs=10,\n",
    "    eval_strategy=\"epoch\",\n",
    "    save_strategy=\"epoch\",\n",
    "    logging_steps=10,\n",
    "    save_total_limit=1,\n",
    "    load_best_model_at_end=True,\n",
    ")"
   ]
  },
  {
   "cell_type": "code",
   "execution_count": null,
   "id": "b2fb7e35",
   "metadata": {},
   "outputs": [],
   "source": [
    "#Create trainer\n",
    "trainer = Trainer(\n",
    "    model=model,\n",
    "    args=training_args,\n",
    "    train_dataset=tokenized_train,\n",
    "    eval_dataset=tokenized_val,\n",
    ")"
   ]
  },
  {
   "cell_type": "code",
   "execution_count": null,
   "id": "93471464",
   "metadata": {},
   "outputs": [],
   "source": [
    "#Train\n",
    "trainer.train()"
   ]
  },
  {
   "cell_type": "code",
   "execution_count": null,
   "id": "e9c2fedd",
   "metadata": {},
   "outputs": [],
   "source": [
    "#Process validation samples\n",
    "predictions = []\n",
    "\n",
    "for sample in tqdm(val_samples, desc=\"Validation Samples\"):\n",
    "    pairs = get_entity_date_pairs(sample['entities_list'], sample['dates'])\n",
    "    for pair in pairs:\n",
    "        entity = pair['entity']\n",
    "        date = pair['date_info']\n",
    "        pred, conf = bert_extraction(sample['note_text'], entity, date, model, tokenizer, window_size=100)\n",
    "        if pred == 1:\n",
    "            predictions.append({'entity_label': entity['label'], 'date': date['parsed'], 'confidence': conf})"
   ]
  },
  {
   "cell_type": "code",
   "execution_count": null,
   "id": "b3d83e97",
   "metadata": {},
   "outputs": [],
   "source": [
    "#Look at predictions\n",
    "predictions"
   ]
  },
  {
   "cell_type": "code",
   "execution_count": null,
   "id": "183b3d2f",
   "metadata": {},
   "outputs": [],
   "source": [
    "# Calculate metrics\n",
    "metrics = calculate_metrics(predictions, df)\n",
    "metrics"
   ]
  }
 ],
 "metadata": {
  "kernelspec": {
   "display_name": "venv",
   "language": "python",
   "name": "python3"
  },
  "language_info": {
   "codemirror_mode": {
    "name": "ipython",
    "version": 3
   },
   "file_extension": ".py",
   "mimetype": "text/x-python",
   "name": "python",
   "nbconvert_exporter": "python",
   "pygments_lexer": "ipython3",
   "version": "3.9.8"
  }
 },
 "nbformat": 4,
 "nbformat_minor": 5
}
