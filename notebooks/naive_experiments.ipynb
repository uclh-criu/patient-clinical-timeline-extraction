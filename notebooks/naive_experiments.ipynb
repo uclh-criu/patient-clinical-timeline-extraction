{
 "cells": [
  {
   "cell_type": "markdown",
   "id": "dfb4652a",
   "metadata": {},
   "source": [
    "Imports"
   ]
  },
  {
   "cell_type": "code",
   "execution_count": 1,
   "id": "02c805a7",
   "metadata": {},
   "outputs": [],
   "source": [
    "#imports\n",
    "import sys\n",
    "import os\n",
    "import pandas as pd\n",
    "\n",
    "utils_path = os.path.abspath(os.path.join(os.getcwd(), '..', 'utils'))\n",
    "if utils_path not in sys.path:\n",
    "    sys.path.insert(0, utils_path)\n",
    "\n",
    "from utils import load_data, prepare_all_samples, calculate_metrics\n",
    "from naive_extractor import naive_extraction\n",
    "from relative_date_extractor import add_relative_dates"
   ]
  },
  {
   "cell_type": "markdown",
   "id": "e368136f",
   "metadata": {},
   "source": [
    "Data Loading"
   ]
  },
  {
   "cell_type": "code",
   "execution_count": null,
   "id": "8b69680b",
   "metadata": {},
   "outputs": [
    {
     "name": "stdout",
     "output_type": "stream",
     "text": [
      "Loaded 5 records\n"
     ]
    }
   ],
   "source": [
    "# Load data\n",
    "df = load_data(\"../data/medcat_trainer_dataset.csv\")\n",
    "print(f\"Loaded {len(df)} records\")\n",
    "#df"
   ]
  },
  {
   "cell_type": "code",
   "execution_count": 3,
   "id": "37b5e3b5",
   "metadata": {},
   "outputs": [
    {
     "name": "stdout",
     "output_type": "stream",
     "text": [
      "Added relative dates\n"
     ]
    }
   ],
   "source": [
    "#Add relative dates if not already added via MedCAT trainer \n",
    "if 'relative_dates_json' not in df.columns:\n",
    "    df = add_relative_dates(df)\n",
    "    print(\"Added relative dates\")\n",
    "else:\n",
    "    print(\"Relative dates already present, skipping extraction\")"
   ]
  },
  {
   "cell_type": "code",
   "execution_count": 9,
   "id": "9dd3bc78",
   "metadata": {},
   "outputs": [],
   "source": [
    "#Inspect df to check that relative dates have been added\n",
    "#df"
   ]
  },
  {
   "cell_type": "code",
   "execution_count": 5,
   "id": "e0fc9f0c",
   "metadata": {},
   "outputs": [
    {
     "name": "stdout",
     "output_type": "stream",
     "text": [
      "Prepared 5 samples\n"
     ]
    }
   ],
   "source": [
    "# Prepare all samples\n",
    "samples = prepare_all_samples(df)\n",
    "print(f\"Prepared {len(samples)} samples\")\n",
    "#samples[2]"
   ]
  },
  {
   "cell_type": "markdown",
   "id": "1fcbfec6",
   "metadata": {},
   "source": [
    "Naive Extractor"
   ]
  },
  {
   "cell_type": "code",
   "execution_count": 6,
   "id": "ff99b113",
   "metadata": {},
   "outputs": [],
   "source": [
    "#Process samples\n",
    "predictions = []\n",
    "\n",
    "for sample in samples:\n",
    "    # Combine absolute and relative dates\n",
    "    all_dates = sample['dates'] + sample['relative_dates']\n",
    "    \n",
    "    # Run naive extraction on all dates\n",
    "    relationships = naive_extraction(sample['entities_list'], all_dates)\n",
    "    predictions.extend(relationships)"
   ]
  },
  {
   "cell_type": "code",
   "execution_count": 7,
   "id": "d13cd164",
   "metadata": {},
   "outputs": [],
   "source": [
    "# Look at predictions\n",
    "#predictions"
   ]
  },
  {
   "cell_type": "code",
   "execution_count": 8,
   "id": "1792c878",
   "metadata": {},
   "outputs": [
    {
     "data": {
      "text/plain": [
       "{'precision': 0.2761904761904762,\n",
       " 'recall': 0.7837837837837838,\n",
       " 'f1': 0.4084507042253522,\n",
       " 'tp': 29,\n",
       " 'fp': 76,\n",
       " 'fn': 8}"
      ]
     },
     "execution_count": 8,
     "metadata": {},
     "output_type": "execute_result"
    }
   ],
   "source": [
    "# Calculate metrics\n",
    "metrics = calculate_metrics(predictions, df)\n",
    "metrics"
   ]
  }
 ],
 "metadata": {
  "kernelspec": {
   "display_name": "venv",
   "language": "python",
   "name": "python3"
  },
  "language_info": {
   "codemirror_mode": {
    "name": "ipython",
    "version": 3
   },
   "file_extension": ".py",
   "mimetype": "text/x-python",
   "name": "python",
   "nbconvert_exporter": "python",
   "pygments_lexer": "ipython3",
   "version": "3.9.8"
  }
 },
 "nbformat": 4,
 "nbformat_minor": 5
}
