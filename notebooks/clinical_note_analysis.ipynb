{
 "cells": [
  {
   "cell_type": "markdown",
   "metadata": {},
   "source": [
    "Groups\n",
    "Medcat outputs - dates from sources?\n",
    "Foresight"
   ]
  },
  {
   "cell_type": "markdown",
   "metadata": {},
   "source": [
    "Setup"
   ]
  },
  {
   "cell_type": "code",
   "execution_count": 1,
   "metadata": {},
   "outputs": [],
   "source": [
    "# Import libraries\n",
    "import re\n",
    "from datetime import datetime\n",
    "import pandas as pd\n",
    "import numpy as np\n",
    "import matplotlib.pyplot as plt\n",
    "import spacy\n",
    "from date_spacy import find_dates"
   ]
  },
  {
   "cell_type": "markdown",
   "metadata": {},
   "source": [
    "Data"
   ]
  },
  {
   "cell_type": "code",
   "execution_count": 2,
   "metadata": {},
   "outputs": [
    {
     "name": "stdout",
     "output_type": "stream",
     "text": [
      "\n",
      "InitialPresentation 15-01-2023[date]  \n",
      "pt presents w severe HA x2/52,getting worse.no relief w/regular painkillers\n",
      "imp: chronic migraine[diagnosis]vs tension headache[diagnosis]??? \n",
      "plan- start sumatriptan,f/u 2/52\n",
      "\n",
      "URGENT REVIEW(20.01.23[date]):pt called- new onset visual symps.  \n",
      "rapid worsening,Now with diplopia.urgent referral to ophth\n",
      "-> ?pituitary mass vs IIH[diagnosis]\n",
      "\n",
      "ophth notes(Jan 25th 2023[date])  \n",
      "bilat papilloedema[diagnosis]+++\n",
      "vf loss temp sides\n",
      "urgent mri requested..   \n",
      "\n",
      "radiology(02/02/2023 @1445[date])\n",
      "findings:large sellar/suprasellar mass 2.8x3.1x2.9cm\n",
      "imp:macroadenoma[diagnosis],severe mass effect\n",
      "needs urgent endo r/v\n",
      "\n",
      "endocrine assessment 3rd Feb'23[date]\n",
      "hormonal panel results:\n",
      "prolactin>2000\n",
      "cortisol-low\n",
      "imp:giant prolactinoma[diagnosis] w/partial hypopituitarism[diagnosis]\n",
      "started cab 0.25mg 2x/wk\n",
      "stress dose steroids given\n",
      "\n",
      "f/u 17/2/23[date]-phone\n",
      "HA better.no more diplopia\n",
      "cont cab\n",
      "\n",
      "clinic rv - 2023-03-15[date]\n",
      "doing well.pro level down to 1500\n",
      "vision improving\n",
      "cont current rx\n",
      "\n",
      "ENDO CLINIC(12 apr 23[date])\n",
      "much improved\n",
      "pro now 800\n",
      "repeat MRI shows good response-tumor[diagnosis]shrinking\n",
      "cont same dose\n",
      "\n",
      "NOTE:15-5-2023[date]- pt called\n",
      "mild n/v last 2/7\n",
      "?adrenal insufficiency[diagnosis]\n",
      "urgentbloods+short synacthen-booked 16/5\n",
      "\n",
      "quick note 16/5/23[date]:synacthen confirms adrenal insufficiency[diagnosis]\n",
      "starting hydrocort 10/5/5\n",
      "\n"
     ]
    }
   ],
   "source": [
    "#Sample clinical note\n",
    "clinical_note = \"\"\"\n",
    "InitialPresentation 15-01-2023[date]  \n",
    "pt presents w severe HA x2/52,getting worse.no relief w/regular painkillers\n",
    "imp: chronic migraine[diagnosis]vs tension headache[diagnosis]??? \n",
    "plan- start sumatriptan,f/u 2/52\n",
    "\n",
    "URGENT REVIEW(20.01.23[date]):pt called- new onset visual symps.  \n",
    "rapid worsening,Now with diplopia.urgent referral to ophth\n",
    "-> ?pituitary mass vs IIH[diagnosis]\n",
    "\n",
    "ophth notes(Jan 25th 2023[date])  \n",
    "bilat papilloedema[diagnosis]+++\n",
    "vf loss temp sides\n",
    "urgent mri requested..   \n",
    "\n",
    "radiology(02/02/2023 @1445[date])\n",
    "findings:large sellar/suprasellar mass 2.8x3.1x2.9cm\n",
    "imp:macroadenoma[diagnosis],severe mass effect\n",
    "needs urgent endo r/v\n",
    "\n",
    "endocrine assessment 3rd Feb'23[date]\n",
    "hormonal panel results:\n",
    "prolactin>2000\n",
    "cortisol-low\n",
    "imp:giant prolactinoma[diagnosis] w/partial hypopituitarism[diagnosis]\n",
    "started cab 0.25mg 2x/wk\n",
    "stress dose steroids given\n",
    "\n",
    "f/u 17/2/23[date]-phone\n",
    "HA better.no more diplopia\n",
    "cont cab\n",
    "\n",
    "clinic rv - 2023-03-15[date]\n",
    "doing well.pro level down to 1500\n",
    "vision improving\n",
    "cont current rx\n",
    "\n",
    "ENDO CLINIC(12 apr 23[date])\n",
    "much improved\n",
    "pro now 800\n",
    "repeat MRI shows good response-tumor[diagnosis]shrinking\n",
    "cont same dose\n",
    "\n",
    "NOTE:15-5-2023[date]- pt called\n",
    "mild n/v last 2/7\n",
    "?adrenal insufficiency[diagnosis]\n",
    "urgentbloods+short synacthen-booked 16/5\n",
    "\n",
    "quick note 16/5/23[date]:synacthen confirms adrenal insufficiency[diagnosis]\n",
    "starting hydrocort 10/5/5\n",
    "\"\"\"\n",
    "\n",
    "print(clinical_note)"
   ]
  },
  {
   "cell_type": "markdown",
   "metadata": {},
   "source": [
    "Condition Extraction"
   ]
  },
  {
   "cell_type": "code",
   "execution_count": 3,
   "metadata": {},
   "outputs": [],
   "source": [
    "def diagnosis_ner(text):\n",
    "    results = []\n",
    "\n",
    "    # List of medical conditions to search for\n",
    "    conditions = [\n",
    "        \"migraine\", \"headache\", \"pituitary adenoma\", \"prolactinoma\", \n",
    "        \"tumor\", \"cancer\", \"diabetes\", \"hypertension\", \"asthma\"\n",
    "    ]\n",
    "    \n",
    "    # Word matching\n",
    "    for condition in conditions:\n",
    "        pattern = re.compile(r'\\b' + condition + r'\\b', re.IGNORECASE)\n",
    "        for match in pattern.finditer(text):\n",
    "            start = match.start()\n",
    "            diagnosis = match.group()\n",
    "            results.append((diagnosis.lower(), start))\n",
    "    \n",
    "    # Look for diagnosis statements\n",
    "    diagnosis_patterns = [\n",
    "        r'Diagnosis:\\s*([A-Za-z\\s]+)',\n",
    "        r'Diagnosed with\\s*([A-Za-z\\s]+)',\n",
    "        r'indicates\\s*([A-Za-z\\s]+)'\n",
    "    ]\n",
    "    \n",
    "    for pattern in diagnosis_patterns:\n",
    "        for match in re.finditer(pattern, text):\n",
    "            diagnosis_text = match.group(1).strip().lower()\n",
    "            # Skip if too generic or empty\n",
    "            if diagnosis_text and len(diagnosis_text) > 3:\n",
    "                results.append((diagnosis_text, match.start(1)))\n",
    "    \n",
    "    return results"
   ]
  },
  {
   "cell_type": "code",
   "execution_count": 4,
   "metadata": {},
   "outputs": [
    {
     "name": "stdout",
     "output_type": "stream",
     "text": [
      "Extracted diagnoses:\n",
      "- migraine (position: 129)\n",
      "- headache (position: 159)\n",
      "- prolactinoma (position: 752)\n",
      "- tumor (position: 1110)\n"
     ]
    },
    {
     "data": {
      "text/plain": [
       "[('migraine', 129), ('headache', 159), ('prolactinoma', 752), ('tumor', 1110)]"
      ]
     },
     "execution_count": 4,
     "metadata": {},
     "output_type": "execute_result"
    }
   ],
   "source": [
    "# Extract diagnoses\n",
    "diagnoses = diagnosis_ner(clinical_note)\n",
    "print(\"Extracted diagnoses:\")\n",
    "for diagnosis, position in diagnoses:\n",
    "    print(f\"- {diagnosis} (position: {position})\")\n",
    "\n",
    "diagnoses #List of (diagnosis, position) tuples"
   ]
  },
  {
   "cell_type": "markdown",
   "metadata": {},
   "source": [
    "Dates"
   ]
  },
  {
   "cell_type": "code",
   "execution_count": 5,
   "metadata": {},
   "outputs": [],
   "source": [
    "def extract_dates(text):\n",
    "    # Regex patterns for different date formats\n",
    "    date_patterns = [\n",
    "        # DD-MM-YYYY or DD.MM.YYYY or DD/MM/YYYY\n",
    "        r'\\b(\\d{1,2})[-./](\\d{1,2})[-./](20\\d{2}|\\d{2})\\b',\n",
    "        \n",
    "        # Written format\n",
    "        r'\\b(\\d{1,2}(?:st|nd|rd|th)?\\s+(?:Jan|Feb|Mar|Apr|May|Jun|Jul|Aug|Sep|Oct|Nov|Dec)[a-z]*\\'?\\s*(?:20\\d{2}|\\d{2}))\\b',\n",
    "        \n",
    "        # YYYY-MM-DD format\n",
    "        r'\\b(20\\d{2})[-./](\\d{1,2})[-./](\\d{1,2})\\b'\n",
    "    ]\n",
    "    \n",
    "    dates = []\n",
    "    \n",
    "    for pattern in date_patterns:\n",
    "        matches = re.finditer(pattern, text)\n",
    "        for match in matches:\n",
    "            date_str = match.group(0)\n",
    "            position = match.start()\n",
    "            \n",
    "            try:\n",
    "                # Try parsing the date string\n",
    "                if re.match(r'\\d{1,2}[-./]\\d{1,2}[-./]', date_str):  # DD-MM-YYYY format\n",
    "                    day, month, year = re.split(r'[-./]', date_str)\n",
    "                    if len(year) == 2:\n",
    "                        year = '20' + year\n",
    "                \n",
    "                elif re.match(r'20\\d{2}[-./]\\d{1,2}', date_str):  # YYYY-MM-DD format\n",
    "                    year, month, day = re.split(r'[-./]', date_str)\n",
    "                \n",
    "                else:  # Written month format\n",
    "                    # Extract components from written format\n",
    "                    parts = date_str.lower().replace(\"'\", \" \").split()\n",
    "                    # Handle day with suffix\n",
    "                    day = re.sub(r'(?:st|nd|rd|th)', '', parts[0])\n",
    "                    # Convert month name to number\n",
    "                    month_map = {'jan': 1, 'feb': 2, 'mar': 3, 'apr': 4, 'may': 5, 'jun': 6,\n",
    "                               'jul': 7, 'aug': 8, 'sep': 9, 'oct': 10, 'nov': 11, 'dec': 12}\n",
    "                    month = month_map[parts[1][:3].lower()]\n",
    "                    # Handle year\n",
    "                    year = parts[-1]\n",
    "                    if len(year) == 2:\n",
    "                        year = '20' + year\n",
    "                \n",
    "                # Create datetime object\n",
    "                date_obj = datetime(int(year), int(month), int(day))\n",
    "                dates.append((date_obj, date_str, position))\n",
    "                \n",
    "            except (ValueError, IndexError, KeyError):\n",
    "                # Skip if date can't be parsed\n",
    "                continue\n",
    "    \n",
    "    # Sort by position in text\n",
    "    dates.sort(key=lambda x: x[2])\n",
    "    return dates"
   ]
  },
  {
   "cell_type": "code",
   "execution_count": 6,
   "metadata": {},
   "outputs": [
    {
     "name": "stdout",
     "output_type": "stream",
     "text": [
      "Extracted dates:\n",
      "- 2023-01-15 (original: 15-01-2023, position: 21)\n",
      "- 2023-01-20 (original: 20.01.23, position: 231)\n",
      "- 2023-02-02 (original: 02/02/2023, position: 505)\n",
      "- 2023-02-03 (original: 3rd Feb'23, position: 673)\n",
      "- 2023-02-17 (original: 17/2/23, position: 870)\n",
      "- 2023-03-15 (original: 2023-03-15, position: 939)\n",
      "- 2023-05-15 (original: 15-5-2023, position: 1157)\n",
      "- 2023-05-16 (original: 16/5/23, position: 1289)\n"
     ]
    },
    {
     "data": {
      "text/plain": [
       "[(datetime.datetime(2023, 1, 15, 0, 0), '15-01-2023', 21),\n",
       " (datetime.datetime(2023, 1, 20, 0, 0), '20.01.23', 231),\n",
       " (datetime.datetime(2023, 2, 2, 0, 0), '02/02/2023', 505),\n",
       " (datetime.datetime(2023, 2, 3, 0, 0), \"3rd Feb'23\", 673),\n",
       " (datetime.datetime(2023, 2, 17, 0, 0), '17/2/23', 870),\n",
       " (datetime.datetime(2023, 3, 15, 0, 0), '2023-03-15', 939),\n",
       " (datetime.datetime(2023, 5, 15, 0, 0), '15-5-2023', 1157),\n",
       " (datetime.datetime(2023, 5, 16, 0, 0), '16/5/23', 1289)]"
      ]
     },
     "execution_count": 6,
     "metadata": {},
     "output_type": "execute_result"
    }
   ],
   "source": [
    "# Extract dates\n",
    "dates = extract_dates(clinical_note)\n",
    "print(\"Extracted dates:\")\n",
    "for date_obj, date_str, position in dates:\n",
    "    print(f\"- {date_obj.strftime('%Y-%m-%d')} (original: {date_str}, position: {position})\")\n",
    "\n",
    "dates #list of (date_obj, date_str, position) tuples"
   ]
  },
  {
   "cell_type": "code",
   "execution_count": 7,
   "metadata": {},
   "outputs": [
    {
     "name": "stdout",
     "output_type": "stream",
     "text": [
      "Text: 2/52 -> Parsed Date: 2052-02-11 00:00:00\n",
      "Text: 2/7 -> Parsed Date: 2025-02-07 00:00:00\n",
      "Text: 16/5 -> Parsed Date: 2025-05-16 00:00:00\n"
     ]
    }
   ],
   "source": [
    "# Load spaCy model\n",
    "nlp = spacy.blank('en')\n",
    "\n",
    "# Add the find dates component to the pipeline\n",
    "nlp.add_pipe('find_dates')\n",
    "\n",
    "doc = nlp(clinical_note)\n",
    "\n",
    "for ent in doc.ents:\n",
    "    if ent.label_ == \"DATE\":\n",
    "        print(f\"Text: {ent.text} -> Parsed Date: {ent._.date}\")"
   ]
  },
  {
   "cell_type": "markdown",
   "metadata": {},
   "source": [
    "Patient Timeline (Proximity Approach)"
   ]
  },
  {
   "cell_type": "code",
   "execution_count": 8,
   "metadata": {},
   "outputs": [],
   "source": [
    "def relate_diagnosis_to_date(diagnoses, dates, max_char_distance=200):\n",
    "    relationships = []\n",
    "    \n",
    "    for diagnosis, diag_pos in diagnoses:\n",
    "        # Find the closest date to this diagnosis\n",
    "        closest_date = None\n",
    "        min_distance = float('inf')\n",
    "        \n",
    "        for date_obj, date_str, date_pos in dates:\n",
    "            # Calculate distance between diagnosis and date in the text\n",
    "            distance = abs(diag_pos - date_pos)\n",
    "            \n",
    "            # Update if this date is closer than previous closest\n",
    "            if distance < min_distance and distance <= max_char_distance:\n",
    "                min_distance = distance\n",
    "                closest_date = date_obj\n",
    "        \n",
    "        if closest_date:\n",
    "            relationships.append((closest_date, diagnosis))\n",
    "    \n",
    "    # Sort by date\n",
    "    relationships.sort(key=lambda x: x[0])\n",
    "    return relationships"
   ]
  },
  {
   "cell_type": "code",
   "execution_count": 9,
   "metadata": {},
   "outputs": [
    {
     "name": "stdout",
     "output_type": "stream",
     "text": [
      "Patient Timeline:\n",
      "2023-01-20: migraine\n",
      "2023-01-20: headache\n",
      "2023-02-03: prolactinoma\n",
      "2023-05-15: tumor\n"
     ]
    },
    {
     "data": {
      "text/plain": [
       "[(datetime.datetime(2023, 1, 20, 0, 0), 'migraine'),\n",
       " (datetime.datetime(2023, 1, 20, 0, 0), 'headache'),\n",
       " (datetime.datetime(2023, 2, 3, 0, 0), 'prolactinoma'),\n",
       " (datetime.datetime(2023, 5, 15, 0, 0), 'tumor')]"
      ]
     },
     "execution_count": 9,
     "metadata": {},
     "output_type": "execute_result"
    }
   ],
   "source": [
    "# Relate diagnoses to dates\n",
    "timeline_entries = relate_diagnosis_to_date(diagnoses, dates)\n",
    "\n",
    "print(\"Patient Timeline:\")\n",
    "for date, diagnosis in timeline_entries:\n",
    "    print(f\"{date.strftime('%Y-%m-%d')}: {diagnosis}\")\n",
    "\n",
    "timeline_entries #List of (date, diagnosis) tuples"
   ]
  },
  {
   "cell_type": "code",
   "execution_count": 10,
   "metadata": {},
   "outputs": [
    {
     "name": "stdout",
     "output_type": "stream",
     "text": [
      "\n",
      "InitialPresentation 15-01-2023[date]  \n",
      "pt presents w severe HA x2/52,getting worse.no relief w/regular painkillers\n",
      "imp: chronic migraine[diagnosis]vs tension headache[diagnosis]??? \n",
      "plan- start sumatriptan,f/u 2/52\n",
      "\n",
      "URGENT REVIEW(20.01.23[date]):pt called- new onset visual symps.  \n",
      "rapid worsening,Now with diplopia.urgent referral to ophth\n",
      "-> ?pituitary mass vs IIH[diagnosis]\n",
      "\n",
      "ophth notes(Jan 25th 2023[date])  \n",
      "bilat papilloedema[diagnosis]+++\n",
      "vf loss temp sides\n",
      "urgent mri requested..   \n",
      "\n",
      "radiology(02/02/2023 @1445[date])\n",
      "findings:large sellar/suprasellar mass 2.8x3.1x2.9cm\n",
      "imp:macroadenoma[diagnosis],severe mass effect\n",
      "needs urgent endo r/v\n",
      "\n",
      "endocrine assessment 3rd Feb'23[date]\n",
      "hormonal panel results:\n",
      "prolactin>2000\n",
      "cortisol-low\n",
      "imp:giant prolactinoma[diagnosis] w/partial hypopituitarism[diagnosis]\n",
      "started cab 0.25mg 2x/wk\n",
      "stress dose steroids given\n",
      "\n",
      "f/u 17/2/23[date]-phone\n",
      "HA better.no more diplopia\n",
      "cont cab\n",
      "\n",
      "clinic rv - 2023-03-15[date]\n",
      "doing well.pro level down to 1500\n",
      "vision improving\n",
      "cont current rx\n",
      "\n",
      "ENDO CLINIC(12 apr 23[date])\n",
      "much improved\n",
      "pro now 800\n",
      "repeat MRI shows good response-tumor[diagnosis]shrinking\n",
      "cont same dose\n",
      "\n",
      "NOTE:15-5-2023[date]- pt called\n",
      "mild n/v last 2/7\n",
      "?adrenal insufficiency[diagnosis]\n",
      "urgentbloods+short synacthen-booked 16/5\n",
      "\n",
      "quick note 16/5/23[date]:synacthen confirms adrenal insufficiency[diagnosis]\n",
      "starting hydrocort 10/5/5\n",
      "\n"
     ]
    }
   ],
   "source": [
    "print(clinical_note)"
   ]
  },
  {
   "cell_type": "markdown",
   "metadata": {},
   "source": [
    "Visualize"
   ]
  },
  {
   "cell_type": "code",
   "execution_count": 11,
   "metadata": {},
   "outputs": [
    {
     "data": {
      "image/png": "[encoded data removed]",
      "text/plain": [
       "<Figure size 1200x600 with 1 Axes>"
      ]
     },
     "metadata": {},
     "output_type": "display_data"
    }
   ],
   "source": [
    "def visualize_timeline(timeline_entries):\n",
    "    if not timeline_entries:\n",
    "        print(\"No timeline entries to visualize\")\n",
    "        return\n",
    "    \n",
    "    # Prepare data for visualization\n",
    "    dates = [entry[0] for entry in timeline_entries]\n",
    "    diagnoses = [entry[1] for entry in timeline_entries]\n",
    "    \n",
    "    # Convert to pandas series for easier plotting\n",
    "    timeline_df = pd.DataFrame({\n",
    "        'date': dates,\n",
    "        'diagnosis': diagnoses\n",
    "    })\n",
    "    \n",
    "    # Plot the timeline\n",
    "    fig, ax = plt.subplots(figsize=(12, 6))\n",
    "    \n",
    "    # Plot points for each diagnosis\n",
    "    ax.scatter(timeline_df['date'], np.zeros_like(timeline_df['date']), s=100, color='blue')\n",
    "    \n",
    "    # Add diagnosis labels\n",
    "    for i, (date, diagnosis) in enumerate(zip(timeline_df['date'], timeline_df['diagnosis'])):\n",
    "        ax.annotate(diagnosis, \n",
    "                  xy=(date, 0),\n",
    "                  xytext=(0, (-1)**i * 20),  # Alternate above/below to avoid overlap\n",
    "                  textcoords='offset points',\n",
    "                  ha='center',\n",
    "                  va='center',\n",
    "                  bbox=dict(boxstyle='round,pad=0.5', fc='yellow', alpha=0.5))\n",
    "    \n",
    "    # Format the plot\n",
    "    ax.set_yticks([])\n",
    "    ax.spines['left'].set_visible(False)\n",
    "    ax.spines['right'].set_visible(False)\n",
    "    ax.spines['top'].set_visible(False)\n",
    "    \n",
    "    plt.title('Patient Diagnosis Timeline')\n",
    "    plt.tight_layout()\n",
    "    plt.savefig('patient_diagnosis_timeline.png')\n",
    "    plt.show()\n",
    "\n",
    "# Visualize the timeline\n",
    "visualize_timeline(timeline_entries)"
   ]
  }
 ],
 "metadata": {
  "kernelspec": {
   "display_name": "venv",
   "language": "python",
   "name": "python3"
  },
  "language_info": {
   "codemirror_mode": {
    "name": "ipython",
    "version": 3
   },
   "file_extension": ".py",
   "mimetype": "text/x-python",
   "name": "python",
   "nbconvert_exporter": "python",
   "pygments_lexer": "ipython3",
   "version": "3.9.8"
  }
 },
 "nbformat": 4,
 "nbformat_minor": 2
}
