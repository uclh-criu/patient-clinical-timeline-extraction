{
 "cells": [
  {
   "cell_type": "markdown",
   "id": "dfb4652a",
   "metadata": {},
   "source": [
    "Imports"
   ]
  },
  {
   "cell_type": "code",
   "execution_count": 1,
   "id": "02c805a7",
   "metadata": {},
   "outputs": [],
   "source": [
    "#imports\n",
    "from tqdm import tqdm\n",
    "from transformers import pipeline\n",
    "\n",
    "import sys\n",
    "import os\n",
    "\n",
    "scripts_path = os.path.abspath(os.path.join(os.getcwd(), '..', 'scripts'))\n",
    "if scripts_path not in sys.path:\n",
    "    sys.path.insert(0, scripts_path)\n",
    "\n",
    "from llm_extractor import load_prompt_template, make_binary_prompt, llm_extraction, parse_llm_answer\n",
    "from utils import load_data, prepare_all_samples, get_entity_date_pairs, calculate_metrics"
   ]
  },
  {
   "cell_type": "markdown",
   "id": "e368136f",
   "metadata": {},
   "source": [
    "Data Loading"
   ]
  },
  {
   "cell_type": "code",
   "execution_count": 2,
   "id": "8b69680b",
   "metadata": {},
   "outputs": [
    {
     "name": "stdout",
     "output_type": "stream",
     "text": [
      "Loaded 101 records\n"
     ]
    }
   ],
   "source": [
    "# Load data\n",
    "df = load_data(\"../data/synthetic.csv\")\n",
    "print(f\"Loaded {len(df)} records\")\n",
    "#df"
   ]
  },
  {
   "cell_type": "code",
   "execution_count": 3,
   "id": "e0fc9f0c",
   "metadata": {},
   "outputs": [
    {
     "name": "stdout",
     "output_type": "stream",
     "text": [
      "Prepared 101 samples\n"
     ]
    }
   ],
   "source": [
    "# Prepare all samples\n",
    "samples = prepare_all_samples(df)\n",
    "print(f\"Prepared {len(samples)} samples\")\n",
    "#samples[0]"
   ]
  },
  {
   "cell_type": "markdown",
   "id": "fc438d4a",
   "metadata": {},
   "source": [
    "LLM"
   ]
  },
  {
   "cell_type": "code",
   "execution_count": 4,
   "id": "81853642",
   "metadata": {},
   "outputs": [
    {
     "name": "stderr",
     "output_type": "stream",
     "text": [
      "Device set to use cpu\n"
     ]
    }
   ],
   "source": [
    "# Define generator\n",
    "#generator = pipeline(\"text-generation\", model=\"../Llama-3.2-3B-Instruct\", device=-1)\n",
    "generator = pipeline(\"text2text-generation\", model=\"google/flan-t5-small\", device=-1)"
   ]
  },
  {
   "cell_type": "code",
   "execution_count": 5,
   "id": "735f60be",
   "metadata": {},
   "outputs": [
    {
     "name": "stdout",
     "output_type": "stream",
     "text": [
      "No\n"
     ]
    }
   ],
   "source": [
    "# Test simple prompt using generator\n",
    "prompt = \"Does the following text indicate a relationship between 'asthma' and '2024-08-02'? Answer YES or NO. Text: Patient diagnosed with asthma on 2024-08-02.\"\n",
    "result = generator(prompt)\n",
    "print(result[0]['generated_text'])"
   ]
  },
  {
   "cell_type": "code",
   "execution_count": 6,
   "id": "e4af851f",
   "metadata": {},
   "outputs": [
    {
     "data": {
      "text/plain": [
       "'No'"
      ]
     },
     "execution_count": 6,
     "metadata": {},
     "output_type": "execute_result"
    }
   ],
   "source": [
    "# Test simple prompt using llm_extraction() function\n",
    "prompt = \"Does the following text indicate a relationship between 'asthma' and '2024-08-02'? Answer YES or NO. Text: Patient diagnosed with asthma on 2024-08-02.\"\n",
    "response = llm_extraction(prompt, generator)\n",
    "response"
   ]
  },
  {
   "cell_type": "code",
   "execution_count": 7,
   "id": "462d4d54",
   "metadata": {},
   "outputs": [],
   "source": [
    "#Prompt to use\n",
    "prompt_to_use = 'prompt.txt'"
   ]
  },
  {
   "cell_type": "code",
   "execution_count": 12,
   "id": "7906c3e6",
   "metadata": {},
   "outputs": [
    {
     "name": "stderr",
     "output_type": "stream",
     "text": [
      "Samples:   0%|          | 0/2 [00:00<?, ?it/s]"
     ]
    },
    {
     "name": "stdout",
     "output_type": "stream",
     "text": [
      "You are a clinical assistant. You are assisting in a task to construct patient timelines from free-text clinical notes.\n",
      "\n",
      "To do this you are trying to understand which clinical entities in the note are related to which dates in a positive sense. For example the entity may have been diagnosed, treated, prescribed or mentioned as occurring on that date.\n",
      "\n",
      "Here are some examples with the correct answers and some reasoning for the answers.\n",
      "\n",
      "Examples:\n",
      "Entity: asthma\n",
      "Date: 2024-08-02\n",
      "Note: Patient diagnosed with asthma on 2024-08-02.\n",
      "Answer: Yes\n",
      "Reasoning: asthma is linked to the date 2024-08-02 since the sentence clearly states the asthma diagnosis was made on that date.\n",
      "\n",
      "Entity: diabetes\n",
      "Date: 2024-08-02\n",
      "Note: Diabetes was ruled out on 2024-08-02.\n",
      "Answer: No\n",
      "Reasoning: diabetes and the date are not linked because the diabetes is negated (ruled out).\n",
      "\n",
      "Entity: hypertension\n",
      "Date: 2024-08-02\n",
      "Note: Family history of hypertension, last reviewed in 2022.\n",
      "Answer: No\n",
      "Reasoning: the last review if 2022 identified a family history of hypertension but not a diagnosis.\n",
      "\n",
      "Entity: pneumonia\n",
      "Date: 2024-08-02\n",
      "Note: Patient may have pneumonia, last seen on 2024-08-02.\n",
      "Answer: Unsure\n",
      "Reasoning: it is not clear if the patient has pneumonia or not, so unsure is best here.\n",
      "\n",
      "For the following clinical note, determine if the entity and date are directly and positively linked. \n",
      "\n",
      "Respond with exactly one word: Yes, No, or Unsure.\n",
      "\n",
      "Entity: asthma\n",
      "Date: (23rd Oct 2024)\n",
      "Note: Ultrasound (30nd Jun 2024): no significant findings.imp: asthma\n",
      "\n",
      "She denies any nausea, vomiting, or diarrhea.\n",
      "C Patient reports compliance with current medication regimen. Basic metabolic panel within normal limits with sodium 140, potassium 4.2, creatinine 0.9.\n",
      "Patient is afebrile with normal vita\n",
      "Answer:\n"
     ]
    },
    {
     "name": "stderr",
     "output_type": "stream",
     "text": [
      "Samples:  50%|█████     | 1/2 [00:00<00:00,  1.07it/s]"
     ]
    },
    {
     "name": "stdout",
     "output_type": "stream",
     "text": [
      "You are a clinical assistant. You are assisting in a task to construct patient timelines from free-text clinical notes.\n",
      "\n",
      "To do this you are trying to understand which clinical entities in the note are related to which dates in a positive sense. For example the entity may have been diagnosed, treated, prescribed or mentioned as occurring on that date.\n",
      "\n",
      "Here are some examples with the correct answers and some reasoning for the answers.\n",
      "\n",
      "Examples:\n",
      "Entity: asthma\n",
      "Date: 2024-08-02\n",
      "Note: Patient diagnosed with asthma on 2024-08-02.\n",
      "Answer: Yes\n",
      "Reasoning: asthma is linked to the date 2024-08-02 since the sentence clearly states the asthma diagnosis was made on that date.\n",
      "\n",
      "Entity: diabetes\n",
      "Date: 2024-08-02\n",
      "Note: Diabetes was ruled out on 2024-08-02.\n",
      "Answer: No\n",
      "Reasoning: diabetes and the date are not linked because the diabetes is negated (ruled out).\n",
      "\n",
      "Entity: hypertension\n",
      "Date: 2024-08-02\n",
      "Note: Family history of hypertension, last reviewed in 2022.\n",
      "Answer: No\n",
      "Reasoning: the last review if 2022 identified a family history of hypertension but not a diagnosis.\n",
      "\n",
      "Entity: pneumonia\n",
      "Date: 2024-08-02\n",
      "Note: Patient may have pneumonia, last seen on 2024-08-02.\n",
      "Answer: Unsure\n",
      "Reasoning: it is not clear if the patient has pneumonia or not, so unsure is best here.\n",
      "\n",
      "For the following clinical note, determine if the entity and date are directly and positively linked. \n",
      "\n",
      "Respond with exactly one word: Yes, No, or Unsure.\n",
      "\n",
      "Entity: multiple_sclerosis\n",
      "Date: (29th Jan 2025)\n",
      "Note: Labs (27th Sep 2024): anemia. resolving  Skin: No rashes, lesions, or abnormal pigmentation. Good turgor and hydration. Lymphatic: No cervical, axillary, or inguinal lymphadenopathy. Respiratory: Clear to auscultation bilaterally. No wheezes, rales, or rhonchi. Assessment includes congenital malform\n",
      "Answer:\n"
     ]
    },
    {
     "name": "stderr",
     "output_type": "stream",
     "text": [
      "Samples: 100%|██████████| 2/2 [00:01<00:00,  1.03it/s]\n"
     ]
    }
   ],
   "source": [
    "#Process all date-entity pairs, make prompt, do llm extraction and make prediction\n",
    "predictions = []\n",
    "\n",
    "for sample in tqdm(samples[:2], desc=\"Samples\"):\n",
    "    pairs = get_entity_date_pairs(sample['entities_list'], sample['dates'])\n",
    "    #for pair in pairs[:1]:\n",
    "    for pair in pairs[1:2]:\n",
    "        #print(pair)\n",
    "        prompt = make_binary_prompt(pair['entity'], pair['date_info'], sample['note_text'], prompt_to_use)\n",
    "        print(prompt)\n",
    "        response = llm_extraction(prompt, generator)\n",
    "        #print(response)\n",
    "        pred, conf = parse_llm_answer(response)\n",
    "        #print(pred, conf)\n",
    "        if pred == 1:\n",
    "            predictions.append({\n",
    "                'entity_label': pair['entity_label'],\n",
    "                'date': pair['date'],\n",
    "                'confidence': conf\n",
    "            })"
   ]
  },
  {
   "cell_type": "code",
   "execution_count": 9,
   "id": "51463dd3",
   "metadata": {},
   "outputs": [
    {
     "data": {
      "text/plain": [
       "[]"
      ]
     },
     "execution_count": 9,
     "metadata": {},
     "output_type": "execute_result"
    }
   ],
   "source": [
    "#Look at prediction\n",
    "predictions"
   ]
  },
  {
   "cell_type": "code",
   "execution_count": 10,
   "id": "36dbefd8",
   "metadata": {},
   "outputs": [
    {
     "data": {
      "text/plain": [
       "{'precision': 0, 'recall': 0.0, 'f1': 0, 'tp': 0, 'fp': 0, 'fn': 214}"
      ]
     },
     "execution_count": 10,
     "metadata": {},
     "output_type": "execute_result"
    }
   ],
   "source": [
    "#Calculcate metrics\n",
    "metrics = calculate_metrics(predictions, df)\n",
    "metrics"
   ]
  }
 ],
 "metadata": {
  "kernelspec": {
   "display_name": "venv",
   "language": "python",
   "name": "python3"
  },
  "language_info": {
   "codemirror_mode": {
    "name": "ipython",
    "version": 3
   },
   "file_extension": ".py",
   "mimetype": "text/x-python",
   "name": "python",
   "nbconvert_exporter": "python",
   "pygments_lexer": "ipython3",
   "version": "3.9.8"
  }
 },
 "nbformat": 4,
 "nbformat_minor": 5
}
