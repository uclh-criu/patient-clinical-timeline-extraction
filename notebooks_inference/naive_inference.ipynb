{
 "cells": [
  {
   "cell_type": "markdown",
   "id": "dfb4652a",
   "metadata": {},
   "source": [
    "Imports"
   ]
  },
  {
   "cell_type": "code",
   "execution_count": null,
   "id": "02c805a7",
   "metadata": {},
   "outputs": [],
   "source": [
    "#imports\n",
    "import sys\n",
    "import os\n",
    "import json\n",
    "import pandas as pd\n",
    "\n",
    "utils_path = os.path.abspath(os.path.join(os.getcwd(), '..', 'utils'))\n",
    "if utils_path not in sys.path:\n",
    "    sys.path.insert(0, utils_path)\n",
    "\n",
    "from general_utils import load_data, prepare_all_samples\n",
    "from naive_extractor_utils import naive_extraction"
   ]
  },
  {
   "cell_type": "markdown",
   "id": "e368136f",
   "metadata": {},
   "source": [
    "Data Loading"
   ]
  },
  {
   "cell_type": "code",
   "execution_count": null,
   "id": "8b69680b",
   "metadata": {},
   "outputs": [],
   "source": [
    "# Load data\n",
    "df = load_data(\"../data/inference_dataset.csv\")\n",
    "print(f\"Loaded {len(df)} records\")"
   ]
  },
  {
   "cell_type": "code",
   "execution_count": null,
   "id": "9dd3bc78",
   "metadata": {},
   "outputs": [],
   "source": [
    "#Inspect df\n",
    "df.head()"
   ]
  },
  {
   "cell_type": "code",
   "execution_count": null,
   "id": "e0fc9f0c",
   "metadata": {},
   "outputs": [],
   "source": [
    "# Prepare all samples\n",
    "samples = prepare_all_samples(df)\n",
    "print(f\"Prepared {len(samples)} samples\")\n",
    "#samples[2]"
   ]
  },
  {
   "cell_type": "markdown",
   "id": "1fcbfec6",
   "metadata": {},
   "source": [
    "Naive Inference"
   ]
  },
  {
   "cell_type": "code",
   "execution_count": null,
   "id": "e7090e09",
   "metadata": {},
   "outputs": [],
   "source": [
    "#Define max distance (number of characters)\n",
    "MAX_DISTANCE = 400"
   ]
  },
  {
   "cell_type": "code",
   "execution_count": null,
   "id": "ff99b113",
   "metadata": {},
   "outputs": [],
   "source": [
    "#Make predictions\n",
    "predictions = []\n",
    "\n",
    "for sample in samples:\n",
    "    # Combine absolute and relative dates\n",
    "    all_dates = sample['dates'] + sample['relative_dates']\n",
    "    \n",
    "    # Create lookup maps\n",
    "    entity_map = {entity['value']: (entity['cui'], entity.get('preferred_name', entity['value'])) for entity in sample['entities_list']}\n",
    "    date_map = {date['value']: (date['id'], 'absolute') for date in sample['dates']}\n",
    "    date_map.update({date['value']: (date['id'], 'relative') for date in sample['relative_dates']})\n",
    "    \n",
    "    # Run naive extraction on all dates\n",
    "    relationships = naive_extraction(sample['entities_list'], all_dates, max_distance=MAX_DISTANCE)\n",
    "    \n",
    "    # Add metadata to each relationship\n",
    "    for rel in relationships:\n",
    "        date_id, date_type = date_map[rel['date']]\n",
    "        entity_cui, preferred_name = entity_map[rel['entity_label']]\n",
    "        \n",
    "        predictions.append({\n",
    "            'doc_id': sample['doc_id'],\n",
    "            'date_id': date_id,\n",
    "            'date': rel['date'],\n",
    "            'date_type': date_type,\n",
    "            'entity_cui': entity_cui,\n",
    "            'entity_label': rel['entity_label'],\n",
    "            'entity_preferred_name': preferred_name\n",
    "        })\n",
    "\n",
    "print(f\"Total predictions: {len(predictions)}\")"
   ]
  },
  {
   "cell_type": "code",
   "execution_count": null,
   "id": "d13cd164",
   "metadata": {},
   "outputs": [],
   "source": [
    "# Look at predictions\n",
    "#predictions"
   ]
  },
  {
   "cell_type": "code",
   "execution_count": null,
   "id": "26ea85f0",
   "metadata": {},
   "outputs": [],
   "source": [
    "# Save predictions\n",
    "with open('../outputs/naive_predictions.json', 'w') as f:\n",
    "    json.dump(predictions, f, indent=2)\n",
    "\n",
    "print(\"Saved predictions to outputs/naive_predictions.json\")"
   ]
  }
 ],
 "metadata": {
  "kernelspec": {
   "display_name": "venv",
   "language": "python",
   "name": "python3"
  },
  "language_info": {
   "codemirror_mode": {
    "name": "ipython",
    "version": 3
   },
   "file_extension": ".py",
   "mimetype": "text/x-python",
   "name": "python",
   "nbconvert_exporter": "python",
   "pygments_lexer": "ipython3",
   "version": "3.9.8"
  }
 },
 "nbformat": 4,
 "nbformat_minor": 5
}
