{
 "cells": [
  {
   "cell_type": "markdown",
   "id": "60556868",
   "metadata": {},
   "source": [
    "Imports"
   ]
  },
  {
   "cell_type": "code",
   "execution_count": null,
   "id": "a05675e3",
   "metadata": {},
   "outputs": [],
   "source": [
    "#Imports\n",
    "import pandas as pd\n",
    "import sys\n",
    "import os\n",
    "import json\n",
    "\n",
    "# Add utils path to be able to import custom functions\n",
    "utils_path = os.path.abspath(os.path.join(os.getcwd(), '..', 'utils'))\n",
    "if utils_path not in sys.path:\n",
    "    sys.path.insert(0, utils_path)\n",
    "\n",
    "from post_processing_utils import standardize_date, create_interactive_patient_timeline, plot_all_interactive_patient_timelines, get_patient_timeline_summary"
   ]
  },
  {
   "cell_type": "markdown",
   "id": "701a3e99",
   "metadata": {},
   "source": [
    "Data Loading"
   ]
  },
  {
   "cell_type": "code",
   "execution_count": null,
   "id": "6765c4de",
   "metadata": {},
   "outputs": [],
   "source": [
    "# Load original data\n",
    "df = pd.read_csv(\"../data/data.csv\")\n",
    "print(f\"Loaded {len(df)} records\")"
   ]
  },
  {
   "cell_type": "code",
   "execution_count": null,
   "id": "ca38671b",
   "metadata": {},
   "outputs": [],
   "source": [
    "#Load predictions\n",
    "predictions = pd.read_json(\"../outputs/llm_predictions.json\")\n",
    "print(f\"Loaded {len(predictions)} predictions\")"
   ]
  },
  {
   "cell_type": "code",
   "execution_count": null,
   "id": "d297892f",
   "metadata": {},
   "outputs": [],
   "source": [
    "# Merge predictions with original data\n",
    "timeline_df = pd.merge(\n",
    "    predictions, \n",
    "    df[['patient_id', 'doc_id', 'document_timestamp']], \n",
    "    on='doc_id',\n",
    "    how='left'\n",
    ")"
   ]
  },
  {
   "cell_type": "code",
   "execution_count": null,
   "id": "9f4c2d83",
   "metadata": {},
   "outputs": [],
   "source": [
    "#Inspect df\n",
    "timeline_df.head()"
   ]
  },
  {
   "cell_type": "markdown",
   "id": "e7863231",
   "metadata": {},
   "source": [
    "Data Preparation"
   ]
  },
  {
   "cell_type": "code",
   "execution_count": null,
   "id": "e5f41528",
   "metadata": {},
   "outputs": [],
   "source": [
    "# Apply the date standardization function\n",
    "timeline_df['standardized_date'] = timeline_df.apply(standardize_date, axis=1)"
   ]
  },
  {
   "cell_type": "code",
   "execution_count": null,
   "id": "07870c5a",
   "metadata": {},
   "outputs": [],
   "source": [
    "#Re-order columns\n",
    "new_order = ['patient_id', 'doc_id', 'document_timestamp', 'date_id', 'date', 'date_type', 'standardized_date', 'entity_id', 'entity_label', 'entity_preferred_name']\n",
    "timeline_df = timeline_df[new_order]"
   ]
  },
  {
   "cell_type": "code",
   "execution_count": null,
   "id": "ce1618f3",
   "metadata": {},
   "outputs": [],
   "source": [
    "# Drop rows where patient_id is missing or date could not be standardized\n",
    "timeline_df.dropna(subset=['patient_id', 'standardized_date'], inplace=True)"
   ]
  },
  {
   "cell_type": "code",
   "execution_count": null,
   "id": "8b4f1db1",
   "metadata": {},
   "outputs": [],
   "source": [
    "# Convert patient_id to integer for cleaner grouping\n",
    "timeline_df['patient_id'] = timeline_df['patient_id'].astype(int)"
   ]
  },
  {
   "cell_type": "code",
   "execution_count": null,
   "id": "9674d2bd",
   "metadata": {},
   "outputs": [],
   "source": [
    "print(f\"Processed {len(timeline_df)} events.\")\n",
    "timeline_df.head()"
   ]
  },
  {
   "cell_type": "markdown",
   "id": "d21a23ac",
   "metadata": {},
   "source": [
    "Generate Patient Timelines (Single Patient)"
   ]
  },
  {
   "cell_type": "code",
   "execution_count": null,
   "id": "66ba48e6",
   "metadata": {},
   "outputs": [],
   "source": [
    "#Set patient id\n",
    "patient_id = 1"
   ]
  },
  {
   "cell_type": "code",
   "execution_count": null,
   "id": "35ce7dfa",
   "metadata": {},
   "outputs": [],
   "source": [
    "# For a specific patient:\n",
    "fig = create_interactive_patient_timeline(timeline_df, patient_id=patient_id)\n",
    "fig.show()"
   ]
  },
  {
   "cell_type": "code",
   "execution_count": null,
   "id": "81aa6218",
   "metadata": {},
   "outputs": [],
   "source": [
    "#Save as HTML\n",
    "fig.write_html(f'../outputs/patient_{patient_id}_timeline.html', include_plotlyjs=True)"
   ]
  },
  {
   "cell_type": "code",
   "execution_count": null,
   "id": "0e8e9908",
   "metadata": {},
   "outputs": [],
   "source": [
    "# Get a summary for a specific patient\n",
    "summary = get_patient_timeline_summary(timeline_df, patient_id=patient_id)\n",
    "print(json.dumps(summary, indent=2))"
   ]
  },
  {
   "cell_type": "code",
   "execution_count": null,
   "id": "54b5b470",
   "metadata": {},
   "outputs": [],
   "source": [
    "# Save timeline to a file\n",
    "with open(f'../outputs/patient_{patient_id}_timeline.json', 'w') as f:\n",
    "    json.dump(summary, f, indent=2)"
   ]
  },
  {
   "cell_type": "markdown",
   "id": "44b2245a",
   "metadata": {},
   "source": [
    "Generate Patient Timelines (All Patients)"
   ]
  },
  {
   "cell_type": "code",
   "execution_count": null,
   "id": "a49ce997",
   "metadata": {},
   "outputs": [],
   "source": [
    "# For all patients:\n",
    "figs = plot_all_interactive_patient_timelines(timeline_df)\n",
    "for fig in figs:\n",
    "    fig.show()"
   ]
  }
 ],
 "metadata": {
  "kernelspec": {
   "display_name": "venv",
   "language": "python",
   "name": "python3"
  },
  "language_info": {
   "codemirror_mode": {
    "name": "ipython",
    "version": 3
   },
   "file_extension": ".py",
   "mimetype": "text/x-python",
   "name": "python",
   "nbconvert_exporter": "python",
   "pygments_lexer": "ipython3",
   "version": "3.9.8"
  }
 },
 "nbformat": 4,
 "nbformat_minor": 5
}
