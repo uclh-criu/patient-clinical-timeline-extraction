{
 "cells": [
  {
   "cell_type": "markdown",
   "id": "60556868",
   "metadata": {},
   "source": [
    "Imports"
   ]
  },
  {
   "cell_type": "code",
   "execution_count": 1,
   "id": "a05675e3",
   "metadata": {},
   "outputs": [],
   "source": [
    "#Imports\n",
    "import pandas as pd\n",
    "import sys\n",
    "import os\n",
    "import json\n",
    "\n",
    "# Add utils path to be able to import custom functions\n",
    "utils_path = os.path.abspath(os.path.join(os.getcwd(), '..', 'utils'))\n",
    "if utils_path not in sys.path:\n",
    "    sys.path.insert(0, utils_path)\n",
    "\n",
    "from post_processing_utils import standardize_date, create_interactive_patient_timeline, plot_all_interactive_patient_timelines, get_patient_timeline_summary"
   ]
  },
  {
   "cell_type": "markdown",
   "id": "701a3e99",
   "metadata": {},
   "source": [
    "Data Loading"
   ]
  },
  {
   "cell_type": "code",
   "execution_count": 2,
   "id": "6765c4de",
   "metadata": {},
   "outputs": [
    {
     "name": "stdout",
     "output_type": "stream",
     "text": [
      "Loaded 101 records\n"
     ]
    }
   ],
   "source": [
    "# Load original data\n",
    "df = pd.read_csv(\"../data/data.csv\")\n",
    "print(f\"Loaded {len(df)} records\")"
   ]
  },
  {
   "cell_type": "code",
   "execution_count": 3,
   "id": "ca38671b",
   "metadata": {},
   "outputs": [
    {
     "name": "stdout",
     "output_type": "stream",
     "text": [
      "Loaded 629 predictions\n"
     ]
    }
   ],
   "source": [
    "#Load predictions\n",
    "predictions = pd.read_json(\"../outputs/llm_predictions.json\")\n",
    "print(f\"Loaded {len(predictions)} predictions\")"
   ]
  },
  {
   "cell_type": "code",
   "execution_count": 4,
   "id": "d297892f",
   "metadata": {},
   "outputs": [],
   "source": [
    "# Merge predictions with original data\n",
    "timeline_df = pd.merge(\n",
    "    predictions, \n",
    "    df[['patient_id', 'doc_id', 'document_timestamp']], \n",
    "    on='doc_id',\n",
    "    how='left'\n",
    ")"
   ]
  },
  {
   "cell_type": "code",
   "execution_count": 5,
   "id": "9f4c2d83",
   "metadata": {},
   "outputs": [
    {
     "data": {
      "text/html": [
       "<div>\n",
       "<style scoped>\n",
       "    .dataframe tbody tr th:only-of-type {\n",
       "        vertical-align: middle;\n",
       "    }\n",
       "\n",
       "    .dataframe tbody tr th {\n",
       "        vertical-align: top;\n",
       "    }\n",
       "\n",
       "    .dataframe thead th {\n",
       "        text-align: right;\n",
       "    }\n",
       "</style>\n",
       "<table border=\"1\" class=\"dataframe\">\n",
       "  <thead>\n",
       "    <tr style=\"text-align: right;\">\n",
       "      <th></th>\n",
       "      <th>doc_id</th>\n",
       "      <th>date_id</th>\n",
       "      <th>date</th>\n",
       "      <th>date_type</th>\n",
       "      <th>entity_id</th>\n",
       "      <th>entity_label</th>\n",
       "      <th>entity_preferred_name</th>\n",
       "      <th>patient_id</th>\n",
       "      <th>document_timestamp</th>\n",
       "    </tr>\n",
       "  </thead>\n",
       "  <tbody>\n",
       "    <tr>\n",
       "      <th>0</th>\n",
       "      <td>0</td>\n",
       "      <td>abs_1</td>\n",
       "      <td>30nd Jun 2024</td>\n",
       "      <td>absolute</td>\n",
       "      <td>ent_1</td>\n",
       "      <td>Ultrasound</td>\n",
       "      <td>Ultrasound</td>\n",
       "      <td>1</td>\n",
       "      <td>01/11/2024</td>\n",
       "    </tr>\n",
       "    <tr>\n",
       "      <th>1</th>\n",
       "      <td>0</td>\n",
       "      <td>abs_2</td>\n",
       "      <td>02nd Aug 2024</td>\n",
       "      <td>absolute</td>\n",
       "      <td>ent_8</td>\n",
       "      <td>asthma</td>\n",
       "      <td>Asthma</td>\n",
       "      <td>1</td>\n",
       "      <td>01/11/2024</td>\n",
       "    </tr>\n",
       "    <tr>\n",
       "      <th>2</th>\n",
       "      <td>0</td>\n",
       "      <td>abs_3</td>\n",
       "      <td>12nd Sep 2024</td>\n",
       "      <td>absolute</td>\n",
       "      <td>ent_10</td>\n",
       "      <td>mass</td>\n",
       "      <td>Mass</td>\n",
       "      <td>1</td>\n",
       "      <td>01/11/2024</td>\n",
       "    </tr>\n",
       "    <tr>\n",
       "      <th>3</th>\n",
       "      <td>0</td>\n",
       "      <td>abs_3</td>\n",
       "      <td>12nd Sep 2024</td>\n",
       "      <td>absolute</td>\n",
       "      <td>ent_11</td>\n",
       "      <td>brain</td>\n",
       "      <td>Disorder of brain</td>\n",
       "      <td>1</td>\n",
       "      <td>01/11/2024</td>\n",
       "    </tr>\n",
       "    <tr>\n",
       "      <th>4</th>\n",
       "      <td>0</td>\n",
       "      <td>abs_3</td>\n",
       "      <td>12nd Sep 2024</td>\n",
       "      <td>absolute</td>\n",
       "      <td>ent_26</td>\n",
       "      <td>pituitary_adenoma</td>\n",
       "      <td>Pituitary adenoma</td>\n",
       "      <td>1</td>\n",
       "      <td>01/11/2024</td>\n",
       "    </tr>\n",
       "  </tbody>\n",
       "</table>\n",
       "</div>"
      ],
      "text/plain": [
       "   doc_id date_id           date date_type entity_id       entity_label  \\\n",
       "0       0   abs_1  30nd Jun 2024  absolute     ent_1         Ultrasound   \n",
       "1       0   abs_2  02nd Aug 2024  absolute     ent_8             asthma   \n",
       "2       0   abs_3  12nd Sep 2024  absolute    ent_10               mass   \n",
       "3       0   abs_3  12nd Sep 2024  absolute    ent_11              brain   \n",
       "4       0   abs_3  12nd Sep 2024  absolute    ent_26  pituitary_adenoma   \n",
       "\n",
       "  entity_preferred_name  patient_id document_timestamp  \n",
       "0            Ultrasound           1         01/11/2024  \n",
       "1                Asthma           1         01/11/2024  \n",
       "2                  Mass           1         01/11/2024  \n",
       "3     Disorder of brain           1         01/11/2024  \n",
       "4     Pituitary adenoma           1         01/11/2024  "
      ]
     },
     "execution_count": 5,
     "metadata": {},
     "output_type": "execute_result"
    }
   ],
   "source": [
    "#Inspect df\n",
    "timeline_df.head()"
   ]
  },
  {
   "cell_type": "markdown",
   "id": "e7863231",
   "metadata": {},
   "source": [
    "Data Preparation"
   ]
  },
  {
   "cell_type": "code",
   "execution_count": 6,
   "id": "e5f41528",
   "metadata": {},
   "outputs": [],
   "source": [
    "# Apply the date standardization function\n",
    "timeline_df['standardized_date'] = timeline_df.apply(standardize_date, axis=1)"
   ]
  },
  {
   "cell_type": "code",
   "execution_count": 7,
   "id": "07870c5a",
   "metadata": {},
   "outputs": [],
   "source": [
    "#Re-order columns\n",
    "new_order = ['patient_id', 'doc_id', 'document_timestamp', 'date_id', 'date', 'date_type', 'standardized_date', 'entity_id', 'entity_label', 'entity_preferred_name']\n",
    "timeline_df = timeline_df[new_order]"
   ]
  },
  {
   "cell_type": "code",
   "execution_count": 8,
   "id": "ce1618f3",
   "metadata": {},
   "outputs": [],
   "source": [
    "# Drop rows where patient_id is missing or date could not be standardized\n",
    "timeline_df.dropna(subset=['patient_id', 'standardized_date'], inplace=True)"
   ]
  },
  {
   "cell_type": "code",
   "execution_count": 9,
   "id": "8b4f1db1",
   "metadata": {},
   "outputs": [],
   "source": [
    "# Convert patient_id to integer for cleaner grouping\n",
    "timeline_df['patient_id'] = timeline_df['patient_id'].astype(int)"
   ]
  },
  {
   "cell_type": "code",
   "execution_count": 10,
   "id": "9674d2bd",
   "metadata": {},
   "outputs": [
    {
     "name": "stdout",
     "output_type": "stream",
     "text": [
      "Processed 614 events.\n"
     ]
    },
    {
     "data": {
      "text/html": [
       "<div>\n",
       "<style scoped>\n",
       "    .dataframe tbody tr th:only-of-type {\n",
       "        vertical-align: middle;\n",
       "    }\n",
       "\n",
       "    .dataframe tbody tr th {\n",
       "        vertical-align: top;\n",
       "    }\n",
       "\n",
       "    .dataframe thead th {\n",
       "        text-align: right;\n",
       "    }\n",
       "</style>\n",
       "<table border=\"1\" class=\"dataframe\">\n",
       "  <thead>\n",
       "    <tr style=\"text-align: right;\">\n",
       "      <th></th>\n",
       "      <th>patient_id</th>\n",
       "      <th>doc_id</th>\n",
       "      <th>document_timestamp</th>\n",
       "      <th>date_id</th>\n",
       "      <th>date</th>\n",
       "      <th>date_type</th>\n",
       "      <th>standardized_date</th>\n",
       "      <th>entity_id</th>\n",
       "      <th>entity_label</th>\n",
       "      <th>entity_preferred_name</th>\n",
       "    </tr>\n",
       "  </thead>\n",
       "  <tbody>\n",
       "    <tr>\n",
       "      <th>0</th>\n",
       "      <td>1</td>\n",
       "      <td>0</td>\n",
       "      <td>01/11/2024</td>\n",
       "      <td>abs_1</td>\n",
       "      <td>30nd Jun 2024</td>\n",
       "      <td>absolute</td>\n",
       "      <td>2024-06-30</td>\n",
       "      <td>ent_1</td>\n",
       "      <td>Ultrasound</td>\n",
       "      <td>Ultrasound</td>\n",
       "    </tr>\n",
       "    <tr>\n",
       "      <th>1</th>\n",
       "      <td>1</td>\n",
       "      <td>0</td>\n",
       "      <td>01/11/2024</td>\n",
       "      <td>abs_2</td>\n",
       "      <td>02nd Aug 2024</td>\n",
       "      <td>absolute</td>\n",
       "      <td>2024-08-02</td>\n",
       "      <td>ent_8</td>\n",
       "      <td>asthma</td>\n",
       "      <td>Asthma</td>\n",
       "    </tr>\n",
       "    <tr>\n",
       "      <th>2</th>\n",
       "      <td>1</td>\n",
       "      <td>0</td>\n",
       "      <td>01/11/2024</td>\n",
       "      <td>abs_3</td>\n",
       "      <td>12nd Sep 2024</td>\n",
       "      <td>absolute</td>\n",
       "      <td>2024-09-12</td>\n",
       "      <td>ent_10</td>\n",
       "      <td>mass</td>\n",
       "      <td>Mass</td>\n",
       "    </tr>\n",
       "    <tr>\n",
       "      <th>3</th>\n",
       "      <td>1</td>\n",
       "      <td>0</td>\n",
       "      <td>01/11/2024</td>\n",
       "      <td>abs_3</td>\n",
       "      <td>12nd Sep 2024</td>\n",
       "      <td>absolute</td>\n",
       "      <td>2024-09-12</td>\n",
       "      <td>ent_11</td>\n",
       "      <td>brain</td>\n",
       "      <td>Disorder of brain</td>\n",
       "    </tr>\n",
       "    <tr>\n",
       "      <th>4</th>\n",
       "      <td>1</td>\n",
       "      <td>0</td>\n",
       "      <td>01/11/2024</td>\n",
       "      <td>abs_3</td>\n",
       "      <td>12nd Sep 2024</td>\n",
       "      <td>absolute</td>\n",
       "      <td>2024-09-12</td>\n",
       "      <td>ent_26</td>\n",
       "      <td>pituitary_adenoma</td>\n",
       "      <td>Pituitary adenoma</td>\n",
       "    </tr>\n",
       "  </tbody>\n",
       "</table>\n",
       "</div>"
      ],
      "text/plain": [
       "   patient_id  doc_id document_timestamp date_id           date date_type  \\\n",
       "0           1       0         01/11/2024   abs_1  30nd Jun 2024  absolute   \n",
       "1           1       0         01/11/2024   abs_2  02nd Aug 2024  absolute   \n",
       "2           1       0         01/11/2024   abs_3  12nd Sep 2024  absolute   \n",
       "3           1       0         01/11/2024   abs_3  12nd Sep 2024  absolute   \n",
       "4           1       0         01/11/2024   abs_3  12nd Sep 2024  absolute   \n",
       "\n",
       "  standardized_date entity_id       entity_label entity_preferred_name  \n",
       "0        2024-06-30     ent_1         Ultrasound            Ultrasound  \n",
       "1        2024-08-02     ent_8             asthma                Asthma  \n",
       "2        2024-09-12    ent_10               mass                  Mass  \n",
       "3        2024-09-12    ent_11              brain     Disorder of brain  \n",
       "4        2024-09-12    ent_26  pituitary_adenoma     Pituitary adenoma  "
      ]
     },
     "execution_count": 10,
     "metadata": {},
     "output_type": "execute_result"
    }
   ],
   "source": [
    "print(f\"Processed {len(timeline_df)} events.\")\n",
    "timeline_df.head()"
   ]
  },
  {
   "cell_type": "markdown",
   "id": "d21a23ac",
   "metadata": {},
   "source": [
    "Generate Patient Timelines (Single Patient)"
   ]
  },
  {
   "cell_type": "code",
   "execution_count": 11,
   "id": "66ba48e6",
   "metadata": {},
   "outputs": [],
   "source": [
    "#Set patient id\n",
    "patient_id = 1"
   ]
  },
  {
   "cell_type": "code",
   "execution_count": 12,
   "id": "35ce7dfa",
   "metadata": {},
   "outputs": [
    {
     "data": {
      "application/vnd.plotly.v1+json": {
       "config": {
        "plotlyServerURL": "https://plot.ly"
       },
       "data": [
        {
         "hoverinfo": "text",
         "hovertext": [
          "<b>Acromegaly</b><br>Date: 2022-01-11",
          "<b>Pituitary adenoma</b><br>Date: 2023-01-11",
          "<b>Headache</b><br>Date: 2024-01-04",
          "<b>COPD</b><br>Date: 2024-03-11",
          "<b>Ibuprofen</b><br>Date: 2024-04-11",
          "<b>Parkinson's disease</b><br>Date: 2024-05-10",
          "<b>Excessive thirst</b><br>Date: 2024-06-11",
          "<b>worsening</b><br>Date: 2024-06-28",
          "<b>Ultrasound</b><br>Date: 2024-06-30",
          "<b>insomn</b><br>Date: 2024-07-05",
          "<b>Metformin</b><br>Date: 2024-07-05",
          "<b>Atorvastatin</b><br>Date: 2024-07-05",
          "<b>Asthma</b><br>Date: 2024-08-02",
          "<b>Cushing's syndrome</b><br>Date: 2024-08-06",
          "<b>Malignant lymphoma</b><br>Date: 2024-08-08",
          "<b>Elevated CRP</b><br>Date: 2024-08-14",
          "<b>high cortisol</b><br>Date: 2024-08-21",
          "<b>Acute ulcerative gingivitis</b><br>Date: 2024-08-31",
          "<b>Hospital admission</b><br>Date: 2024-09-06",
          "<b>Osteoarthritis</b><br>Date: 2024-09-12",
          "<b>Mass</b><br>Date: 2024-09-12",
          "<b>Disorder of brain</b><br>Date: 2024-09-12",
          "<b>Pituitary adenoma</b><br>Date: 2024-09-12",
          "<b>Tension-type headache</b><br>Date: 2024-09-27",
          "<b>TSH test</b><br>Date: 2024-09-28",
          "<b>Cushing's syndrome</b><br>Date: 2024-10-13",
          "<b>Headache</b><br>Date: 2024-10-23",
          "<b>meningitis</b><br>Date: 2024-10-23",
          "<b>Hepatosplenomegaly</b><br>Date: 2024-10-23",
          "<b>Hypertensive disorder</b><br>Date: 2024-11-08",
          "<b>Chest pain</b><br>Date: 2024-11-26",
          "<b>Lisinopril</b><br>Date: 2024-12-17",
          "<b>Metformin</b><br>Date: 2024-12-17",
          "<b>Atorvastatin</b><br>Date: 2024-12-17",
          "<b>GERD</b><br>Date: 2024-12-17",
          "<b>relapse</b><br>Date: 2024-12-27",
          "<b>Cough</b><br>Date: 2025-01-05",
          "<b>Hospital admission</b><br>Date: 2025-01-05",
          "<b>Pituitary adenoma</b><br>Date: 2025-01-05",
          "<b>worsening</b><br>Date: 2025-01-13",
          "<b>Fever</b><br>Date: 2025-01-17",
          "<b>Hypoadrenalism</b><br>Date: 2025-01-18",
          "<b>elevated prolactin</b><br>Date: 2025-01-18",
          "<b>Headache</b><br>Date: 2025-01-26",
          "<b>meningitis</b><br>Date: 2025-01-27",
          "<b>Neoplasm of pituitary gland</b><br>Date: 2025-01-27",
          "<b>Murmur</b><br>Date: 2025-01-27",
          "<b>Hyperlipidemia</b><br>Date: 2025-01-27",
          "<b>MRI</b><br>Date: 2025-01-27",
          "<b>Anemia</b><br>Date: 2025-01-27",
          "<b>Hydrocephalus</b><br>Date: 2025-01-27",
          "<b>MRI</b><br>Date: 2025-02-22",
          "<b>Mood swings</b><br>Date: 2025-02-26",
          "<b>Abnormal LFTs</b><br>Date: 2025-03-17",
          "<b>hyperthyroidism vs Cushing's_syndrome</b><br>Date: 2025-03-17",
          "<b>Asthma</b><br>Date: 2025-03-18",
          "<b>Joint pain</b><br>Date: 2025-04-07",
          "<b>Recurrent disease</b><br>Date: 2025-04-15",
          "<b>Bipolar disorder</b><br>Date: 2025-04-15",
          "<b>Mood swings</b><br>Date: 2025-06-03",
          "<b>Chest pain</b><br>Date: 2025-06-04",
          "<b>Pituitary adenoma</b><br>Date: 2025-06-15",
          "<b>Schizophrenia</b><br>Date: 2025-06-16",
          "<b>leukemia</b><br>Date: 2025-07-02",
          "<b>Leukemia</b><br>Date: 2025-07-09",
          "<b>Gastrointestinal hemorrhage</b><br>Date: 2025-07-25",
          "<b>Multiple sclerosis</b><br>Date: 2025-07-25",
          "<b>improved</b><br>Date: 2025-08-02",
          "<b>Cabergoline</b><br>Date: 2025-09-01",
          "<b>Epilepsy</b><br>Date: 2025-09-03",
          "<b>Pituitary macroadenoma</b><br>Date: 2025-09-03",
          "<b>Nausea and vomiting</b><br>Date: 2025-09-16",
          "<b>Rheumatoid arthritis</b><br>Date: 2025-09-16",
          "<b>Aspirin</b><br>Date: 2025-09-16",
          "<b>Ibuprofen</b><br>Date: 2025-11-28"
         ],
         "marker": {
          "size": 10
         },
         "mode": "markers",
         "type": "scatter",
         "x": [
          "2022-01-11T00:00:00.000000000",
          "2023-01-11T00:00:00.000000000",
          "2024-01-04T00:00:00.000000000",
          "2024-03-11T00:00:00.000000000",
          "2024-04-11T00:00:00.000000000",
          "2024-05-10T00:00:00.000000000",
          "2024-06-11T00:00:00.000000000",
          "2024-06-28T00:00:00.000000000",
          "2024-06-30T00:00:00.000000000",
          "2024-07-05T00:00:00.000000000",
          "2024-07-05T00:00:00.000000000",
          "2024-07-05T00:00:00.000000000",
          "2024-08-02T00:00:00.000000000",
          "2024-08-06T00:00:00.000000000",
          "2024-08-08T00:00:00.000000000",
          "2024-08-14T00:00:00.000000000",
          "2024-08-21T00:00:00.000000000",
          "2024-08-31T00:00:00.000000000",
          "2024-09-06T00:00:00.000000000",
          "2024-09-12T00:00:00.000000000",
          "2024-09-12T00:00:00.000000000",
          "2024-09-12T00:00:00.000000000",
          "2024-09-12T00:00:00.000000000",
          "2024-09-27T00:00:00.000000000",
          "2024-09-28T00:00:00.000000000",
          "2024-10-13T00:00:00.000000000",
          "2024-10-23T00:00:00.000000000",
          "2024-10-23T00:00:00.000000000",
          "2024-10-23T00:00:00.000000000",
          "2024-11-08T00:00:00.000000000",
          "2024-11-26T00:00:00.000000000",
          "2024-12-17T00:00:00.000000000",
          "2024-12-17T00:00:00.000000000",
          "2024-12-17T00:00:00.000000000",
          "2024-12-17T00:00:00.000000000",
          "2024-12-27T00:00:00.000000000",
          "2025-01-05T00:00:00.000000000",
          "2025-01-05T00:00:00.000000000",
          "2025-01-05T00:00:00.000000000",
          "2025-01-13T00:00:00.000000000",
          "2025-01-17T00:00:00.000000000",
          "2025-01-18T00:00:00.000000000",
          "2025-01-18T00:00:00.000000000",
          "2025-01-26T00:00:00.000000000",
          "2025-01-27T00:00:00.000000000",
          "2025-01-27T00:00:00.000000000",
          "2025-01-27T00:00:00.000000000",
          "2025-01-27T00:00:00.000000000",
          "2025-01-27T00:00:00.000000000",
          "2025-01-27T00:00:00.000000000",
          "2025-01-27T00:00:00.000000000",
          "2025-02-22T00:00:00.000000000",
          "2025-02-26T00:00:00.000000000",
          "2025-03-17T00:00:00.000000000",
          "2025-03-17T00:00:00.000000000",
          "2025-03-18T00:00:00.000000000",
          "2025-04-07T00:00:00.000000000",
          "2025-04-15T00:00:00.000000000",
          "2025-04-15T00:00:00.000000000",
          "2025-06-03T00:00:00.000000000",
          "2025-06-04T00:00:00.000000000",
          "2025-06-15T00:00:00.000000000",
          "2025-06-16T00:00:00.000000000",
          "2025-07-02T00:00:00.000000000",
          "2025-07-09T00:00:00.000000000",
          "2025-07-25T00:00:00.000000000",
          "2025-07-25T00:00:00.000000000",
          "2025-08-02T00:00:00.000000000",
          "2025-09-01T00:00:00.000000000",
          "2025-09-03T00:00:00.000000000",
          "2025-09-03T00:00:00.000000000",
          "2025-09-16T00:00:00.000000000",
          "2025-09-16T00:00:00.000000000",
          "2025-09-16T00:00:00.000000000",
          "2025-11-28T00:00:00.000000000"
         ],
         "y": [
          "Acromegaly",
          "Pituitary adenoma",
          "Headache",
          "COPD",
          "Ibuprofen",
          "Parkinson's disease",
          "Excessive thirst",
          "worsening",
          "Ultrasound",
          "insomn",
          "Metformin",
          "Atorvastatin",
          "Asthma",
          "Cushing's syndrome",
          "Malignant lymphoma",
          "Elevated CRP",
          "high cortisol",
          "Acute ulcerative gingivitis",
          "Hospital admission",
          "Osteoarthritis",
          "Mass",
          "Disorder of brain",
          "Pituitary adenoma",
          "Tension-type headache",
          "TSH test",
          "Cushing's syndrome",
          "Headache",
          "meningitis",
          "Hepatosplenomegaly",
          "Hypertensive disorder",
          "Chest pain",
          "Lisinopril",
          "Metformin",
          "Atorvastatin",
          "GERD",
          "relapse",
          "Cough",
          "Hospital admission",
          "Pituitary adenoma",
          "worsening",
          "Fever",
          "Hypoadrenalism",
          "elevated prolactin",
          "Headache",
          "meningitis",
          "Neoplasm of pituitary gland",
          "Murmur",
          "Hyperlipidemia",
          "MRI",
          "Anemia",
          "Hydrocephalus",
          "MRI",
          "Mood swings",
          "Abnormal LFTs",
          "hyperthyroidism vs Cushing's_syndrome",
          "Asthma",
          "Joint pain",
          "Recurrent disease",
          "Bipolar disorder",
          "Mood swings",
          "Chest pain",
          "Pituitary adenoma",
          "Schizophrenia",
          "leukemia",
          "Leukemia",
          "Gastrointestinal hemorrhage",
          "Multiple sclerosis",
          "improved",
          "Cabergoline",
          "Epilepsy",
          "Pituitary macroadenoma",
          "Nausea and vomiting",
          "Rheumatoid arthritis",
          "Aspirin",
          "Ibuprofen"
         ]
        }
       ],
       "layout": {
        "template": {
         "data": {
          "bar": [
           {
            "error_x": {
             "color": "#2a3f5f"
            },
            "error_y": {
             "color": "#2a3f5f"
            },
            "marker": {
             "line": {
              "color": "#E5ECF6",
              "width": 0.5
             },
             "pattern": {
              "fillmode": "overlay",
              "size": 10,
              "solidity": 0.2
             }
            },
            "type": "bar"
           }
          ],
          "barpolar": [
           {
            "marker": {
             "line": {
              "color": "#E5ECF6",
              "width": 0.5
             },
             "pattern": {
              "fillmode": "overlay",
              "size": 10,
              "solidity": 0.2
             }
            },
            "type": "barpolar"
           }
          ],
          "carpet": [
           {
            "aaxis": {
             "endlinecolor": "#2a3f5f",
             "gridcolor": "white",
             "linecolor": "white",
             "minorgridcolor": "white",
             "startlinecolor": "#2a3f5f"
            },
            "baxis": {
             "endlinecolor": "#2a3f5f",
             "gridcolor": "white",
             "linecolor": "white",
             "minorgridcolor": "white",
             "startlinecolor": "#2a3f5f"
            },
            "type": "carpet"
           }
          ],
          "choropleth": [
           {
            "colorbar": {
             "outlinewidth": 0,
             "ticks": ""
            },
            "type": "choropleth"
           }
          ],
          "contour": [
           {
            "colorbar": {
             "outlinewidth": 0,
             "ticks": ""
            },
            "colorscale": [
             [
              0,
              "#0d0887"
             ],
             [
              0.1111111111111111,
              "#46039f"
             ],
             [
              0.2222222222222222,
              "#7201a8"
             ],
             [
              0.3333333333333333,
              "#9c179e"
             ],
             [
              0.4444444444444444,
              "#bd3786"
             ],
             [
              0.5555555555555556,
              "#d8576b"
             ],
             [
              0.6666666666666666,
              "#ed7953"
             ],
             [
              0.7777777777777778,
              "#fb9f3a"
             ],
             [
              0.8888888888888888,
              "#fdca26"
             ],
             [
              1,
              "#f0f921"
             ]
            ],
            "type": "contour"
           }
          ],
          "contourcarpet": [
           {
            "colorbar": {
             "outlinewidth": 0,
             "ticks": ""
            },
            "type": "contourcarpet"
           }
          ],
          "heatmap": [
           {
            "colorbar": {
             "outlinewidth": 0,
             "ticks": ""
            },
            "colorscale": [
             [
              0,
              "#0d0887"
             ],
             [
              0.1111111111111111,
              "#46039f"
             ],
             [
              0.2222222222222222,
              "#7201a8"
             ],
             [
              0.3333333333333333,
              "#9c179e"
             ],
             [
              0.4444444444444444,
              "#bd3786"
             ],
             [
              0.5555555555555556,
              "#d8576b"
             ],
             [
              0.6666666666666666,
              "#ed7953"
             ],
             [
              0.7777777777777778,
              "#fb9f3a"
             ],
             [
              0.8888888888888888,
              "#fdca26"
             ],
             [
              1,
              "#f0f921"
             ]
            ],
            "type": "heatmap"
           }
          ],
          "histogram": [
           {
            "marker": {
             "pattern": {
              "fillmode": "overlay",
              "size": 10,
              "solidity": 0.2
             }
            },
            "type": "histogram"
           }
          ],
          "histogram2d": [
           {
            "colorbar": {
             "outlinewidth": 0,
             "ticks": ""
            },
            "colorscale": [
             [
              0,
              "#0d0887"
             ],
             [
              0.1111111111111111,
              "#46039f"
             ],
             [
              0.2222222222222222,
              "#7201a8"
             ],
             [
              0.3333333333333333,
              "#9c179e"
             ],
             [
              0.4444444444444444,
              "#bd3786"
             ],
             [
              0.5555555555555556,
              "#d8576b"
             ],
             [
              0.6666666666666666,
              "#ed7953"
             ],
             [
              0.7777777777777778,
              "#fb9f3a"
             ],
             [
              0.8888888888888888,
              "#fdca26"
             ],
             [
              1,
              "#f0f921"
             ]
            ],
            "type": "histogram2d"
           }
          ],
          "histogram2dcontour": [
           {
            "colorbar": {
             "outlinewidth": 0,
             "ticks": ""
            },
            "colorscale": [
             [
              0,
              "#0d0887"
             ],
             [
              0.1111111111111111,
              "#46039f"
             ],
             [
              0.2222222222222222,
              "#7201a8"
             ],
             [
              0.3333333333333333,
              "#9c179e"
             ],
             [
              0.4444444444444444,
              "#bd3786"
             ],
             [
              0.5555555555555556,
              "#d8576b"
             ],
             [
              0.6666666666666666,
              "#ed7953"
             ],
             [
              0.7777777777777778,
              "#fb9f3a"
             ],
             [
              0.8888888888888888,
              "#fdca26"
             ],
             [
              1,
              "#f0f921"
             ]
            ],
            "type": "histogram2dcontour"
           }
          ],
          "mesh3d": [
           {
            "colorbar": {
             "outlinewidth": 0,
             "ticks": ""
            },
            "type": "mesh3d"
           }
          ],
          "parcoords": [
           {
            "line": {
             "colorbar": {
              "outlinewidth": 0,
              "ticks": ""
             }
            },
            "type": "parcoords"
           }
          ],
          "pie": [
           {
            "automargin": true,
            "type": "pie"
           }
          ],
          "scatter": [
           {
            "fillpattern": {
             "fillmode": "overlay",
             "size": 10,
             "solidity": 0.2
            },
            "type": "scatter"
           }
          ],
          "scatter3d": [
           {
            "line": {
             "colorbar": {
              "outlinewidth": 0,
              "ticks": ""
             }
            },
            "marker": {
             "colorbar": {
              "outlinewidth": 0,
              "ticks": ""
             }
            },
            "type": "scatter3d"
           }
          ],
          "scattercarpet": [
           {
            "marker": {
             "colorbar": {
              "outlinewidth": 0,
              "ticks": ""
             }
            },
            "type": "scattercarpet"
           }
          ],
          "scattergeo": [
           {
            "marker": {
             "colorbar": {
              "outlinewidth": 0,
              "ticks": ""
             }
            },
            "type": "scattergeo"
           }
          ],
          "scattergl": [
           {
            "marker": {
             "colorbar": {
              "outlinewidth": 0,
              "ticks": ""
             }
            },
            "type": "scattergl"
           }
          ],
          "scattermap": [
           {
            "marker": {
             "colorbar": {
              "outlinewidth": 0,
              "ticks": ""
             }
            },
            "type": "scattermap"
           }
          ],
          "scattermapbox": [
           {
            "marker": {
             "colorbar": {
              "outlinewidth": 0,
              "ticks": ""
             }
            },
            "type": "scattermapbox"
           }
          ],
          "scatterpolar": [
           {
            "marker": {
             "colorbar": {
              "outlinewidth": 0,
              "ticks": ""
             }
            },
            "type": "scatterpolar"
           }
          ],
          "scatterpolargl": [
           {
            "marker": {
             "colorbar": {
              "outlinewidth": 0,
              "ticks": ""
             }
            },
            "type": "scatterpolargl"
           }
          ],
          "scatterternary": [
           {
            "marker": {
             "colorbar": {
              "outlinewidth": 0,
              "ticks": ""
             }
            },
            "type": "scatterternary"
           }
          ],
          "surface": [
           {
            "colorbar": {
             "outlinewidth": 0,
             "ticks": ""
            },
            "colorscale": [
             [
              0,
              "#0d0887"
             ],
             [
              0.1111111111111111,
              "#46039f"
             ],
             [
              0.2222222222222222,
              "#7201a8"
             ],
             [
              0.3333333333333333,
              "#9c179e"
             ],
             [
              0.4444444444444444,
              "#bd3786"
             ],
             [
              0.5555555555555556,
              "#d8576b"
             ],
             [
              0.6666666666666666,
              "#ed7953"
             ],
             [
              0.7777777777777778,
              "#fb9f3a"
             ],
             [
              0.8888888888888888,
              "#fdca26"
             ],
             [
              1,
              "#f0f921"
             ]
            ],
            "type": "surface"
           }
          ],
          "table": [
           {
            "cells": {
             "fill": {
              "color": "#EBF0F8"
             },
             "line": {
              "color": "white"
             }
            },
            "header": {
             "fill": {
              "color": "#C8D4E3"
             },
             "line": {
              "color": "white"
             }
            },
            "type": "table"
           }
          ]
         },
         "layout": {
          "annotationdefaults": {
           "arrowcolor": "#2a3f5f",
           "arrowhead": 0,
           "arrowwidth": 1
          },
          "autotypenumbers": "strict",
          "coloraxis": {
           "colorbar": {
            "outlinewidth": 0,
            "ticks": ""
           }
          },
          "colorscale": {
           "diverging": [
            [
             0,
             "#8e0152"
            ],
            [
             0.1,
             "#c51b7d"
            ],
            [
             0.2,
             "#de77ae"
            ],
            [
             0.3,
             "#f1b6da"
            ],
            [
             0.4,
             "#fde0ef"
            ],
            [
             0.5,
             "#f7f7f7"
            ],
            [
             0.6,
             "#e6f5d0"
            ],
            [
             0.7,
             "#b8e186"
            ],
            [
             0.8,
             "#7fbc41"
            ],
            [
             0.9,
             "#4d9221"
            ],
            [
             1,
             "#276419"
            ]
           ],
           "sequential": [
            [
             0,
             "#0d0887"
            ],
            [
             0.1111111111111111,
             "#46039f"
            ],
            [
             0.2222222222222222,
             "#7201a8"
            ],
            [
             0.3333333333333333,
             "#9c179e"
            ],
            [
             0.4444444444444444,
             "#bd3786"
            ],
            [
             0.5555555555555556,
             "#d8576b"
            ],
            [
             0.6666666666666666,
             "#ed7953"
            ],
            [
             0.7777777777777778,
             "#fb9f3a"
            ],
            [
             0.8888888888888888,
             "#fdca26"
            ],
            [
             1,
             "#f0f921"
            ]
           ],
           "sequentialminus": [
            [
             0,
             "#0d0887"
            ],
            [
             0.1111111111111111,
             "#46039f"
            ],
            [
             0.2222222222222222,
             "#7201a8"
            ],
            [
             0.3333333333333333,
             "#9c179e"
            ],
            [
             0.4444444444444444,
             "#bd3786"
            ],
            [
             0.5555555555555556,
             "#d8576b"
            ],
            [
             0.6666666666666666,
             "#ed7953"
            ],
            [
             0.7777777777777778,
             "#fb9f3a"
            ],
            [
             0.8888888888888888,
             "#fdca26"
            ],
            [
             1,
             "#f0f921"
            ]
           ]
          },
          "colorway": [
           "#636efa",
           "#EF553B",
           "#00cc96",
           "#ab63fa",
           "#FFA15A",
           "#19d3f3",
           "#FF6692",
           "#B6E880",
           "#FF97FF",
           "#FECB52"
          ],
          "font": {
           "color": "#2a3f5f"
          },
          "geo": {
           "bgcolor": "white",
           "lakecolor": "white",
           "landcolor": "#E5ECF6",
           "showlakes": true,
           "showland": true,
           "subunitcolor": "white"
          },
          "hoverlabel": {
           "align": "left"
          },
          "hovermode": "closest",
          "mapbox": {
           "style": "light"
          },
          "paper_bgcolor": "white",
          "plot_bgcolor": "#E5ECF6",
          "polar": {
           "angularaxis": {
            "gridcolor": "white",
            "linecolor": "white",
            "ticks": ""
           },
           "bgcolor": "#E5ECF6",
           "radialaxis": {
            "gridcolor": "white",
            "linecolor": "white",
            "ticks": ""
           }
          },
          "scene": {
           "xaxis": {
            "backgroundcolor": "#E5ECF6",
            "gridcolor": "white",
            "gridwidth": 2,
            "linecolor": "white",
            "showbackground": true,
            "ticks": "",
            "zerolinecolor": "white"
           },
           "yaxis": {
            "backgroundcolor": "#E5ECF6",
            "gridcolor": "white",
            "gridwidth": 2,
            "linecolor": "white",
            "showbackground": true,
            "ticks": "",
            "zerolinecolor": "white"
           },
           "zaxis": {
            "backgroundcolor": "#E5ECF6",
            "gridcolor": "white",
            "gridwidth": 2,
            "linecolor": "white",
            "showbackground": true,
            "ticks": "",
            "zerolinecolor": "white"
           }
          },
          "shapedefaults": {
           "line": {
            "color": "#2a3f5f"
           }
          },
          "ternary": {
           "aaxis": {
            "gridcolor": "white",
            "linecolor": "white",
            "ticks": ""
           },
           "baxis": {
            "gridcolor": "white",
            "linecolor": "white",
            "ticks": ""
           },
           "bgcolor": "#E5ECF6",
           "caxis": {
            "gridcolor": "white",
            "linecolor": "white",
            "ticks": ""
           }
          },
          "title": {
           "x": 0.05
          },
          "xaxis": {
           "automargin": true,
           "gridcolor": "white",
           "linecolor": "white",
           "ticks": "",
           "title": {
            "standoff": 15
           },
           "zerolinecolor": "white",
           "zerolinewidth": 2
          },
          "yaxis": {
           "automargin": true,
           "gridcolor": "white",
           "linecolor": "white",
           "ticks": "",
           "title": {
            "standoff": 15
           },
           "zerolinecolor": "white",
           "zerolinewidth": 2
          }
         }
        },
        "title": {
         "text": "Clinical Timeline for Patient 1"
        },
        "xaxis": {
         "title": {
          "text": "Date"
         }
        },
        "yaxis": {
         "autorange": "reversed",
         "title": {
          "text": "Clinical Events"
         }
        }
       }
      }
     },
     "metadata": {},
     "output_type": "display_data"
    }
   ],
   "source": [
    "# For a specific patient:\n",
    "fig = create_interactive_patient_timeline(timeline_df, patient_id=patient_id)\n",
    "fig.show()"
   ]
  },
  {
   "cell_type": "code",
   "execution_count": 13,
   "id": "0e8e9908",
   "metadata": {},
   "outputs": [
    {
     "name": "stdout",
     "output_type": "stream",
     "text": [
      "{\n",
      "  \"patient_id\": 1,\n",
      "  \"total_events\": 75,\n",
      "  \"date_range\": {\n",
      "    \"start\": \"2022-01-11\",\n",
      "    \"end\": \"2025-11-28\"\n",
      "  },\n",
      "  \"events\": [\n",
      "    {\n",
      "      \"date\": \"2022-01-11\",\n",
      "      \"event\": \"Acromegaly\",\n",
      "      \"date_type\": \"relative\",\n",
      "      \"original_date\": \"2 years ago\"\n",
      "    },\n",
      "    {\n",
      "      \"date\": \"2023-01-11\",\n",
      "      \"event\": \"Pituitary adenoma\",\n",
      "      \"date_type\": \"relative\",\n",
      "      \"original_date\": \"last year\"\n",
      "    },\n",
      "    {\n",
      "      \"date\": \"2024-01-04\",\n",
      "      \"event\": \"Headache\",\n",
      "      \"date_type\": \"relative\",\n",
      "      \"original_date\": \"last week\"\n",
      "    },\n",
      "    {\n",
      "      \"date\": \"2024-03-11\",\n",
      "      \"event\": \"COPD\",\n",
      "      \"date_type\": \"absolute\",\n",
      "      \"original_date\": \"03-11-2024\"\n",
      "    },\n",
      "    {\n",
      "      \"date\": \"2024-04-11\",\n",
      "      \"event\": \"Ibuprofen\",\n",
      "      \"date_type\": \"absolute\",\n",
      "      \"original_date\": \"04/11/2024\"\n",
      "    },\n",
      "    {\n",
      "      \"date\": \"2024-05-10\",\n",
      "      \"event\": \"Parkinson's disease\",\n",
      "      \"date_type\": \"absolute\",\n",
      "      \"original_date\": \"05/10/2024\"\n",
      "    },\n",
      "    {\n",
      "      \"date\": \"2024-06-11\",\n",
      "      \"event\": \"Excessive thirst\",\n",
      "      \"date_type\": \"absolute\",\n",
      "      \"original_date\": \"06.11.24\"\n",
      "    },\n",
      "    {\n",
      "      \"date\": \"2024-06-28\",\n",
      "      \"event\": \"worsening\",\n",
      "      \"date_type\": \"absolute\",\n",
      "      \"original_date\": \"28.06.24\"\n",
      "    },\n",
      "    {\n",
      "      \"date\": \"2024-06-30\",\n",
      "      \"event\": \"Ultrasound\",\n",
      "      \"date_type\": \"absolute\",\n",
      "      \"original_date\": \"30nd Jun 2024\"\n",
      "    },\n",
      "    {\n",
      "      \"date\": \"2024-07-05\",\n",
      "      \"event\": \"insomn\",\n",
      "      \"date_type\": \"absolute\",\n",
      "      \"original_date\": \"05st Jul 2024\"\n",
      "    },\n",
      "    {\n",
      "      \"date\": \"2024-07-05\",\n",
      "      \"event\": \"Metformin\",\n",
      "      \"date_type\": \"absolute\",\n",
      "      \"original_date\": \"05st Jul 2024\"\n",
      "    },\n",
      "    {\n",
      "      \"date\": \"2024-07-05\",\n",
      "      \"event\": \"Atorvastatin\",\n",
      "      \"date_type\": \"absolute\",\n",
      "      \"original_date\": \"05st Jul 2024\"\n",
      "    },\n",
      "    {\n",
      "      \"date\": \"2024-08-02\",\n",
      "      \"event\": \"Asthma\",\n",
      "      \"date_type\": \"absolute\",\n",
      "      \"original_date\": \"02nd Aug 2024\"\n",
      "    },\n",
      "    {\n",
      "      \"date\": \"2024-08-06\",\n",
      "      \"event\": \"Cushing's syndrome\",\n",
      "      \"date_type\": \"absolute\",\n",
      "      \"original_date\": \"08-06-2024\"\n",
      "    },\n",
      "    {\n",
      "      \"date\": \"2024-08-08\",\n",
      "      \"event\": \"Malignant lymphoma\",\n",
      "      \"date_type\": \"absolute\",\n",
      "      \"original_date\": \"2024-08-08\"\n",
      "    },\n",
      "    {\n",
      "      \"date\": \"2024-08-14\",\n",
      "      \"event\": \"Elevated CRP\",\n",
      "      \"date_type\": \"absolute\",\n",
      "      \"original_date\": \"14/08/24\"\n",
      "    },\n",
      "    {\n",
      "      \"date\": \"2024-08-21\",\n",
      "      \"event\": \"high cortisol\",\n",
      "      \"date_type\": \"absolute\",\n",
      "      \"original_date\": \"21st Aug 2024\"\n",
      "    },\n",
      "    {\n",
      "      \"date\": \"2024-08-31\",\n",
      "      \"event\": \"Acute ulcerative gingivitis\",\n",
      "      \"date_type\": \"absolute\",\n",
      "      \"original_date\": \"31 Aug 2024\"\n",
      "    },\n",
      "    {\n",
      "      \"date\": \"2024-09-06\",\n",
      "      \"event\": \"Hospital admission\",\n",
      "      \"date_type\": \"absolute\",\n",
      "      \"original_date\": \"06rd Sep 2024\"\n",
      "    },\n",
      "    {\n",
      "      \"date\": \"2024-09-12\",\n",
      "      \"event\": \"Osteoarthritis\",\n",
      "      \"date_type\": \"absolute\",\n",
      "      \"original_date\": \"09/12/2024\"\n",
      "    },\n",
      "    {\n",
      "      \"date\": \"2024-09-12\",\n",
      "      \"event\": \"Mass\",\n",
      "      \"date_type\": \"absolute\",\n",
      "      \"original_date\": \"12nd Sep 2024\"\n",
      "    },\n",
      "    {\n",
      "      \"date\": \"2024-09-12\",\n",
      "      \"event\": \"Disorder of brain\",\n",
      "      \"date_type\": \"absolute\",\n",
      "      \"original_date\": \"12nd Sep 2024\"\n",
      "    },\n",
      "    {\n",
      "      \"date\": \"2024-09-12\",\n",
      "      \"event\": \"Pituitary adenoma\",\n",
      "      \"date_type\": \"absolute\",\n",
      "      \"original_date\": \"12nd Sep 2024\"\n",
      "    },\n",
      "    {\n",
      "      \"date\": \"2024-09-27\",\n",
      "      \"event\": \"Tension-type headache\",\n",
      "      \"date_type\": \"absolute\",\n",
      "      \"original_date\": \"27 Sep 2024\"\n",
      "    },\n",
      "    {\n",
      "      \"date\": \"2024-09-28\",\n",
      "      \"event\": \"TSH test\",\n",
      "      \"date_type\": \"absolute\",\n",
      "      \"original_date\": \"28/09/24\"\n",
      "    },\n",
      "    {\n",
      "      \"date\": \"2024-10-13\",\n",
      "      \"event\": \"Cushing's syndrome\",\n",
      "      \"date_type\": \"absolute\",\n",
      "      \"original_date\": \"13/10/24\"\n",
      "    },\n",
      "    {\n",
      "      \"date\": \"2024-10-23\",\n",
      "      \"event\": \"Headache\",\n",
      "      \"date_type\": \"absolute\",\n",
      "      \"original_date\": \"23rd Oct 2024\"\n",
      "    },\n",
      "    {\n",
      "      \"date\": \"2024-10-23\",\n",
      "      \"event\": \"meningitis\",\n",
      "      \"date_type\": \"absolute\",\n",
      "      \"original_date\": \"23rd Oct 2024\"\n",
      "    },\n",
      "    {\n",
      "      \"date\": \"2024-10-23\",\n",
      "      \"event\": \"Hepatosplenomegaly\",\n",
      "      \"date_type\": \"absolute\",\n",
      "      \"original_date\": \"23rd Oct 2024\"\n",
      "    },\n",
      "    {\n",
      "      \"date\": \"2024-11-08\",\n",
      "      \"event\": \"Hypertensive disorder\",\n",
      "      \"date_type\": \"absolute\",\n",
      "      \"original_date\": \"11-08-2024\"\n",
      "    },\n",
      "    {\n",
      "      \"date\": \"2024-11-26\",\n",
      "      \"event\": \"Chest pain\",\n",
      "      \"date_type\": \"absolute\",\n",
      "      \"original_date\": \"26.11.24\"\n",
      "    },\n",
      "    {\n",
      "      \"date\": \"2024-12-17\",\n",
      "      \"event\": \"Lisinopril\",\n",
      "      \"date_type\": \"absolute\",\n",
      "      \"original_date\": \"17nd Dec 2024\"\n",
      "    },\n",
      "    {\n",
      "      \"date\": \"2024-12-17\",\n",
      "      \"event\": \"Metformin\",\n",
      "      \"date_type\": \"absolute\",\n",
      "      \"original_date\": \"17nd Dec 2024\"\n",
      "    },\n",
      "    {\n",
      "      \"date\": \"2024-12-17\",\n",
      "      \"event\": \"Atorvastatin\",\n",
      "      \"date_type\": \"absolute\",\n",
      "      \"original_date\": \"17nd Dec 2024\"\n",
      "    },\n",
      "    {\n",
      "      \"date\": \"2024-12-17\",\n",
      "      \"event\": \"GERD\",\n",
      "      \"date_type\": \"absolute\",\n",
      "      \"original_date\": \"17.12.24\"\n",
      "    },\n",
      "    {\n",
      "      \"date\": \"2024-12-27\",\n",
      "      \"event\": \"relapse\",\n",
      "      \"date_type\": \"absolute\",\n",
      "      \"original_date\": \"27 Dec 2024\"\n",
      "    },\n",
      "    {\n",
      "      \"date\": \"2025-01-05\",\n",
      "      \"event\": \"Cough\",\n",
      "      \"date_type\": \"absolute\",\n",
      "      \"original_date\": \"05rd Jan 2025\"\n",
      "    },\n",
      "    {\n",
      "      \"date\": \"2025-01-05\",\n",
      "      \"event\": \"Hospital admission\",\n",
      "      \"date_type\": \"absolute\",\n",
      "      \"original_date\": \"05rd Jan 2025\"\n",
      "    },\n",
      "    {\n",
      "      \"date\": \"2025-01-05\",\n",
      "      \"event\": \"Pituitary adenoma\",\n",
      "      \"date_type\": \"absolute\",\n",
      "      \"original_date\": \"05rd Jan 2025\"\n",
      "    },\n",
      "    {\n",
      "      \"date\": \"2025-01-13\",\n",
      "      \"event\": \"worsening\",\n",
      "      \"date_type\": \"absolute\",\n",
      "      \"original_date\": \"13rd Jan 2025\"\n",
      "    },\n",
      "    {\n",
      "      \"date\": \"2025-01-17\",\n",
      "      \"event\": \"Fever\",\n",
      "      \"date_type\": \"absolute\",\n",
      "      \"original_date\": \"17st Jan 2025\"\n",
      "    },\n",
      "    {\n",
      "      \"date\": \"2025-01-18\",\n",
      "      \"event\": \"Hypoadrenalism\",\n",
      "      \"date_type\": \"absolute\",\n",
      "      \"original_date\": \"18 Jan 2025\"\n",
      "    },\n",
      "    {\n",
      "      \"date\": \"2025-01-18\",\n",
      "      \"event\": \"elevated prolactin\",\n",
      "      \"date_type\": \"absolute\",\n",
      "      \"original_date\": \"18 Jan 2025\"\n",
      "    },\n",
      "    {\n",
      "      \"date\": \"2025-01-26\",\n",
      "      \"event\": \"Headache\",\n",
      "      \"date_type\": \"absolute\",\n",
      "      \"original_date\": \"26 Jan\"\n",
      "    },\n",
      "    {\n",
      "      \"date\": \"2025-01-27\",\n",
      "      \"event\": \"meningitis\",\n",
      "      \"date_type\": \"absolute\",\n",
      "      \"original_date\": \"27th Jan 2025\"\n",
      "    },\n",
      "    {\n",
      "      \"date\": \"2025-01-27\",\n",
      "      \"event\": \"Neoplasm of pituitary gland\",\n",
      "      \"date_type\": \"absolute\",\n",
      "      \"original_date\": \"27th Jan 2025\"\n",
      "    },\n",
      "    {\n",
      "      \"date\": \"2025-01-27\",\n",
      "      \"event\": \"Murmur\",\n",
      "      \"date_type\": \"absolute\",\n",
      "      \"original_date\": \"27th Jan 2025\"\n",
      "    },\n",
      "    {\n",
      "      \"date\": \"2025-01-27\",\n",
      "      \"event\": \"Hyperlipidemia\",\n",
      "      \"date_type\": \"absolute\",\n",
      "      \"original_date\": \"27th Jan 2025\"\n",
      "    },\n",
      "    {\n",
      "      \"date\": \"2025-01-27\",\n",
      "      \"event\": \"MRI\",\n",
      "      \"date_type\": \"absolute\",\n",
      "      \"original_date\": \"27rd Jan 2025\"\n",
      "    },\n",
      "    {\n",
      "      \"date\": \"2025-01-27\",\n",
      "      \"event\": \"Anemia\",\n",
      "      \"date_type\": \"absolute\",\n",
      "      \"original_date\": \"27rd Jan 2025\"\n",
      "    },\n",
      "    {\n",
      "      \"date\": \"2025-01-27\",\n",
      "      \"event\": \"Hydrocephalus\",\n",
      "      \"date_type\": \"absolute\",\n",
      "      \"original_date\": \"27th Jan 2025\"\n",
      "    },\n",
      "    {\n",
      "      \"date\": \"2025-02-22\",\n",
      "      \"event\": \"MRI\",\n",
      "      \"date_type\": \"absolute\",\n",
      "      \"original_date\": \"22 Feb 2025\"\n",
      "    },\n",
      "    {\n",
      "      \"date\": \"2025-02-26\",\n",
      "      \"event\": \"Mood swings\",\n",
      "      \"date_type\": \"absolute\",\n",
      "      \"original_date\": \"26st Feb 2025\"\n",
      "    },\n",
      "    {\n",
      "      \"date\": \"2025-03-17\",\n",
      "      \"event\": \"Abnormal LFTs\",\n",
      "      \"date_type\": \"absolute\",\n",
      "      \"original_date\": \"17nd Mar 2025\"\n",
      "    },\n",
      "    {\n",
      "      \"date\": \"2025-03-17\",\n",
      "      \"event\": \"hyperthyroidism vs Cushing's_syndrome\",\n",
      "      \"date_type\": \"absolute\",\n",
      "      \"original_date\": \"17nd Mar 2025\"\n",
      "    },\n",
      "    {\n",
      "      \"date\": \"2025-03-18\",\n",
      "      \"event\": \"Asthma\",\n",
      "      \"date_type\": \"absolute\",\n",
      "      \"original_date\": \"18nd Mar 2025\"\n",
      "    },\n",
      "    {\n",
      "      \"date\": \"2025-04-07\",\n",
      "      \"event\": \"Joint pain\",\n",
      "      \"date_type\": \"absolute\",\n",
      "      \"original_date\": \"07 Apr\"\n",
      "    },\n",
      "    {\n",
      "      \"date\": \"2025-04-15\",\n",
      "      \"event\": \"Recurrent disease\",\n",
      "      \"date_type\": \"absolute\",\n",
      "      \"original_date\": \"15st Apr 2025\"\n",
      "    },\n",
      "    {\n",
      "      \"date\": \"2025-04-15\",\n",
      "      \"event\": \"Bipolar disorder\",\n",
      "      \"date_type\": \"absolute\",\n",
      "      \"original_date\": \"15st Apr 2025\"\n",
      "    },\n",
      "    {\n",
      "      \"date\": \"2025-06-03\",\n",
      "      \"event\": \"Mood swings\",\n",
      "      \"date_type\": \"absolute\",\n",
      "      \"original_date\": \"03rd Jun 2025\"\n",
      "    },\n",
      "    {\n",
      "      \"date\": \"2025-06-04\",\n",
      "      \"event\": \"Chest pain\",\n",
      "      \"date_type\": \"absolute\",\n",
      "      \"original_date\": \"04th Jun 2025\"\n",
      "    },\n",
      "    {\n",
      "      \"date\": \"2025-06-15\",\n",
      "      \"event\": \"Pituitary adenoma\",\n",
      "      \"date_type\": \"absolute\",\n",
      "      \"original_date\": \"15/06/2025\"\n",
      "    },\n",
      "    {\n",
      "      \"date\": \"2025-06-16\",\n",
      "      \"event\": \"Schizophrenia\",\n",
      "      \"date_type\": \"absolute\",\n",
      "      \"original_date\": \"16/06/2025\"\n",
      "    },\n",
      "    {\n",
      "      \"date\": \"2025-07-02\",\n",
      "      \"event\": \"leukemia\",\n",
      "      \"date_type\": \"absolute\",\n",
      "      \"original_date\": \"02 Jul\"\n",
      "    },\n",
      "    {\n",
      "      \"date\": \"2025-07-09\",\n",
      "      \"event\": \"Leukemia\",\n",
      "      \"date_type\": \"absolute\",\n",
      "      \"original_date\": \"07-09-2025\"\n",
      "    },\n",
      "    {\n",
      "      \"date\": \"2025-07-25\",\n",
      "      \"event\": \"Gastrointestinal hemorrhage\",\n",
      "      \"date_type\": \"absolute\",\n",
      "      \"original_date\": \"25.07.25\"\n",
      "    },\n",
      "    {\n",
      "      \"date\": \"2025-07-25\",\n",
      "      \"event\": \"Multiple sclerosis\",\n",
      "      \"date_type\": \"absolute\",\n",
      "      \"original_date\": \"25.07.25\"\n",
      "    },\n",
      "    {\n",
      "      \"date\": \"2025-08-02\",\n",
      "      \"event\": \"improved\",\n",
      "      \"date_type\": \"absolute\",\n",
      "      \"original_date\": \"08/02/2025\"\n",
      "    },\n",
      "    {\n",
      "      \"date\": \"2025-09-01\",\n",
      "      \"event\": \"Cabergoline\",\n",
      "      \"date_type\": \"absolute\",\n",
      "      \"original_date\": \"01 Sep\"\n",
      "    },\n",
      "    {\n",
      "      \"date\": \"2025-09-03\",\n",
      "      \"event\": \"Epilepsy\",\n",
      "      \"date_type\": \"absolute\",\n",
      "      \"original_date\": \"3 mon\"\n",
      "    },\n",
      "    {\n",
      "      \"date\": \"2025-09-03\",\n",
      "      \"event\": \"Pituitary macroadenoma\",\n",
      "      \"date_type\": \"absolute\",\n",
      "      \"original_date\": \"3 mon\"\n",
      "    },\n",
      "    {\n",
      "      \"date\": \"2025-09-16\",\n",
      "      \"event\": \"Nausea and vomiting\",\n",
      "      \"date_type\": \"absolute\",\n",
      "      \"original_date\": \"16 Sep\"\n",
      "    },\n",
      "    {\n",
      "      \"date\": \"2025-09-16\",\n",
      "      \"event\": \"Rheumatoid arthritis\",\n",
      "      \"date_type\": \"absolute\",\n",
      "      \"original_date\": \"16 Sep\"\n",
      "    },\n",
      "    {\n",
      "      \"date\": \"2025-09-16\",\n",
      "      \"event\": \"Aspirin\",\n",
      "      \"date_type\": \"absolute\",\n",
      "      \"original_date\": \"16 Sep\"\n",
      "    },\n",
      "    {\n",
      "      \"date\": \"2025-11-28\",\n",
      "      \"event\": \"Ibuprofen\",\n",
      "      \"date_type\": \"absolute\",\n",
      "      \"original_date\": \"28 Nov\"\n",
      "    }\n",
      "  ]\n",
      "}\n"
     ]
    }
   ],
   "source": [
    "# Get a summary for a specific patient\n",
    "summary = get_patient_timeline_summary(timeline_df, patient_id=patient_id)\n",
    "print(json.dumps(summary, indent=2))"
   ]
  },
  {
   "cell_type": "code",
   "execution_count": 14,
   "id": "54b5b470",
   "metadata": {},
   "outputs": [],
   "source": [
    "# Save timeline to a file\n",
    "with open(f'../outputs/patient_{patient_id}_timeline.json', 'w') as f:\n",
    "    json.dump(summary, f, indent=2)"
   ]
  },
  {
   "cell_type": "markdown",
   "id": "44b2245a",
   "metadata": {},
   "source": [
    "Generate Patient Timelines (All Patients)"
   ]
  },
  {
   "cell_type": "code",
   "execution_count": 15,
   "id": "a49ce997",
   "metadata": {},
   "outputs": [
    {
     "name": "stdout",
     "output_type": "stream",
     "text": [
      "Created 10 timeline plots\n"
     ]
    },
    {
     "data": {
      "application/vnd.plotly.v1+json": {
       "config": {
        "plotlyServerURL": "https://plot.ly"
       },
       "data": [
        {
         "hoverinfo": "text",
         "hovertext": [
          "<b>Acromegaly</b><br>Date: 2022-01-11",
          "<b>Pituitary adenoma</b><br>Date: 2023-01-11",
          "<b>Headache</b><br>Date: 2024-01-04",
          "<b>COPD</b><br>Date: 2024-03-11",
          "<b>Ibuprofen</b><br>Date: 2024-04-11",
          "<b>Parkinson's disease</b><br>Date: 2024-05-10",
          "<b>Excessive thirst</b><br>Date: 2024-06-11",
          "<b>worsening</b><br>Date: 2024-06-28",
          "<b>Ultrasound</b><br>Date: 2024-06-30",
          "<b>insomn</b><br>Date: 2024-07-05",
          "<b>Metformin</b><br>Date: 2024-07-05",
          "<b>Atorvastatin</b><br>Date: 2024-07-05",
          "<b>Asthma</b><br>Date: 2024-08-02",
          "<b>Cushing's syndrome</b><br>Date: 2024-08-06",
          "<b>Malignant lymphoma</b><br>Date: 2024-08-08",
          "<b>Elevated CRP</b><br>Date: 2024-08-14",
          "<b>high cortisol</b><br>Date: 2024-08-21",
          "<b>Acute ulcerative gingivitis</b><br>Date: 2024-08-31",
          "<b>Hospital admission</b><br>Date: 2024-09-06",
          "<b>Osteoarthritis</b><br>Date: 2024-09-12",
          "<b>Mass</b><br>Date: 2024-09-12",
          "<b>Disorder of brain</b><br>Date: 2024-09-12",
          "<b>Pituitary adenoma</b><br>Date: 2024-09-12",
          "<b>Tension-type headache</b><br>Date: 2024-09-27",
          "<b>TSH test</b><br>Date: 2024-09-28",
          "<b>Cushing's syndrome</b><br>Date: 2024-10-13",
          "<b>Headache</b><br>Date: 2024-10-23",
          "<b>meningitis</b><br>Date: 2024-10-23",
          "<b>Hepatosplenomegaly</b><br>Date: 2024-10-23",
          "<b>Hypertensive disorder</b><br>Date: 2024-11-08",
          "<b>Chest pain</b><br>Date: 2024-11-26",
          "<b>Lisinopril</b><br>Date: 2024-12-17",
          "<b>Metformin</b><br>Date: 2024-12-17",
          "<b>Atorvastatin</b><br>Date: 2024-12-17",
          "<b>GERD</b><br>Date: 2024-12-17",
          "<b>relapse</b><br>Date: 2024-12-27",
          "<b>Cough</b><br>Date: 2025-01-05",
          "<b>Hospital admission</b><br>Date: 2025-01-05",
          "<b>Pituitary adenoma</b><br>Date: 2025-01-05",
          "<b>worsening</b><br>Date: 2025-01-13",
          "<b>Fever</b><br>Date: 2025-01-17",
          "<b>Hypoadrenalism</b><br>Date: 2025-01-18",
          "<b>elevated prolactin</b><br>Date: 2025-01-18",
          "<b>Headache</b><br>Date: 2025-01-26",
          "<b>meningitis</b><br>Date: 2025-01-27",
          "<b>Neoplasm of pituitary gland</b><br>Date: 2025-01-27",
          "<b>Murmur</b><br>Date: 2025-01-27",
          "<b>Hyperlipidemia</b><br>Date: 2025-01-27",
          "<b>MRI</b><br>Date: 2025-01-27",
          "<b>Anemia</b><br>Date: 2025-01-27",
          "<b>Hydrocephalus</b><br>Date: 2025-01-27",
          "<b>MRI</b><br>Date: 2025-02-22",
          "<b>Mood swings</b><br>Date: 2025-02-26",
          "<b>Abnormal LFTs</b><br>Date: 2025-03-17",
          "<b>hyperthyroidism vs Cushing's_syndrome</b><br>Date: 2025-03-17",
          "<b>Asthma</b><br>Date: 2025-03-18",
          "<b>Joint pain</b><br>Date: 2025-04-07",
          "<b>Recurrent disease</b><br>Date: 2025-04-15",
          "<b>Bipolar disorder</b><br>Date: 2025-04-15",
          "<b>Mood swings</b><br>Date: 2025-06-03",
          "<b>Chest pain</b><br>Date: 2025-06-04",
          "<b>Pituitary adenoma</b><br>Date: 2025-06-15",
          "<b>Schizophrenia</b><br>Date: 2025-06-16",
          "<b>leukemia</b><br>Date: 2025-07-02",
          "<b>Leukemia</b><br>Date: 2025-07-09",
          "<b>Gastrointestinal hemorrhage</b><br>Date: 2025-07-25",
          "<b>Multiple sclerosis</b><br>Date: 2025-07-25",
          "<b>improved</b><br>Date: 2025-08-02",
          "<b>Cabergoline</b><br>Date: 2025-09-01",
          "<b>Epilepsy</b><br>Date: 2025-09-03",
          "<b>Pituitary macroadenoma</b><br>Date: 2025-09-03",
          "<b>Nausea and vomiting</b><br>Date: 2025-09-16",
          "<b>Rheumatoid arthritis</b><br>Date: 2025-09-16",
          "<b>Aspirin</b><br>Date: 2025-09-16",
          "<b>Ibuprofen</b><br>Date: 2025-11-28"
         ],
         "marker": {
          "size": 10
         },
         "mode": "markers",
         "type": "scatter",
         "x": [
          "2022-01-11T00:00:00.000000000",
          "2023-01-11T00:00:00.000000000",
          "2024-01-04T00:00:00.000000000",
          "2024-03-11T00:00:00.000000000",
          "2024-04-11T00:00:00.000000000",
          "2024-05-10T00:00:00.000000000",
          "2024-06-11T00:00:00.000000000",
          "2024-06-28T00:00:00.000000000",
          "2024-06-30T00:00:00.000000000",
          "2024-07-05T00:00:00.000000000",
          "2024-07-05T00:00:00.000000000",
          "2024-07-05T00:00:00.000000000",
          "2024-08-02T00:00:00.000000000",
          "2024-08-06T00:00:00.000000000",
          "2024-08-08T00:00:00.000000000",
          "2024-08-14T00:00:00.000000000",
          "2024-08-21T00:00:00.000000000",
          "2024-08-31T00:00:00.000000000",
          "2024-09-06T00:00:00.000000000",
          "2024-09-12T00:00:00.000000000",
          "2024-09-12T00:00:00.000000000",
          "2024-09-12T00:00:00.000000000",
          "2024-09-12T00:00:00.000000000",
          "2024-09-27T00:00:00.000000000",
          "2024-09-28T00:00:00.000000000",
          "2024-10-13T00:00:00.000000000",
          "2024-10-23T00:00:00.000000000",
          "2024-10-23T00:00:00.000000000",
          "2024-10-23T00:00:00.000000000",
          "2024-11-08T00:00:00.000000000",
          "2024-11-26T00:00:00.000000000",
          "2024-12-17T00:00:00.000000000",
          "2024-12-17T00:00:00.000000000",
          "2024-12-17T00:00:00.000000000",
          "2024-12-17T00:00:00.000000000",
          "2024-12-27T00:00:00.000000000",
          "2025-01-05T00:00:00.000000000",
          "2025-01-05T00:00:00.000000000",
          "2025-01-05T00:00:00.000000000",
          "2025-01-13T00:00:00.000000000",
          "2025-01-17T00:00:00.000000000",
          "2025-01-18T00:00:00.000000000",
          "2025-01-18T00:00:00.000000000",
          "2025-01-26T00:00:00.000000000",
          "2025-01-27T00:00:00.000000000",
          "2025-01-27T00:00:00.000000000",
          "2025-01-27T00:00:00.000000000",
          "2025-01-27T00:00:00.000000000",
          "2025-01-27T00:00:00.000000000",
          "2025-01-27T00:00:00.000000000",
          "2025-01-27T00:00:00.000000000",
          "2025-02-22T00:00:00.000000000",
          "2025-02-26T00:00:00.000000000",
          "2025-03-17T00:00:00.000000000",
          "2025-03-17T00:00:00.000000000",
          "2025-03-18T00:00:00.000000000",
          "2025-04-07T00:00:00.000000000",
          "2025-04-15T00:00:00.000000000",
          "2025-04-15T00:00:00.000000000",
          "2025-06-03T00:00:00.000000000",
          "2025-06-04T00:00:00.000000000",
          "2025-06-15T00:00:00.000000000",
          "2025-06-16T00:00:00.000000000",
          "2025-07-02T00:00:00.000000000",
          "2025-07-09T00:00:00.000000000",
          "2025-07-25T00:00:00.000000000",
          "2025-07-25T00:00:00.000000000",
          "2025-08-02T00:00:00.000000000",
          "2025-09-01T00:00:00.000000000",
          "2025-09-03T00:00:00.000000000",
          "2025-09-03T00:00:00.000000000",
          "2025-09-16T00:00:00.000000000",
          "2025-09-16T00:00:00.000000000",
          "2025-09-16T00:00:00.000000000",
          "2025-11-28T00:00:00.000000000"
         ],
         "y": [
          "Acromegaly",
          "Pituitary adenoma",
          "Headache",
          "COPD",
          "Ibuprofen",
          "Parkinson's disease",
          "Excessive thirst",
          "worsening",
          "Ultrasound",
          "insomn",
          "Metformin",
          "Atorvastatin",
          "Asthma",
          "Cushing's syndrome",
          "Malignant lymphoma",
          "Elevated CRP",
          "high cortisol",
          "Acute ulcerative gingivitis",
          "Hospital admission",
          "Osteoarthritis",
          "Mass",
          "Disorder of brain",
          "Pituitary adenoma",
          "Tension-type headache",
          "TSH test",
          "Cushing's syndrome",
          "Headache",
          "meningitis",
          "Hepatosplenomegaly",
          "Hypertensive disorder",
          "Chest pain",
          "Lisinopril",
          "Metformin",
          "Atorvastatin",
          "GERD",
          "relapse",
          "Cough",
          "Hospital admission",
          "Pituitary adenoma",
          "worsening",
          "Fever",
          "Hypoadrenalism",
          "elevated prolactin",
          "Headache",
          "meningitis",
          "Neoplasm of pituitary gland",
          "Murmur",
          "Hyperlipidemia",
          "MRI",
          "Anemia",
          "Hydrocephalus",
          "MRI",
          "Mood swings",
          "Abnormal LFTs",
          "hyperthyroidism vs Cushing's_syndrome",
          "Asthma",
          "Joint pain",
          "Recurrent disease",
          "Bipolar disorder",
          "Mood swings",
          "Chest pain",
          "Pituitary adenoma",
          "Schizophrenia",
          "leukemia",
          "Leukemia",
          "Gastrointestinal hemorrhage",
          "Multiple sclerosis",
          "improved",
          "Cabergoline",
          "Epilepsy",
          "Pituitary macroadenoma",
          "Nausea and vomiting",
          "Rheumatoid arthritis",
          "Aspirin",
          "Ibuprofen"
         ]
        }
       ],
       "layout": {
        "template": {
         "data": {
          "bar": [
           {
            "error_x": {
             "color": "#2a3f5f"
            },
            "error_y": {
             "color": "#2a3f5f"
            },
            "marker": {
             "line": {
              "color": "#E5ECF6",
              "width": 0.5
             },
             "pattern": {
              "fillmode": "overlay",
              "size": 10,
              "solidity": 0.2
             }
            },
            "type": "bar"
           }
          ],
          "barpolar": [
           {
            "marker": {
             "line": {
              "color": "#E5ECF6",
              "width": 0.5
             },
             "pattern": {
              "fillmode": "overlay",
              "size": 10,
              "solidity": 0.2
             }
            },
            "type": "barpolar"
           }
          ],
          "carpet": [
           {
            "aaxis": {
             "endlinecolor": "#2a3f5f",
             "gridcolor": "white",
             "linecolor": "white",
             "minorgridcolor": "white",
             "startlinecolor": "#2a3f5f"
            },
            "baxis": {
             "endlinecolor": "#2a3f5f",
             "gridcolor": "white",
             "linecolor": "white",
             "minorgridcolor": "white",
             "startlinecolor": "#2a3f5f"
            },
            "type": "carpet"
           }
          ],
          "choropleth": [
           {
            "colorbar": {
             "outlinewidth": 0,
             "ticks": ""
            },
            "type": "choropleth"
           }
          ],
          "contour": [
           {
            "colorbar": {
             "outlinewidth": 0,
             "ticks": ""
            },
            "colorscale": [
             [
              0,
              "#0d0887"
             ],
             [
              0.1111111111111111,
              "#46039f"
             ],
             [
              0.2222222222222222,
              "#7201a8"
             ],
             [
              0.3333333333333333,
              "#9c179e"
             ],
             [
              0.4444444444444444,
              "#bd3786"
             ],
             [
              0.5555555555555556,
              "#d8576b"
             ],
             [
              0.6666666666666666,
              "#ed7953"
             ],
             [
              0.7777777777777778,
              "#fb9f3a"
             ],
             [
              0.8888888888888888,
              "#fdca26"
             ],
             [
              1,
              "#f0f921"
             ]
            ],
            "type": "contour"
           }
          ],
          "contourcarpet": [
           {
            "colorbar": {
             "outlinewidth": 0,
             "ticks": ""
            },
            "type": "contourcarpet"
           }
          ],
          "heatmap": [
           {
            "colorbar": {
             "outlinewidth": 0,
             "ticks": ""
            },
            "colorscale": [
             [
              0,
              "#0d0887"
             ],
             [
              0.1111111111111111,
              "#46039f"
             ],
             [
              0.2222222222222222,
              "#7201a8"
             ],
             [
              0.3333333333333333,
              "#9c179e"
             ],
             [
              0.4444444444444444,
              "#bd3786"
             ],
             [
              0.5555555555555556,
              "#d8576b"
             ],
             [
              0.6666666666666666,
              "#ed7953"
             ],
             [
              0.7777777777777778,
              "#fb9f3a"
             ],
             [
              0.8888888888888888,
              "#fdca26"
             ],
             [
              1,
              "#f0f921"
             ]
            ],
            "type": "heatmap"
           }
          ],
          "histogram": [
           {
            "marker": {
             "pattern": {
              "fillmode": "overlay",
              "size": 10,
              "solidity": 0.2
             }
            },
            "type": "histogram"
           }
          ],
          "histogram2d": [
           {
            "colorbar": {
             "outlinewidth": 0,
             "ticks": ""
            },
            "colorscale": [
             [
              0,
              "#0d0887"
             ],
             [
              0.1111111111111111,
              "#46039f"
             ],
             [
              0.2222222222222222,
              "#7201a8"
             ],
             [
              0.3333333333333333,
              "#9c179e"
             ],
             [
              0.4444444444444444,
              "#bd3786"
             ],
             [
              0.5555555555555556,
              "#d8576b"
             ],
             [
              0.6666666666666666,
              "#ed7953"
             ],
             [
              0.7777777777777778,
              "#fb9f3a"
             ],
             [
              0.8888888888888888,
              "#fdca26"
             ],
             [
              1,
              "#f0f921"
             ]
            ],
            "type": "histogram2d"
           }
          ],
          "histogram2dcontour": [
           {
            "colorbar": {
             "outlinewidth": 0,
             "ticks": ""
            },
            "colorscale": [
             [
              0,
              "#0d0887"
             ],
             [
              0.1111111111111111,
              "#46039f"
             ],
             [
              0.2222222222222222,
              "#7201a8"
             ],
             [
              0.3333333333333333,
              "#9c179e"
             ],
             [
              0.4444444444444444,
              "#bd3786"
             ],
             [
              0.5555555555555556,
              "#d8576b"
             ],
             [
              0.6666666666666666,
              "#ed7953"
             ],
             [
              0.7777777777777778,
              "#fb9f3a"
             ],
             [
              0.8888888888888888,
              "#fdca26"
             ],
             [
              1,
              "#f0f921"
             ]
            ],
            "type": "histogram2dcontour"
           }
          ],
          "mesh3d": [
           {
            "colorbar": {
             "outlinewidth": 0,
             "ticks": ""
            },
            "type": "mesh3d"
           }
          ],
          "parcoords": [
           {
            "line": {
             "colorbar": {
              "outlinewidth": 0,
              "ticks": ""
             }
            },
            "type": "parcoords"
           }
          ],
          "pie": [
           {
            "automargin": true,
            "type": "pie"
           }
          ],
          "scatter": [
           {
            "fillpattern": {
             "fillmode": "overlay",
             "size": 10,
             "solidity": 0.2
            },
            "type": "scatter"
           }
          ],
          "scatter3d": [
           {
            "line": {
             "colorbar": {
              "outlinewidth": 0,
              "ticks": ""
             }
            },
            "marker": {
             "colorbar": {
              "outlinewidth": 0,
              "ticks": ""
             }
            },
            "type": "scatter3d"
           }
          ],
          "scattercarpet": [
           {
            "marker": {
             "colorbar": {
              "outlinewidth": 0,
              "ticks": ""
             }
            },
            "type": "scattercarpet"
           }
          ],
          "scattergeo": [
           {
            "marker": {
             "colorbar": {
              "outlinewidth": 0,
              "ticks": ""
             }
            },
            "type": "scattergeo"
           }
          ],
          "scattergl": [
           {
            "marker": {
             "colorbar": {
              "outlinewidth": 0,
              "ticks": ""
             }
            },
            "type": "scattergl"
           }
          ],
          "scattermap": [
           {
            "marker": {
             "colorbar": {
              "outlinewidth": 0,
              "ticks": ""
             }
            },
            "type": "scattermap"
           }
          ],
          "scattermapbox": [
           {
            "marker": {
             "colorbar": {
              "outlinewidth": 0,
              "ticks": ""
             }
            },
            "type": "scattermapbox"
           }
          ],
          "scatterpolar": [
           {
            "marker": {
             "colorbar": {
              "outlinewidth": 0,
              "ticks": ""
             }
            },
            "type": "scatterpolar"
           }
          ],
          "scatterpolargl": [
           {
            "marker": {
             "colorbar": {
              "outlinewidth": 0,
              "ticks": ""
             }
            },
            "type": "scatterpolargl"
           }
          ],
          "scatterternary": [
           {
            "marker": {
             "colorbar": {
              "outlinewidth": 0,
              "ticks": ""
             }
            },
            "type": "scatterternary"
           }
          ],
          "surface": [
           {
            "colorbar": {
             "outlinewidth": 0,
             "ticks": ""
            },
            "colorscale": [
             [
              0,
              "#0d0887"
             ],
             [
              0.1111111111111111,
              "#46039f"
             ],
             [
              0.2222222222222222,
              "#7201a8"
             ],
             [
              0.3333333333333333,
              "#9c179e"
             ],
             [
              0.4444444444444444,
              "#bd3786"
             ],
             [
              0.5555555555555556,
              "#d8576b"
             ],
             [
              0.6666666666666666,
              "#ed7953"
             ],
             [
              0.7777777777777778,
              "#fb9f3a"
             ],
             [
              0.8888888888888888,
              "#fdca26"
             ],
             [
              1,
              "#f0f921"
             ]
            ],
            "type": "surface"
           }
          ],
          "table": [
           {
            "cells": {
             "fill": {
              "color": "#EBF0F8"
             },
             "line": {
              "color": "white"
             }
            },
            "header": {
             "fill": {
              "color": "#C8D4E3"
             },
             "line": {
              "color": "white"
             }
            },
            "type": "table"
           }
          ]
         },
         "layout": {
          "annotationdefaults": {
           "arrowcolor": "#2a3f5f",
           "arrowhead": 0,
           "arrowwidth": 1
          },
          "autotypenumbers": "strict",
          "coloraxis": {
           "colorbar": {
            "outlinewidth": 0,
            "ticks": ""
           }
          },
          "colorscale": {
           "diverging": [
            [
             0,
             "#8e0152"
            ],
            [
             0.1,
             "#c51b7d"
            ],
            [
             0.2,
             "#de77ae"
            ],
            [
             0.3,
             "#f1b6da"
            ],
            [
             0.4,
             "#fde0ef"
            ],
            [
             0.5,
             "#f7f7f7"
            ],
            [
             0.6,
             "#e6f5d0"
            ],
            [
             0.7,
             "#b8e186"
            ],
            [
             0.8,
             "#7fbc41"
            ],
            [
             0.9,
             "#4d9221"
            ],
            [
             1,
             "#276419"
            ]
           ],
           "sequential": [
            [
             0,
             "#0d0887"
            ],
            [
             0.1111111111111111,
             "#46039f"
            ],
            [
             0.2222222222222222,
             "#7201a8"
            ],
            [
             0.3333333333333333,
             "#9c179e"
            ],
            [
             0.4444444444444444,
             "#bd3786"
            ],
            [
             0.5555555555555556,
             "#d8576b"
            ],
            [
             0.6666666666666666,
             "#ed7953"
            ],
            [
             0.7777777777777778,
             "#fb9f3a"
            ],
            [
             0.8888888888888888,
             "#fdca26"
            ],
            [
             1,
             "#f0f921"
            ]
           ],
           "sequentialminus": [
            [
             0,
             "#0d0887"
            ],
            [
             0.1111111111111111,
             "#46039f"
            ],
            [
             0.2222222222222222,
             "#7201a8"
            ],
            [
             0.3333333333333333,
             "#9c179e"
            ],
            [
             0.4444444444444444,
             "#bd3786"
            ],
            [
             0.5555555555555556,
             "#d8576b"
            ],
            [
             0.6666666666666666,
             "#ed7953"
            ],
            [
             0.7777777777777778,
             "#fb9f3a"
            ],
            [
             0.8888888888888888,
             "#fdca26"
            ],
            [
             1,
             "#f0f921"
            ]
           ]
          },
          "colorway": [
           "#636efa",
           "#EF553B",
           "#00cc96",
           "#ab63fa",
           "#FFA15A",
           "#19d3f3",
           "#FF6692",
           "#B6E880",
           "#FF97FF",
           "#FECB52"
          ],
          "font": {
           "color": "#2a3f5f"
          },
          "geo": {
           "bgcolor": "white",
           "lakecolor": "white",
           "landcolor": "#E5ECF6",
           "showlakes": true,
           "showland": true,
           "subunitcolor": "white"
          },
          "hoverlabel": {
           "align": "left"
          },
          "hovermode": "closest",
          "mapbox": {
           "style": "light"
          },
          "paper_bgcolor": "white",
          "plot_bgcolor": "#E5ECF6",
          "polar": {
           "angularaxis": {
            "gridcolor": "white",
            "linecolor": "white",
            "ticks": ""
           },
           "bgcolor": "#E5ECF6",
           "radialaxis": {
            "gridcolor": "white",
            "linecolor": "white",
            "ticks": ""
           }
          },
          "scene": {
           "xaxis": {
            "backgroundcolor": "#E5ECF6",
            "gridcolor": "white",
            "gridwidth": 2,
            "linecolor": "white",
            "showbackground": true,
            "ticks": "",
            "zerolinecolor": "white"
           },
           "yaxis": {
            "backgroundcolor": "#E5ECF6",
            "gridcolor": "white",
            "gridwidth": 2,
            "linecolor": "white",
            "showbackground": true,
            "ticks": "",
            "zerolinecolor": "white"
           },
           "zaxis": {
            "backgroundcolor": "#E5ECF6",
            "gridcolor": "white",
            "gridwidth": 2,
            "linecolor": "white",
            "showbackground": true,
            "ticks": "",
            "zerolinecolor": "white"
           }
          },
          "shapedefaults": {
           "line": {
            "color": "#2a3f5f"
           }
          },
          "ternary": {
           "aaxis": {
            "gridcolor": "white",
            "linecolor": "white",
            "ticks": ""
           },
           "baxis": {
            "gridcolor": "white",
            "linecolor": "white",
            "ticks": ""
           },
           "bgcolor": "#E5ECF6",
           "caxis": {
            "gridcolor": "white",
            "linecolor": "white",
            "ticks": ""
           }
          },
          "title": {
           "x": 0.05
          },
          "xaxis": {
           "automargin": true,
           "gridcolor": "white",
           "linecolor": "white",
           "ticks": "",
           "title": {
            "standoff": 15
           },
           "zerolinecolor": "white",
           "zerolinewidth": 2
          },
          "yaxis": {
           "automargin": true,
           "gridcolor": "white",
           "linecolor": "white",
           "ticks": "",
           "title": {
            "standoff": 15
           },
           "zerolinecolor": "white",
           "zerolinewidth": 2
          }
         }
        },
        "title": {
         "text": "Clinical Timeline for Patient 1"
        },
        "xaxis": {
         "title": {
          "text": "Date"
         }
        },
        "yaxis": {
         "autorange": "reversed",
         "title": {
          "text": "Clinical Events"
         }
        }
       }
      }
     },
     "metadata": {},
     "output_type": "display_data"
    },
    {
     "data": {
      "application/vnd.plotly.v1+json": {
       "config": {
        "plotlyServerURL": "https://plot.ly"
       },
       "data": [
        {
         "hoverinfo": "text",
         "hovertext": [
          "<b>Neoplasm of pituitary gland</b><br>Date: 2024-01-11",
          "<b>MRI</b><br>Date: 2024-03-12",
          "<b>Mass</b><br>Date: 2024-03-12",
          "<b>Hyperthyroidism</b><br>Date: 2024-03-12",
          "<b>Liver function tests</b><br>Date: 2024-04-11",
          "<b>Insomnia</b><br>Date: 2024-04-11",
          "<b>Liver function tests</b><br>Date: 2024-05-25",
          "<b>Disorder of pituitary gland</b><br>Date: 2024-05-25",
          "<b>Atrial fibrillation</b><br>Date: 2024-05-25",
          "<b>Chest X-ray</b><br>Date: 2024-05-25",
          "<b>Epilepsy</b><br>Date: 2024-06-16",
          "<b>Backache</b><br>Date: 2024-06-18",
          "<b>Dyspnea</b><br>Date: 2024-06-29",
          "<b>Depressive disorder</b><br>Date: 2024-07-20",
          "<b>Hyperlipidemia</b><br>Date: 2024-08-11",
          "<b>low vitamin D</b><br>Date: 2024-08-11",
          "<b>Ulcerative colitis</b><br>Date: 2024-08-16",
          "<b>Asthma</b><br>Date: 2024-09-08",
          "<b>CBC</b><br>Date: 2024-09-27",
          "<b>basic metabolic panel</b><br>Date: 2024-09-27",
          "<b>headache</b><br>Date: 2024-10-07",
          "<b>low TSH</b><br>Date: 2024-10-17",
          "<b>Gout</b><br>Date: 2024-10-17",
          "<b>Backache</b><br>Date: 2024-11-16",
          "<b>Abnormal LFTs</b><br>Date: 2024-11-18",
          "<b>Recurrent disease</b><br>Date: 2024-11-22",
          "<b>high cortisol</b><br>Date: 2024-12-09",
          "<b>Headache</b><br>Date: 2024-12-20",
          "<b>Weight loss</b><br>Date: 2024-12-26",
          "<b>Bronchitis</b><br>Date: 2024-12-26",
          "<b>Tension-type headache</b><br>Date: 2024-12-28",
          "<b>IBS</b><br>Date: 2025-01-14",
          "<b>Fibromyalgia</b><br>Date: 2025-01-22",
          "<b>Upper respiratory infection</b><br>Date: 2025-01-26",
          "<b>Chest pain</b><br>Date: 2025-01-26",
          "<b>Tension-type headache</b><br>Date: 2025-01-29",
          "<b>CT head</b><br>Date: 2025-02-03",
          "<b>Elevated CRP</b><br>Date: 2025-02-16",
          "<b>Elevated CRP</b><br>Date: 2025-03-03",
          "<b>Insomnia</b><br>Date: 2025-03-16",
          "<b>Elevated CRP</b><br>Date: 2025-03-29",
          "<b>Rheumatoid arthritis</b><br>Date: 2025-03-29",
          "<b>Migraine</b><br>Date: 2025-04-07",
          "<b>Cough</b><br>Date: 2025-04-07",
          "<b>Hypothyroidism</b><br>Date: 2025-04-21",
          "<b>Crohn's disease</b><br>Date: 2025-05-25",
          "<b>Anxiety</b><br>Date: 2025-06-03",
          "<b>PET scan</b><br>Date: 2025-06-03",
          "<b>Nausea and vomiting</b><br>Date: 2025-06-09",
          "<b>Bronchitis</b><br>Date: 2025-07-29",
          "<b>Cough</b><br>Date: 2025-07-29",
          "<b>Mass</b><br>Date: 2025-10-22",
          "<b>CBC</b><br>Date: 2025-12-04"
         ],
         "marker": {
          "size": 10
         },
         "mode": "markers",
         "type": "scatter",
         "x": [
          "2024-01-11T00:00:00.000000000",
          "2024-03-12T00:00:00.000000000",
          "2024-03-12T00:00:00.000000000",
          "2024-03-12T00:00:00.000000000",
          "2024-04-11T00:00:00.000000000",
          "2024-04-11T00:00:00.000000000",
          "2024-05-25T00:00:00.000000000",
          "2024-05-25T00:00:00.000000000",
          "2024-05-25T00:00:00.000000000",
          "2024-05-25T00:00:00.000000000",
          "2024-06-16T00:00:00.000000000",
          "2024-06-18T00:00:00.000000000",
          "2024-06-29T00:00:00.000000000",
          "2024-07-20T00:00:00.000000000",
          "2024-08-11T00:00:00.000000000",
          "2024-08-11T00:00:00.000000000",
          "2024-08-16T00:00:00.000000000",
          "2024-09-08T00:00:00.000000000",
          "2024-09-27T00:00:00.000000000",
          "2024-09-27T00:00:00.000000000",
          "2024-10-07T00:00:00.000000000",
          "2024-10-17T00:00:00.000000000",
          "2024-10-17T00:00:00.000000000",
          "2024-11-16T00:00:00.000000000",
          "2024-11-18T00:00:00.000000000",
          "2024-11-22T00:00:00.000000000",
          "2024-12-09T00:00:00.000000000",
          "2024-12-20T00:00:00.000000000",
          "2024-12-26T00:00:00.000000000",
          "2024-12-26T00:00:00.000000000",
          "2024-12-28T00:00:00.000000000",
          "2025-01-14T00:00:00.000000000",
          "2025-01-22T00:00:00.000000000",
          "2025-01-26T00:00:00.000000000",
          "2025-01-26T00:00:00.000000000",
          "2025-01-29T00:00:00.000000000",
          "2025-02-03T00:00:00.000000000",
          "2025-02-16T00:00:00.000000000",
          "2025-03-03T00:00:00.000000000",
          "2025-03-16T00:00:00.000000000",
          "2025-03-29T00:00:00.000000000",
          "2025-03-29T00:00:00.000000000",
          "2025-04-07T00:00:00.000000000",
          "2025-04-07T00:00:00.000000000",
          "2025-04-21T00:00:00.000000000",
          "2025-05-25T00:00:00.000000000",
          "2025-06-03T00:00:00.000000000",
          "2025-06-03T00:00:00.000000000",
          "2025-06-09T00:00:00.000000000",
          "2025-07-29T00:00:00.000000000",
          "2025-07-29T00:00:00.000000000",
          "2025-10-22T00:00:00.000000000",
          "2025-12-04T00:00:00.000000000"
         ],
         "y": [
          "Neoplasm of pituitary gland",
          "MRI",
          "Mass",
          "Hyperthyroidism",
          "Liver function tests",
          "Insomnia",
          "Liver function tests",
          "Disorder of pituitary gland",
          "Atrial fibrillation",
          "Chest X-ray",
          "Epilepsy",
          "Backache",
          "Dyspnea",
          "Depressive disorder",
          "Hyperlipidemia",
          "low vitamin D",
          "Ulcerative colitis",
          "Asthma",
          "CBC",
          "basic metabolic panel",
          "headache",
          "low TSH",
          "Gout",
          "Backache",
          "Abnormal LFTs",
          "Recurrent disease",
          "high cortisol",
          "Headache",
          "Weight loss",
          "Bronchitis",
          "Tension-type headache",
          "IBS",
          "Fibromyalgia",
          "Upper respiratory infection",
          "Chest pain",
          "Tension-type headache",
          "CT head",
          "Elevated CRP",
          "Elevated CRP",
          "Insomnia",
          "Elevated CRP",
          "Rheumatoid arthritis",
          "Migraine",
          "Cough",
          "Hypothyroidism",
          "Crohn's disease",
          "Anxiety",
          "PET scan",
          "Nausea and vomiting",
          "Bronchitis",
          "Cough",
          "Mass",
          "CBC"
         ]
        }
       ],
       "layout": {
        "template": {
         "data": {
          "bar": [
           {
            "error_x": {
             "color": "#2a3f5f"
            },
            "error_y": {
             "color": "#2a3f5f"
            },
            "marker": {
             "line": {
              "color": "#E5ECF6",
              "width": 0.5
             },
             "pattern": {
              "fillmode": "overlay",
              "size": 10,
              "solidity": 0.2
             }
            },
            "type": "bar"
           }
          ],
          "barpolar": [
           {
            "marker": {
             "line": {
              "color": "#E5ECF6",
              "width": 0.5
             },
             "pattern": {
              "fillmode": "overlay",
              "size": 10,
              "solidity": 0.2
             }
            },
            "type": "barpolar"
           }
          ],
          "carpet": [
           {
            "aaxis": {
             "endlinecolor": "#2a3f5f",
             "gridcolor": "white",
             "linecolor": "white",
             "minorgridcolor": "white",
             "startlinecolor": "#2a3f5f"
            },
            "baxis": {
             "endlinecolor": "#2a3f5f",
             "gridcolor": "white",
             "linecolor": "white",
             "minorgridcolor": "white",
             "startlinecolor": "#2a3f5f"
            },
            "type": "carpet"
           }
          ],
          "choropleth": [
           {
            "colorbar": {
             "outlinewidth": 0,
             "ticks": ""
            },
            "type": "choropleth"
           }
          ],
          "contour": [
           {
            "colorbar": {
             "outlinewidth": 0,
             "ticks": ""
            },
            "colorscale": [
             [
              0,
              "#0d0887"
             ],
             [
              0.1111111111111111,
              "#46039f"
             ],
             [
              0.2222222222222222,
              "#7201a8"
             ],
             [
              0.3333333333333333,
              "#9c179e"
             ],
             [
              0.4444444444444444,
              "#bd3786"
             ],
             [
              0.5555555555555556,
              "#d8576b"
             ],
             [
              0.6666666666666666,
              "#ed7953"
             ],
             [
              0.7777777777777778,
              "#fb9f3a"
             ],
             [
              0.8888888888888888,
              "#fdca26"
             ],
             [
              1,
              "#f0f921"
             ]
            ],
            "type": "contour"
           }
          ],
          "contourcarpet": [
           {
            "colorbar": {
             "outlinewidth": 0,
             "ticks": ""
            },
            "type": "contourcarpet"
           }
          ],
          "heatmap": [
           {
            "colorbar": {
             "outlinewidth": 0,
             "ticks": ""
            },
            "colorscale": [
             [
              0,
              "#0d0887"
             ],
             [
              0.1111111111111111,
              "#46039f"
             ],
             [
              0.2222222222222222,
              "#7201a8"
             ],
             [
              0.3333333333333333,
              "#9c179e"
             ],
             [
              0.4444444444444444,
              "#bd3786"
             ],
             [
              0.5555555555555556,
              "#d8576b"
             ],
             [
              0.6666666666666666,
              "#ed7953"
             ],
             [
              0.7777777777777778,
              "#fb9f3a"
             ],
             [
              0.8888888888888888,
              "#fdca26"
             ],
             [
              1,
              "#f0f921"
             ]
            ],
            "type": "heatmap"
           }
          ],
          "histogram": [
           {
            "marker": {
             "pattern": {
              "fillmode": "overlay",
              "size": 10,
              "solidity": 0.2
             }
            },
            "type": "histogram"
           }
          ],
          "histogram2d": [
           {
            "colorbar": {
             "outlinewidth": 0,
             "ticks": ""
            },
            "colorscale": [
             [
              0,
              "#0d0887"
             ],
             [
              0.1111111111111111,
              "#46039f"
             ],
             [
              0.2222222222222222,
              "#7201a8"
             ],
             [
              0.3333333333333333,
              "#9c179e"
             ],
             [
              0.4444444444444444,
              "#bd3786"
             ],
             [
              0.5555555555555556,
              "#d8576b"
             ],
             [
              0.6666666666666666,
              "#ed7953"
             ],
             [
              0.7777777777777778,
              "#fb9f3a"
             ],
             [
              0.8888888888888888,
              "#fdca26"
             ],
             [
              1,
              "#f0f921"
             ]
            ],
            "type": "histogram2d"
           }
          ],
          "histogram2dcontour": [
           {
            "colorbar": {
             "outlinewidth": 0,
             "ticks": ""
            },
            "colorscale": [
             [
              0,
              "#0d0887"
             ],
             [
              0.1111111111111111,
              "#46039f"
             ],
             [
              0.2222222222222222,
              "#7201a8"
             ],
             [
              0.3333333333333333,
              "#9c179e"
             ],
             [
              0.4444444444444444,
              "#bd3786"
             ],
             [
              0.5555555555555556,
              "#d8576b"
             ],
             [
              0.6666666666666666,
              "#ed7953"
             ],
             [
              0.7777777777777778,
              "#fb9f3a"
             ],
             [
              0.8888888888888888,
              "#fdca26"
             ],
             [
              1,
              "#f0f921"
             ]
            ],
            "type": "histogram2dcontour"
           }
          ],
          "mesh3d": [
           {
            "colorbar": {
             "outlinewidth": 0,
             "ticks": ""
            },
            "type": "mesh3d"
           }
          ],
          "parcoords": [
           {
            "line": {
             "colorbar": {
              "outlinewidth": 0,
              "ticks": ""
             }
            },
            "type": "parcoords"
           }
          ],
          "pie": [
           {
            "automargin": true,
            "type": "pie"
           }
          ],
          "scatter": [
           {
            "fillpattern": {
             "fillmode": "overlay",
             "size": 10,
             "solidity": 0.2
            },
            "type": "scatter"
           }
          ],
          "scatter3d": [
           {
            "line": {
             "colorbar": {
              "outlinewidth": 0,
              "ticks": ""
             }
            },
            "marker": {
             "colorbar": {
              "outlinewidth": 0,
              "ticks": ""
             }
            },
            "type": "scatter3d"
           }
          ],
          "scattercarpet": [
           {
            "marker": {
             "colorbar": {
              "outlinewidth": 0,
              "ticks": ""
             }
            },
            "type": "scattercarpet"
           }
          ],
          "scattergeo": [
           {
            "marker": {
             "colorbar": {
              "outlinewidth": 0,
              "ticks": ""
             }
            },
            "type": "scattergeo"
           }
          ],
          "scattergl": [
           {
            "marker": {
             "colorbar": {
              "outlinewidth": 0,
              "ticks": ""
             }
            },
            "type": "scattergl"
           }
          ],
          "scattermap": [
           {
            "marker": {
             "colorbar": {
              "outlinewidth": 0,
              "ticks": ""
             }
            },
            "type": "scattermap"
           }
          ],
          "scattermapbox": [
           {
            "marker": {
             "colorbar": {
              "outlinewidth": 0,
              "ticks": ""
             }
            },
            "type": "scattermapbox"
           }
          ],
          "scatterpolar": [
           {
            "marker": {
             "colorbar": {
              "outlinewidth": 0,
              "ticks": ""
             }
            },
            "type": "scatterpolar"
           }
          ],
          "scatterpolargl": [
           {
            "marker": {
             "colorbar": {
              "outlinewidth": 0,
              "ticks": ""
             }
            },
            "type": "scatterpolargl"
           }
          ],
          "scatterternary": [
           {
            "marker": {
             "colorbar": {
              "outlinewidth": 0,
              "ticks": ""
             }
            },
            "type": "scatterternary"
           }
          ],
          "surface": [
           {
            "colorbar": {
             "outlinewidth": 0,
             "ticks": ""
            },
            "colorscale": [
             [
              0,
              "#0d0887"
             ],
             [
              0.1111111111111111,
              "#46039f"
             ],
             [
              0.2222222222222222,
              "#7201a8"
             ],
             [
              0.3333333333333333,
              "#9c179e"
             ],
             [
              0.4444444444444444,
              "#bd3786"
             ],
             [
              0.5555555555555556,
              "#d8576b"
             ],
             [
              0.6666666666666666,
              "#ed7953"
             ],
             [
              0.7777777777777778,
              "#fb9f3a"
             ],
             [
              0.8888888888888888,
              "#fdca26"
             ],
             [
              1,
              "#f0f921"
             ]
            ],
            "type": "surface"
           }
          ],
          "table": [
           {
            "cells": {
             "fill": {
              "color": "#EBF0F8"
             },
             "line": {
              "color": "white"
             }
            },
            "header": {
             "fill": {
              "color": "#C8D4E3"
             },
             "line": {
              "color": "white"
             }
            },
            "type": "table"
           }
          ]
         },
         "layout": {
          "annotationdefaults": {
           "arrowcolor": "#2a3f5f",
           "arrowhead": 0,
           "arrowwidth": 1
          },
          "autotypenumbers": "strict",
          "coloraxis": {
           "colorbar": {
            "outlinewidth": 0,
            "ticks": ""
           }
          },
          "colorscale": {
           "diverging": [
            [
             0,
             "#8e0152"
            ],
            [
             0.1,
             "#c51b7d"
            ],
            [
             0.2,
             "#de77ae"
            ],
            [
             0.3,
             "#f1b6da"
            ],
            [
             0.4,
             "#fde0ef"
            ],
            [
             0.5,
             "#f7f7f7"
            ],
            [
             0.6,
             "#e6f5d0"
            ],
            [
             0.7,
             "#b8e186"
            ],
            [
             0.8,
             "#7fbc41"
            ],
            [
             0.9,
             "#4d9221"
            ],
            [
             1,
             "#276419"
            ]
           ],
           "sequential": [
            [
             0,
             "#0d0887"
            ],
            [
             0.1111111111111111,
             "#46039f"
            ],
            [
             0.2222222222222222,
             "#7201a8"
            ],
            [
             0.3333333333333333,
             "#9c179e"
            ],
            [
             0.4444444444444444,
             "#bd3786"
            ],
            [
             0.5555555555555556,
             "#d8576b"
            ],
            [
             0.6666666666666666,
             "#ed7953"
            ],
            [
             0.7777777777777778,
             "#fb9f3a"
            ],
            [
             0.8888888888888888,
             "#fdca26"
            ],
            [
             1,
             "#f0f921"
            ]
           ],
           "sequentialminus": [
            [
             0,
             "#0d0887"
            ],
            [
             0.1111111111111111,
             "#46039f"
            ],
            [
             0.2222222222222222,
             "#7201a8"
            ],
            [
             0.3333333333333333,
             "#9c179e"
            ],
            [
             0.4444444444444444,
             "#bd3786"
            ],
            [
             0.5555555555555556,
             "#d8576b"
            ],
            [
             0.6666666666666666,
             "#ed7953"
            ],
            [
             0.7777777777777778,
             "#fb9f3a"
            ],
            [
             0.8888888888888888,
             "#fdca26"
            ],
            [
             1,
             "#f0f921"
            ]
           ]
          },
          "colorway": [
           "#636efa",
           "#EF553B",
           "#00cc96",
           "#ab63fa",
           "#FFA15A",
           "#19d3f3",
           "#FF6692",
           "#B6E880",
           "#FF97FF",
           "#FECB52"
          ],
          "font": {
           "color": "#2a3f5f"
          },
          "geo": {
           "bgcolor": "white",
           "lakecolor": "white",
           "landcolor": "#E5ECF6",
           "showlakes": true,
           "showland": true,
           "subunitcolor": "white"
          },
          "hoverlabel": {
           "align": "left"
          },
          "hovermode": "closest",
          "mapbox": {
           "style": "light"
          },
          "paper_bgcolor": "white",
          "plot_bgcolor": "#E5ECF6",
          "polar": {
           "angularaxis": {
            "gridcolor": "white",
            "linecolor": "white",
            "ticks": ""
           },
           "bgcolor": "#E5ECF6",
           "radialaxis": {
            "gridcolor": "white",
            "linecolor": "white",
            "ticks": ""
           }
          },
          "scene": {
           "xaxis": {
            "backgroundcolor": "#E5ECF6",
            "gridcolor": "white",
            "gridwidth": 2,
            "linecolor": "white",
            "showbackground": true,
            "ticks": "",
            "zerolinecolor": "white"
           },
           "yaxis": {
            "backgroundcolor": "#E5ECF6",
            "gridcolor": "white",
            "gridwidth": 2,
            "linecolor": "white",
            "showbackground": true,
            "ticks": "",
            "zerolinecolor": "white"
           },
           "zaxis": {
            "backgroundcolor": "#E5ECF6",
            "gridcolor": "white",
            "gridwidth": 2,
            "linecolor": "white",
            "showbackground": true,
            "ticks": "",
            "zerolinecolor": "white"
           }
          },
          "shapedefaults": {
           "line": {
            "color": "#2a3f5f"
           }
          },
          "ternary": {
           "aaxis": {
            "gridcolor": "white",
            "linecolor": "white",
            "ticks": ""
           },
           "baxis": {
            "gridcolor": "white",
            "linecolor": "white",
            "ticks": ""
           },
           "bgcolor": "#E5ECF6",
           "caxis": {
            "gridcolor": "white",
            "linecolor": "white",
            "ticks": ""
           }
          },
          "title": {
           "x": 0.05
          },
          "xaxis": {
           "automargin": true,
           "gridcolor": "white",
           "linecolor": "white",
           "ticks": "",
           "title": {
            "standoff": 15
           },
           "zerolinecolor": "white",
           "zerolinewidth": 2
          },
          "yaxis": {
           "automargin": true,
           "gridcolor": "white",
           "linecolor": "white",
           "ticks": "",
           "title": {
            "standoff": 15
           },
           "zerolinecolor": "white",
           "zerolinewidth": 2
          }
         }
        },
        "title": {
         "text": "Clinical Timeline for Patient 2"
        },
        "xaxis": {
         "title": {
          "text": "Date"
         }
        },
        "yaxis": {
         "autorange": "reversed",
         "title": {
          "text": "Clinical Events"
         }
        }
       }
      }
     },
     "metadata": {},
     "output_type": "display_data"
    },
    {
     "data": {
      "application/vnd.plotly.v1+json": {
       "config": {
        "plotlyServerURL": "https://plot.ly"
       },
       "data": [
        {
         "hoverinfo": "text",
         "hovertext": [
          "<b>Prolactinoma</b><br>Date: 2024-03-07",
          "<b>PET scan</b><br>Date: 2024-03-07",
          "<b>X-ray</b><br>Date: 2024-06-22",
          "<b>Recurrent disease</b><br>Date: 2024-07-15",
          "<b>Mood swings</b><br>Date: 2024-07-17",
          "<b>Hypothyroidism</b><br>Date: 2024-07-17",
          "<b>CT head</b><br>Date: 2024-08-02",
          "<b>Lisinopril</b><br>Date: 2024-08-02",
          "<b>Metformin</b><br>Date: 2024-08-02",
          "<b>Medication administration</b><br>Date: 2024-08-02",
          "<b>Atorvastatin</b><br>Date: 2024-08-02",
          "<b>Anxiety</b><br>Date: 2024-08-03",
          "<b>resolved</b><br>Date: 2024-08-03",
          "<b>Congenital malformation</b><br>Date: 2024-09-15",
          "<b>Coughing</b><br>Date: 2024-09-15",
          "<b>suspect Crohn's_disease</b><br>Date: 2024-09-15",
          "<b>CT head</b><br>Date: 2024-09-20",
          "<b>Hyperlipidemia</b><br>Date: 2024-09-20",
          "<b>resolved</b><br>Date: 2024-10-10",
          "<b>Mood swings</b><br>Date: 2024-11-04",
          "<b>Dyspnea</b><br>Date: 2024-11-07",
          "<b>unchanged</b><br>Date: 2024-12-07",
          "<b>slightly improved</b><br>Date: 2024-12-08",
          "<b>Scheduling</b><br>Date: 2024-12-17",
          "<b>Lesion</b><br>Date: 2024-12-23",
          "<b>X-ray</b><br>Date: 2025-01-02",
          "<b>Diabetes mellitus</b><br>Date: 2025-01-12",
          "<b>MRI</b><br>Date: 2025-01-29",
          "<b>suspect lymphoma[diagn.osis] f/u</b><br>Date: 2025-02-01",
          "<b>no acute intracranial abnormalities</b><br>Date: 2025-02-01",
          "<b>CT head</b><br>Date: 2025-02-01",
          "<b>proper medication administration techniques</b><br>Date: 2025-02-01",
          "<b>frequent urination improved</b><br>Date: 2025-02-01",
          "<b>f/u in 1 month</b><br>Date: 2025-02-01",
          "<b>labs</b><br>Date: 2025-02-10",
          "<b>Anemia</b><br>Date: 2025-02-13",
          "<b>creatinine</b><br>Date: 2025-02-17",
          "<b>potassium</b><br>Date: 2025-02-17",
          "<b>sodium</b><br>Date: 2025-02-17",
          "<b>Basic metabolic panel</b><br>Date: 2025-02-17",
          "<b>Anxiety</b><br>Date: 2025-02-17",
          "<b>Mass</b><br>Date: 2025-04-08",
          "<b>Prolactinoma</b><br>Date: 2025-04-08",
          "<b>Phone note</b><br>Date: 2025-05-13",
          "<b>Anemia</b><br>Date: 2025-06-25",
          "<b>Ulcerative colitis</b><br>Date: 2025-06-29",
          "<b>Distress</b><br>Date: 2025-07-03",
          "<b>Normal vital signs</b><br>Date: 2025-07-03",
          "<b>Tension-type headache</b><br>Date: 2025-07-04",
          "<b>labs</b><br>Date: 2025-08-01",
          "<b>Patient tolerated the procedure well</b><br>Date: 2025-12-18",
          "<b>MRI</b><br>Date: 2025-12-18",
          "<b>Disorder of brain</b><br>Date: 2025-12-18",
          "<b>Mass</b><br>Date: 2025-12-18",
          "<b>Congenital malformation</b><br>Date: 2025-12-18",
          "<b>Elevated WBC</b><br>Date: 2025-12-18"
         ],
         "marker": {
          "size": 10
         },
         "mode": "markers",
         "type": "scatter",
         "x": [
          "2024-03-07T00:00:00.000000000",
          "2024-03-07T00:00:00.000000000",
          "2024-06-22T00:00:00.000000000",
          "2024-07-15T00:00:00.000000000",
          "2024-07-17T00:00:00.000000000",
          "2024-07-17T00:00:00.000000000",
          "2024-08-02T00:00:00.000000000",
          "2024-08-02T00:00:00.000000000",
          "2024-08-02T00:00:00.000000000",
          "2024-08-02T00:00:00.000000000",
          "2024-08-02T00:00:00.000000000",
          "2024-08-03T00:00:00.000000000",
          "2024-08-03T00:00:00.000000000",
          "2024-09-15T00:00:00.000000000",
          "2024-09-15T00:00:00.000000000",
          "2024-09-15T00:00:00.000000000",
          "2024-09-20T00:00:00.000000000",
          "2024-09-20T00:00:00.000000000",
          "2024-10-10T00:00:00.000000000",
          "2024-11-04T00:00:00.000000000",
          "2024-11-07T00:00:00.000000000",
          "2024-12-07T00:00:00.000000000",
          "2024-12-08T00:00:00.000000000",
          "2024-12-17T00:00:00.000000000",
          "2024-12-23T00:00:00.000000000",
          "2025-01-02T00:00:00.000000000",
          "2025-01-12T00:00:00.000000000",
          "2025-01-29T00:00:00.000000000",
          "2025-02-01T00:00:00.000000000",
          "2025-02-01T00:00:00.000000000",
          "2025-02-01T00:00:00.000000000",
          "2025-02-01T00:00:00.000000000",
          "2025-02-01T00:00:00.000000000",
          "2025-02-01T00:00:00.000000000",
          "2025-02-10T00:00:00.000000000",
          "2025-02-13T00:00:00.000000000",
          "2025-02-17T00:00:00.000000000",
          "2025-02-17T00:00:00.000000000",
          "2025-02-17T00:00:00.000000000",
          "2025-02-17T00:00:00.000000000",
          "2025-02-17T00:00:00.000000000",
          "2025-04-08T00:00:00.000000000",
          "2025-04-08T00:00:00.000000000",
          "2025-05-13T00:00:00.000000000",
          "2025-06-25T00:00:00.000000000",
          "2025-06-29T00:00:00.000000000",
          "2025-07-03T00:00:00.000000000",
          "2025-07-03T00:00:00.000000000",
          "2025-07-04T00:00:00.000000000",
          "2025-08-01T00:00:00.000000000",
          "2025-12-18T00:00:00.000000000",
          "2025-12-18T00:00:00.000000000",
          "2025-12-18T00:00:00.000000000",
          "2025-12-18T00:00:00.000000000",
          "2025-12-18T00:00:00.000000000",
          "2025-12-18T00:00:00.000000000"
         ],
         "y": [
          "Prolactinoma",
          "PET scan",
          "X-ray",
          "Recurrent disease",
          "Mood swings",
          "Hypothyroidism",
          "CT head",
          "Lisinopril",
          "Metformin",
          "Medication administration",
          "Atorvastatin",
          "Anxiety",
          "resolved",
          "Congenital malformation",
          "Coughing",
          "suspect Crohn's_disease",
          "CT head",
          "Hyperlipidemia",
          "resolved",
          "Mood swings",
          "Dyspnea",
          "unchanged",
          "slightly improved",
          "Scheduling",
          "Lesion",
          "X-ray",
          "Diabetes mellitus",
          "MRI",
          "suspect lymphoma[diagn.osis] f/u",
          "no acute intracranial abnormalities",
          "CT head",
          "proper medication administration techniques",
          "frequent urination improved",
          "f/u in 1 month",
          "labs",
          "Anemia",
          "creatinine",
          "potassium",
          "sodium",
          "Basic metabolic panel",
          "Anxiety",
          "Mass",
          "Prolactinoma",
          "Phone note",
          "Anemia",
          "Ulcerative colitis",
          "Distress",
          "Normal vital signs",
          "Tension-type headache",
          "labs",
          "Patient tolerated the procedure well",
          "MRI",
          "Disorder of brain",
          "Mass",
          "Congenital malformation",
          "Elevated WBC"
         ]
        }
       ],
       "layout": {
        "template": {
         "data": {
          "bar": [
           {
            "error_x": {
             "color": "#2a3f5f"
            },
            "error_y": {
             "color": "#2a3f5f"
            },
            "marker": {
             "line": {
              "color": "#E5ECF6",
              "width": 0.5
             },
             "pattern": {
              "fillmode": "overlay",
              "size": 10,
              "solidity": 0.2
             }
            },
            "type": "bar"
           }
          ],
          "barpolar": [
           {
            "marker": {
             "line": {
              "color": "#E5ECF6",
              "width": 0.5
             },
             "pattern": {
              "fillmode": "overlay",
              "size": 10,
              "solidity": 0.2
             }
            },
            "type": "barpolar"
           }
          ],
          "carpet": [
           {
            "aaxis": {
             "endlinecolor": "#2a3f5f",
             "gridcolor": "white",
             "linecolor": "white",
             "minorgridcolor": "white",
             "startlinecolor": "#2a3f5f"
            },
            "baxis": {
             "endlinecolor": "#2a3f5f",
             "gridcolor": "white",
             "linecolor": "white",
             "minorgridcolor": "white",
             "startlinecolor": "#2a3f5f"
            },
            "type": "carpet"
           }
          ],
          "choropleth": [
           {
            "colorbar": {
             "outlinewidth": 0,
             "ticks": ""
            },
            "type": "choropleth"
           }
          ],
          "contour": [
           {
            "colorbar": {
             "outlinewidth": 0,
             "ticks": ""
            },
            "colorscale": [
             [
              0,
              "#0d0887"
             ],
             [
              0.1111111111111111,
              "#46039f"
             ],
             [
              0.2222222222222222,
              "#7201a8"
             ],
             [
              0.3333333333333333,
              "#9c179e"
             ],
             [
              0.4444444444444444,
              "#bd3786"
             ],
             [
              0.5555555555555556,
              "#d8576b"
             ],
             [
              0.6666666666666666,
              "#ed7953"
             ],
             [
              0.7777777777777778,
              "#fb9f3a"
             ],
             [
              0.8888888888888888,
              "#fdca26"
             ],
             [
              1,
              "#f0f921"
             ]
            ],
            "type": "contour"
           }
          ],
          "contourcarpet": [
           {
            "colorbar": {
             "outlinewidth": 0,
             "ticks": ""
            },
            "type": "contourcarpet"
           }
          ],
          "heatmap": [
           {
            "colorbar": {
             "outlinewidth": 0,
             "ticks": ""
            },
            "colorscale": [
             [
              0,
              "#0d0887"
             ],
             [
              0.1111111111111111,
              "#46039f"
             ],
             [
              0.2222222222222222,
              "#7201a8"
             ],
             [
              0.3333333333333333,
              "#9c179e"
             ],
             [
              0.4444444444444444,
              "#bd3786"
             ],
             [
              0.5555555555555556,
              "#d8576b"
             ],
             [
              0.6666666666666666,
              "#ed7953"
             ],
             [
              0.7777777777777778,
              "#fb9f3a"
             ],
             [
              0.8888888888888888,
              "#fdca26"
             ],
             [
              1,
              "#f0f921"
             ]
            ],
            "type": "heatmap"
           }
          ],
          "histogram": [
           {
            "marker": {
             "pattern": {
              "fillmode": "overlay",
              "size": 10,
              "solidity": 0.2
             }
            },
            "type": "histogram"
           }
          ],
          "histogram2d": [
           {
            "colorbar": {
             "outlinewidth": 0,
             "ticks": ""
            },
            "colorscale": [
             [
              0,
              "#0d0887"
             ],
             [
              0.1111111111111111,
              "#46039f"
             ],
             [
              0.2222222222222222,
              "#7201a8"
             ],
             [
              0.3333333333333333,
              "#9c179e"
             ],
             [
              0.4444444444444444,
              "#bd3786"
             ],
             [
              0.5555555555555556,
              "#d8576b"
             ],
             [
              0.6666666666666666,
              "#ed7953"
             ],
             [
              0.7777777777777778,
              "#fb9f3a"
             ],
             [
              0.8888888888888888,
              "#fdca26"
             ],
             [
              1,
              "#f0f921"
             ]
            ],
            "type": "histogram2d"
           }
          ],
          "histogram2dcontour": [
           {
            "colorbar": {
             "outlinewidth": 0,
             "ticks": ""
            },
            "colorscale": [
             [
              0,
              "#0d0887"
             ],
             [
              0.1111111111111111,
              "#46039f"
             ],
             [
              0.2222222222222222,
              "#7201a8"
             ],
             [
              0.3333333333333333,
              "#9c179e"
             ],
             [
              0.4444444444444444,
              "#bd3786"
             ],
             [
              0.5555555555555556,
              "#d8576b"
             ],
             [
              0.6666666666666666,
              "#ed7953"
             ],
             [
              0.7777777777777778,
              "#fb9f3a"
             ],
             [
              0.8888888888888888,
              "#fdca26"
             ],
             [
              1,
              "#f0f921"
             ]
            ],
            "type": "histogram2dcontour"
           }
          ],
          "mesh3d": [
           {
            "colorbar": {
             "outlinewidth": 0,
             "ticks": ""
            },
            "type": "mesh3d"
           }
          ],
          "parcoords": [
           {
            "line": {
             "colorbar": {
              "outlinewidth": 0,
              "ticks": ""
             }
            },
            "type": "parcoords"
           }
          ],
          "pie": [
           {
            "automargin": true,
            "type": "pie"
           }
          ],
          "scatter": [
           {
            "fillpattern": {
             "fillmode": "overlay",
             "size": 10,
             "solidity": 0.2
            },
            "type": "scatter"
           }
          ],
          "scatter3d": [
           {
            "line": {
             "colorbar": {
              "outlinewidth": 0,
              "ticks": ""
             }
            },
            "marker": {
             "colorbar": {
              "outlinewidth": 0,
              "ticks": ""
             }
            },
            "type": "scatter3d"
           }
          ],
          "scattercarpet": [
           {
            "marker": {
             "colorbar": {
              "outlinewidth": 0,
              "ticks": ""
             }
            },
            "type": "scattercarpet"
           }
          ],
          "scattergeo": [
           {
            "marker": {
             "colorbar": {
              "outlinewidth": 0,
              "ticks": ""
             }
            },
            "type": "scattergeo"
           }
          ],
          "scattergl": [
           {
            "marker": {
             "colorbar": {
              "outlinewidth": 0,
              "ticks": ""
             }
            },
            "type": "scattergl"
           }
          ],
          "scattermap": [
           {
            "marker": {
             "colorbar": {
              "outlinewidth": 0,
              "ticks": ""
             }
            },
            "type": "scattermap"
           }
          ],
          "scattermapbox": [
           {
            "marker": {
             "colorbar": {
              "outlinewidth": 0,
              "ticks": ""
             }
            },
            "type": "scattermapbox"
           }
          ],
          "scatterpolar": [
           {
            "marker": {
             "colorbar": {
              "outlinewidth": 0,
              "ticks": ""
             }
            },
            "type": "scatterpolar"
           }
          ],
          "scatterpolargl": [
           {
            "marker": {
             "colorbar": {
              "outlinewidth": 0,
              "ticks": ""
             }
            },
            "type": "scatterpolargl"
           }
          ],
          "scatterternary": [
           {
            "marker": {
             "colorbar": {
              "outlinewidth": 0,
              "ticks": ""
             }
            },
            "type": "scatterternary"
           }
          ],
          "surface": [
           {
            "colorbar": {
             "outlinewidth": 0,
             "ticks": ""
            },
            "colorscale": [
             [
              0,
              "#0d0887"
             ],
             [
              0.1111111111111111,
              "#46039f"
             ],
             [
              0.2222222222222222,
              "#7201a8"
             ],
             [
              0.3333333333333333,
              "#9c179e"
             ],
             [
              0.4444444444444444,
              "#bd3786"
             ],
             [
              0.5555555555555556,
              "#d8576b"
             ],
             [
              0.6666666666666666,
              "#ed7953"
             ],
             [
              0.7777777777777778,
              "#fb9f3a"
             ],
             [
              0.8888888888888888,
              "#fdca26"
             ],
             [
              1,
              "#f0f921"
             ]
            ],
            "type": "surface"
           }
          ],
          "table": [
           {
            "cells": {
             "fill": {
              "color": "#EBF0F8"
             },
             "line": {
              "color": "white"
             }
            },
            "header": {
             "fill": {
              "color": "#C8D4E3"
             },
             "line": {
              "color": "white"
             }
            },
            "type": "table"
           }
          ]
         },
         "layout": {
          "annotationdefaults": {
           "arrowcolor": "#2a3f5f",
           "arrowhead": 0,
           "arrowwidth": 1
          },
          "autotypenumbers": "strict",
          "coloraxis": {
           "colorbar": {
            "outlinewidth": 0,
            "ticks": ""
           }
          },
          "colorscale": {
           "diverging": [
            [
             0,
             "#8e0152"
            ],
            [
             0.1,
             "#c51b7d"
            ],
            [
             0.2,
             "#de77ae"
            ],
            [
             0.3,
             "#f1b6da"
            ],
            [
             0.4,
             "#fde0ef"
            ],
            [
             0.5,
             "#f7f7f7"
            ],
            [
             0.6,
             "#e6f5d0"
            ],
            [
             0.7,
             "#b8e186"
            ],
            [
             0.8,
             "#7fbc41"
            ],
            [
             0.9,
             "#4d9221"
            ],
            [
             1,
             "#276419"
            ]
           ],
           "sequential": [
            [
             0,
             "#0d0887"
            ],
            [
             0.1111111111111111,
             "#46039f"
            ],
            [
             0.2222222222222222,
             "#7201a8"
            ],
            [
             0.3333333333333333,
             "#9c179e"
            ],
            [
             0.4444444444444444,
             "#bd3786"
            ],
            [
             0.5555555555555556,
             "#d8576b"
            ],
            [
             0.6666666666666666,
             "#ed7953"
            ],
            [
             0.7777777777777778,
             "#fb9f3a"
            ],
            [
             0.8888888888888888,
             "#fdca26"
            ],
            [
             1,
             "#f0f921"
            ]
           ],
           "sequentialminus": [
            [
             0,
             "#0d0887"
            ],
            [
             0.1111111111111111,
             "#46039f"
            ],
            [
             0.2222222222222222,
             "#7201a8"
            ],
            [
             0.3333333333333333,
             "#9c179e"
            ],
            [
             0.4444444444444444,
             "#bd3786"
            ],
            [
             0.5555555555555556,
             "#d8576b"
            ],
            [
             0.6666666666666666,
             "#ed7953"
            ],
            [
             0.7777777777777778,
             "#fb9f3a"
            ],
            [
             0.8888888888888888,
             "#fdca26"
            ],
            [
             1,
             "#f0f921"
            ]
           ]
          },
          "colorway": [
           "#636efa",
           "#EF553B",
           "#00cc96",
           "#ab63fa",
           "#FFA15A",
           "#19d3f3",
           "#FF6692",
           "#B6E880",
           "#FF97FF",
           "#FECB52"
          ],
          "font": {
           "color": "#2a3f5f"
          },
          "geo": {
           "bgcolor": "white",
           "lakecolor": "white",
           "landcolor": "#E5ECF6",
           "showlakes": true,
           "showland": true,
           "subunitcolor": "white"
          },
          "hoverlabel": {
           "align": "left"
          },
          "hovermode": "closest",
          "mapbox": {
           "style": "light"
          },
          "paper_bgcolor": "white",
          "plot_bgcolor": "#E5ECF6",
          "polar": {
           "angularaxis": {
            "gridcolor": "white",
            "linecolor": "white",
            "ticks": ""
           },
           "bgcolor": "#E5ECF6",
           "radialaxis": {
            "gridcolor": "white",
            "linecolor": "white",
            "ticks": ""
           }
          },
          "scene": {
           "xaxis": {
            "backgroundcolor": "#E5ECF6",
            "gridcolor": "white",
            "gridwidth": 2,
            "linecolor": "white",
            "showbackground": true,
            "ticks": "",
            "zerolinecolor": "white"
           },
           "yaxis": {
            "backgroundcolor": "#E5ECF6",
            "gridcolor": "white",
            "gridwidth": 2,
            "linecolor": "white",
            "showbackground": true,
            "ticks": "",
            "zerolinecolor": "white"
           },
           "zaxis": {
            "backgroundcolor": "#E5ECF6",
            "gridcolor": "white",
            "gridwidth": 2,
            "linecolor": "white",
            "showbackground": true,
            "ticks": "",
            "zerolinecolor": "white"
           }
          },
          "shapedefaults": {
           "line": {
            "color": "#2a3f5f"
           }
          },
          "ternary": {
           "aaxis": {
            "gridcolor": "white",
            "linecolor": "white",
            "ticks": ""
           },
           "baxis": {
            "gridcolor": "white",
            "linecolor": "white",
            "ticks": ""
           },
           "bgcolor": "#E5ECF6",
           "caxis": {
            "gridcolor": "white",
            "linecolor": "white",
            "ticks": ""
           }
          },
          "title": {
           "x": 0.05
          },
          "xaxis": {
           "automargin": true,
           "gridcolor": "white",
           "linecolor": "white",
           "ticks": "",
           "title": {
            "standoff": 15
           },
           "zerolinecolor": "white",
           "zerolinewidth": 2
          },
          "yaxis": {
           "automargin": true,
           "gridcolor": "white",
           "linecolor": "white",
           "ticks": "",
           "title": {
            "standoff": 15
           },
           "zerolinecolor": "white",
           "zerolinewidth": 2
          }
         }
        },
        "title": {
         "text": "Clinical Timeline for Patient 3"
        },
        "xaxis": {
         "title": {
          "text": "Date"
         }
        },
        "yaxis": {
         "autorange": "reversed",
         "title": {
          "text": "Clinical Events"
         }
        }
       }
      }
     },
     "metadata": {},
     "output_type": "display_data"
    },
    {
     "data": {
      "application/vnd.plotly.v1+json": {
       "config": {
        "plotlyServerURL": "https://plot.ly"
       },
       "data": [
        {
         "hoverinfo": "text",
         "hovertext": [
          "<b>Rheumatoid arthritis</b><br>Date: 2024-03-09",
          "<b>Hyperlipidemia</b><br>Date: 2024-04-17",
          "<b>MRI</b><br>Date: 2024-05-07",
          "<b>Medication administration</b><br>Date: 2024-05-18",
          "<b>Diabetes mellitus</b><br>Date: 2024-06-21",
          "<b>visual chang</b><br>Date: 2024-07-15",
          "<b>Cluster headache syndrome</b><br>Date: 2024-07-19",
          "<b>unspecified headache</b><br>Date: 2024-08-15",
          "<b>Coughing</b><br>Date: 2024-08-27",
          "<b>Adjustment</b><br>Date: 2024-08-27",
          "<b>Analgesic</b><br>Date: 2024-08-27",
          "<b>Diabetes mellitus</b><br>Date: 2024-08-31",
          "<b>macroadenoma</b><br>Date: 2024-09-05",
          "<b>Elevated WBC</b><br>Date: 2024-09-28",
          "<b>Excessive thirst</b><br>Date: 2024-10-03",
          "<b>Rheumatoid arthritis</b><br>Date: 2024-10-28",
          "<b>resolving hypertension</b><br>Date: 2024-11-04",
          "<b>Anemia</b><br>Date: 2024-11-10",
          "<b>progressive</b><br>Date: 2024-11-15",
          "<b>ANA</b><br>Date: 2024-12-16",
          "<b>Schizophrenia</b><br>Date: 2024-12-18",
          "<b>Ulcerative colitis</b><br>Date: 2025-01-14",
          "<b>Metformin</b><br>Date: 2025-01-17",
          "<b>Ultrasound</b><br>Date: 2025-01-19",
          "<b>Tension-type headache</b><br>Date: 2025-01-29",
          "<b>Crohn's disease</b><br>Date: 2025-02-08",
          "<b>Recurrent disease</b><br>Date: 2025-02-08",
          "<b>Mood swings</b><br>Date: 2025-02-08",
          "<b>MRI</b><br>Date: 2025-02-13",
          "<b>Chest pain</b><br>Date: 2025-02-25",
          "<b>CT head</b><br>Date: 2025-02-26",
          "<b>Fibromyalgia</b><br>Date: 2025-02-26",
          "<b>Weight gain</b><br>Date: 2025-02-26",
          "<b>confirmed asthma</b><br>Date: 2025-03-04",
          "<b>progressive</b><br>Date: 2025-03-12",
          "<b>Hydrocephalus</b><br>Date: 2025-03-12",
          "<b>CBC</b><br>Date: 2025-03-20",
          "<b>leukemia</b><br>Date: 2025-03-22",
          "<b>asthma</b><br>Date: 2025-03-30",
          "<b>Labs</b><br>Date: 2025-03-30",
          "<b>Cardiology CONSULT</b><br>Date: 2025-04-09",
          "<b>Labs</b><br>Date: 2025-04-12",
          "<b>positive ANA</b><br>Date: 2025-04-12",
          "<b>Mass</b><br>Date: 2025-04-14",
          "<b>high cortisol</b><br>Date: 2025-05-01",
          "<b>Elevated WBC</b><br>Date: 2025-05-03",
          "<b>X-ray</b><br>Date: 2025-05-08",
          "<b>Joint pain</b><br>Date: 2025-05-16",
          "<b>X-ray</b><br>Date: 2025-05-28",
          "<b>Elevated CRP</b><br>Date: 2025-06-07",
          "<b>URGENT REVIEW</b><br>Date: 2025-06-27",
          "<b>Multiple myeloma</b><br>Date: 2025-07-09",
          "<b>improved</b><br>Date: 2025-07-25"
         ],
         "marker": {
          "size": 10
         },
         "mode": "markers",
         "type": "scatter",
         "x": [
          "2024-03-09T00:00:00.000000000",
          "2024-04-17T00:00:00.000000000",
          "2024-05-07T00:00:00.000000000",
          "2024-05-18T00:00:00.000000000",
          "2024-06-21T00:00:00.000000000",
          "2024-07-15T00:00:00.000000000",
          "2024-07-19T00:00:00.000000000",
          "2024-08-15T00:00:00.000000000",
          "2024-08-27T00:00:00.000000000",
          "2024-08-27T00:00:00.000000000",
          "2024-08-27T00:00:00.000000000",
          "2024-08-31T00:00:00.000000000",
          "2024-09-05T00:00:00.000000000",
          "2024-09-28T00:00:00.000000000",
          "2024-10-03T00:00:00.000000000",
          "2024-10-28T00:00:00.000000000",
          "2024-11-04T00:00:00.000000000",
          "2024-11-10T00:00:00.000000000",
          "2024-11-15T00:00:00.000000000",
          "2024-12-16T00:00:00.000000000",
          "2024-12-18T00:00:00.000000000",
          "2025-01-14T00:00:00.000000000",
          "2025-01-17T00:00:00.000000000",
          "2025-01-19T00:00:00.000000000",
          "2025-01-29T00:00:00.000000000",
          "2025-02-08T00:00:00.000000000",
          "2025-02-08T00:00:00.000000000",
          "2025-02-08T00:00:00.000000000",
          "2025-02-13T00:00:00.000000000",
          "2025-02-25T00:00:00.000000000",
          "2025-02-26T00:00:00.000000000",
          "2025-02-26T00:00:00.000000000",
          "2025-02-26T00:00:00.000000000",
          "2025-03-04T00:00:00.000000000",
          "2025-03-12T00:00:00.000000000",
          "2025-03-12T00:00:00.000000000",
          "2025-03-20T00:00:00.000000000",
          "2025-03-22T00:00:00.000000000",
          "2025-03-30T00:00:00.000000000",
          "2025-03-30T00:00:00.000000000",
          "2025-04-09T00:00:00.000000000",
          "2025-04-12T00:00:00.000000000",
          "2025-04-12T00:00:00.000000000",
          "2025-04-14T00:00:00.000000000",
          "2025-05-01T00:00:00.000000000",
          "2025-05-03T00:00:00.000000000",
          "2025-05-08T00:00:00.000000000",
          "2025-05-16T00:00:00.000000000",
          "2025-05-28T00:00:00.000000000",
          "2025-06-07T00:00:00.000000000",
          "2025-06-27T00:00:00.000000000",
          "2025-07-09T00:00:00.000000000",
          "2025-07-25T00:00:00.000000000"
         ],
         "y": [
          "Rheumatoid arthritis",
          "Hyperlipidemia",
          "MRI",
          "Medication administration",
          "Diabetes mellitus",
          "visual chang",
          "Cluster headache syndrome",
          "unspecified headache",
          "Coughing",
          "Adjustment",
          "Analgesic",
          "Diabetes mellitus",
          "macroadenoma",
          "Elevated WBC",
          "Excessive thirst",
          "Rheumatoid arthritis",
          "resolving hypertension",
          "Anemia",
          "progressive",
          "ANA",
          "Schizophrenia",
          "Ulcerative colitis",
          "Metformin",
          "Ultrasound",
          "Tension-type headache",
          "Crohn's disease",
          "Recurrent disease",
          "Mood swings",
          "MRI",
          "Chest pain",
          "CT head",
          "Fibromyalgia",
          "Weight gain",
          "confirmed asthma",
          "progressive",
          "Hydrocephalus",
          "CBC",
          "leukemia",
          "asthma",
          "Labs",
          "Cardiology CONSULT",
          "Labs",
          "positive ANA",
          "Mass",
          "high cortisol",
          "Elevated WBC",
          "X-ray",
          "Joint pain",
          "X-ray",
          "Elevated CRP",
          "URGENT REVIEW",
          "Multiple myeloma",
          "improved"
         ]
        }
       ],
       "layout": {
        "template": {
         "data": {
          "bar": [
           {
            "error_x": {
             "color": "#2a3f5f"
            },
            "error_y": {
             "color": "#2a3f5f"
            },
            "marker": {
             "line": {
              "color": "#E5ECF6",
              "width": 0.5
             },
             "pattern": {
              "fillmode": "overlay",
              "size": 10,
              "solidity": 0.2
             }
            },
            "type": "bar"
           }
          ],
          "barpolar": [
           {
            "marker": {
             "line": {
              "color": "#E5ECF6",
              "width": 0.5
             },
             "pattern": {
              "fillmode": "overlay",
              "size": 10,
              "solidity": 0.2
             }
            },
            "type": "barpolar"
           }
          ],
          "carpet": [
           {
            "aaxis": {
             "endlinecolor": "#2a3f5f",
             "gridcolor": "white",
             "linecolor": "white",
             "minorgridcolor": "white",
             "startlinecolor": "#2a3f5f"
            },
            "baxis": {
             "endlinecolor": "#2a3f5f",
             "gridcolor": "white",
             "linecolor": "white",
             "minorgridcolor": "white",
             "startlinecolor": "#2a3f5f"
            },
            "type": "carpet"
           }
          ],
          "choropleth": [
           {
            "colorbar": {
             "outlinewidth": 0,
             "ticks": ""
            },
            "type": "choropleth"
           }
          ],
          "contour": [
           {
            "colorbar": {
             "outlinewidth": 0,
             "ticks": ""
            },
            "colorscale": [
             [
              0,
              "#0d0887"
             ],
             [
              0.1111111111111111,
              "#46039f"
             ],
             [
              0.2222222222222222,
              "#7201a8"
             ],
             [
              0.3333333333333333,
              "#9c179e"
             ],
             [
              0.4444444444444444,
              "#bd3786"
             ],
             [
              0.5555555555555556,
              "#d8576b"
             ],
             [
              0.6666666666666666,
              "#ed7953"
             ],
             [
              0.7777777777777778,
              "#fb9f3a"
             ],
             [
              0.8888888888888888,
              "#fdca26"
             ],
             [
              1,
              "#f0f921"
             ]
            ],
            "type": "contour"
           }
          ],
          "contourcarpet": [
           {
            "colorbar": {
             "outlinewidth": 0,
             "ticks": ""
            },
            "type": "contourcarpet"
           }
          ],
          "heatmap": [
           {
            "colorbar": {
             "outlinewidth": 0,
             "ticks": ""
            },
            "colorscale": [
             [
              0,
              "#0d0887"
             ],
             [
              0.1111111111111111,
              "#46039f"
             ],
             [
              0.2222222222222222,
              "#7201a8"
             ],
             [
              0.3333333333333333,
              "#9c179e"
             ],
             [
              0.4444444444444444,
              "#bd3786"
             ],
             [
              0.5555555555555556,
              "#d8576b"
             ],
             [
              0.6666666666666666,
              "#ed7953"
             ],
             [
              0.7777777777777778,
              "#fb9f3a"
             ],
             [
              0.8888888888888888,
              "#fdca26"
             ],
             [
              1,
              "#f0f921"
             ]
            ],
            "type": "heatmap"
           }
          ],
          "histogram": [
           {
            "marker": {
             "pattern": {
              "fillmode": "overlay",
              "size": 10,
              "solidity": 0.2
             }
            },
            "type": "histogram"
           }
          ],
          "histogram2d": [
           {
            "colorbar": {
             "outlinewidth": 0,
             "ticks": ""
            },
            "colorscale": [
             [
              0,
              "#0d0887"
             ],
             [
              0.1111111111111111,
              "#46039f"
             ],
             [
              0.2222222222222222,
              "#7201a8"
             ],
             [
              0.3333333333333333,
              "#9c179e"
             ],
             [
              0.4444444444444444,
              "#bd3786"
             ],
             [
              0.5555555555555556,
              "#d8576b"
             ],
             [
              0.6666666666666666,
              "#ed7953"
             ],
             [
              0.7777777777777778,
              "#fb9f3a"
             ],
             [
              0.8888888888888888,
              "#fdca26"
             ],
             [
              1,
              "#f0f921"
             ]
            ],
            "type": "histogram2d"
           }
          ],
          "histogram2dcontour": [
           {
            "colorbar": {
             "outlinewidth": 0,
             "ticks": ""
            },
            "colorscale": [
             [
              0,
              "#0d0887"
             ],
             [
              0.1111111111111111,
              "#46039f"
             ],
             [
              0.2222222222222222,
              "#7201a8"
             ],
             [
              0.3333333333333333,
              "#9c179e"
             ],
             [
              0.4444444444444444,
              "#bd3786"
             ],
             [
              0.5555555555555556,
              "#d8576b"
             ],
             [
              0.6666666666666666,
              "#ed7953"
             ],
             [
              0.7777777777777778,
              "#fb9f3a"
             ],
             [
              0.8888888888888888,
              "#fdca26"
             ],
             [
              1,
              "#f0f921"
             ]
            ],
            "type": "histogram2dcontour"
           }
          ],
          "mesh3d": [
           {
            "colorbar": {
             "outlinewidth": 0,
             "ticks": ""
            },
            "type": "mesh3d"
           }
          ],
          "parcoords": [
           {
            "line": {
             "colorbar": {
              "outlinewidth": 0,
              "ticks": ""
             }
            },
            "type": "parcoords"
           }
          ],
          "pie": [
           {
            "automargin": true,
            "type": "pie"
           }
          ],
          "scatter": [
           {
            "fillpattern": {
             "fillmode": "overlay",
             "size": 10,
             "solidity": 0.2
            },
            "type": "scatter"
           }
          ],
          "scatter3d": [
           {
            "line": {
             "colorbar": {
              "outlinewidth": 0,
              "ticks": ""
             }
            },
            "marker": {
             "colorbar": {
              "outlinewidth": 0,
              "ticks": ""
             }
            },
            "type": "scatter3d"
           }
          ],
          "scattercarpet": [
           {
            "marker": {
             "colorbar": {
              "outlinewidth": 0,
              "ticks": ""
             }
            },
            "type": "scattercarpet"
           }
          ],
          "scattergeo": [
           {
            "marker": {
             "colorbar": {
              "outlinewidth": 0,
              "ticks": ""
             }
            },
            "type": "scattergeo"
           }
          ],
          "scattergl": [
           {
            "marker": {
             "colorbar": {
              "outlinewidth": 0,
              "ticks": ""
             }
            },
            "type": "scattergl"
           }
          ],
          "scattermap": [
           {
            "marker": {
             "colorbar": {
              "outlinewidth": 0,
              "ticks": ""
             }
            },
            "type": "scattermap"
           }
          ],
          "scattermapbox": [
           {
            "marker": {
             "colorbar": {
              "outlinewidth": 0,
              "ticks": ""
             }
            },
            "type": "scattermapbox"
           }
          ],
          "scatterpolar": [
           {
            "marker": {
             "colorbar": {
              "outlinewidth": 0,
              "ticks": ""
             }
            },
            "type": "scatterpolar"
           }
          ],
          "scatterpolargl": [
           {
            "marker": {
             "colorbar": {
              "outlinewidth": 0,
              "ticks": ""
             }
            },
            "type": "scatterpolargl"
           }
          ],
          "scatterternary": [
           {
            "marker": {
             "colorbar": {
              "outlinewidth": 0,
              "ticks": ""
             }
            },
            "type": "scatterternary"
           }
          ],
          "surface": [
           {
            "colorbar": {
             "outlinewidth": 0,
             "ticks": ""
            },
            "colorscale": [
             [
              0,
              "#0d0887"
             ],
             [
              0.1111111111111111,
              "#46039f"
             ],
             [
              0.2222222222222222,
              "#7201a8"
             ],
             [
              0.3333333333333333,
              "#9c179e"
             ],
             [
              0.4444444444444444,
              "#bd3786"
             ],
             [
              0.5555555555555556,
              "#d8576b"
             ],
             [
              0.6666666666666666,
              "#ed7953"
             ],
             [
              0.7777777777777778,
              "#fb9f3a"
             ],
             [
              0.8888888888888888,
              "#fdca26"
             ],
             [
              1,
              "#f0f921"
             ]
            ],
            "type": "surface"
           }
          ],
          "table": [
           {
            "cells": {
             "fill": {
              "color": "#EBF0F8"
             },
             "line": {
              "color": "white"
             }
            },
            "header": {
             "fill": {
              "color": "#C8D4E3"
             },
             "line": {
              "color": "white"
             }
            },
            "type": "table"
           }
          ]
         },
         "layout": {
          "annotationdefaults": {
           "arrowcolor": "#2a3f5f",
           "arrowhead": 0,
           "arrowwidth": 1
          },
          "autotypenumbers": "strict",
          "coloraxis": {
           "colorbar": {
            "outlinewidth": 0,
            "ticks": ""
           }
          },
          "colorscale": {
           "diverging": [
            [
             0,
             "#8e0152"
            ],
            [
             0.1,
             "#c51b7d"
            ],
            [
             0.2,
             "#de77ae"
            ],
            [
             0.3,
             "#f1b6da"
            ],
            [
             0.4,
             "#fde0ef"
            ],
            [
             0.5,
             "#f7f7f7"
            ],
            [
             0.6,
             "#e6f5d0"
            ],
            [
             0.7,
             "#b8e186"
            ],
            [
             0.8,
             "#7fbc41"
            ],
            [
             0.9,
             "#4d9221"
            ],
            [
             1,
             "#276419"
            ]
           ],
           "sequential": [
            [
             0,
             "#0d0887"
            ],
            [
             0.1111111111111111,
             "#46039f"
            ],
            [
             0.2222222222222222,
             "#7201a8"
            ],
            [
             0.3333333333333333,
             "#9c179e"
            ],
            [
             0.4444444444444444,
             "#bd3786"
            ],
            [
             0.5555555555555556,
             "#d8576b"
            ],
            [
             0.6666666666666666,
             "#ed7953"
            ],
            [
             0.7777777777777778,
             "#fb9f3a"
            ],
            [
             0.8888888888888888,
             "#fdca26"
            ],
            [
             1,
             "#f0f921"
            ]
           ],
           "sequentialminus": [
            [
             0,
             "#0d0887"
            ],
            [
             0.1111111111111111,
             "#46039f"
            ],
            [
             0.2222222222222222,
             "#7201a8"
            ],
            [
             0.3333333333333333,
             "#9c179e"
            ],
            [
             0.4444444444444444,
             "#bd3786"
            ],
            [
             0.5555555555555556,
             "#d8576b"
            ],
            [
             0.6666666666666666,
             "#ed7953"
            ],
            [
             0.7777777777777778,
             "#fb9f3a"
            ],
            [
             0.8888888888888888,
             "#fdca26"
            ],
            [
             1,
             "#f0f921"
            ]
           ]
          },
          "colorway": [
           "#636efa",
           "#EF553B",
           "#00cc96",
           "#ab63fa",
           "#FFA15A",
           "#19d3f3",
           "#FF6692",
           "#B6E880",
           "#FF97FF",
           "#FECB52"
          ],
          "font": {
           "color": "#2a3f5f"
          },
          "geo": {
           "bgcolor": "white",
           "lakecolor": "white",
           "landcolor": "#E5ECF6",
           "showlakes": true,
           "showland": true,
           "subunitcolor": "white"
          },
          "hoverlabel": {
           "align": "left"
          },
          "hovermode": "closest",
          "mapbox": {
           "style": "light"
          },
          "paper_bgcolor": "white",
          "plot_bgcolor": "#E5ECF6",
          "polar": {
           "angularaxis": {
            "gridcolor": "white",
            "linecolor": "white",
            "ticks": ""
           },
           "bgcolor": "#E5ECF6",
           "radialaxis": {
            "gridcolor": "white",
            "linecolor": "white",
            "ticks": ""
           }
          },
          "scene": {
           "xaxis": {
            "backgroundcolor": "#E5ECF6",
            "gridcolor": "white",
            "gridwidth": 2,
            "linecolor": "white",
            "showbackground": true,
            "ticks": "",
            "zerolinecolor": "white"
           },
           "yaxis": {
            "backgroundcolor": "#E5ECF6",
            "gridcolor": "white",
            "gridwidth": 2,
            "linecolor": "white",
            "showbackground": true,
            "ticks": "",
            "zerolinecolor": "white"
           },
           "zaxis": {
            "backgroundcolor": "#E5ECF6",
            "gridcolor": "white",
            "gridwidth": 2,
            "linecolor": "white",
            "showbackground": true,
            "ticks": "",
            "zerolinecolor": "white"
           }
          },
          "shapedefaults": {
           "line": {
            "color": "#2a3f5f"
           }
          },
          "ternary": {
           "aaxis": {
            "gridcolor": "white",
            "linecolor": "white",
            "ticks": ""
           },
           "baxis": {
            "gridcolor": "white",
            "linecolor": "white",
            "ticks": ""
           },
           "bgcolor": "#E5ECF6",
           "caxis": {
            "gridcolor": "white",
            "linecolor": "white",
            "ticks": ""
           }
          },
          "title": {
           "x": 0.05
          },
          "xaxis": {
           "automargin": true,
           "gridcolor": "white",
           "linecolor": "white",
           "ticks": "",
           "title": {
            "standoff": 15
           },
           "zerolinecolor": "white",
           "zerolinewidth": 2
          },
          "yaxis": {
           "automargin": true,
           "gridcolor": "white",
           "linecolor": "white",
           "ticks": "",
           "title": {
            "standoff": 15
           },
           "zerolinecolor": "white",
           "zerolinewidth": 2
          }
         }
        },
        "title": {
         "text": "Clinical Timeline for Patient 4"
        },
        "xaxis": {
         "title": {
          "text": "Date"
         }
        },
        "yaxis": {
         "autorange": "reversed",
         "title": {
          "text": "Clinical Events"
         }
        }
       }
      }
     },
     "metadata": {},
     "output_type": "display_data"
    },
    {
     "data": {
      "application/vnd.plotly.v1+json": {
       "config": {
        "plotlyServerURL": "https://plot.ly"
       },
       "data": [
        {
         "hoverinfo": "text",
         "hovertext": [
          "<b>CT</b><br>Date: 2024-04-27",
          "<b>Imaging</b><br>Date: 2024-05-31",
          "<b>Urinalysis</b><br>Date: 2024-05-31",
          "<b>Hydrocephalus</b><br>Date: 2024-05-31",
          "<b>Hypertensive disorder</b><br>Date: 2024-05-31",
          "<b>CBC</b><br>Date: 2024-05-31",
          "<b>Elevated WBC</b><br>Date: 2024-05-31",
          "<b>Migraine</b><br>Date: 2024-06-14",
          "<b>neurology CONSULT</b><br>Date: 2024-07-09",
          "<b>Nausea and vomiting</b><br>Date: 2024-07-16",
          "<b>Dizziness</b><br>Date: 2024-07-27",
          "<b>CT</b><br>Date: 2024-08-10",
          "<b>ECG</b><br>Date: 2024-09-08",
          "<b>Weight loss</b><br>Date: 2024-09-17",
          "<b>Epilepsy</b><br>Date: 2024-09-17",
          "<b>Topiramate</b><br>Date: 2024-09-17",
          "<b>Labs</b><br>Date: 2024-10-09",
          "<b>F/U</b><br>Date: 2024-10-14",
          "<b>Mood swings</b><br>Date: 2024-10-18",
          "<b>Hepatosplenomegaly</b><br>Date: 2024-10-18",
          "<b>Insomnia</b><br>Date: 2024-10-18",
          "<b>Imaging</b><br>Date: 2024-10-18",
          "<b>Eruption</b><br>Date: 2024-10-18",
          "<b>Gastrointestinal tract problem</b><br>Date: 2024-10-18",
          "<b>Disorder of optic nerve</b><br>Date: 2024-10-18",
          "<b>Multiple sclerosis</b><br>Date: 2024-10-18",
          "<b>prolactinoma</b><br>Date: 2024-10-18",
          "<b>Congenital malformation</b><br>Date: 2024-10-18",
          "<b>Nausea and vomiting</b><br>Date: 2024-11-18",
          "<b>Agnosia</b><br>Date: 2024-11-18",
          "<b>Pituitary macroadenoma</b><br>Date: 2024-11-18",
          "<b>Medication administration</b><br>Date: 2024-11-18",
          "<b>Bladder irritability</b><br>Date: 2024-11-18",
          "<b>prolactinoma</b><br>Date: 2024-11-26",
          "<b>Mood swings</b><br>Date: 2024-11-26",
          "<b>Multiple sclerosis</b><br>Date: 2024-12-02",
          "<b>Eruption</b><br>Date: 2024-12-02",
          "<b>Nuclear medicine imaging</b><br>Date: 2024-12-17",
          "<b>Elevated CRP</b><br>Date: 2024-12-18",
          "<b>Hospital admission</b><br>Date: 2024-12-26",
          "<b>Urinary frequency</b><br>Date: 2025-01-29",
          "<b>CT head</b><br>Date: 2025-01-30",
          "<b>Internal carotid artery stenosis</b><br>Date: 2025-01-30",
          "<b>evaluation</b><br>Date: 2025-01-31",
          "<b>MRI</b><br>Date: 2025-02-09",
          "<b>resolving prolactinoma</b><br>Date: 2025-03-23",
          "<b>Nausea and vomiting</b><br>Date: 2025-04-11",
          "<b>high cortisol</b><br>Date: 2025-04-16",
          "<b>Schizophrenia</b><br>Date: 2025-06-27",
          "<b>Mood swings</b><br>Date: 2025-07-03",
          "<b>Hypoadrenalism</b><br>Date: 2025-08-01",
          "<b>Pituitary adenoma</b><br>Date: 2025-08-03",
          "<b>Diabetes mellitus</b><br>Date: 2025-12-02"
         ],
         "marker": {
          "size": 10
         },
         "mode": "markers",
         "type": "scatter",
         "x": [
          "2024-04-27T00:00:00.000000000",
          "2024-05-31T00:00:00.000000000",
          "2024-05-31T00:00:00.000000000",
          "2024-05-31T00:00:00.000000000",
          "2024-05-31T00:00:00.000000000",
          "2024-05-31T00:00:00.000000000",
          "2024-05-31T00:00:00.000000000",
          "2024-06-14T00:00:00.000000000",
          "2024-07-09T00:00:00.000000000",
          "2024-07-16T00:00:00.000000000",
          "2024-07-27T00:00:00.000000000",
          "2024-08-10T00:00:00.000000000",
          "2024-09-08T00:00:00.000000000",
          "2024-09-17T00:00:00.000000000",
          "2024-09-17T00:00:00.000000000",
          "2024-09-17T00:00:00.000000000",
          "2024-10-09T00:00:00.000000000",
          "2024-10-14T00:00:00.000000000",
          "2024-10-18T00:00:00.000000000",
          "2024-10-18T00:00:00.000000000",
          "2024-10-18T00:00:00.000000000",
          "2024-10-18T00:00:00.000000000",
          "2024-10-18T00:00:00.000000000",
          "2024-10-18T00:00:00.000000000",
          "2024-10-18T00:00:00.000000000",
          "2024-10-18T00:00:00.000000000",
          "2024-10-18T00:00:00.000000000",
          "2024-10-18T00:00:00.000000000",
          "2024-11-18T00:00:00.000000000",
          "2024-11-18T00:00:00.000000000",
          "2024-11-18T00:00:00.000000000",
          "2024-11-18T00:00:00.000000000",
          "2024-11-18T00:00:00.000000000",
          "2024-11-26T00:00:00.000000000",
          "2024-11-26T00:00:00.000000000",
          "2024-12-02T00:00:00.000000000",
          "2024-12-02T00:00:00.000000000",
          "2024-12-17T00:00:00.000000000",
          "2024-12-18T00:00:00.000000000",
          "2024-12-26T00:00:00.000000000",
          "2025-01-29T00:00:00.000000000",
          "2025-01-30T00:00:00.000000000",
          "2025-01-30T00:00:00.000000000",
          "2025-01-31T00:00:00.000000000",
          "2025-02-09T00:00:00.000000000",
          "2025-03-23T00:00:00.000000000",
          "2025-04-11T00:00:00.000000000",
          "2025-04-16T00:00:00.000000000",
          "2025-06-27T00:00:00.000000000",
          "2025-07-03T00:00:00.000000000",
          "2025-08-01T00:00:00.000000000",
          "2025-08-03T00:00:00.000000000",
          "2025-12-02T00:00:00.000000000"
         ],
         "y": [
          "CT",
          "Imaging",
          "Urinalysis",
          "Hydrocephalus",
          "Hypertensive disorder",
          "CBC",
          "Elevated WBC",
          "Migraine",
          "neurology CONSULT",
          "Nausea and vomiting",
          "Dizziness",
          "CT",
          "ECG",
          "Weight loss",
          "Epilepsy",
          "Topiramate",
          "Labs",
          "F/U",
          "Mood swings",
          "Hepatosplenomegaly",
          "Insomnia",
          "Imaging",
          "Eruption",
          "Gastrointestinal tract problem",
          "Disorder of optic nerve",
          "Multiple sclerosis",
          "prolactinoma",
          "Congenital malformation",
          "Nausea and vomiting",
          "Agnosia",
          "Pituitary macroadenoma",
          "Medication administration",
          "Bladder irritability",
          "prolactinoma",
          "Mood swings",
          "Multiple sclerosis",
          "Eruption",
          "Nuclear medicine imaging",
          "Elevated CRP",
          "Hospital admission",
          "Urinary frequency",
          "CT head",
          "Internal carotid artery stenosis",
          "evaluation",
          "MRI",
          "resolving prolactinoma",
          "Nausea and vomiting",
          "high cortisol",
          "Schizophrenia",
          "Mood swings",
          "Hypoadrenalism",
          "Pituitary adenoma",
          "Diabetes mellitus"
         ]
        }
       ],
       "layout": {
        "template": {
         "data": {
          "bar": [
           {
            "error_x": {
             "color": "#2a3f5f"
            },
            "error_y": {
             "color": "#2a3f5f"
            },
            "marker": {
             "line": {
              "color": "#E5ECF6",
              "width": 0.5
             },
             "pattern": {
              "fillmode": "overlay",
              "size": 10,
              "solidity": 0.2
             }
            },
            "type": "bar"
           }
          ],
          "barpolar": [
           {
            "marker": {
             "line": {
              "color": "#E5ECF6",
              "width": 0.5
             },
             "pattern": {
              "fillmode": "overlay",
              "size": 10,
              "solidity": 0.2
             }
            },
            "type": "barpolar"
           }
          ],
          "carpet": [
           {
            "aaxis": {
             "endlinecolor": "#2a3f5f",
             "gridcolor": "white",
             "linecolor": "white",
             "minorgridcolor": "white",
             "startlinecolor": "#2a3f5f"
            },
            "baxis": {
             "endlinecolor": "#2a3f5f",
             "gridcolor": "white",
             "linecolor": "white",
             "minorgridcolor": "white",
             "startlinecolor": "#2a3f5f"
            },
            "type": "carpet"
           }
          ],
          "choropleth": [
           {
            "colorbar": {
             "outlinewidth": 0,
             "ticks": ""
            },
            "type": "choropleth"
           }
          ],
          "contour": [
           {
            "colorbar": {
             "outlinewidth": 0,
             "ticks": ""
            },
            "colorscale": [
             [
              0,
              "#0d0887"
             ],
             [
              0.1111111111111111,
              "#46039f"
             ],
             [
              0.2222222222222222,
              "#7201a8"
             ],
             [
              0.3333333333333333,
              "#9c179e"
             ],
             [
              0.4444444444444444,
              "#bd3786"
             ],
             [
              0.5555555555555556,
              "#d8576b"
             ],
             [
              0.6666666666666666,
              "#ed7953"
             ],
             [
              0.7777777777777778,
              "#fb9f3a"
             ],
             [
              0.8888888888888888,
              "#fdca26"
             ],
             [
              1,
              "#f0f921"
             ]
            ],
            "type": "contour"
           }
          ],
          "contourcarpet": [
           {
            "colorbar": {
             "outlinewidth": 0,
             "ticks": ""
            },
            "type": "contourcarpet"
           }
          ],
          "heatmap": [
           {
            "colorbar": {
             "outlinewidth": 0,
             "ticks": ""
            },
            "colorscale": [
             [
              0,
              "#0d0887"
             ],
             [
              0.1111111111111111,
              "#46039f"
             ],
             [
              0.2222222222222222,
              "#7201a8"
             ],
             [
              0.3333333333333333,
              "#9c179e"
             ],
             [
              0.4444444444444444,
              "#bd3786"
             ],
             [
              0.5555555555555556,
              "#d8576b"
             ],
             [
              0.6666666666666666,
              "#ed7953"
             ],
             [
              0.7777777777777778,
              "#fb9f3a"
             ],
             [
              0.8888888888888888,
              "#fdca26"
             ],
             [
              1,
              "#f0f921"
             ]
            ],
            "type": "heatmap"
           }
          ],
          "histogram": [
           {
            "marker": {
             "pattern": {
              "fillmode": "overlay",
              "size": 10,
              "solidity": 0.2
             }
            },
            "type": "histogram"
           }
          ],
          "histogram2d": [
           {
            "colorbar": {
             "outlinewidth": 0,
             "ticks": ""
            },
            "colorscale": [
             [
              0,
              "#0d0887"
             ],
             [
              0.1111111111111111,
              "#46039f"
             ],
             [
              0.2222222222222222,
              "#7201a8"
             ],
             [
              0.3333333333333333,
              "#9c179e"
             ],
             [
              0.4444444444444444,
              "#bd3786"
             ],
             [
              0.5555555555555556,
              "#d8576b"
             ],
             [
              0.6666666666666666,
              "#ed7953"
             ],
             [
              0.7777777777777778,
              "#fb9f3a"
             ],
             [
              0.8888888888888888,
              "#fdca26"
             ],
             [
              1,
              "#f0f921"
             ]
            ],
            "type": "histogram2d"
           }
          ],
          "histogram2dcontour": [
           {
            "colorbar": {
             "outlinewidth": 0,
             "ticks": ""
            },
            "colorscale": [
             [
              0,
              "#0d0887"
             ],
             [
              0.1111111111111111,
              "#46039f"
             ],
             [
              0.2222222222222222,
              "#7201a8"
             ],
             [
              0.3333333333333333,
              "#9c179e"
             ],
             [
              0.4444444444444444,
              "#bd3786"
             ],
             [
              0.5555555555555556,
              "#d8576b"
             ],
             [
              0.6666666666666666,
              "#ed7953"
             ],
             [
              0.7777777777777778,
              "#fb9f3a"
             ],
             [
              0.8888888888888888,
              "#fdca26"
             ],
             [
              1,
              "#f0f921"
             ]
            ],
            "type": "histogram2dcontour"
           }
          ],
          "mesh3d": [
           {
            "colorbar": {
             "outlinewidth": 0,
             "ticks": ""
            },
            "type": "mesh3d"
           }
          ],
          "parcoords": [
           {
            "line": {
             "colorbar": {
              "outlinewidth": 0,
              "ticks": ""
             }
            },
            "type": "parcoords"
           }
          ],
          "pie": [
           {
            "automargin": true,
            "type": "pie"
           }
          ],
          "scatter": [
           {
            "fillpattern": {
             "fillmode": "overlay",
             "size": 10,
             "solidity": 0.2
            },
            "type": "scatter"
           }
          ],
          "scatter3d": [
           {
            "line": {
             "colorbar": {
              "outlinewidth": 0,
              "ticks": ""
             }
            },
            "marker": {
             "colorbar": {
              "outlinewidth": 0,
              "ticks": ""
             }
            },
            "type": "scatter3d"
           }
          ],
          "scattercarpet": [
           {
            "marker": {
             "colorbar": {
              "outlinewidth": 0,
              "ticks": ""
             }
            },
            "type": "scattercarpet"
           }
          ],
          "scattergeo": [
           {
            "marker": {
             "colorbar": {
              "outlinewidth": 0,
              "ticks": ""
             }
            },
            "type": "scattergeo"
           }
          ],
          "scattergl": [
           {
            "marker": {
             "colorbar": {
              "outlinewidth": 0,
              "ticks": ""
             }
            },
            "type": "scattergl"
           }
          ],
          "scattermap": [
           {
            "marker": {
             "colorbar": {
              "outlinewidth": 0,
              "ticks": ""
             }
            },
            "type": "scattermap"
           }
          ],
          "scattermapbox": [
           {
            "marker": {
             "colorbar": {
              "outlinewidth": 0,
              "ticks": ""
             }
            },
            "type": "scattermapbox"
           }
          ],
          "scatterpolar": [
           {
            "marker": {
             "colorbar": {
              "outlinewidth": 0,
              "ticks": ""
             }
            },
            "type": "scatterpolar"
           }
          ],
          "scatterpolargl": [
           {
            "marker": {
             "colorbar": {
              "outlinewidth": 0,
              "ticks": ""
             }
            },
            "type": "scatterpolargl"
           }
          ],
          "scatterternary": [
           {
            "marker": {
             "colorbar": {
              "outlinewidth": 0,
              "ticks": ""
             }
            },
            "type": "scatterternary"
           }
          ],
          "surface": [
           {
            "colorbar": {
             "outlinewidth": 0,
             "ticks": ""
            },
            "colorscale": [
             [
              0,
              "#0d0887"
             ],
             [
              0.1111111111111111,
              "#46039f"
             ],
             [
              0.2222222222222222,
              "#7201a8"
             ],
             [
              0.3333333333333333,
              "#9c179e"
             ],
             [
              0.4444444444444444,
              "#bd3786"
             ],
             [
              0.5555555555555556,
              "#d8576b"
             ],
             [
              0.6666666666666666,
              "#ed7953"
             ],
             [
              0.7777777777777778,
              "#fb9f3a"
             ],
             [
              0.8888888888888888,
              "#fdca26"
             ],
             [
              1,
              "#f0f921"
             ]
            ],
            "type": "surface"
           }
          ],
          "table": [
           {
            "cells": {
             "fill": {
              "color": "#EBF0F8"
             },
             "line": {
              "color": "white"
             }
            },
            "header": {
             "fill": {
              "color": "#C8D4E3"
             },
             "line": {
              "color": "white"
             }
            },
            "type": "table"
           }
          ]
         },
         "layout": {
          "annotationdefaults": {
           "arrowcolor": "#2a3f5f",
           "arrowhead": 0,
           "arrowwidth": 1
          },
          "autotypenumbers": "strict",
          "coloraxis": {
           "colorbar": {
            "outlinewidth": 0,
            "ticks": ""
           }
          },
          "colorscale": {
           "diverging": [
            [
             0,
             "#8e0152"
            ],
            [
             0.1,
             "#c51b7d"
            ],
            [
             0.2,
             "#de77ae"
            ],
            [
             0.3,
             "#f1b6da"
            ],
            [
             0.4,
             "#fde0ef"
            ],
            [
             0.5,
             "#f7f7f7"
            ],
            [
             0.6,
             "#e6f5d0"
            ],
            [
             0.7,
             "#b8e186"
            ],
            [
             0.8,
             "#7fbc41"
            ],
            [
             0.9,
             "#4d9221"
            ],
            [
             1,
             "#276419"
            ]
           ],
           "sequential": [
            [
             0,
             "#0d0887"
            ],
            [
             0.1111111111111111,
             "#46039f"
            ],
            [
             0.2222222222222222,
             "#7201a8"
            ],
            [
             0.3333333333333333,
             "#9c179e"
            ],
            [
             0.4444444444444444,
             "#bd3786"
            ],
            [
             0.5555555555555556,
             "#d8576b"
            ],
            [
             0.6666666666666666,
             "#ed7953"
            ],
            [
             0.7777777777777778,
             "#fb9f3a"
            ],
            [
             0.8888888888888888,
             "#fdca26"
            ],
            [
             1,
             "#f0f921"
            ]
           ],
           "sequentialminus": [
            [
             0,
             "#0d0887"
            ],
            [
             0.1111111111111111,
             "#46039f"
            ],
            [
             0.2222222222222222,
             "#7201a8"
            ],
            [
             0.3333333333333333,
             "#9c179e"
            ],
            [
             0.4444444444444444,
             "#bd3786"
            ],
            [
             0.5555555555555556,
             "#d8576b"
            ],
            [
             0.6666666666666666,
             "#ed7953"
            ],
            [
             0.7777777777777778,
             "#fb9f3a"
            ],
            [
             0.8888888888888888,
             "#fdca26"
            ],
            [
             1,
             "#f0f921"
            ]
           ]
          },
          "colorway": [
           "#636efa",
           "#EF553B",
           "#00cc96",
           "#ab63fa",
           "#FFA15A",
           "#19d3f3",
           "#FF6692",
           "#B6E880",
           "#FF97FF",
           "#FECB52"
          ],
          "font": {
           "color": "#2a3f5f"
          },
          "geo": {
           "bgcolor": "white",
           "lakecolor": "white",
           "landcolor": "#E5ECF6",
           "showlakes": true,
           "showland": true,
           "subunitcolor": "white"
          },
          "hoverlabel": {
           "align": "left"
          },
          "hovermode": "closest",
          "mapbox": {
           "style": "light"
          },
          "paper_bgcolor": "white",
          "plot_bgcolor": "#E5ECF6",
          "polar": {
           "angularaxis": {
            "gridcolor": "white",
            "linecolor": "white",
            "ticks": ""
           },
           "bgcolor": "#E5ECF6",
           "radialaxis": {
            "gridcolor": "white",
            "linecolor": "white",
            "ticks": ""
           }
          },
          "scene": {
           "xaxis": {
            "backgroundcolor": "#E5ECF6",
            "gridcolor": "white",
            "gridwidth": 2,
            "linecolor": "white",
            "showbackground": true,
            "ticks": "",
            "zerolinecolor": "white"
           },
           "yaxis": {
            "backgroundcolor": "#E5ECF6",
            "gridcolor": "white",
            "gridwidth": 2,
            "linecolor": "white",
            "showbackground": true,
            "ticks": "",
            "zerolinecolor": "white"
           },
           "zaxis": {
            "backgroundcolor": "#E5ECF6",
            "gridcolor": "white",
            "gridwidth": 2,
            "linecolor": "white",
            "showbackground": true,
            "ticks": "",
            "zerolinecolor": "white"
           }
          },
          "shapedefaults": {
           "line": {
            "color": "#2a3f5f"
           }
          },
          "ternary": {
           "aaxis": {
            "gridcolor": "white",
            "linecolor": "white",
            "ticks": ""
           },
           "baxis": {
            "gridcolor": "white",
            "linecolor": "white",
            "ticks": ""
           },
           "bgcolor": "#E5ECF6",
           "caxis": {
            "gridcolor": "white",
            "linecolor": "white",
            "ticks": ""
           }
          },
          "title": {
           "x": 0.05
          },
          "xaxis": {
           "automargin": true,
           "gridcolor": "white",
           "linecolor": "white",
           "ticks": "",
           "title": {
            "standoff": 15
           },
           "zerolinecolor": "white",
           "zerolinewidth": 2
          },
          "yaxis": {
           "automargin": true,
           "gridcolor": "white",
           "linecolor": "white",
           "ticks": "",
           "title": {
            "standoff": 15
           },
           "zerolinecolor": "white",
           "zerolinewidth": 2
          }
         }
        },
        "title": {
         "text": "Clinical Timeline for Patient 5"
        },
        "xaxis": {
         "title": {
          "text": "Date"
         }
        },
        "yaxis": {
         "autorange": "reversed",
         "title": {
          "text": "Clinical Events"
         }
        }
       }
      }
     },
     "metadata": {},
     "output_type": "display_data"
    },
    {
     "data": {
      "application/vnd.plotly.v1+json": {
       "config": {
        "plotlyServerURL": "https://plot.ly"
       },
       "data": [
        {
         "hoverinfo": "text",
         "hovertext": [
          "<b>ECG</b><br>Date: 2024-03-06",
          "<b>Chest X-ray</b><br>Date: 2024-05-01",
          "<b>Dizziness</b><br>Date: 2024-05-01",
          "<b>Infiltration</b><br>Date: 2024-05-01",
          "<b>Effusion</b><br>Date: 2024-05-01",
          "<b>Osteoarthritis</b><br>Date: 2024-05-01",
          "<b>CBC</b><br>Date: 2024-05-07",
          "<b>Gout</b><br>Date: 2024-06-15",
          "<b>Chest pain</b><br>Date: 2024-06-25",
          "<b>Recurrent disease</b><br>Date: 2024-07-07",
          "<b>Cardiology CONSULT</b><br>Date: 2024-07-10",
          "<b>Gastrointestinal hemorrhage</b><br>Date: 2024-07-10",
          "<b>MRI</b><br>Date: 2024-07-31",
          "<b>Dizziness</b><br>Date: 2024-08-06",
          "<b>Sumatriptan</b><br>Date: 2024-08-07",
          "<b>Recurrent disease</b><br>Date: 2024-08-09",
          "<b>Parkinson's_disease</b><br>Date: 2024-09-09",
          "<b>Abnormal LFTs</b><br>Date: 2024-09-26",
          "<b>PET scan</b><br>Date: 2024-09-29",
          "<b>Rheumatology CONSULT</b><br>Date: 2024-10-08",
          "<b>Weight gain</b><br>Date: 2024-10-09",
          "<b>Schizophrenia</b><br>Date: 2024-10-16",
          "<b>Dizziness</b><br>Date: 2024-10-17",
          "<b>Hypertensive disorder</b><br>Date: 2024-11-17",
          "<b>Urinalysis</b><br>Date: 2024-11-25",
          "<b>Analgesic</b><br>Date: 2024-11-25",
          "<b>Cerebrovascular accident</b><br>Date: 2024-11-25",
          "<b>MRI</b><br>Date: 2024-11-25",
          "<b>Atrophy</b><br>Date: 2024-11-25",
          "<b>Mass</b><br>Date: 2024-11-25",
          "<b>MRI</b><br>Date: 2024-12-07",
          "<b>X-ray</b><br>Date: 2024-12-09",
          "<b>depression</b><br>Date: 2024-12-10",
          "<b>Mass</b><br>Date: 2024-12-12",
          "<b>MRI</b><br>Date: 2024-12-16",
          "<b>GI visit</b><br>Date: 2024-12-28",
          "<b>Urinary frequency</b><br>Date: 2025-01-01",
          "<b>Metformin</b><br>Date: 2025-01-12",
          "<b>Backache</b><br>Date: 2025-01-16",
          "<b>Mood swings</b><br>Date: 2025-01-19",
          "<b>low vitamin D</b><br>Date: 2025-02-07",
          "<b>Excessive thirst</b><br>Date: 2025-02-10",
          "<b>PET scan</b><br>Date: 2025-02-14",
          "<b>ECG</b><br>Date: 2025-02-15",
          "<b>Mood swings</b><br>Date: 2025-02-17",
          "<b>Recurrent disease</b><br>Date: 2025-02-17",
          "<b>Schizophrenia</b><br>Date: 2025-02-17",
          "<b>Anemia</b><br>Date: 2025-02-24",
          "<b>Insomnia</b><br>Date: 2025-03-26",
          "<b>Cluster headache syndrome</b><br>Date: 2025-03-26",
          "<b>improved</b><br>Date: 2025-03-26",
          "<b>Nausea</b><br>Date: 2025-03-31",
          "<b>low vitamin D</b><br>Date: 2025-04-01",
          "<b>Nausea and vomiting</b><br>Date: 2025-04-01",
          "<b>Anxiety</b><br>Date: 2025-04-01",
          "<b>Bipolar disorder</b><br>Date: 2025-04-03",
          "<b>Bronchitis</b><br>Date: 2025-05-03",
          "<b>X-ray</b><br>Date: 2025-05-09",
          "<b>Hypothyroidism</b><br>Date: 2025-05-30",
          "<b>Epilepsy</b><br>Date: 2025-06-06",
          "<b>Backache</b><br>Date: 2025-06-06",
          "<b>Adjustment</b><br>Date: 2025-06-16",
          "<b>Aspirin</b><br>Date: 2025-07-13",
          "<b>GERD</b><br>Date: 2025-07-23",
          "<b>Pneumonia</b><br>Date: 2025-08-18",
          "<b>Epilepsy</b><br>Date: 2025-10-05",
          "<b>Fatigue</b><br>Date: 2025-10-05",
          "<b>Migraine</b><br>Date: 2025-12-23"
         ],
         "marker": {
          "size": 10
         },
         "mode": "markers",
         "type": "scatter",
         "x": [
          "2024-03-06T00:00:00.000000000",
          "2024-05-01T00:00:00.000000000",
          "2024-05-01T00:00:00.000000000",
          "2024-05-01T00:00:00.000000000",
          "2024-05-01T00:00:00.000000000",
          "2024-05-01T00:00:00.000000000",
          "2024-05-07T00:00:00.000000000",
          "2024-06-15T00:00:00.000000000",
          "2024-06-25T00:00:00.000000000",
          "2024-07-07T00:00:00.000000000",
          "2024-07-10T00:00:00.000000000",
          "2024-07-10T00:00:00.000000000",
          "2024-07-31T00:00:00.000000000",
          "2024-08-06T00:00:00.000000000",
          "2024-08-07T00:00:00.000000000",
          "2024-08-09T00:00:00.000000000",
          "2024-09-09T00:00:00.000000000",
          "2024-09-26T00:00:00.000000000",
          "2024-09-29T00:00:00.000000000",
          "2024-10-08T00:00:00.000000000",
          "2024-10-09T00:00:00.000000000",
          "2024-10-16T00:00:00.000000000",
          "2024-10-17T00:00:00.000000000",
          "2024-11-17T00:00:00.000000000",
          "2024-11-25T00:00:00.000000000",
          "2024-11-25T00:00:00.000000000",
          "2024-11-25T00:00:00.000000000",
          "2024-11-25T00:00:00.000000000",
          "2024-11-25T00:00:00.000000000",
          "2024-11-25T00:00:00.000000000",
          "2024-12-07T00:00:00.000000000",
          "2024-12-09T00:00:00.000000000",
          "2024-12-10T00:00:00.000000000",
          "2024-12-12T00:00:00.000000000",
          "2024-12-16T00:00:00.000000000",
          "2024-12-28T00:00:00.000000000",
          "2025-01-01T00:00:00.000000000",
          "2025-01-12T00:00:00.000000000",
          "2025-01-16T00:00:00.000000000",
          "2025-01-19T00:00:00.000000000",
          "2025-02-07T00:00:00.000000000",
          "2025-02-10T00:00:00.000000000",
          "2025-02-14T00:00:00.000000000",
          "2025-02-15T00:00:00.000000000",
          "2025-02-17T00:00:00.000000000",
          "2025-02-17T00:00:00.000000000",
          "2025-02-17T00:00:00.000000000",
          "2025-02-24T00:00:00.000000000",
          "2025-03-26T00:00:00.000000000",
          "2025-03-26T00:00:00.000000000",
          "2025-03-26T00:00:00.000000000",
          "2025-03-31T00:00:00.000000000",
          "2025-04-01T00:00:00.000000000",
          "2025-04-01T00:00:00.000000000",
          "2025-04-01T00:00:00.000000000",
          "2025-04-03T00:00:00.000000000",
          "2025-05-03T00:00:00.000000000",
          "2025-05-09T00:00:00.000000000",
          "2025-05-30T00:00:00.000000000",
          "2025-06-06T00:00:00.000000000",
          "2025-06-06T00:00:00.000000000",
          "2025-06-16T00:00:00.000000000",
          "2025-07-13T00:00:00.000000000",
          "2025-07-23T00:00:00.000000000",
          "2025-08-18T00:00:00.000000000",
          "2025-10-05T00:00:00.000000000",
          "2025-10-05T00:00:00.000000000",
          "2025-12-23T00:00:00.000000000"
         ],
         "y": [
          "ECG",
          "Chest X-ray",
          "Dizziness",
          "Infiltration",
          "Effusion",
          "Osteoarthritis",
          "CBC",
          "Gout",
          "Chest pain",
          "Recurrent disease",
          "Cardiology CONSULT",
          "Gastrointestinal hemorrhage",
          "MRI",
          "Dizziness",
          "Sumatriptan",
          "Recurrent disease",
          "Parkinson's_disease",
          "Abnormal LFTs",
          "PET scan",
          "Rheumatology CONSULT",
          "Weight gain",
          "Schizophrenia",
          "Dizziness",
          "Hypertensive disorder",
          "Urinalysis",
          "Analgesic",
          "Cerebrovascular accident",
          "MRI",
          "Atrophy",
          "Mass",
          "MRI",
          "X-ray",
          "depression",
          "Mass",
          "MRI",
          "GI visit",
          "Urinary frequency",
          "Metformin",
          "Backache",
          "Mood swings",
          "low vitamin D",
          "Excessive thirst",
          "PET scan",
          "ECG",
          "Mood swings",
          "Recurrent disease",
          "Schizophrenia",
          "Anemia",
          "Insomnia",
          "Cluster headache syndrome",
          "improved",
          "Nausea",
          "low vitamin D",
          "Nausea and vomiting",
          "Anxiety",
          "Bipolar disorder",
          "Bronchitis",
          "X-ray",
          "Hypothyroidism",
          "Epilepsy",
          "Backache",
          "Adjustment",
          "Aspirin",
          "GERD",
          "Pneumonia",
          "Epilepsy",
          "Fatigue",
          "Migraine"
         ]
        }
       ],
       "layout": {
        "template": {
         "data": {
          "bar": [
           {
            "error_x": {
             "color": "#2a3f5f"
            },
            "error_y": {
             "color": "#2a3f5f"
            },
            "marker": {
             "line": {
              "color": "#E5ECF6",
              "width": 0.5
             },
             "pattern": {
              "fillmode": "overlay",
              "size": 10,
              "solidity": 0.2
             }
            },
            "type": "bar"
           }
          ],
          "barpolar": [
           {
            "marker": {
             "line": {
              "color": "#E5ECF6",
              "width": 0.5
             },
             "pattern": {
              "fillmode": "overlay",
              "size": 10,
              "solidity": 0.2
             }
            },
            "type": "barpolar"
           }
          ],
          "carpet": [
           {
            "aaxis": {
             "endlinecolor": "#2a3f5f",
             "gridcolor": "white",
             "linecolor": "white",
             "minorgridcolor": "white",
             "startlinecolor": "#2a3f5f"
            },
            "baxis": {
             "endlinecolor": "#2a3f5f",
             "gridcolor": "white",
             "linecolor": "white",
             "minorgridcolor": "white",
             "startlinecolor": "#2a3f5f"
            },
            "type": "carpet"
           }
          ],
          "choropleth": [
           {
            "colorbar": {
             "outlinewidth": 0,
             "ticks": ""
            },
            "type": "choropleth"
           }
          ],
          "contour": [
           {
            "colorbar": {
             "outlinewidth": 0,
             "ticks": ""
            },
            "colorscale": [
             [
              0,
              "#0d0887"
             ],
             [
              0.1111111111111111,
              "#46039f"
             ],
             [
              0.2222222222222222,
              "#7201a8"
             ],
             [
              0.3333333333333333,
              "#9c179e"
             ],
             [
              0.4444444444444444,
              "#bd3786"
             ],
             [
              0.5555555555555556,
              "#d8576b"
             ],
             [
              0.6666666666666666,
              "#ed7953"
             ],
             [
              0.7777777777777778,
              "#fb9f3a"
             ],
             [
              0.8888888888888888,
              "#fdca26"
             ],
             [
              1,
              "#f0f921"
             ]
            ],
            "type": "contour"
           }
          ],
          "contourcarpet": [
           {
            "colorbar": {
             "outlinewidth": 0,
             "ticks": ""
            },
            "type": "contourcarpet"
           }
          ],
          "heatmap": [
           {
            "colorbar": {
             "outlinewidth": 0,
             "ticks": ""
            },
            "colorscale": [
             [
              0,
              "#0d0887"
             ],
             [
              0.1111111111111111,
              "#46039f"
             ],
             [
              0.2222222222222222,
              "#7201a8"
             ],
             [
              0.3333333333333333,
              "#9c179e"
             ],
             [
              0.4444444444444444,
              "#bd3786"
             ],
             [
              0.5555555555555556,
              "#d8576b"
             ],
             [
              0.6666666666666666,
              "#ed7953"
             ],
             [
              0.7777777777777778,
              "#fb9f3a"
             ],
             [
              0.8888888888888888,
              "#fdca26"
             ],
             [
              1,
              "#f0f921"
             ]
            ],
            "type": "heatmap"
           }
          ],
          "histogram": [
           {
            "marker": {
             "pattern": {
              "fillmode": "overlay",
              "size": 10,
              "solidity": 0.2
             }
            },
            "type": "histogram"
           }
          ],
          "histogram2d": [
           {
            "colorbar": {
             "outlinewidth": 0,
             "ticks": ""
            },
            "colorscale": [
             [
              0,
              "#0d0887"
             ],
             [
              0.1111111111111111,
              "#46039f"
             ],
             [
              0.2222222222222222,
              "#7201a8"
             ],
             [
              0.3333333333333333,
              "#9c179e"
             ],
             [
              0.4444444444444444,
              "#bd3786"
             ],
             [
              0.5555555555555556,
              "#d8576b"
             ],
             [
              0.6666666666666666,
              "#ed7953"
             ],
             [
              0.7777777777777778,
              "#fb9f3a"
             ],
             [
              0.8888888888888888,
              "#fdca26"
             ],
             [
              1,
              "#f0f921"
             ]
            ],
            "type": "histogram2d"
           }
          ],
          "histogram2dcontour": [
           {
            "colorbar": {
             "outlinewidth": 0,
             "ticks": ""
            },
            "colorscale": [
             [
              0,
              "#0d0887"
             ],
             [
              0.1111111111111111,
              "#46039f"
             ],
             [
              0.2222222222222222,
              "#7201a8"
             ],
             [
              0.3333333333333333,
              "#9c179e"
             ],
             [
              0.4444444444444444,
              "#bd3786"
             ],
             [
              0.5555555555555556,
              "#d8576b"
             ],
             [
              0.6666666666666666,
              "#ed7953"
             ],
             [
              0.7777777777777778,
              "#fb9f3a"
             ],
             [
              0.8888888888888888,
              "#fdca26"
             ],
             [
              1,
              "#f0f921"
             ]
            ],
            "type": "histogram2dcontour"
           }
          ],
          "mesh3d": [
           {
            "colorbar": {
             "outlinewidth": 0,
             "ticks": ""
            },
            "type": "mesh3d"
           }
          ],
          "parcoords": [
           {
            "line": {
             "colorbar": {
              "outlinewidth": 0,
              "ticks": ""
             }
            },
            "type": "parcoords"
           }
          ],
          "pie": [
           {
            "automargin": true,
            "type": "pie"
           }
          ],
          "scatter": [
           {
            "fillpattern": {
             "fillmode": "overlay",
             "size": 10,
             "solidity": 0.2
            },
            "type": "scatter"
           }
          ],
          "scatter3d": [
           {
            "line": {
             "colorbar": {
              "outlinewidth": 0,
              "ticks": ""
             }
            },
            "marker": {
             "colorbar": {
              "outlinewidth": 0,
              "ticks": ""
             }
            },
            "type": "scatter3d"
           }
          ],
          "scattercarpet": [
           {
            "marker": {
             "colorbar": {
              "outlinewidth": 0,
              "ticks": ""
             }
            },
            "type": "scattercarpet"
           }
          ],
          "scattergeo": [
           {
            "marker": {
             "colorbar": {
              "outlinewidth": 0,
              "ticks": ""
             }
            },
            "type": "scattergeo"
           }
          ],
          "scattergl": [
           {
            "marker": {
             "colorbar": {
              "outlinewidth": 0,
              "ticks": ""
             }
            },
            "type": "scattergl"
           }
          ],
          "scattermap": [
           {
            "marker": {
             "colorbar": {
              "outlinewidth": 0,
              "ticks": ""
             }
            },
            "type": "scattermap"
           }
          ],
          "scattermapbox": [
           {
            "marker": {
             "colorbar": {
              "outlinewidth": 0,
              "ticks": ""
             }
            },
            "type": "scattermapbox"
           }
          ],
          "scatterpolar": [
           {
            "marker": {
             "colorbar": {
              "outlinewidth": 0,
              "ticks": ""
             }
            },
            "type": "scatterpolar"
           }
          ],
          "scatterpolargl": [
           {
            "marker": {
             "colorbar": {
              "outlinewidth": 0,
              "ticks": ""
             }
            },
            "type": "scatterpolargl"
           }
          ],
          "scatterternary": [
           {
            "marker": {
             "colorbar": {
              "outlinewidth": 0,
              "ticks": ""
             }
            },
            "type": "scatterternary"
           }
          ],
          "surface": [
           {
            "colorbar": {
             "outlinewidth": 0,
             "ticks": ""
            },
            "colorscale": [
             [
              0,
              "#0d0887"
             ],
             [
              0.1111111111111111,
              "#46039f"
             ],
             [
              0.2222222222222222,
              "#7201a8"
             ],
             [
              0.3333333333333333,
              "#9c179e"
             ],
             [
              0.4444444444444444,
              "#bd3786"
             ],
             [
              0.5555555555555556,
              "#d8576b"
             ],
             [
              0.6666666666666666,
              "#ed7953"
             ],
             [
              0.7777777777777778,
              "#fb9f3a"
             ],
             [
              0.8888888888888888,
              "#fdca26"
             ],
             [
              1,
              "#f0f921"
             ]
            ],
            "type": "surface"
           }
          ],
          "table": [
           {
            "cells": {
             "fill": {
              "color": "#EBF0F8"
             },
             "line": {
              "color": "white"
             }
            },
            "header": {
             "fill": {
              "color": "#C8D4E3"
             },
             "line": {
              "color": "white"
             }
            },
            "type": "table"
           }
          ]
         },
         "layout": {
          "annotationdefaults": {
           "arrowcolor": "#2a3f5f",
           "arrowhead": 0,
           "arrowwidth": 1
          },
          "autotypenumbers": "strict",
          "coloraxis": {
           "colorbar": {
            "outlinewidth": 0,
            "ticks": ""
           }
          },
          "colorscale": {
           "diverging": [
            [
             0,
             "#8e0152"
            ],
            [
             0.1,
             "#c51b7d"
            ],
            [
             0.2,
             "#de77ae"
            ],
            [
             0.3,
             "#f1b6da"
            ],
            [
             0.4,
             "#fde0ef"
            ],
            [
             0.5,
             "#f7f7f7"
            ],
            [
             0.6,
             "#e6f5d0"
            ],
            [
             0.7,
             "#b8e186"
            ],
            [
             0.8,
             "#7fbc41"
            ],
            [
             0.9,
             "#4d9221"
            ],
            [
             1,
             "#276419"
            ]
           ],
           "sequential": [
            [
             0,
             "#0d0887"
            ],
            [
             0.1111111111111111,
             "#46039f"
            ],
            [
             0.2222222222222222,
             "#7201a8"
            ],
            [
             0.3333333333333333,
             "#9c179e"
            ],
            [
             0.4444444444444444,
             "#bd3786"
            ],
            [
             0.5555555555555556,
             "#d8576b"
            ],
            [
             0.6666666666666666,
             "#ed7953"
            ],
            [
             0.7777777777777778,
             "#fb9f3a"
            ],
            [
             0.8888888888888888,
             "#fdca26"
            ],
            [
             1,
             "#f0f921"
            ]
           ],
           "sequentialminus": [
            [
             0,
             "#0d0887"
            ],
            [
             0.1111111111111111,
             "#46039f"
            ],
            [
             0.2222222222222222,
             "#7201a8"
            ],
            [
             0.3333333333333333,
             "#9c179e"
            ],
            [
             0.4444444444444444,
             "#bd3786"
            ],
            [
             0.5555555555555556,
             "#d8576b"
            ],
            [
             0.6666666666666666,
             "#ed7953"
            ],
            [
             0.7777777777777778,
             "#fb9f3a"
            ],
            [
             0.8888888888888888,
             "#fdca26"
            ],
            [
             1,
             "#f0f921"
            ]
           ]
          },
          "colorway": [
           "#636efa",
           "#EF553B",
           "#00cc96",
           "#ab63fa",
           "#FFA15A",
           "#19d3f3",
           "#FF6692",
           "#B6E880",
           "#FF97FF",
           "#FECB52"
          ],
          "font": {
           "color": "#2a3f5f"
          },
          "geo": {
           "bgcolor": "white",
           "lakecolor": "white",
           "landcolor": "#E5ECF6",
           "showlakes": true,
           "showland": true,
           "subunitcolor": "white"
          },
          "hoverlabel": {
           "align": "left"
          },
          "hovermode": "closest",
          "mapbox": {
           "style": "light"
          },
          "paper_bgcolor": "white",
          "plot_bgcolor": "#E5ECF6",
          "polar": {
           "angularaxis": {
            "gridcolor": "white",
            "linecolor": "white",
            "ticks": ""
           },
           "bgcolor": "#E5ECF6",
           "radialaxis": {
            "gridcolor": "white",
            "linecolor": "white",
            "ticks": ""
           }
          },
          "scene": {
           "xaxis": {
            "backgroundcolor": "#E5ECF6",
            "gridcolor": "white",
            "gridwidth": 2,
            "linecolor": "white",
            "showbackground": true,
            "ticks": "",
            "zerolinecolor": "white"
           },
           "yaxis": {
            "backgroundcolor": "#E5ECF6",
            "gridcolor": "white",
            "gridwidth": 2,
            "linecolor": "white",
            "showbackground": true,
            "ticks": "",
            "zerolinecolor": "white"
           },
           "zaxis": {
            "backgroundcolor": "#E5ECF6",
            "gridcolor": "white",
            "gridwidth": 2,
            "linecolor": "white",
            "showbackground": true,
            "ticks": "",
            "zerolinecolor": "white"
           }
          },
          "shapedefaults": {
           "line": {
            "color": "#2a3f5f"
           }
          },
          "ternary": {
           "aaxis": {
            "gridcolor": "white",
            "linecolor": "white",
            "ticks": ""
           },
           "baxis": {
            "gridcolor": "white",
            "linecolor": "white",
            "ticks": ""
           },
           "bgcolor": "#E5ECF6",
           "caxis": {
            "gridcolor": "white",
            "linecolor": "white",
            "ticks": ""
           }
          },
          "title": {
           "x": 0.05
          },
          "xaxis": {
           "automargin": true,
           "gridcolor": "white",
           "linecolor": "white",
           "ticks": "",
           "title": {
            "standoff": 15
           },
           "zerolinecolor": "white",
           "zerolinewidth": 2
          },
          "yaxis": {
           "automargin": true,
           "gridcolor": "white",
           "linecolor": "white",
           "ticks": "",
           "title": {
            "standoff": 15
           },
           "zerolinecolor": "white",
           "zerolinewidth": 2
          }
         }
        },
        "title": {
         "text": "Clinical Timeline for Patient 6"
        },
        "xaxis": {
         "title": {
          "text": "Date"
         }
        },
        "yaxis": {
         "autorange": "reversed",
         "title": {
          "text": "Clinical Events"
         }
        }
       }
      }
     },
     "metadata": {},
     "output_type": "display_data"
    },
    {
     "data": {
      "application/vnd.plotly.v1+json": {
       "config": {
        "plotlyServerURL": "https://plot.ly"
       },
       "data": [
        {
         "hoverinfo": "text",
         "hovertext": [
          "<b>Bipolar disorder</b><br>Date: 2024-04-12",
          "<b>Bipolar disorder</b><br>Date: 2024-04-21",
          "<b>Atorvastatin</b><br>Date: 2024-05-10",
          "<b>Metformin</b><br>Date: 2024-05-10",
          "<b>Lisinopril</b><br>Date: 2024-05-10",
          "<b>Bronchitis</b><br>Date: 2024-05-11",
          "<b>Liver function tests</b><br>Date: 2024-05-22",
          "<b>Parkinson's disease</b><br>Date: 2024-06-08",
          "<b>Urinalysis</b><br>Date: 2024-06-11",
          "<b>Chest pain</b><br>Date: 2024-06-22",
          "<b>Eruption</b><br>Date: 2024-06-28",
          "<b>Distress</b><br>Date: 2024-07-03",
          "<b>Weight gain</b><br>Date: 2024-07-03",
          "<b>Asthma</b><br>Date: 2024-07-03",
          "<b>Liver function tests</b><br>Date: 2024-07-03",
          "<b>Labs</b><br>Date: 2024-07-19",
          "<b>Labs</b><br>Date: 2024-07-24",
          "<b>back pain</b><br>Date: 2024-08-06",
          "<b>cerebral hemorrhage</b><br>Date: 2024-08-06",
          "<b>Congenital malformation</b><br>Date: 2024-08-06",
          "<b>Bipolar disorder</b><br>Date: 2024-08-06",
          "<b>adjusted medication dosages</b><br>Date: 2024-08-06",
          "<b>Disorder of pituitary gland</b><br>Date: 2024-08-06",
          "<b>Imaging studies</b><br>Date: 2024-08-06",
          "<b>Joint pain</b><br>Date: 2024-08-10",
          "<b>neoplasm of pituitary gland</b><br>Date: 2024-08-10",
          "<b>Schizophrenia</b><br>Date: 2024-08-26",
          "<b>X-ray</b><br>Date: 2024-08-29",
          "<b>Hyperglycemia</b><br>Date: 2024-09-24",
          "<b>Eruption</b><br>Date: 2024-10-19",
          "<b>Migraine</b><br>Date: 2024-11-07",
          "<b>MRI</b><br>Date: 2024-11-12",
          "<b>Congenital malformation</b><br>Date: 2024-11-12",
          "<b>CT head</b><br>Date: 2024-11-12",
          "<b>TSH test</b><br>Date: 2024-11-14",
          "<b>Anemia</b><br>Date: 2024-11-20",
          "<b>Bipolar disorder</b><br>Date: 2024-11-29",
          "<b>Tension-type headache</b><br>Date: 2024-12-03",
          "<b>Mood swings</b><br>Date: 2024-12-03",
          "<b>MRI</b><br>Date: 2024-12-04",
          "<b>CBC</b><br>Date: 2024-12-14",
          "<b>Bipolar disorder</b><br>Date: 2025-01-06",
          "<b>Insomnia</b><br>Date: 2025-01-06",
          "<b>lymphoma</b><br>Date: 2025-01-12",
          "<b>Excessive thirst</b><br>Date: 2025-01-12",
          "<b>COPD</b><br>Date: 2025-01-17",
          "<b>Hyperthyroidism</b><br>Date: 2025-01-17",
          "<b>stroke</b><br>Date: 2025-01-18",
          "<b>Joint pain</b><br>Date: 2025-01-20",
          "<b>Prednisone</b><br>Date: 2025-01-24",
          "<b>Mass</b><br>Date: 2025-01-25",
          "<b>Eruption</b><br>Date: 2025-01-27",
          "<b>Hyperglycemia</b><br>Date: 2025-02-18",
          "<b>Phone note</b><br>Date: 2025-02-20",
          "<b>Adjustment</b><br>Date: 2025-02-23",
          "<b>resolvin Medication</b><br>Date: 2025-02-23",
          "<b>URGENT REVIEW</b><br>Date: 2025-04-17",
          "<b>Parkinson's disease</b><br>Date: 2025-05-24",
          "<b>Joint pain</b><br>Date: 2025-10-30",
          "<b>hyperlipidemia</b><br>Date: 2025-10-30",
          "<b>Lisinopril</b><br>Date: 2025-10-30",
          "<b>PET scan</b><br>Date: 2025-11-01",
          "<b>frequent urin Labs</b><br>Date: 2025-12-11"
         ],
         "marker": {
          "size": 10
         },
         "mode": "markers",
         "type": "scatter",
         "x": [
          "2024-04-12T00:00:00.000000000",
          "2024-04-21T00:00:00.000000000",
          "2024-05-10T00:00:00.000000000",
          "2024-05-10T00:00:00.000000000",
          "2024-05-10T00:00:00.000000000",
          "2024-05-11T00:00:00.000000000",
          "2024-05-22T00:00:00.000000000",
          "2024-06-08T00:00:00.000000000",
          "2024-06-11T00:00:00.000000000",
          "2024-06-22T00:00:00.000000000",
          "2024-06-28T00:00:00.000000000",
          "2024-07-03T00:00:00.000000000",
          "2024-07-03T00:00:00.000000000",
          "2024-07-03T00:00:00.000000000",
          "2024-07-03T00:00:00.000000000",
          "2024-07-19T00:00:00.000000000",
          "2024-07-24T00:00:00.000000000",
          "2024-08-06T00:00:00.000000000",
          "2024-08-06T00:00:00.000000000",
          "2024-08-06T00:00:00.000000000",
          "2024-08-06T00:00:00.000000000",
          "2024-08-06T00:00:00.000000000",
          "2024-08-06T00:00:00.000000000",
          "2024-08-06T00:00:00.000000000",
          "2024-08-10T00:00:00.000000000",
          "2024-08-10T00:00:00.000000000",
          "2024-08-26T00:00:00.000000000",
          "2024-08-29T00:00:00.000000000",
          "2024-09-24T00:00:00.000000000",
          "2024-10-19T00:00:00.000000000",
          "2024-11-07T00:00:00.000000000",
          "2024-11-12T00:00:00.000000000",
          "2024-11-12T00:00:00.000000000",
          "2024-11-12T00:00:00.000000000",
          "2024-11-14T00:00:00.000000000",
          "2024-11-20T00:00:00.000000000",
          "2024-11-29T00:00:00.000000000",
          "2024-12-03T00:00:00.000000000",
          "2024-12-03T00:00:00.000000000",
          "2024-12-04T00:00:00.000000000",
          "2024-12-14T00:00:00.000000000",
          "2025-01-06T00:00:00.000000000",
          "2025-01-06T00:00:00.000000000",
          "2025-01-12T00:00:00.000000000",
          "2025-01-12T00:00:00.000000000",
          "2025-01-17T00:00:00.000000000",
          "2025-01-17T00:00:00.000000000",
          "2025-01-18T00:00:00.000000000",
          "2025-01-20T00:00:00.000000000",
          "2025-01-24T00:00:00.000000000",
          "2025-01-25T00:00:00.000000000",
          "2025-01-27T00:00:00.000000000",
          "2025-02-18T00:00:00.000000000",
          "2025-02-20T00:00:00.000000000",
          "2025-02-23T00:00:00.000000000",
          "2025-02-23T00:00:00.000000000",
          "2025-04-17T00:00:00.000000000",
          "2025-05-24T00:00:00.000000000",
          "2025-10-30T00:00:00.000000000",
          "2025-10-30T00:00:00.000000000",
          "2025-10-30T00:00:00.000000000",
          "2025-11-01T00:00:00.000000000",
          "2025-12-11T00:00:00.000000000"
         ],
         "y": [
          "Bipolar disorder",
          "Bipolar disorder",
          "Atorvastatin",
          "Metformin",
          "Lisinopril",
          "Bronchitis",
          "Liver function tests",
          "Parkinson's disease",
          "Urinalysis",
          "Chest pain",
          "Eruption",
          "Distress",
          "Weight gain",
          "Asthma",
          "Liver function tests",
          "Labs",
          "Labs",
          "back pain",
          "cerebral hemorrhage",
          "Congenital malformation",
          "Bipolar disorder",
          "adjusted medication dosages",
          "Disorder of pituitary gland",
          "Imaging studies",
          "Joint pain",
          "neoplasm of pituitary gland",
          "Schizophrenia",
          "X-ray",
          "Hyperglycemia",
          "Eruption",
          "Migraine",
          "MRI",
          "Congenital malformation",
          "CT head",
          "TSH test",
          "Anemia",
          "Bipolar disorder",
          "Tension-type headache",
          "Mood swings",
          "MRI",
          "CBC",
          "Bipolar disorder",
          "Insomnia",
          "lymphoma",
          "Excessive thirst",
          "COPD",
          "Hyperthyroidism",
          "stroke",
          "Joint pain",
          "Prednisone",
          "Mass",
          "Eruption",
          "Hyperglycemia",
          "Phone note",
          "Adjustment",
          "resolvin Medication",
          "URGENT REVIEW",
          "Parkinson's disease",
          "Joint pain",
          "hyperlipidemia",
          "Lisinopril",
          "PET scan",
          "frequent urin Labs"
         ]
        }
       ],
       "layout": {
        "template": {
         "data": {
          "bar": [
           {
            "error_x": {
             "color": "#2a3f5f"
            },
            "error_y": {
             "color": "#2a3f5f"
            },
            "marker": {
             "line": {
              "color": "#E5ECF6",
              "width": 0.5
             },
             "pattern": {
              "fillmode": "overlay",
              "size": 10,
              "solidity": 0.2
             }
            },
            "type": "bar"
           }
          ],
          "barpolar": [
           {
            "marker": {
             "line": {
              "color": "#E5ECF6",
              "width": 0.5
             },
             "pattern": {
              "fillmode": "overlay",
              "size": 10,
              "solidity": 0.2
             }
            },
            "type": "barpolar"
           }
          ],
          "carpet": [
           {
            "aaxis": {
             "endlinecolor": "#2a3f5f",
             "gridcolor": "white",
             "linecolor": "white",
             "minorgridcolor": "white",
             "startlinecolor": "#2a3f5f"
            },
            "baxis": {
             "endlinecolor": "#2a3f5f",
             "gridcolor": "white",
             "linecolor": "white",
             "minorgridcolor": "white",
             "startlinecolor": "#2a3f5f"
            },
            "type": "carpet"
           }
          ],
          "choropleth": [
           {
            "colorbar": {
             "outlinewidth": 0,
             "ticks": ""
            },
            "type": "choropleth"
           }
          ],
          "contour": [
           {
            "colorbar": {
             "outlinewidth": 0,
             "ticks": ""
            },
            "colorscale": [
             [
              0,
              "#0d0887"
             ],
             [
              0.1111111111111111,
              "#46039f"
             ],
             [
              0.2222222222222222,
              "#7201a8"
             ],
             [
              0.3333333333333333,
              "#9c179e"
             ],
             [
              0.4444444444444444,
              "#bd3786"
             ],
             [
              0.5555555555555556,
              "#d8576b"
             ],
             [
              0.6666666666666666,
              "#ed7953"
             ],
             [
              0.7777777777777778,
              "#fb9f3a"
             ],
             [
              0.8888888888888888,
              "#fdca26"
             ],
             [
              1,
              "#f0f921"
             ]
            ],
            "type": "contour"
           }
          ],
          "contourcarpet": [
           {
            "colorbar": {
             "outlinewidth": 0,
             "ticks": ""
            },
            "type": "contourcarpet"
           }
          ],
          "heatmap": [
           {
            "colorbar": {
             "outlinewidth": 0,
             "ticks": ""
            },
            "colorscale": [
             [
              0,
              "#0d0887"
             ],
             [
              0.1111111111111111,
              "#46039f"
             ],
             [
              0.2222222222222222,
              "#7201a8"
             ],
             [
              0.3333333333333333,
              "#9c179e"
             ],
             [
              0.4444444444444444,
              "#bd3786"
             ],
             [
              0.5555555555555556,
              "#d8576b"
             ],
             [
              0.6666666666666666,
              "#ed7953"
             ],
             [
              0.7777777777777778,
              "#fb9f3a"
             ],
             [
              0.8888888888888888,
              "#fdca26"
             ],
             [
              1,
              "#f0f921"
             ]
            ],
            "type": "heatmap"
           }
          ],
          "histogram": [
           {
            "marker": {
             "pattern": {
              "fillmode": "overlay",
              "size": 10,
              "solidity": 0.2
             }
            },
            "type": "histogram"
           }
          ],
          "histogram2d": [
           {
            "colorbar": {
             "outlinewidth": 0,
             "ticks": ""
            },
            "colorscale": [
             [
              0,
              "#0d0887"
             ],
             [
              0.1111111111111111,
              "#46039f"
             ],
             [
              0.2222222222222222,
              "#7201a8"
             ],
             [
              0.3333333333333333,
              "#9c179e"
             ],
             [
              0.4444444444444444,
              "#bd3786"
             ],
             [
              0.5555555555555556,
              "#d8576b"
             ],
             [
              0.6666666666666666,
              "#ed7953"
             ],
             [
              0.7777777777777778,
              "#fb9f3a"
             ],
             [
              0.8888888888888888,
              "#fdca26"
             ],
             [
              1,
              "#f0f921"
             ]
            ],
            "type": "histogram2d"
           }
          ],
          "histogram2dcontour": [
           {
            "colorbar": {
             "outlinewidth": 0,
             "ticks": ""
            },
            "colorscale": [
             [
              0,
              "#0d0887"
             ],
             [
              0.1111111111111111,
              "#46039f"
             ],
             [
              0.2222222222222222,
              "#7201a8"
             ],
             [
              0.3333333333333333,
              "#9c179e"
             ],
             [
              0.4444444444444444,
              "#bd3786"
             ],
             [
              0.5555555555555556,
              "#d8576b"
             ],
             [
              0.6666666666666666,
              "#ed7953"
             ],
             [
              0.7777777777777778,
              "#fb9f3a"
             ],
             [
              0.8888888888888888,
              "#fdca26"
             ],
             [
              1,
              "#f0f921"
             ]
            ],
            "type": "histogram2dcontour"
           }
          ],
          "mesh3d": [
           {
            "colorbar": {
             "outlinewidth": 0,
             "ticks": ""
            },
            "type": "mesh3d"
           }
          ],
          "parcoords": [
           {
            "line": {
             "colorbar": {
              "outlinewidth": 0,
              "ticks": ""
             }
            },
            "type": "parcoords"
           }
          ],
          "pie": [
           {
            "automargin": true,
            "type": "pie"
           }
          ],
          "scatter": [
           {
            "fillpattern": {
             "fillmode": "overlay",
             "size": 10,
             "solidity": 0.2
            },
            "type": "scatter"
           }
          ],
          "scatter3d": [
           {
            "line": {
             "colorbar": {
              "outlinewidth": 0,
              "ticks": ""
             }
            },
            "marker": {
             "colorbar": {
              "outlinewidth": 0,
              "ticks": ""
             }
            },
            "type": "scatter3d"
           }
          ],
          "scattercarpet": [
           {
            "marker": {
             "colorbar": {
              "outlinewidth": 0,
              "ticks": ""
             }
            },
            "type": "scattercarpet"
           }
          ],
          "scattergeo": [
           {
            "marker": {
             "colorbar": {
              "outlinewidth": 0,
              "ticks": ""
             }
            },
            "type": "scattergeo"
           }
          ],
          "scattergl": [
           {
            "marker": {
             "colorbar": {
              "outlinewidth": 0,
              "ticks": ""
             }
            },
            "type": "scattergl"
           }
          ],
          "scattermap": [
           {
            "marker": {
             "colorbar": {
              "outlinewidth": 0,
              "ticks": ""
             }
            },
            "type": "scattermap"
           }
          ],
          "scattermapbox": [
           {
            "marker": {
             "colorbar": {
              "outlinewidth": 0,
              "ticks": ""
             }
            },
            "type": "scattermapbox"
           }
          ],
          "scatterpolar": [
           {
            "marker": {
             "colorbar": {
              "outlinewidth": 0,
              "ticks": ""
             }
            },
            "type": "scatterpolar"
           }
          ],
          "scatterpolargl": [
           {
            "marker": {
             "colorbar": {
              "outlinewidth": 0,
              "ticks": ""
             }
            },
            "type": "scatterpolargl"
           }
          ],
          "scatterternary": [
           {
            "marker": {
             "colorbar": {
              "outlinewidth": 0,
              "ticks": ""
             }
            },
            "type": "scatterternary"
           }
          ],
          "surface": [
           {
            "colorbar": {
             "outlinewidth": 0,
             "ticks": ""
            },
            "colorscale": [
             [
              0,
              "#0d0887"
             ],
             [
              0.1111111111111111,
              "#46039f"
             ],
             [
              0.2222222222222222,
              "#7201a8"
             ],
             [
              0.3333333333333333,
              "#9c179e"
             ],
             [
              0.4444444444444444,
              "#bd3786"
             ],
             [
              0.5555555555555556,
              "#d8576b"
             ],
             [
              0.6666666666666666,
              "#ed7953"
             ],
             [
              0.7777777777777778,
              "#fb9f3a"
             ],
             [
              0.8888888888888888,
              "#fdca26"
             ],
             [
              1,
              "#f0f921"
             ]
            ],
            "type": "surface"
           }
          ],
          "table": [
           {
            "cells": {
             "fill": {
              "color": "#EBF0F8"
             },
             "line": {
              "color": "white"
             }
            },
            "header": {
             "fill": {
              "color": "#C8D4E3"
             },
             "line": {
              "color": "white"
             }
            },
            "type": "table"
           }
          ]
         },
         "layout": {
          "annotationdefaults": {
           "arrowcolor": "#2a3f5f",
           "arrowhead": 0,
           "arrowwidth": 1
          },
          "autotypenumbers": "strict",
          "coloraxis": {
           "colorbar": {
            "outlinewidth": 0,
            "ticks": ""
           }
          },
          "colorscale": {
           "diverging": [
            [
             0,
             "#8e0152"
            ],
            [
             0.1,
             "#c51b7d"
            ],
            [
             0.2,
             "#de77ae"
            ],
            [
             0.3,
             "#f1b6da"
            ],
            [
             0.4,
             "#fde0ef"
            ],
            [
             0.5,
             "#f7f7f7"
            ],
            [
             0.6,
             "#e6f5d0"
            ],
            [
             0.7,
             "#b8e186"
            ],
            [
             0.8,
             "#7fbc41"
            ],
            [
             0.9,
             "#4d9221"
            ],
            [
             1,
             "#276419"
            ]
           ],
           "sequential": [
            [
             0,
             "#0d0887"
            ],
            [
             0.1111111111111111,
             "#46039f"
            ],
            [
             0.2222222222222222,
             "#7201a8"
            ],
            [
             0.3333333333333333,
             "#9c179e"
            ],
            [
             0.4444444444444444,
             "#bd3786"
            ],
            [
             0.5555555555555556,
             "#d8576b"
            ],
            [
             0.6666666666666666,
             "#ed7953"
            ],
            [
             0.7777777777777778,
             "#fb9f3a"
            ],
            [
             0.8888888888888888,
             "#fdca26"
            ],
            [
             1,
             "#f0f921"
            ]
           ],
           "sequentialminus": [
            [
             0,
             "#0d0887"
            ],
            [
             0.1111111111111111,
             "#46039f"
            ],
            [
             0.2222222222222222,
             "#7201a8"
            ],
            [
             0.3333333333333333,
             "#9c179e"
            ],
            [
             0.4444444444444444,
             "#bd3786"
            ],
            [
             0.5555555555555556,
             "#d8576b"
            ],
            [
             0.6666666666666666,
             "#ed7953"
            ],
            [
             0.7777777777777778,
             "#fb9f3a"
            ],
            [
             0.8888888888888888,
             "#fdca26"
            ],
            [
             1,
             "#f0f921"
            ]
           ]
          },
          "colorway": [
           "#636efa",
           "#EF553B",
           "#00cc96",
           "#ab63fa",
           "#FFA15A",
           "#19d3f3",
           "#FF6692",
           "#B6E880",
           "#FF97FF",
           "#FECB52"
          ],
          "font": {
           "color": "#2a3f5f"
          },
          "geo": {
           "bgcolor": "white",
           "lakecolor": "white",
           "landcolor": "#E5ECF6",
           "showlakes": true,
           "showland": true,
           "subunitcolor": "white"
          },
          "hoverlabel": {
           "align": "left"
          },
          "hovermode": "closest",
          "mapbox": {
           "style": "light"
          },
          "paper_bgcolor": "white",
          "plot_bgcolor": "#E5ECF6",
          "polar": {
           "angularaxis": {
            "gridcolor": "white",
            "linecolor": "white",
            "ticks": ""
           },
           "bgcolor": "#E5ECF6",
           "radialaxis": {
            "gridcolor": "white",
            "linecolor": "white",
            "ticks": ""
           }
          },
          "scene": {
           "xaxis": {
            "backgroundcolor": "#E5ECF6",
            "gridcolor": "white",
            "gridwidth": 2,
            "linecolor": "white",
            "showbackground": true,
            "ticks": "",
            "zerolinecolor": "white"
           },
           "yaxis": {
            "backgroundcolor": "#E5ECF6",
            "gridcolor": "white",
            "gridwidth": 2,
            "linecolor": "white",
            "showbackground": true,
            "ticks": "",
            "zerolinecolor": "white"
           },
           "zaxis": {
            "backgroundcolor": "#E5ECF6",
            "gridcolor": "white",
            "gridwidth": 2,
            "linecolor": "white",
            "showbackground": true,
            "ticks": "",
            "zerolinecolor": "white"
           }
          },
          "shapedefaults": {
           "line": {
            "color": "#2a3f5f"
           }
          },
          "ternary": {
           "aaxis": {
            "gridcolor": "white",
            "linecolor": "white",
            "ticks": ""
           },
           "baxis": {
            "gridcolor": "white",
            "linecolor": "white",
            "ticks": ""
           },
           "bgcolor": "#E5ECF6",
           "caxis": {
            "gridcolor": "white",
            "linecolor": "white",
            "ticks": ""
           }
          },
          "title": {
           "x": 0.05
          },
          "xaxis": {
           "automargin": true,
           "gridcolor": "white",
           "linecolor": "white",
           "ticks": "",
           "title": {
            "standoff": 15
           },
           "zerolinecolor": "white",
           "zerolinewidth": 2
          },
          "yaxis": {
           "automargin": true,
           "gridcolor": "white",
           "linecolor": "white",
           "ticks": "",
           "title": {
            "standoff": 15
           },
           "zerolinecolor": "white",
           "zerolinewidth": 2
          }
         }
        },
        "title": {
         "text": "Clinical Timeline for Patient 7"
        },
        "xaxis": {
         "title": {
          "text": "Date"
         }
        },
        "yaxis": {
         "autorange": "reversed",
         "title": {
          "text": "Clinical Events"
         }
        }
       }
      }
     },
     "metadata": {},
     "output_type": "display_data"
    },
    {
     "data": {
      "application/vnd.plotly.v1+json": {
       "config": {
        "plotlyServerURL": "https://plot.ly"
       },
       "data": [
        {
         "hoverinfo": "text",
         "hovertext": [
          "<b>Epilepsy</b><br>Date: 2020-02-03",
          "<b>fever</b><br>Date: 2020-02-03",
          "<b>Sleep apnea</b><br>Date: 2024-07-08",
          "<b>Hyperthyroidism</b><br>Date: 2024-07-08",
          "<b>CBC</b><br>Date: 2024-07-08",
          "<b>Hyperthyroidism</b><br>Date: 2024-07-08",
          "<b>Hyperthyroidism</b><br>Date: 2024-07-15",
          "<b>Pneumonia</b><br>Date: 2024-09-05",
          "<b>CT</b><br>Date: 2024-09-07",
          "<b>TSH test</b><br>Date: 2024-09-15",
          "<b>Headache</b><br>Date: 2024-09-19",
          "<b>CT head</b><br>Date: 2024-10-12",
          "<b>Backache</b><br>Date: 2024-10-16",
          "<b>Hypertensive disorder</b><br>Date: 2024-10-24",
          "<b>CT</b><br>Date: 2024-10-24",
          "<b>Anemia</b><br>Date: 2024-11-06",
          "<b>Adjustment</b><br>Date: 2024-11-06",
          "<b>Normal sinus rhythm</b><br>Date: 2024-11-06",
          "<b>Anemia</b><br>Date: 2024-11-06",
          "<b>Urinalysis</b><br>Date: 2024-11-06",
          "<b>Abnormal cardiac conduction</b><br>Date: 2024-11-06",
          "<b>Medication administration</b><br>Date: 2024-11-06",
          "<b>ECG</b><br>Date: 2024-11-06",
          "<b>Bronchitis</b><br>Date: 2024-11-09",
          "<b>lifestyle modifications</b><br>Date: 2024-11-09",
          "<b>Gastrointestinal tract problem</b><br>Date: 2024-11-09",
          "<b>Fibromyalgia</b><br>Date: 2024-11-12",
          "<b>ECG</b><br>Date: 2024-11-18",
          "<b>COPD</b><br>Date: 2024-11-18",
          "<b>X-ray</b><br>Date: 2024-11-18",
          "<b>CT head</b><br>Date: 2024-11-21",
          "<b>Backache</b><br>Date: 2024-11-21",
          "<b>Phone note</b><br>Date: 2024-11-26",
          "<b>dizziness improved</b><br>Date: 2024-12-17",
          "<b>rule out myeloma</b><br>Date: 2024-12-17",
          "<b>Hospital admission</b><br>Date: 2024-12-17",
          "<b>Insomnia</b><br>Date: 2024-12-17",
          "<b>prolactinoma</b><br>Date: 2024-12-17",
          "<b>MRI</b><br>Date: 2024-12-20",
          "<b>Rheumatology CONSULT</b><br>Date: 2024-12-20",
          "<b>Hypertensive disorder</b><br>Date: 2024-12-21",
          "<b>Adjustment</b><br>Date: 2025-01-03",
          "<b>Congenital malformation</b><br>Date: 2025-01-03",
          "<b>COPD</b><br>Date: 2025-01-14",
          "<b>Coughing</b><br>Date: 2025-01-21",
          "<b>Schizophrenia</b><br>Date: 2025-01-21",
          "<b>Tension-type headache</b><br>Date: 2025-01-23",
          "<b>Chest pain</b><br>Date: 2025-01-26",
          "<b>Mood swings</b><br>Date: 2025-01-29",
          "<b>Hyperthyroidism</b><br>Date: 2025-01-29",
          "<b>CT</b><br>Date: 2025-02-06",
          "<b>Hyperthyroidism</b><br>Date: 2025-02-14",
          "<b>Fatigue</b><br>Date: 2025-02-15",
          "<b>Epilepsy</b><br>Date: 2025-02-24",
          "<b>Abnormal LFTs</b><br>Date: 2025-02-25",
          "<b>Medication administration</b><br>Date: 2025-02-28",
          "<b>Ultrasound</b><br>Date: 2025-03-02",
          "<b>improve</b><br>Date: 2025-03-04",
          "<b>TSH test</b><br>Date: 2025-03-07",
          "<b>Epilepsy</b><br>Date: 2025-03-08",
          "<b>Weight loss</b><br>Date: 2025-03-11",
          "<b>Hyperthyroidism</b><br>Date: 2025-03-21",
          "<b>PET scan</b><br>Date: 2025-03-23",
          "<b>Ultrasound</b><br>Date: 2025-03-24",
          "<b>low T.SH.</b><br>Date: 2025-03-28",
          "<b>CT</b><br>Date: 2025-04-02",
          "<b>resolving gout</b><br>Date: 2025-04-04",
          "<b>Bronchitis</b><br>Date: 2025-04-12",
          "<b>Neoplasm</b><br>Date: 2025-04-20",
          "<b>Multiple sclerosis</b><br>Date: 2025-05-01",
          "<b>Labs</b><br>Date: 2025-07-03",
          "<b>Ultrasound</b><br>Date: 2025-07-03",
          "<b>Insulin</b><br>Date: 2025-09-03",
          "<b>Tension-type headache</b><br>Date: 2025-11-29",
          "<b>Lisinopril</b><br>Date: 2025-12-31"
         ],
         "marker": {
          "size": 10
         },
         "mode": "markers",
         "type": "scatter",
         "x": [
          "2020-02-03T00:00:00.000000000",
          "2020-02-03T00:00:00.000000000",
          "2024-07-08T00:00:00.000000000",
          "2024-07-08T00:00:00.000000000",
          "2024-07-08T00:00:00.000000000",
          "2024-07-08T00:00:00.000000000",
          "2024-07-15T00:00:00.000000000",
          "2024-09-05T00:00:00.000000000",
          "2024-09-07T00:00:00.000000000",
          "2024-09-15T00:00:00.000000000",
          "2024-09-19T00:00:00.000000000",
          "2024-10-12T00:00:00.000000000",
          "2024-10-16T00:00:00.000000000",
          "2024-10-24T00:00:00.000000000",
          "2024-10-24T00:00:00.000000000",
          "2024-11-06T00:00:00.000000000",
          "2024-11-06T00:00:00.000000000",
          "2024-11-06T00:00:00.000000000",
          "2024-11-06T00:00:00.000000000",
          "2024-11-06T00:00:00.000000000",
          "2024-11-06T00:00:00.000000000",
          "2024-11-06T00:00:00.000000000",
          "2024-11-06T00:00:00.000000000",
          "2024-11-09T00:00:00.000000000",
          "2024-11-09T00:00:00.000000000",
          "2024-11-09T00:00:00.000000000",
          "2024-11-12T00:00:00.000000000",
          "2024-11-18T00:00:00.000000000",
          "2024-11-18T00:00:00.000000000",
          "2024-11-18T00:00:00.000000000",
          "2024-11-21T00:00:00.000000000",
          "2024-11-21T00:00:00.000000000",
          "2024-11-26T00:00:00.000000000",
          "2024-12-17T00:00:00.000000000",
          "2024-12-17T00:00:00.000000000",
          "2024-12-17T00:00:00.000000000",
          "2024-12-17T00:00:00.000000000",
          "2024-12-17T00:00:00.000000000",
          "2024-12-20T00:00:00.000000000",
          "2024-12-20T00:00:00.000000000",
          "2024-12-21T00:00:00.000000000",
          "2025-01-03T00:00:00.000000000",
          "2025-01-03T00:00:00.000000000",
          "2025-01-14T00:00:00.000000000",
          "2025-01-21T00:00:00.000000000",
          "2025-01-21T00:00:00.000000000",
          "2025-01-23T00:00:00.000000000",
          "2025-01-26T00:00:00.000000000",
          "2025-01-29T00:00:00.000000000",
          "2025-01-29T00:00:00.000000000",
          "2025-02-06T00:00:00.000000000",
          "2025-02-14T00:00:00.000000000",
          "2025-02-15T00:00:00.000000000",
          "2025-02-24T00:00:00.000000000",
          "2025-02-25T00:00:00.000000000",
          "2025-02-28T00:00:00.000000000",
          "2025-03-02T00:00:00.000000000",
          "2025-03-04T00:00:00.000000000",
          "2025-03-07T00:00:00.000000000",
          "2025-03-08T00:00:00.000000000",
          "2025-03-11T00:00:00.000000000",
          "2025-03-21T00:00:00.000000000",
          "2025-03-23T00:00:00.000000000",
          "2025-03-24T00:00:00.000000000",
          "2025-03-28T00:00:00.000000000",
          "2025-04-02T00:00:00.000000000",
          "2025-04-04T00:00:00.000000000",
          "2025-04-12T00:00:00.000000000",
          "2025-04-20T00:00:00.000000000",
          "2025-05-01T00:00:00.000000000",
          "2025-07-03T00:00:00.000000000",
          "2025-07-03T00:00:00.000000000",
          "2025-09-03T00:00:00.000000000",
          "2025-11-29T00:00:00.000000000",
          "2025-12-31T00:00:00.000000000"
         ],
         "y": [
          "Epilepsy",
          "fever",
          "Sleep apnea",
          "Hyperthyroidism",
          "CBC",
          "Hyperthyroidism",
          "Hyperthyroidism",
          "Pneumonia",
          "CT",
          "TSH test",
          "Headache",
          "CT head",
          "Backache",
          "Hypertensive disorder",
          "CT",
          "Anemia",
          "Adjustment",
          "Normal sinus rhythm",
          "Anemia",
          "Urinalysis",
          "Abnormal cardiac conduction",
          "Medication administration",
          "ECG",
          "Bronchitis",
          "lifestyle modifications",
          "Gastrointestinal tract problem",
          "Fibromyalgia",
          "ECG",
          "COPD",
          "X-ray",
          "CT head",
          "Backache",
          "Phone note",
          "dizziness improved",
          "rule out myeloma",
          "Hospital admission",
          "Insomnia",
          "prolactinoma",
          "MRI",
          "Rheumatology CONSULT",
          "Hypertensive disorder",
          "Adjustment",
          "Congenital malformation",
          "COPD",
          "Coughing",
          "Schizophrenia",
          "Tension-type headache",
          "Chest pain",
          "Mood swings",
          "Hyperthyroidism",
          "CT",
          "Hyperthyroidism",
          "Fatigue",
          "Epilepsy",
          "Abnormal LFTs",
          "Medication administration",
          "Ultrasound",
          "improve",
          "TSH test",
          "Epilepsy",
          "Weight loss",
          "Hyperthyroidism",
          "PET scan",
          "Ultrasound",
          "low T.SH.",
          "CT",
          "resolving gout",
          "Bronchitis",
          "Neoplasm",
          "Multiple sclerosis",
          "Labs",
          "Ultrasound",
          "Insulin",
          "Tension-type headache",
          "Lisinopril"
         ]
        }
       ],
       "layout": {
        "template": {
         "data": {
          "bar": [
           {
            "error_x": {
             "color": "#2a3f5f"
            },
            "error_y": {
             "color": "#2a3f5f"
            },
            "marker": {
             "line": {
              "color": "#E5ECF6",
              "width": 0.5
             },
             "pattern": {
              "fillmode": "overlay",
              "size": 10,
              "solidity": 0.2
             }
            },
            "type": "bar"
           }
          ],
          "barpolar": [
           {
            "marker": {
             "line": {
              "color": "#E5ECF6",
              "width": 0.5
             },
             "pattern": {
              "fillmode": "overlay",
              "size": 10,
              "solidity": 0.2
             }
            },
            "type": "barpolar"
           }
          ],
          "carpet": [
           {
            "aaxis": {
             "endlinecolor": "#2a3f5f",
             "gridcolor": "white",
             "linecolor": "white",
             "minorgridcolor": "white",
             "startlinecolor": "#2a3f5f"
            },
            "baxis": {
             "endlinecolor": "#2a3f5f",
             "gridcolor": "white",
             "linecolor": "white",
             "minorgridcolor": "white",
             "startlinecolor": "#2a3f5f"
            },
            "type": "carpet"
           }
          ],
          "choropleth": [
           {
            "colorbar": {
             "outlinewidth": 0,
             "ticks": ""
            },
            "type": "choropleth"
           }
          ],
          "contour": [
           {
            "colorbar": {
             "outlinewidth": 0,
             "ticks": ""
            },
            "colorscale": [
             [
              0,
              "#0d0887"
             ],
             [
              0.1111111111111111,
              "#46039f"
             ],
             [
              0.2222222222222222,
              "#7201a8"
             ],
             [
              0.3333333333333333,
              "#9c179e"
             ],
             [
              0.4444444444444444,
              "#bd3786"
             ],
             [
              0.5555555555555556,
              "#d8576b"
             ],
             [
              0.6666666666666666,
              "#ed7953"
             ],
             [
              0.7777777777777778,
              "#fb9f3a"
             ],
             [
              0.8888888888888888,
              "#fdca26"
             ],
             [
              1,
              "#f0f921"
             ]
            ],
            "type": "contour"
           }
          ],
          "contourcarpet": [
           {
            "colorbar": {
             "outlinewidth": 0,
             "ticks": ""
            },
            "type": "contourcarpet"
           }
          ],
          "heatmap": [
           {
            "colorbar": {
             "outlinewidth": 0,
             "ticks": ""
            },
            "colorscale": [
             [
              0,
              "#0d0887"
             ],
             [
              0.1111111111111111,
              "#46039f"
             ],
             [
              0.2222222222222222,
              "#7201a8"
             ],
             [
              0.3333333333333333,
              "#9c179e"
             ],
             [
              0.4444444444444444,
              "#bd3786"
             ],
             [
              0.5555555555555556,
              "#d8576b"
             ],
             [
              0.6666666666666666,
              "#ed7953"
             ],
             [
              0.7777777777777778,
              "#fb9f3a"
             ],
             [
              0.8888888888888888,
              "#fdca26"
             ],
             [
              1,
              "#f0f921"
             ]
            ],
            "type": "heatmap"
           }
          ],
          "histogram": [
           {
            "marker": {
             "pattern": {
              "fillmode": "overlay",
              "size": 10,
              "solidity": 0.2
             }
            },
            "type": "histogram"
           }
          ],
          "histogram2d": [
           {
            "colorbar": {
             "outlinewidth": 0,
             "ticks": ""
            },
            "colorscale": [
             [
              0,
              "#0d0887"
             ],
             [
              0.1111111111111111,
              "#46039f"
             ],
             [
              0.2222222222222222,
              "#7201a8"
             ],
             [
              0.3333333333333333,
              "#9c179e"
             ],
             [
              0.4444444444444444,
              "#bd3786"
             ],
             [
              0.5555555555555556,
              "#d8576b"
             ],
             [
              0.6666666666666666,
              "#ed7953"
             ],
             [
              0.7777777777777778,
              "#fb9f3a"
             ],
             [
              0.8888888888888888,
              "#fdca26"
             ],
             [
              1,
              "#f0f921"
             ]
            ],
            "type": "histogram2d"
           }
          ],
          "histogram2dcontour": [
           {
            "colorbar": {
             "outlinewidth": 0,
             "ticks": ""
            },
            "colorscale": [
             [
              0,
              "#0d0887"
             ],
             [
              0.1111111111111111,
              "#46039f"
             ],
             [
              0.2222222222222222,
              "#7201a8"
             ],
             [
              0.3333333333333333,
              "#9c179e"
             ],
             [
              0.4444444444444444,
              "#bd3786"
             ],
             [
              0.5555555555555556,
              "#d8576b"
             ],
             [
              0.6666666666666666,
              "#ed7953"
             ],
             [
              0.7777777777777778,
              "#fb9f3a"
             ],
             [
              0.8888888888888888,
              "#fdca26"
             ],
             [
              1,
              "#f0f921"
             ]
            ],
            "type": "histogram2dcontour"
           }
          ],
          "mesh3d": [
           {
            "colorbar": {
             "outlinewidth": 0,
             "ticks": ""
            },
            "type": "mesh3d"
           }
          ],
          "parcoords": [
           {
            "line": {
             "colorbar": {
              "outlinewidth": 0,
              "ticks": ""
             }
            },
            "type": "parcoords"
           }
          ],
          "pie": [
           {
            "automargin": true,
            "type": "pie"
           }
          ],
          "scatter": [
           {
            "fillpattern": {
             "fillmode": "overlay",
             "size": 10,
             "solidity": 0.2
            },
            "type": "scatter"
           }
          ],
          "scatter3d": [
           {
            "line": {
             "colorbar": {
              "outlinewidth": 0,
              "ticks": ""
             }
            },
            "marker": {
             "colorbar": {
              "outlinewidth": 0,
              "ticks": ""
             }
            },
            "type": "scatter3d"
           }
          ],
          "scattercarpet": [
           {
            "marker": {
             "colorbar": {
              "outlinewidth": 0,
              "ticks": ""
             }
            },
            "type": "scattercarpet"
           }
          ],
          "scattergeo": [
           {
            "marker": {
             "colorbar": {
              "outlinewidth": 0,
              "ticks": ""
             }
            },
            "type": "scattergeo"
           }
          ],
          "scattergl": [
           {
            "marker": {
             "colorbar": {
              "outlinewidth": 0,
              "ticks": ""
             }
            },
            "type": "scattergl"
           }
          ],
          "scattermap": [
           {
            "marker": {
             "colorbar": {
              "outlinewidth": 0,
              "ticks": ""
             }
            },
            "type": "scattermap"
           }
          ],
          "scattermapbox": [
           {
            "marker": {
             "colorbar": {
              "outlinewidth": 0,
              "ticks": ""
             }
            },
            "type": "scattermapbox"
           }
          ],
          "scatterpolar": [
           {
            "marker": {
             "colorbar": {
              "outlinewidth": 0,
              "ticks": ""
             }
            },
            "type": "scatterpolar"
           }
          ],
          "scatterpolargl": [
           {
            "marker": {
             "colorbar": {
              "outlinewidth": 0,
              "ticks": ""
             }
            },
            "type": "scatterpolargl"
           }
          ],
          "scatterternary": [
           {
            "marker": {
             "colorbar": {
              "outlinewidth": 0,
              "ticks": ""
             }
            },
            "type": "scatterternary"
           }
          ],
          "surface": [
           {
            "colorbar": {
             "outlinewidth": 0,
             "ticks": ""
            },
            "colorscale": [
             [
              0,
              "#0d0887"
             ],
             [
              0.1111111111111111,
              "#46039f"
             ],
             [
              0.2222222222222222,
              "#7201a8"
             ],
             [
              0.3333333333333333,
              "#9c179e"
             ],
             [
              0.4444444444444444,
              "#bd3786"
             ],
             [
              0.5555555555555556,
              "#d8576b"
             ],
             [
              0.6666666666666666,
              "#ed7953"
             ],
             [
              0.7777777777777778,
              "#fb9f3a"
             ],
             [
              0.8888888888888888,
              "#fdca26"
             ],
             [
              1,
              "#f0f921"
             ]
            ],
            "type": "surface"
           }
          ],
          "table": [
           {
            "cells": {
             "fill": {
              "color": "#EBF0F8"
             },
             "line": {
              "color": "white"
             }
            },
            "header": {
             "fill": {
              "color": "#C8D4E3"
             },
             "line": {
              "color": "white"
             }
            },
            "type": "table"
           }
          ]
         },
         "layout": {
          "annotationdefaults": {
           "arrowcolor": "#2a3f5f",
           "arrowhead": 0,
           "arrowwidth": 1
          },
          "autotypenumbers": "strict",
          "coloraxis": {
           "colorbar": {
            "outlinewidth": 0,
            "ticks": ""
           }
          },
          "colorscale": {
           "diverging": [
            [
             0,
             "#8e0152"
            ],
            [
             0.1,
             "#c51b7d"
            ],
            [
             0.2,
             "#de77ae"
            ],
            [
             0.3,
             "#f1b6da"
            ],
            [
             0.4,
             "#fde0ef"
            ],
            [
             0.5,
             "#f7f7f7"
            ],
            [
             0.6,
             "#e6f5d0"
            ],
            [
             0.7,
             "#b8e186"
            ],
            [
             0.8,
             "#7fbc41"
            ],
            [
             0.9,
             "#4d9221"
            ],
            [
             1,
             "#276419"
            ]
           ],
           "sequential": [
            [
             0,
             "#0d0887"
            ],
            [
             0.1111111111111111,
             "#46039f"
            ],
            [
             0.2222222222222222,
             "#7201a8"
            ],
            [
             0.3333333333333333,
             "#9c179e"
            ],
            [
             0.4444444444444444,
             "#bd3786"
            ],
            [
             0.5555555555555556,
             "#d8576b"
            ],
            [
             0.6666666666666666,
             "#ed7953"
            ],
            [
             0.7777777777777778,
             "#fb9f3a"
            ],
            [
             0.8888888888888888,
             "#fdca26"
            ],
            [
             1,
             "#f0f921"
            ]
           ],
           "sequentialminus": [
            [
             0,
             "#0d0887"
            ],
            [
             0.1111111111111111,
             "#46039f"
            ],
            [
             0.2222222222222222,
             "#7201a8"
            ],
            [
             0.3333333333333333,
             "#9c179e"
            ],
            [
             0.4444444444444444,
             "#bd3786"
            ],
            [
             0.5555555555555556,
             "#d8576b"
            ],
            [
             0.6666666666666666,
             "#ed7953"
            ],
            [
             0.7777777777777778,
             "#fb9f3a"
            ],
            [
             0.8888888888888888,
             "#fdca26"
            ],
            [
             1,
             "#f0f921"
            ]
           ]
          },
          "colorway": [
           "#636efa",
           "#EF553B",
           "#00cc96",
           "#ab63fa",
           "#FFA15A",
           "#19d3f3",
           "#FF6692",
           "#B6E880",
           "#FF97FF",
           "#FECB52"
          ],
          "font": {
           "color": "#2a3f5f"
          },
          "geo": {
           "bgcolor": "white",
           "lakecolor": "white",
           "landcolor": "#E5ECF6",
           "showlakes": true,
           "showland": true,
           "subunitcolor": "white"
          },
          "hoverlabel": {
           "align": "left"
          },
          "hovermode": "closest",
          "mapbox": {
           "style": "light"
          },
          "paper_bgcolor": "white",
          "plot_bgcolor": "#E5ECF6",
          "polar": {
           "angularaxis": {
            "gridcolor": "white",
            "linecolor": "white",
            "ticks": ""
           },
           "bgcolor": "#E5ECF6",
           "radialaxis": {
            "gridcolor": "white",
            "linecolor": "white",
            "ticks": ""
           }
          },
          "scene": {
           "xaxis": {
            "backgroundcolor": "#E5ECF6",
            "gridcolor": "white",
            "gridwidth": 2,
            "linecolor": "white",
            "showbackground": true,
            "ticks": "",
            "zerolinecolor": "white"
           },
           "yaxis": {
            "backgroundcolor": "#E5ECF6",
            "gridcolor": "white",
            "gridwidth": 2,
            "linecolor": "white",
            "showbackground": true,
            "ticks": "",
            "zerolinecolor": "white"
           },
           "zaxis": {
            "backgroundcolor": "#E5ECF6",
            "gridcolor": "white",
            "gridwidth": 2,
            "linecolor": "white",
            "showbackground": true,
            "ticks": "",
            "zerolinecolor": "white"
           }
          },
          "shapedefaults": {
           "line": {
            "color": "#2a3f5f"
           }
          },
          "ternary": {
           "aaxis": {
            "gridcolor": "white",
            "linecolor": "white",
            "ticks": ""
           },
           "baxis": {
            "gridcolor": "white",
            "linecolor": "white",
            "ticks": ""
           },
           "bgcolor": "#E5ECF6",
           "caxis": {
            "gridcolor": "white",
            "linecolor": "white",
            "ticks": ""
           }
          },
          "title": {
           "x": 0.05
          },
          "xaxis": {
           "automargin": true,
           "gridcolor": "white",
           "linecolor": "white",
           "ticks": "",
           "title": {
            "standoff": 15
           },
           "zerolinecolor": "white",
           "zerolinewidth": 2
          },
          "yaxis": {
           "automargin": true,
           "gridcolor": "white",
           "linecolor": "white",
           "ticks": "",
           "title": {
            "standoff": 15
           },
           "zerolinecolor": "white",
           "zerolinewidth": 2
          }
         }
        },
        "title": {
         "text": "Clinical Timeline for Patient 8"
        },
        "xaxis": {
         "title": {
          "text": "Date"
         }
        },
        "yaxis": {
         "autorange": "reversed",
         "title": {
          "text": "Clinical Events"
         }
        }
       }
      }
     },
     "metadata": {},
     "output_type": "display_data"
    },
    {
     "data": {
      "application/vnd.plotly.v1+json": {
       "config": {
        "plotlyServerURL": "https://plot.ly"
       },
       "data": [
        {
         "hoverinfo": "text",
         "hovertext": [
          "<b>Osteoarthritis</b><br>Date: 2024-03-06",
          "<b>Amitriptyline</b><br>Date: 2024-05-29",
          "<b>None</b><br>Date: 2024-06-14",
          "<b>MRI</b><br>Date: 2024-06-30",
          "<b>Joint pain</b><br>Date: 2024-08-11",
          "<b>Fever</b><br>Date: 2024-09-12",
          "<b>None</b><br>Date: 2024-09-16",
          "<b>X-ray</b><br>Date: 2024-09-30",
          "<b>Respiratory assessment</b><br>Date: 2024-09-30",
          "<b>COPD</b><br>Date: 2024-09-30",
          "<b>imp: COPD</b><br>Date: 2024-09-30",
          "<b>Hypertensive disorder</b><br>Date: 2024-10-13",
          "<b>PET scan</b><br>Date: 2024-10-27",
          "<b>prolactinoma</b><br>Date: 2024-10-30",
          "<b>Weight loss</b><br>Date: 2024-11-07",
          "<b>Chest pain</b><br>Date: 2024-11-16",
          "<b>Tension-type headache</b><br>Date: 2024-12-11",
          "<b>Backache</b><br>Date: 2024-12-23",
          "<b>GERD</b><br>Date: 2025-01-01",
          "<b>Tension-type headache</b><br>Date: 2025-01-03",
          "<b>Mood swings</b><br>Date: 2025-01-09",
          "<b>elevated prolactin</b><br>Date: 2025-01-10",
          "<b>Atorvastatin</b><br>Date: 2025-01-17",
          "<b>Metformin</b><br>Date: 2025-01-17",
          "<b>Lisinopril</b><br>Date: 2025-01-17",
          "<b>Headache</b><br>Date: 2025-01-17",
          "<b>Tension-type headache</b><br>Date: 2025-01-17",
          "<b>Insomnia</b><br>Date: 2025-01-21",
          "<b>Hypertensive disorder</b><br>Date: 2025-01-21",
          "<b>Mass</b><br>Date: 2025-02-09",
          "<b>Weight loss</b><br>Date: 2025-02-11",
          "<b>Mass</b><br>Date: 2025-02-26",
          "<b>new dx of cluster_headache</b><br>Date: 2025-03-11",
          "<b>Coughing</b><br>Date: 2025-03-24",
          "<b>Cluster headache syndrome</b><br>Date: 2025-03-25",
          "<b>Anemia</b><br>Date: 2025-04-02",
          "<b>Insomnia</b><br>Date: 2025-04-11",
          "<b>COPD</b><br>Date: 2025-04-20",
          "<b>Chest pain</b><br>Date: 2025-04-23",
          "<b>Abnormal LFTs</b><br>Date: 2025-04-28",
          "<b>PET scan</b><br>Date: 2025-05-16",
          "<b>visual changes</b><br>Date: 2025-06-26",
          "<b>Elevated CRP</b><br>Date: 2025-07-04",
          "<b>Fatigue</b><br>Date: 2025-07-19",
          "<b>Ulcerative colitis</b><br>Date: 2025-08-06",
          "<b>Ulcerative colitis</b><br>Date: 2025-08-06",
          "<b>AST</b><br>Date: 2025-08-18",
          "<b>ALT</b><br>Date: 2025-08-18",
          "<b>Liver function tests</b><br>Date: 2025-08-18",
          "<b>Chest X-ray</b><br>Date: 2025-08-18",
          "<b>Neurological exam</b><br>Date: 2025-08-18",
          "<b>PET scan</b><br>Date: 2025-08-18",
          "<b>Intracranial meningioma</b><br>Date: 2025-08-18",
          "<b>Atorvastatin</b><br>Date: 2025-08-24",
          "<b>Metformin</b><br>Date: 2025-08-24",
          "<b>Lisinopril</b><br>Date: 2025-08-24",
          "<b>Coughing</b><br>Date: 2025-12-01"
         ],
         "marker": {
          "size": 10
         },
         "mode": "markers",
         "type": "scatter",
         "x": [
          "2024-03-06T00:00:00.000000000",
          "2024-05-29T00:00:00.000000000",
          "2024-06-14T00:00:00.000000000",
          "2024-06-30T00:00:00.000000000",
          "2024-08-11T00:00:00.000000000",
          "2024-09-12T00:00:00.000000000",
          "2024-09-16T00:00:00.000000000",
          "2024-09-30T00:00:00.000000000",
          "2024-09-30T00:00:00.000000000",
          "2024-09-30T00:00:00.000000000",
          "2024-09-30T00:00:00.000000000",
          "2024-10-13T00:00:00.000000000",
          "2024-10-27T00:00:00.000000000",
          "2024-10-30T00:00:00.000000000",
          "2024-11-07T00:00:00.000000000",
          "2024-11-16T00:00:00.000000000",
          "2024-12-11T00:00:00.000000000",
          "2024-12-23T00:00:00.000000000",
          "2025-01-01T00:00:00.000000000",
          "2025-01-03T00:00:00.000000000",
          "2025-01-09T00:00:00.000000000",
          "2025-01-10T00:00:00.000000000",
          "2025-01-17T00:00:00.000000000",
          "2025-01-17T00:00:00.000000000",
          "2025-01-17T00:00:00.000000000",
          "2025-01-17T00:00:00.000000000",
          "2025-01-17T00:00:00.000000000",
          "2025-01-21T00:00:00.000000000",
          "2025-01-21T00:00:00.000000000",
          "2025-02-09T00:00:00.000000000",
          "2025-02-11T00:00:00.000000000",
          "2025-02-26T00:00:00.000000000",
          "2025-03-11T00:00:00.000000000",
          "2025-03-24T00:00:00.000000000",
          "2025-03-25T00:00:00.000000000",
          "2025-04-02T00:00:00.000000000",
          "2025-04-11T00:00:00.000000000",
          "2025-04-20T00:00:00.000000000",
          "2025-04-23T00:00:00.000000000",
          "2025-04-28T00:00:00.000000000",
          "2025-05-16T00:00:00.000000000",
          "2025-06-26T00:00:00.000000000",
          "2025-07-04T00:00:00.000000000",
          "2025-07-19T00:00:00.000000000",
          "2025-08-06T00:00:00.000000000",
          "2025-08-06T00:00:00.000000000",
          "2025-08-18T00:00:00.000000000",
          "2025-08-18T00:00:00.000000000",
          "2025-08-18T00:00:00.000000000",
          "2025-08-18T00:00:00.000000000",
          "2025-08-18T00:00:00.000000000",
          "2025-08-18T00:00:00.000000000",
          "2025-08-18T00:00:00.000000000",
          "2025-08-24T00:00:00.000000000",
          "2025-08-24T00:00:00.000000000",
          "2025-08-24T00:00:00.000000000",
          "2025-12-01T00:00:00.000000000"
         ],
         "y": [
          "Osteoarthritis",
          "Amitriptyline",
          "None",
          "MRI",
          "Joint pain",
          "Fever",
          "None",
          "X-ray",
          "Respiratory assessment",
          "COPD",
          "imp: COPD",
          "Hypertensive disorder",
          "PET scan",
          "prolactinoma",
          "Weight loss",
          "Chest pain",
          "Tension-type headache",
          "Backache",
          "GERD",
          "Tension-type headache",
          "Mood swings",
          "elevated prolactin",
          "Atorvastatin",
          "Metformin",
          "Lisinopril",
          "Headache",
          "Tension-type headache",
          "Insomnia",
          "Hypertensive disorder",
          "Mass",
          "Weight loss",
          "Mass",
          "new dx of cluster_headache",
          "Coughing",
          "Cluster headache syndrome",
          "Anemia",
          "Insomnia",
          "COPD",
          "Chest pain",
          "Abnormal LFTs",
          "PET scan",
          "visual changes",
          "Elevated CRP",
          "Fatigue",
          "Ulcerative colitis",
          "Ulcerative colitis",
          "AST",
          "ALT",
          "Liver function tests",
          "Chest X-ray",
          "Neurological exam",
          "PET scan",
          "Intracranial meningioma",
          "Atorvastatin",
          "Metformin",
          "Lisinopril",
          "Coughing"
         ]
        }
       ],
       "layout": {
        "template": {
         "data": {
          "bar": [
           {
            "error_x": {
             "color": "#2a3f5f"
            },
            "error_y": {
             "color": "#2a3f5f"
            },
            "marker": {
             "line": {
              "color": "#E5ECF6",
              "width": 0.5
             },
             "pattern": {
              "fillmode": "overlay",
              "size": 10,
              "solidity": 0.2
             }
            },
            "type": "bar"
           }
          ],
          "barpolar": [
           {
            "marker": {
             "line": {
              "color": "#E5ECF6",
              "width": 0.5
             },
             "pattern": {
              "fillmode": "overlay",
              "size": 10,
              "solidity": 0.2
             }
            },
            "type": "barpolar"
           }
          ],
          "carpet": [
           {
            "aaxis": {
             "endlinecolor": "#2a3f5f",
             "gridcolor": "white",
             "linecolor": "white",
             "minorgridcolor": "white",
             "startlinecolor": "#2a3f5f"
            },
            "baxis": {
             "endlinecolor": "#2a3f5f",
             "gridcolor": "white",
             "linecolor": "white",
             "minorgridcolor": "white",
             "startlinecolor": "#2a3f5f"
            },
            "type": "carpet"
           }
          ],
          "choropleth": [
           {
            "colorbar": {
             "outlinewidth": 0,
             "ticks": ""
            },
            "type": "choropleth"
           }
          ],
          "contour": [
           {
            "colorbar": {
             "outlinewidth": 0,
             "ticks": ""
            },
            "colorscale": [
             [
              0,
              "#0d0887"
             ],
             [
              0.1111111111111111,
              "#46039f"
             ],
             [
              0.2222222222222222,
              "#7201a8"
             ],
             [
              0.3333333333333333,
              "#9c179e"
             ],
             [
              0.4444444444444444,
              "#bd3786"
             ],
             [
              0.5555555555555556,
              "#d8576b"
             ],
             [
              0.6666666666666666,
              "#ed7953"
             ],
             [
              0.7777777777777778,
              "#fb9f3a"
             ],
             [
              0.8888888888888888,
              "#fdca26"
             ],
             [
              1,
              "#f0f921"
             ]
            ],
            "type": "contour"
           }
          ],
          "contourcarpet": [
           {
            "colorbar": {
             "outlinewidth": 0,
             "ticks": ""
            },
            "type": "contourcarpet"
           }
          ],
          "heatmap": [
           {
            "colorbar": {
             "outlinewidth": 0,
             "ticks": ""
            },
            "colorscale": [
             [
              0,
              "#0d0887"
             ],
             [
              0.1111111111111111,
              "#46039f"
             ],
             [
              0.2222222222222222,
              "#7201a8"
             ],
             [
              0.3333333333333333,
              "#9c179e"
             ],
             [
              0.4444444444444444,
              "#bd3786"
             ],
             [
              0.5555555555555556,
              "#d8576b"
             ],
             [
              0.6666666666666666,
              "#ed7953"
             ],
             [
              0.7777777777777778,
              "#fb9f3a"
             ],
             [
              0.8888888888888888,
              "#fdca26"
             ],
             [
              1,
              "#f0f921"
             ]
            ],
            "type": "heatmap"
           }
          ],
          "histogram": [
           {
            "marker": {
             "pattern": {
              "fillmode": "overlay",
              "size": 10,
              "solidity": 0.2
             }
            },
            "type": "histogram"
           }
          ],
          "histogram2d": [
           {
            "colorbar": {
             "outlinewidth": 0,
             "ticks": ""
            },
            "colorscale": [
             [
              0,
              "#0d0887"
             ],
             [
              0.1111111111111111,
              "#46039f"
             ],
             [
              0.2222222222222222,
              "#7201a8"
             ],
             [
              0.3333333333333333,
              "#9c179e"
             ],
             [
              0.4444444444444444,
              "#bd3786"
             ],
             [
              0.5555555555555556,
              "#d8576b"
             ],
             [
              0.6666666666666666,
              "#ed7953"
             ],
             [
              0.7777777777777778,
              "#fb9f3a"
             ],
             [
              0.8888888888888888,
              "#fdca26"
             ],
             [
              1,
              "#f0f921"
             ]
            ],
            "type": "histogram2d"
           }
          ],
          "histogram2dcontour": [
           {
            "colorbar": {
             "outlinewidth": 0,
             "ticks": ""
            },
            "colorscale": [
             [
              0,
              "#0d0887"
             ],
             [
              0.1111111111111111,
              "#46039f"
             ],
             [
              0.2222222222222222,
              "#7201a8"
             ],
             [
              0.3333333333333333,
              "#9c179e"
             ],
             [
              0.4444444444444444,
              "#bd3786"
             ],
             [
              0.5555555555555556,
              "#d8576b"
             ],
             [
              0.6666666666666666,
              "#ed7953"
             ],
             [
              0.7777777777777778,
              "#fb9f3a"
             ],
             [
              0.8888888888888888,
              "#fdca26"
             ],
             [
              1,
              "#f0f921"
             ]
            ],
            "type": "histogram2dcontour"
           }
          ],
          "mesh3d": [
           {
            "colorbar": {
             "outlinewidth": 0,
             "ticks": ""
            },
            "type": "mesh3d"
           }
          ],
          "parcoords": [
           {
            "line": {
             "colorbar": {
              "outlinewidth": 0,
              "ticks": ""
             }
            },
            "type": "parcoords"
           }
          ],
          "pie": [
           {
            "automargin": true,
            "type": "pie"
           }
          ],
          "scatter": [
           {
            "fillpattern": {
             "fillmode": "overlay",
             "size": 10,
             "solidity": 0.2
            },
            "type": "scatter"
           }
          ],
          "scatter3d": [
           {
            "line": {
             "colorbar": {
              "outlinewidth": 0,
              "ticks": ""
             }
            },
            "marker": {
             "colorbar": {
              "outlinewidth": 0,
              "ticks": ""
             }
            },
            "type": "scatter3d"
           }
          ],
          "scattercarpet": [
           {
            "marker": {
             "colorbar": {
              "outlinewidth": 0,
              "ticks": ""
             }
            },
            "type": "scattercarpet"
           }
          ],
          "scattergeo": [
           {
            "marker": {
             "colorbar": {
              "outlinewidth": 0,
              "ticks": ""
             }
            },
            "type": "scattergeo"
           }
          ],
          "scattergl": [
           {
            "marker": {
             "colorbar": {
              "outlinewidth": 0,
              "ticks": ""
             }
            },
            "type": "scattergl"
           }
          ],
          "scattermap": [
           {
            "marker": {
             "colorbar": {
              "outlinewidth": 0,
              "ticks": ""
             }
            },
            "type": "scattermap"
           }
          ],
          "scattermapbox": [
           {
            "marker": {
             "colorbar": {
              "outlinewidth": 0,
              "ticks": ""
             }
            },
            "type": "scattermapbox"
           }
          ],
          "scatterpolar": [
           {
            "marker": {
             "colorbar": {
              "outlinewidth": 0,
              "ticks": ""
             }
            },
            "type": "scatterpolar"
           }
          ],
          "scatterpolargl": [
           {
            "marker": {
             "colorbar": {
              "outlinewidth": 0,
              "ticks": ""
             }
            },
            "type": "scatterpolargl"
           }
          ],
          "scatterternary": [
           {
            "marker": {
             "colorbar": {
              "outlinewidth": 0,
              "ticks": ""
             }
            },
            "type": "scatterternary"
           }
          ],
          "surface": [
           {
            "colorbar": {
             "outlinewidth": 0,
             "ticks": ""
            },
            "colorscale": [
             [
              0,
              "#0d0887"
             ],
             [
              0.1111111111111111,
              "#46039f"
             ],
             [
              0.2222222222222222,
              "#7201a8"
             ],
             [
              0.3333333333333333,
              "#9c179e"
             ],
             [
              0.4444444444444444,
              "#bd3786"
             ],
             [
              0.5555555555555556,
              "#d8576b"
             ],
             [
              0.6666666666666666,
              "#ed7953"
             ],
             [
              0.7777777777777778,
              "#fb9f3a"
             ],
             [
              0.8888888888888888,
              "#fdca26"
             ],
             [
              1,
              "#f0f921"
             ]
            ],
            "type": "surface"
           }
          ],
          "table": [
           {
            "cells": {
             "fill": {
              "color": "#EBF0F8"
             },
             "line": {
              "color": "white"
             }
            },
            "header": {
             "fill": {
              "color": "#C8D4E3"
             },
             "line": {
              "color": "white"
             }
            },
            "type": "table"
           }
          ]
         },
         "layout": {
          "annotationdefaults": {
           "arrowcolor": "#2a3f5f",
           "arrowhead": 0,
           "arrowwidth": 1
          },
          "autotypenumbers": "strict",
          "coloraxis": {
           "colorbar": {
            "outlinewidth": 0,
            "ticks": ""
           }
          },
          "colorscale": {
           "diverging": [
            [
             0,
             "#8e0152"
            ],
            [
             0.1,
             "#c51b7d"
            ],
            [
             0.2,
             "#de77ae"
            ],
            [
             0.3,
             "#f1b6da"
            ],
            [
             0.4,
             "#fde0ef"
            ],
            [
             0.5,
             "#f7f7f7"
            ],
            [
             0.6,
             "#e6f5d0"
            ],
            [
             0.7,
             "#b8e186"
            ],
            [
             0.8,
             "#7fbc41"
            ],
            [
             0.9,
             "#4d9221"
            ],
            [
             1,
             "#276419"
            ]
           ],
           "sequential": [
            [
             0,
             "#0d0887"
            ],
            [
             0.1111111111111111,
             "#46039f"
            ],
            [
             0.2222222222222222,
             "#7201a8"
            ],
            [
             0.3333333333333333,
             "#9c179e"
            ],
            [
             0.4444444444444444,
             "#bd3786"
            ],
            [
             0.5555555555555556,
             "#d8576b"
            ],
            [
             0.6666666666666666,
             "#ed7953"
            ],
            [
             0.7777777777777778,
             "#fb9f3a"
            ],
            [
             0.8888888888888888,
             "#fdca26"
            ],
            [
             1,
             "#f0f921"
            ]
           ],
           "sequentialminus": [
            [
             0,
             "#0d0887"
            ],
            [
             0.1111111111111111,
             "#46039f"
            ],
            [
             0.2222222222222222,
             "#7201a8"
            ],
            [
             0.3333333333333333,
             "#9c179e"
            ],
            [
             0.4444444444444444,
             "#bd3786"
            ],
            [
             0.5555555555555556,
             "#d8576b"
            ],
            [
             0.6666666666666666,
             "#ed7953"
            ],
            [
             0.7777777777777778,
             "#fb9f3a"
            ],
            [
             0.8888888888888888,
             "#fdca26"
            ],
            [
             1,
             "#f0f921"
            ]
           ]
          },
          "colorway": [
           "#636efa",
           "#EF553B",
           "#00cc96",
           "#ab63fa",
           "#FFA15A",
           "#19d3f3",
           "#FF6692",
           "#B6E880",
           "#FF97FF",
           "#FECB52"
          ],
          "font": {
           "color": "#2a3f5f"
          },
          "geo": {
           "bgcolor": "white",
           "lakecolor": "white",
           "landcolor": "#E5ECF6",
           "showlakes": true,
           "showland": true,
           "subunitcolor": "white"
          },
          "hoverlabel": {
           "align": "left"
          },
          "hovermode": "closest",
          "mapbox": {
           "style": "light"
          },
          "paper_bgcolor": "white",
          "plot_bgcolor": "#E5ECF6",
          "polar": {
           "angularaxis": {
            "gridcolor": "white",
            "linecolor": "white",
            "ticks": ""
           },
           "bgcolor": "#E5ECF6",
           "radialaxis": {
            "gridcolor": "white",
            "linecolor": "white",
            "ticks": ""
           }
          },
          "scene": {
           "xaxis": {
            "backgroundcolor": "#E5ECF6",
            "gridcolor": "white",
            "gridwidth": 2,
            "linecolor": "white",
            "showbackground": true,
            "ticks": "",
            "zerolinecolor": "white"
           },
           "yaxis": {
            "backgroundcolor": "#E5ECF6",
            "gridcolor": "white",
            "gridwidth": 2,
            "linecolor": "white",
            "showbackground": true,
            "ticks": "",
            "zerolinecolor": "white"
           },
           "zaxis": {
            "backgroundcolor": "#E5ECF6",
            "gridcolor": "white",
            "gridwidth": 2,
            "linecolor": "white",
            "showbackground": true,
            "ticks": "",
            "zerolinecolor": "white"
           }
          },
          "shapedefaults": {
           "line": {
            "color": "#2a3f5f"
           }
          },
          "ternary": {
           "aaxis": {
            "gridcolor": "white",
            "linecolor": "white",
            "ticks": ""
           },
           "baxis": {
            "gridcolor": "white",
            "linecolor": "white",
            "ticks": ""
           },
           "bgcolor": "#E5ECF6",
           "caxis": {
            "gridcolor": "white",
            "linecolor": "white",
            "ticks": ""
           }
          },
          "title": {
           "x": 0.05
          },
          "xaxis": {
           "automargin": true,
           "gridcolor": "white",
           "linecolor": "white",
           "ticks": "",
           "title": {
            "standoff": 15
           },
           "zerolinecolor": "white",
           "zerolinewidth": 2
          },
          "yaxis": {
           "automargin": true,
           "gridcolor": "white",
           "linecolor": "white",
           "ticks": "",
           "title": {
            "standoff": 15
           },
           "zerolinecolor": "white",
           "zerolinewidth": 2
          }
         }
        },
        "title": {
         "text": "Clinical Timeline for Patient 9"
        },
        "xaxis": {
         "title": {
          "text": "Date"
         }
        },
        "yaxis": {
         "autorange": "reversed",
         "title": {
          "text": "Clinical Events"
         }
        }
       }
      }
     },
     "metadata": {},
     "output_type": "display_data"
    },
    {
     "data": {
      "application/vnd.plotly.v1+json": {
       "config": {
        "plotlyServerURL": "https://plot.ly"
       },
       "data": [
        {
         "hoverinfo": "text",
         "hovertext": [
          "<b>positive ANA</b><br>Date: 2024-03-10",
          "<b>ANA</b><br>Date: 2024-03-10",
          "<b>Migraine</b><br>Date: 2024-03-15",
          "<b>Tension-type headache</b><br>Date: 2024-06-13",
          "<b>resolved</b><br>Date: 2024-06-21",
          "<b>Liver function tests</b><br>Date: 2024-07-21",
          "<b>cerebral hemorrhage</b><br>Date: 2024-07-21",
          "<b>Pituitary macroadenoma</b><br>Date: 2024-07-21",
          "<b>Gastrointestinal tract problem</b><br>Date: 2024-07-21",
          "<b>Adverse reaction</b><br>Date: 2024-07-21",
          "<b>Hypertensive disorder</b><br>Date: 2024-08-08",
          "<b>Excessive thirst</b><br>Date: 2024-09-15",
          "<b>Excessive thirst</b><br>Date: 2024-09-29",
          "<b>Pituitary adenoma</b><br>Date: 2024-10-06",
          "<b>Mass</b><br>Date: 2024-10-06",
          "<b>Recurrent disease</b><br>Date: 2024-10-11",
          "<b>Metformin</b><br>Date: 2024-10-19",
          "<b>Atorvastatin</b><br>Date: 2024-10-19",
          "<b>Lisinopril</b><br>Date: 2024-10-19",
          "<b>Backache</b><br>Date: 2024-11-02",
          "<b>MRI</b><br>Date: 2024-11-13",
          "<b>Headache</b><br>Date: 2024-11-22",
          "<b>Epilepsy</b><br>Date: 2024-11-24",
          "<b>Anemia</b><br>Date: 2024-11-24",
          "<b>Urinary frequency</b><br>Date: 2024-12-07",
          "<b>Abnormal LFTs</b><br>Date: 2024-12-09",
          "<b>Nausea and vomiting</b><br>Date: 2025-01-01",
          "<b>GERD</b><br>Date: 2025-01-02",
          "<b>lymphadenopathy</b><br>Date: 2025-01-02",
          "<b>Distress</b><br>Date: 2025-01-02",
          "<b>CBC</b><br>Date: 2025-01-02",
          "<b>Pituitary macroadenoma</b><br>Date: 2025-01-02",
          "<b>Multiple sclerosis</b><br>Date: 2025-01-02",
          "<b>schedule CT</b><br>Date: 2025-01-02",
          "<b>Headache</b><br>Date: 2025-01-13",
          "<b>PET scan</b><br>Date: 2025-02-16",
          "<b>Eruption</b><br>Date: 2025-02-17",
          "<b>Metformin</b><br>Date: 2025-02-21",
          "<b>Gastrointestinal tract problem</b><br>Date: 2025-02-21",
          "<b>MRI</b><br>Date: 2025-02-21",
          "<b>Lisinopril</b><br>Date: 2025-02-21",
          "<b>Atorvastatin</b><br>Date: 2025-02-21",
          "<b>Weight gain</b><br>Date: 2025-02-21",
          "<b>Nausea and vomiting</b><br>Date: 2025-02-22",
          "<b>Cushing's syndrome</b><br>Date: 2025-02-22",
          "<b>Multiple sclerosis</b><br>Date: 2025-02-23",
          "<b>Hyperlipidemia</b><br>Date: 2025-02-25",
          "<b>fev</b><br>Date: 2025-02-25",
          "<b>Cluster headache syndrome</b><br>Date: 2025-03-29",
          "<b>Mass</b><br>Date: 2025-04-13",
          "<b>Severe pre-eclampsia</b><br>Date: 2025-04-13",
          "<b>Pituitary macroadenoma</b><br>Date: 2025-05-26",
          "<b>Nausea</b><br>Date: 2025-05-26",
          "<b>low TSH</b><br>Date: 2025-08-09",
          "<b>improved</b><br>Date: 2025-09-15",
          "<b>MRI</b><br>Date: 2025-10-02",
          "<b>F/U</b><br>Date: 2025-10-05",
          "<b>Anxiety disorder</b><br>Date: 2025-10-07",
          "<b>Fever</b><br>Date: 2025-11-09",
          "<b>Coughing</b><br>Date: 2025-12-19",
          "<b>Hypertensive disorder</b><br>Date: 2025-12-19"
         ],
         "marker": {
          "size": 10
         },
         "mode": "markers",
         "type": "scatter",
         "x": [
          "2024-03-10T00:00:00.000000000",
          "2024-03-10T00:00:00.000000000",
          "2024-03-15T00:00:00.000000000",
          "2024-06-13T00:00:00.000000000",
          "2024-06-21T00:00:00.000000000",
          "2024-07-21T00:00:00.000000000",
          "2024-07-21T00:00:00.000000000",
          "2024-07-21T00:00:00.000000000",
          "2024-07-21T00:00:00.000000000",
          "2024-07-21T00:00:00.000000000",
          "2024-08-08T00:00:00.000000000",
          "2024-09-15T00:00:00.000000000",
          "2024-09-29T00:00:00.000000000",
          "2024-10-06T00:00:00.000000000",
          "2024-10-06T00:00:00.000000000",
          "2024-10-11T00:00:00.000000000",
          "2024-10-19T00:00:00.000000000",
          "2024-10-19T00:00:00.000000000",
          "2024-10-19T00:00:00.000000000",
          "2024-11-02T00:00:00.000000000",
          "2024-11-13T00:00:00.000000000",
          "2024-11-22T00:00:00.000000000",
          "2024-11-24T00:00:00.000000000",
          "2024-11-24T00:00:00.000000000",
          "2024-12-07T00:00:00.000000000",
          "2024-12-09T00:00:00.000000000",
          "2025-01-01T00:00:00.000000000",
          "2025-01-02T00:00:00.000000000",
          "2025-01-02T00:00:00.000000000",
          "2025-01-02T00:00:00.000000000",
          "2025-01-02T00:00:00.000000000",
          "2025-01-02T00:00:00.000000000",
          "2025-01-02T00:00:00.000000000",
          "2025-01-02T00:00:00.000000000",
          "2025-01-13T00:00:00.000000000",
          "2025-02-16T00:00:00.000000000",
          "2025-02-17T00:00:00.000000000",
          "2025-02-21T00:00:00.000000000",
          "2025-02-21T00:00:00.000000000",
          "2025-02-21T00:00:00.000000000",
          "2025-02-21T00:00:00.000000000",
          "2025-02-21T00:00:00.000000000",
          "2025-02-21T00:00:00.000000000",
          "2025-02-22T00:00:00.000000000",
          "2025-02-22T00:00:00.000000000",
          "2025-02-23T00:00:00.000000000",
          "2025-02-25T00:00:00.000000000",
          "2025-02-25T00:00:00.000000000",
          "2025-03-29T00:00:00.000000000",
          "2025-04-13T00:00:00.000000000",
          "2025-04-13T00:00:00.000000000",
          "2025-05-26T00:00:00.000000000",
          "2025-05-26T00:00:00.000000000",
          "2025-08-09T00:00:00.000000000",
          "2025-09-15T00:00:00.000000000",
          "2025-10-02T00:00:00.000000000",
          "2025-10-05T00:00:00.000000000",
          "2025-10-07T00:00:00.000000000",
          "2025-11-09T00:00:00.000000000",
          "2025-12-19T00:00:00.000000000",
          "2025-12-19T00:00:00.000000000"
         ],
         "y": [
          "positive ANA",
          "ANA",
          "Migraine",
          "Tension-type headache",
          "resolved",
          "Liver function tests",
          "cerebral hemorrhage",
          "Pituitary macroadenoma",
          "Gastrointestinal tract problem",
          "Adverse reaction",
          "Hypertensive disorder",
          "Excessive thirst",
          "Excessive thirst",
          "Pituitary adenoma",
          "Mass",
          "Recurrent disease",
          "Metformin",
          "Atorvastatin",
          "Lisinopril",
          "Backache",
          "MRI",
          "Headache",
          "Epilepsy",
          "Anemia",
          "Urinary frequency",
          "Abnormal LFTs",
          "Nausea and vomiting",
          "GERD",
          "lymphadenopathy",
          "Distress",
          "CBC",
          "Pituitary macroadenoma",
          "Multiple sclerosis",
          "schedule CT",
          "Headache",
          "PET scan",
          "Eruption",
          "Metformin",
          "Gastrointestinal tract problem",
          "MRI",
          "Lisinopril",
          "Atorvastatin",
          "Weight gain",
          "Nausea and vomiting",
          "Cushing's syndrome",
          "Multiple sclerosis",
          "Hyperlipidemia",
          "fev",
          "Cluster headache syndrome",
          "Mass",
          "Severe pre-eclampsia",
          "Pituitary macroadenoma",
          "Nausea",
          "low TSH",
          "improved",
          "MRI",
          "F/U",
          "Anxiety disorder",
          "Fever",
          "Coughing",
          "Hypertensive disorder"
         ]
        }
       ],
       "layout": {
        "template": {
         "data": {
          "bar": [
           {
            "error_x": {
             "color": "#2a3f5f"
            },
            "error_y": {
             "color": "#2a3f5f"
            },
            "marker": {
             "line": {
              "color": "#E5ECF6",
              "width": 0.5
             },
             "pattern": {
              "fillmode": "overlay",
              "size": 10,
              "solidity": 0.2
             }
            },
            "type": "bar"
           }
          ],
          "barpolar": [
           {
            "marker": {
             "line": {
              "color": "#E5ECF6",
              "width": 0.5
             },
             "pattern": {
              "fillmode": "overlay",
              "size": 10,
              "solidity": 0.2
             }
            },
            "type": "barpolar"
           }
          ],
          "carpet": [
           {
            "aaxis": {
             "endlinecolor": "#2a3f5f",
             "gridcolor": "white",
             "linecolor": "white",
             "minorgridcolor": "white",
             "startlinecolor": "#2a3f5f"
            },
            "baxis": {
             "endlinecolor": "#2a3f5f",
             "gridcolor": "white",
             "linecolor": "white",
             "minorgridcolor": "white",
             "startlinecolor": "#2a3f5f"
            },
            "type": "carpet"
           }
          ],
          "choropleth": [
           {
            "colorbar": {
             "outlinewidth": 0,
             "ticks": ""
            },
            "type": "choropleth"
           }
          ],
          "contour": [
           {
            "colorbar": {
             "outlinewidth": 0,
             "ticks": ""
            },
            "colorscale": [
             [
              0,
              "#0d0887"
             ],
             [
              0.1111111111111111,
              "#46039f"
             ],
             [
              0.2222222222222222,
              "#7201a8"
             ],
             [
              0.3333333333333333,
              "#9c179e"
             ],
             [
              0.4444444444444444,
              "#bd3786"
             ],
             [
              0.5555555555555556,
              "#d8576b"
             ],
             [
              0.6666666666666666,
              "#ed7953"
             ],
             [
              0.7777777777777778,
              "#fb9f3a"
             ],
             [
              0.8888888888888888,
              "#fdca26"
             ],
             [
              1,
              "#f0f921"
             ]
            ],
            "type": "contour"
           }
          ],
          "contourcarpet": [
           {
            "colorbar": {
             "outlinewidth": 0,
             "ticks": ""
            },
            "type": "contourcarpet"
           }
          ],
          "heatmap": [
           {
            "colorbar": {
             "outlinewidth": 0,
             "ticks": ""
            },
            "colorscale": [
             [
              0,
              "#0d0887"
             ],
             [
              0.1111111111111111,
              "#46039f"
             ],
             [
              0.2222222222222222,
              "#7201a8"
             ],
             [
              0.3333333333333333,
              "#9c179e"
             ],
             [
              0.4444444444444444,
              "#bd3786"
             ],
             [
              0.5555555555555556,
              "#d8576b"
             ],
             [
              0.6666666666666666,
              "#ed7953"
             ],
             [
              0.7777777777777778,
              "#fb9f3a"
             ],
             [
              0.8888888888888888,
              "#fdca26"
             ],
             [
              1,
              "#f0f921"
             ]
            ],
            "type": "heatmap"
           }
          ],
          "histogram": [
           {
            "marker": {
             "pattern": {
              "fillmode": "overlay",
              "size": 10,
              "solidity": 0.2
             }
            },
            "type": "histogram"
           }
          ],
          "histogram2d": [
           {
            "colorbar": {
             "outlinewidth": 0,
             "ticks": ""
            },
            "colorscale": [
             [
              0,
              "#0d0887"
             ],
             [
              0.1111111111111111,
              "#46039f"
             ],
             [
              0.2222222222222222,
              "#7201a8"
             ],
             [
              0.3333333333333333,
              "#9c179e"
             ],
             [
              0.4444444444444444,
              "#bd3786"
             ],
             [
              0.5555555555555556,
              "#d8576b"
             ],
             [
              0.6666666666666666,
              "#ed7953"
             ],
             [
              0.7777777777777778,
              "#fb9f3a"
             ],
             [
              0.8888888888888888,
              "#fdca26"
             ],
             [
              1,
              "#f0f921"
             ]
            ],
            "type": "histogram2d"
           }
          ],
          "histogram2dcontour": [
           {
            "colorbar": {
             "outlinewidth": 0,
             "ticks": ""
            },
            "colorscale": [
             [
              0,
              "#0d0887"
             ],
             [
              0.1111111111111111,
              "#46039f"
             ],
             [
              0.2222222222222222,
              "#7201a8"
             ],
             [
              0.3333333333333333,
              "#9c179e"
             ],
             [
              0.4444444444444444,
              "#bd3786"
             ],
             [
              0.5555555555555556,
              "#d8576b"
             ],
             [
              0.6666666666666666,
              "#ed7953"
             ],
             [
              0.7777777777777778,
              "#fb9f3a"
             ],
             [
              0.8888888888888888,
              "#fdca26"
             ],
             [
              1,
              "#f0f921"
             ]
            ],
            "type": "histogram2dcontour"
           }
          ],
          "mesh3d": [
           {
            "colorbar": {
             "outlinewidth": 0,
             "ticks": ""
            },
            "type": "mesh3d"
           }
          ],
          "parcoords": [
           {
            "line": {
             "colorbar": {
              "outlinewidth": 0,
              "ticks": ""
             }
            },
            "type": "parcoords"
           }
          ],
          "pie": [
           {
            "automargin": true,
            "type": "pie"
           }
          ],
          "scatter": [
           {
            "fillpattern": {
             "fillmode": "overlay",
             "size": 10,
             "solidity": 0.2
            },
            "type": "scatter"
           }
          ],
          "scatter3d": [
           {
            "line": {
             "colorbar": {
              "outlinewidth": 0,
              "ticks": ""
             }
            },
            "marker": {
             "colorbar": {
              "outlinewidth": 0,
              "ticks": ""
             }
            },
            "type": "scatter3d"
           }
          ],
          "scattercarpet": [
           {
            "marker": {
             "colorbar": {
              "outlinewidth": 0,
              "ticks": ""
             }
            },
            "type": "scattercarpet"
           }
          ],
          "scattergeo": [
           {
            "marker": {
             "colorbar": {
              "outlinewidth": 0,
              "ticks": ""
             }
            },
            "type": "scattergeo"
           }
          ],
          "scattergl": [
           {
            "marker": {
             "colorbar": {
              "outlinewidth": 0,
              "ticks": ""
             }
            },
            "type": "scattergl"
           }
          ],
          "scattermap": [
           {
            "marker": {
             "colorbar": {
              "outlinewidth": 0,
              "ticks": ""
             }
            },
            "type": "scattermap"
           }
          ],
          "scattermapbox": [
           {
            "marker": {
             "colorbar": {
              "outlinewidth": 0,
              "ticks": ""
             }
            },
            "type": "scattermapbox"
           }
          ],
          "scatterpolar": [
           {
            "marker": {
             "colorbar": {
              "outlinewidth": 0,
              "ticks": ""
             }
            },
            "type": "scatterpolar"
           }
          ],
          "scatterpolargl": [
           {
            "marker": {
             "colorbar": {
              "outlinewidth": 0,
              "ticks": ""
             }
            },
            "type": "scatterpolargl"
           }
          ],
          "scatterternary": [
           {
            "marker": {
             "colorbar": {
              "outlinewidth": 0,
              "ticks": ""
             }
            },
            "type": "scatterternary"
           }
          ],
          "surface": [
           {
            "colorbar": {
             "outlinewidth": 0,
             "ticks": ""
            },
            "colorscale": [
             [
              0,
              "#0d0887"
             ],
             [
              0.1111111111111111,
              "#46039f"
             ],
             [
              0.2222222222222222,
              "#7201a8"
             ],
             [
              0.3333333333333333,
              "#9c179e"
             ],
             [
              0.4444444444444444,
              "#bd3786"
             ],
             [
              0.5555555555555556,
              "#d8576b"
             ],
             [
              0.6666666666666666,
              "#ed7953"
             ],
             [
              0.7777777777777778,
              "#fb9f3a"
             ],
             [
              0.8888888888888888,
              "#fdca26"
             ],
             [
              1,
              "#f0f921"
             ]
            ],
            "type": "surface"
           }
          ],
          "table": [
           {
            "cells": {
             "fill": {
              "color": "#EBF0F8"
             },
             "line": {
              "color": "white"
             }
            },
            "header": {
             "fill": {
              "color": "#C8D4E3"
             },
             "line": {
              "color": "white"
             }
            },
            "type": "table"
           }
          ]
         },
         "layout": {
          "annotationdefaults": {
           "arrowcolor": "#2a3f5f",
           "arrowhead": 0,
           "arrowwidth": 1
          },
          "autotypenumbers": "strict",
          "coloraxis": {
           "colorbar": {
            "outlinewidth": 0,
            "ticks": ""
           }
          },
          "colorscale": {
           "diverging": [
            [
             0,
             "#8e0152"
            ],
            [
             0.1,
             "#c51b7d"
            ],
            [
             0.2,
             "#de77ae"
            ],
            [
             0.3,
             "#f1b6da"
            ],
            [
             0.4,
             "#fde0ef"
            ],
            [
             0.5,
             "#f7f7f7"
            ],
            [
             0.6,
             "#e6f5d0"
            ],
            [
             0.7,
             "#b8e186"
            ],
            [
             0.8,
             "#7fbc41"
            ],
            [
             0.9,
             "#4d9221"
            ],
            [
             1,
             "#276419"
            ]
           ],
           "sequential": [
            [
             0,
             "#0d0887"
            ],
            [
             0.1111111111111111,
             "#46039f"
            ],
            [
             0.2222222222222222,
             "#7201a8"
            ],
            [
             0.3333333333333333,
             "#9c179e"
            ],
            [
             0.4444444444444444,
             "#bd3786"
            ],
            [
             0.5555555555555556,
             "#d8576b"
            ],
            [
             0.6666666666666666,
             "#ed7953"
            ],
            [
             0.7777777777777778,
             "#fb9f3a"
            ],
            [
             0.8888888888888888,
             "#fdca26"
            ],
            [
             1,
             "#f0f921"
            ]
           ],
           "sequentialminus": [
            [
             0,
             "#0d0887"
            ],
            [
             0.1111111111111111,
             "#46039f"
            ],
            [
             0.2222222222222222,
             "#7201a8"
            ],
            [
             0.3333333333333333,
             "#9c179e"
            ],
            [
             0.4444444444444444,
             "#bd3786"
            ],
            [
             0.5555555555555556,
             "#d8576b"
            ],
            [
             0.6666666666666666,
             "#ed7953"
            ],
            [
             0.7777777777777778,
             "#fb9f3a"
            ],
            [
             0.8888888888888888,
             "#fdca26"
            ],
            [
             1,
             "#f0f921"
            ]
           ]
          },
          "colorway": [
           "#636efa",
           "#EF553B",
           "#00cc96",
           "#ab63fa",
           "#FFA15A",
           "#19d3f3",
           "#FF6692",
           "#B6E880",
           "#FF97FF",
           "#FECB52"
          ],
          "font": {
           "color": "#2a3f5f"
          },
          "geo": {
           "bgcolor": "white",
           "lakecolor": "white",
           "landcolor": "#E5ECF6",
           "showlakes": true,
           "showland": true,
           "subunitcolor": "white"
          },
          "hoverlabel": {
           "align": "left"
          },
          "hovermode": "closest",
          "mapbox": {
           "style": "light"
          },
          "paper_bgcolor": "white",
          "plot_bgcolor": "#E5ECF6",
          "polar": {
           "angularaxis": {
            "gridcolor": "white",
            "linecolor": "white",
            "ticks": ""
           },
           "bgcolor": "#E5ECF6",
           "radialaxis": {
            "gridcolor": "white",
            "linecolor": "white",
            "ticks": ""
           }
          },
          "scene": {
           "xaxis": {
            "backgroundcolor": "#E5ECF6",
            "gridcolor": "white",
            "gridwidth": 2,
            "linecolor": "white",
            "showbackground": true,
            "ticks": "",
            "zerolinecolor": "white"
           },
           "yaxis": {
            "backgroundcolor": "#E5ECF6",
            "gridcolor": "white",
            "gridwidth": 2,
            "linecolor": "white",
            "showbackground": true,
            "ticks": "",
            "zerolinecolor": "white"
           },
           "zaxis": {
            "backgroundcolor": "#E5ECF6",
            "gridcolor": "white",
            "gridwidth": 2,
            "linecolor": "white",
            "showbackground": true,
            "ticks": "",
            "zerolinecolor": "white"
           }
          },
          "shapedefaults": {
           "line": {
            "color": "#2a3f5f"
           }
          },
          "ternary": {
           "aaxis": {
            "gridcolor": "white",
            "linecolor": "white",
            "ticks": ""
           },
           "baxis": {
            "gridcolor": "white",
            "linecolor": "white",
            "ticks": ""
           },
           "bgcolor": "#E5ECF6",
           "caxis": {
            "gridcolor": "white",
            "linecolor": "white",
            "ticks": ""
           }
          },
          "title": {
           "x": 0.05
          },
          "xaxis": {
           "automargin": true,
           "gridcolor": "white",
           "linecolor": "white",
           "ticks": "",
           "title": {
            "standoff": 15
           },
           "zerolinecolor": "white",
           "zerolinewidth": 2
          },
          "yaxis": {
           "automargin": true,
           "gridcolor": "white",
           "linecolor": "white",
           "ticks": "",
           "title": {
            "standoff": 15
           },
           "zerolinecolor": "white",
           "zerolinewidth": 2
          }
         }
        },
        "title": {
         "text": "Clinical Timeline for Patient 10"
        },
        "xaxis": {
         "title": {
          "text": "Date"
         }
        },
        "yaxis": {
         "autorange": "reversed",
         "title": {
          "text": "Clinical Events"
         }
        }
       }
      }
     },
     "metadata": {},
     "output_type": "display_data"
    }
   ],
   "source": [
    "# For all patients:\n",
    "figs = plot_all_interactive_patient_timelines(timeline_df)\n",
    "for fig in figs:\n",
    "    fig.show()"
   ]
  }
 ],
 "metadata": {
  "kernelspec": {
   "display_name": "venv",
   "language": "python",
   "name": "python3"
  },
  "language_info": {
   "codemirror_mode": {
    "name": "ipython",
    "version": 3
   },
   "file_extension": ".py",
   "mimetype": "text/x-python",
   "name": "python",
   "nbconvert_exporter": "python",
   "pygments_lexer": "ipython3",
   "version": "3.9.8"
  }
 },
 "nbformat": 4,
 "nbformat_minor": 5
}
