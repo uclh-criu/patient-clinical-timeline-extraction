{
 "cells": [
  {
   "cell_type": "markdown",
   "id": "dfb4652a",
   "metadata": {},
   "source": [
    "Imports"
   ]
  },
  {
   "cell_type": "code",
   "execution_count": 43,
   "id": "02c805a7",
   "metadata": {},
   "outputs": [],
   "source": [
    "#imports\n",
    "import sys\n",
    "import os\n",
    "import pandas as pd\n",
    "\n",
    "utils_path = os.path.abspath(os.path.join(os.getcwd(), '..', 'utils'))\n",
    "if utils_path not in sys.path:\n",
    "    sys.path.insert(0, utils_path)\n",
    "\n",
    "from general_utils import load_data, prepare_all_samples, calculate_metrics\n",
    "from naive_extractor_utils import naive_extraction"
   ]
  },
  {
   "cell_type": "markdown",
   "id": "e368136f",
   "metadata": {},
   "source": [
    "Data Loading"
   ]
  },
  {
   "cell_type": "code",
   "execution_count": 44,
   "id": "8b69680b",
   "metadata": {},
   "outputs": [
    {
     "name": "stdout",
     "output_type": "stream",
     "text": [
      "Loaded 101 records\n"
     ]
    }
   ],
   "source": [
    "# Load data\n",
    "df = load_data(\"../data/training_dataset_synthetic.csv\")\n",
    "print(f\"Loaded {len(df)} records\")"
   ]
  },
  {
   "cell_type": "code",
   "execution_count": 45,
   "id": "9dd3bc78",
   "metadata": {},
   "outputs": [
    {
     "data": {
      "text/html": [
       "<div>\n",
       "<style scoped>\n",
       "    .dataframe tbody tr th:only-of-type {\n",
       "        vertical-align: middle;\n",
       "    }\n",
       "\n",
       "    .dataframe tbody tr th {\n",
       "        vertical-align: top;\n",
       "    }\n",
       "\n",
       "    .dataframe thead th {\n",
       "        text-align: right;\n",
       "    }\n",
       "</style>\n",
       "<table border=\"1\" class=\"dataframe\">\n",
       "  <thead>\n",
       "    <tr style=\"text-align: right;\">\n",
       "      <th></th>\n",
       "      <th>doc_id</th>\n",
       "      <th>note_text</th>\n",
       "      <th>entities_json</th>\n",
       "      <th>dates_json</th>\n",
       "      <th>relations_json</th>\n",
       "      <th>relative_dates_json</th>\n",
       "    </tr>\n",
       "  </thead>\n",
       "  <tbody>\n",
       "    <tr>\n",
       "      <th>0</th>\n",
       "      <td>0</td>\n",
       "      <td>Ultrasound (30nd Jun 2024): no significant fin...</td>\n",
       "      <td>[{'id': 300001, 'value': 'asthma', 'cui': 'pla...</td>\n",
       "      <td>[{'id': 308001, 'value': '02nd Aug 2024', 'sta...</td>\n",
       "      <td>[{'date': '02nd Aug 2024', 'entity': 'asthma',...</td>\n",
       "      <td>[]</td>\n",
       "    </tr>\n",
       "    <tr>\n",
       "      <th>1</th>\n",
       "      <td>1</td>\n",
       "      <td>Labs (27th Sep 2024): anemia. resolving  Skin:...</td>\n",
       "      <td>[{'id': 300001, 'value': 'multiple_sclerosis',...</td>\n",
       "      <td>[{'id': 308001, 'value': '27th Sep 2024', 'sta...</td>\n",
       "      <td>[{'date': '27th Sep 2024', 'entity': 'multiple...</td>\n",
       "      <td>[]</td>\n",
       "    </tr>\n",
       "    <tr>\n",
       "      <th>2</th>\n",
       "      <td>2</td>\n",
       "      <td>URGENT REVIEW (2024-10-04): cough. suspect ost...</td>\n",
       "      <td>[{'id': 300001, 'value': 'osteoarthritis', 'cu...</td>\n",
       "      <td>[{'id': 308001, 'value': '2024-10-04', 'start'...</td>\n",
       "      <td>[{'date': '2024-10-04', 'entity': 'osteoarthri...</td>\n",
       "      <td>[]</td>\n",
       "    </tr>\n",
       "    <tr>\n",
       "      <th>3</th>\n",
       "      <td>3</td>\n",
       "      <td>URGENT REVIEW (13rd Feb 2025) MRI of the brain...</td>\n",
       "      <td>[{'id': 300001, 'value': 'schizophrenia', 'cui...</td>\n",
       "      <td>[{'id': 308001, 'value': '13rd Feb 2025', 'sta...</td>\n",
       "      <td>[{'date': '13rd Feb 2025', 'entity': 'schizoph...</td>\n",
       "      <td>[]</td>\n",
       "    </tr>\n",
       "    <tr>\n",
       "      <th>4</th>\n",
       "      <td>4</td>\n",
       "      <td>New pt((18/11/24)): pt presents with nausea/vo...</td>\n",
       "      <td>[{'id': 300001, 'value': 'diabetes_mellitus', ...</td>\n",
       "      <td>[{'id': 308001, 'value': '18/11/24', 'start': ...</td>\n",
       "      <td>[{'date': '18/11/24', 'entity': 'diabetes_mell...</td>\n",
       "      <td>[]</td>\n",
       "    </tr>\n",
       "  </tbody>\n",
       "</table>\n",
       "</div>"
      ],
      "text/plain": [
       "   doc_id                                          note_text  \\\n",
       "0       0  Ultrasound (30nd Jun 2024): no significant fin...   \n",
       "1       1  Labs (27th Sep 2024): anemia. resolving  Skin:...   \n",
       "2       2  URGENT REVIEW (2024-10-04): cough. suspect ost...   \n",
       "3       3  URGENT REVIEW (13rd Feb 2025) MRI of the brain...   \n",
       "4       4  New pt((18/11/24)): pt presents with nausea/vo...   \n",
       "\n",
       "                                       entities_json  \\\n",
       "0  [{'id': 300001, 'value': 'asthma', 'cui': 'pla...   \n",
       "1  [{'id': 300001, 'value': 'multiple_sclerosis',...   \n",
       "2  [{'id': 300001, 'value': 'osteoarthritis', 'cu...   \n",
       "3  [{'id': 300001, 'value': 'schizophrenia', 'cui...   \n",
       "4  [{'id': 300001, 'value': 'diabetes_mellitus', ...   \n",
       "\n",
       "                                          dates_json  \\\n",
       "0  [{'id': 308001, 'value': '02nd Aug 2024', 'sta...   \n",
       "1  [{'id': 308001, 'value': '27th Sep 2024', 'sta...   \n",
       "2  [{'id': 308001, 'value': '2024-10-04', 'start'...   \n",
       "3  [{'id': 308001, 'value': '13rd Feb 2025', 'sta...   \n",
       "4  [{'id': 308001, 'value': '18/11/24', 'start': ...   \n",
       "\n",
       "                                      relations_json relative_dates_json  \n",
       "0  [{'date': '02nd Aug 2024', 'entity': 'asthma',...                  []  \n",
       "1  [{'date': '27th Sep 2024', 'entity': 'multiple...                  []  \n",
       "2  [{'date': '2024-10-04', 'entity': 'osteoarthri...                  []  \n",
       "3  [{'date': '13rd Feb 2025', 'entity': 'schizoph...                  []  \n",
       "4  [{'date': '18/11/24', 'entity': 'diabetes_mell...                  []  "
      ]
     },
     "execution_count": 45,
     "metadata": {},
     "output_type": "execute_result"
    }
   ],
   "source": [
    "#Inspect df\n",
    "df.head()"
   ]
  },
  {
   "cell_type": "code",
   "execution_count": 46,
   "id": "e0fc9f0c",
   "metadata": {},
   "outputs": [
    {
     "name": "stdout",
     "output_type": "stream",
     "text": [
      "Prepared 101 samples\n"
     ]
    }
   ],
   "source": [
    "# Prepare all samples\n",
    "samples = prepare_all_samples(df)\n",
    "print(f\"Prepared {len(samples)} samples\")\n",
    "#samples[2]"
   ]
  },
  {
   "cell_type": "markdown",
   "id": "1fcbfec6",
   "metadata": {},
   "source": [
    "Naive Evaluation"
   ]
  },
  {
   "cell_type": "code",
   "execution_count": 47,
   "id": "70665618",
   "metadata": {},
   "outputs": [],
   "source": [
    "#Define max distance (number of characters)\n",
    "MAX_DISTANCE = 400"
   ]
  },
  {
   "cell_type": "code",
   "execution_count": 48,
   "id": "ff99b113",
   "metadata": {},
   "outputs": [],
   "source": [
    "#Process samples\n",
    "predictions = []\n",
    "\n",
    "for sample in samples:\n",
    "    # Combine absolute and relative dates\n",
    "    all_dates = sample['dates'] + sample['relative_dates']\n",
    "    \n",
    "    # Run naive extraction on all dates\n",
    "    relationships = naive_extraction(sample['entities_list'], all_dates, max_distance = MAX_DISTANCE)\n",
    "    predictions.extend(relationships)"
   ]
  },
  {
   "cell_type": "code",
   "execution_count": 49,
   "id": "d13cd164",
   "metadata": {},
   "outputs": [],
   "source": [
    "# Look at predictions\n",
    "#predictions"
   ]
  },
  {
   "cell_type": "code",
   "execution_count": 50,
   "id": "1792c878",
   "metadata": {},
   "outputs": [
    {
     "data": {
      "text/plain": [
       "{'precision': 0.22477064220183487,\n",
       " 'recall': 0.5384615384615384,\n",
       " 'f1': 0.31715210355987056,\n",
       " 'tp': 98,\n",
       " 'fp': 338,\n",
       " 'fn': 84}"
      ]
     },
     "execution_count": 50,
     "metadata": {},
     "output_type": "execute_result"
    }
   ],
   "source": [
    "# Calculate metrics\n",
    "metrics = calculate_metrics(predictions, df)\n",
    "metrics"
   ]
  }
 ],
 "metadata": {
  "kernelspec": {
   "display_name": "venv",
   "language": "python",
   "name": "python3"
  },
  "language_info": {
   "codemirror_mode": {
    "name": "ipython",
    "version": 3
   },
   "file_extension": ".py",
   "mimetype": "text/x-python",
   "name": "python",
   "nbconvert_exporter": "python",
   "pygments_lexer": "ipython3",
   "version": "3.9.8"
  }
 },
 "nbformat": 4,
 "nbformat_minor": 5
}
