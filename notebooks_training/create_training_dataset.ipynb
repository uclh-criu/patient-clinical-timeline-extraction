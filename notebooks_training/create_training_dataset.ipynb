{
 "cells": [
  {
   "cell_type": "markdown",
   "id": "6aa62a72",
   "metadata": {},
   "source": [
    "Imports & Data Loading"
   ]
  },
  {
   "cell_type": "code",
   "execution_count": 9,
   "id": "a3964e4d",
   "metadata": {},
   "outputs": [],
   "source": [
    "#Imports\n",
    "import sys\n",
    "import os\n",
    "import pandas as pd\n",
    "\n",
    "utils_path = os.path.abspath(os.path.join(os.getcwd(), '..', 'utils'))\n",
    "\n",
    "if utils_path not in sys.path:\n",
    "    sys.path.insert(0, utils_path)\n",
    "\n",
    "from create_training_dataset_utils import (load_medcat_export,\n",
    "    get_validated_entities, get_validated_dates, get_validated_relations, get_validated_relative_dates,\n",
    "    doc_to_entities_json, doc_to_dates_json, doc_to_relations_json, doc_to_relations_value_json, doc_to_relative_dates_json,\n",
    "    id2value_from_items, make_row)"
   ]
  },
  {
   "cell_type": "code",
   "execution_count": 2,
   "id": "7f0d429c",
   "metadata": {},
   "outputs": [],
   "source": [
    "#Define cuis for absolute and relative dates (these should align with the cuis that were used to add these terms in MedCAT Trainer)\n",
    "DATE_CUI = \"410671006\"\n",
    "RELATIVE_DATE_CUI = \"410671007\""
   ]
  },
  {
   "cell_type": "code",
   "execution_count": 5,
   "id": "54d3d6d9",
   "metadata": {},
   "outputs": [],
   "source": [
    "#Load data\n",
    "export_path = \"../data/MedCAT_Export.json\"\n",
    "export = load_medcat_export(export_path)"
   ]
  },
  {
   "cell_type": "markdown",
   "id": "9c409005",
   "metadata": {},
   "source": [
    "Explore Data"
   ]
  },
  {
   "cell_type": "code",
   "execution_count": 7,
   "id": "57c9a477",
   "metadata": {},
   "outputs": [],
   "source": [
    "#Look at data\n",
    "#export"
   ]
  },
  {
   "cell_type": "code",
   "execution_count": 8,
   "id": "7f060c8e",
   "metadata": {},
   "outputs": [
    {
     "data": {
      "text/plain": [
       "5"
      ]
     },
     "execution_count": 8,
     "metadata": {},
     "output_type": "execute_result"
    }
   ],
   "source": [
    "#Flatten documents\n",
    "docs = []\n",
    "for proj in export.get(\"projects\", []):\n",
    "    for doc in proj.get(\"documents\", []):\n",
    "        docs.append(doc)\n",
    "\n",
    "len(docs)"
   ]
  },
  {
   "cell_type": "code",
   "execution_count": 10,
   "id": "8919cb25",
   "metadata": {},
   "outputs": [],
   "source": [
    "#Pick a document to test\n",
    "doc = docs[0]\n",
    "#doc"
   ]
  },
  {
   "cell_type": "code",
   "execution_count": 13,
   "id": "b8bb0956",
   "metadata": {},
   "outputs": [
    {
     "name": "stdout",
     "output_type": "stream",
     "text": [
      "Clincial entities: 64\n",
      "Absolute dates: 6\n",
      "Relative dates: 0\n",
      "Relations: 4\n"
     ]
    }
   ],
   "source": [
    "#Get validated clincial entities, absolute dates, relative dates and relations\n",
    "ents = get_validated_entities(doc, date_cui=DATE_CUI)\n",
    "dates = get_validated_dates(doc, date_cui=DATE_CUI)\n",
    "relative_dates = get_validated_relative_dates(doc, relative_date_cui=RELATIVE_DATE_CUI)\n",
    "relations = get_validated_relations(doc, date_cui=DATE_CUI, relative_date_cui=RELATIVE_DATE_CUI)\n",
    "\n",
    "print(\"Clincial entities:\", len(ents))\n",
    "print(\"Absolute dates:\", len(dates))\n",
    "print(\"Relative dates:\", len(relative_dates))\n",
    "print(\"Relations:\", len(relations))"
   ]
  },
  {
   "cell_type": "code",
   "execution_count": 14,
   "id": "6f10ac00",
   "metadata": {},
   "outputs": [
    {
     "data": {
      "text/plain": [
       "([{'id': 308244,\n",
       "   'value': 'history of meningitis',\n",
       "   'cui': '161478002',\n",
       "   'start': 756,\n",
       "   'end': 777},\n",
       "  {'id': 308245,\n",
       "   'value': 'rheumatoid_arthritis',\n",
       "   'cui': '69896004',\n",
       "   'start': 491,\n",
       "   'end': 511},\n",
       "  {'id': 308248,\n",
       "   'value': 'current medication',\n",
       "   'cui': '513881000000106',\n",
       "   'start': 145,\n",
       "   'end': 163},\n",
       "  {'id': 308249,\n",
       "   'value': 'normal vital signs',\n",
       "   'cui': '72970002',\n",
       "   'start': 289,\n",
       "   'end': 307},\n",
       "  {'id': 308252,\n",
       "   'value': 'pituitary_adenoma',\n",
       "   'cui': '254956000',\n",
       "   'start': 410,\n",
       "   'end': 427}],\n",
       " [{'id': 308320, 'value': '30nd Jun 2024', 'start': 12, 'end': 25},\n",
       "  {'id': 308321, 'value': '12nd Sep 2024', 'start': 363, 'end': 376},\n",
       "  {'id': 308322, 'value': \"16 Sep'24\", 'start': 443, 'end': 452},\n",
       "  {'id': 308323, 'value': '23rd Oct 2024', 'start': 588, 'end': 601},\n",
       "  {'id': 308324, 'value': '16st Nov 2024', 'start': 1205, 'end': 1218}],\n",
       " [],\n",
       " [{'date_id': 308321, 'entity_id': 308252},\n",
       "  {'date_id': 308322, 'entity_id': 308245},\n",
       "  {'date_id': 308323, 'entity_id': 308276},\n",
       "  {'date_id': 308325, 'entity_id': 308313}])"
      ]
     },
     "execution_count": 14,
     "metadata": {},
     "output_type": "execute_result"
    }
   ],
   "source": [
    "#Look at first 5 of each\n",
    "ents[:5], dates[:5], relative_dates[:5], relations[:5]"
   ]
  },
  {
   "cell_type": "code",
   "execution_count": 20,
   "id": "639d42d5",
   "metadata": {},
   "outputs": [
    {
     "data": {
      "text/plain": [
       "[{'date_value': '18/11/24', 'entity_value': 'nausea/vomiting'},\n",
       " {'date_value': '18/11/24',\n",
       "  'entity_value': 'history of neoplasm of pituitary gland'},\n",
       " {'date_value': '2024-12-14', 'entity_value': 'improved'},\n",
       " {'date_value': '12/02/25', 'entity_value': 'diabetes_mellitus'}]"
      ]
     },
     "execution_count": 20,
     "metadata": {},
     "output_type": "execute_result"
    }
   ],
   "source": [
    "# Make relations human-readable (map IDs to values)\n",
    "id2value = id2value_from_items(ents, dates, relative_dates)\n",
    "\n",
    "readable_relations = [\n",
    "    {\n",
    "        \"date_value\": id2value.get(L[\"date_id\"]),\n",
    "        \"entity_value\": id2value.get(L[\"entity_id\"]),\n",
    "    }\n",
    "    for L in relations\n",
    "]\n",
    "readable_relations"
   ]
  },
  {
   "cell_type": "code",
   "execution_count": 16,
   "id": "f1a2b66e",
   "metadata": {},
   "outputs": [
    {
     "data": {
      "text/html": [
       "<div>\n",
       "<style scoped>\n",
       "    .dataframe tbody tr th:only-of-type {\n",
       "        vertical-align: middle;\n",
       "    }\n",
       "\n",
       "    .dataframe tbody tr th {\n",
       "        vertical-align: top;\n",
       "    }\n",
       "\n",
       "    .dataframe thead th {\n",
       "        text-align: right;\n",
       "    }\n",
       "</style>\n",
       "<table border=\"1\" class=\"dataframe\">\n",
       "  <thead>\n",
       "    <tr style=\"text-align: right;\">\n",
       "      <th></th>\n",
       "      <th>doc_id</th>\n",
       "      <th>n_entities</th>\n",
       "      <th>n_dates</th>\n",
       "      <th>n_rel_dates</th>\n",
       "      <th>n_relations</th>\n",
       "    </tr>\n",
       "  </thead>\n",
       "  <tbody>\n",
       "    <tr>\n",
       "      <th>0</th>\n",
       "      <td>26461</td>\n",
       "      <td>64</td>\n",
       "      <td>6</td>\n",
       "      <td>0</td>\n",
       "      <td>4</td>\n",
       "    </tr>\n",
       "    <tr>\n",
       "      <th>1</th>\n",
       "      <td>26462</td>\n",
       "      <td>21</td>\n",
       "      <td>7</td>\n",
       "      <td>0</td>\n",
       "      <td>11</td>\n",
       "    </tr>\n",
       "    <tr>\n",
       "      <th>2</th>\n",
       "      <td>26463</td>\n",
       "      <td>15</td>\n",
       "      <td>7</td>\n",
       "      <td>0</td>\n",
       "      <td>12</td>\n",
       "    </tr>\n",
       "    <tr>\n",
       "      <th>3</th>\n",
       "      <td>26464</td>\n",
       "      <td>11</td>\n",
       "      <td>3</td>\n",
       "      <td>0</td>\n",
       "      <td>6</td>\n",
       "    </tr>\n",
       "    <tr>\n",
       "      <th>4</th>\n",
       "      <td>26465</td>\n",
       "      <td>24</td>\n",
       "      <td>3</td>\n",
       "      <td>0</td>\n",
       "      <td>4</td>\n",
       "    </tr>\n",
       "  </tbody>\n",
       "</table>\n",
       "</div>"
      ],
      "text/plain": [
       "   doc_id  n_entities  n_dates  n_rel_dates  n_relations\n",
       "0   26461          64        6            0            4\n",
       "1   26462          21        7            0           11\n",
       "2   26463          15        7            0           12\n",
       "3   26464          11        3            0            6\n",
       "4   26465          24        3            0            4"
      ]
     },
     "execution_count": 16,
     "metadata": {},
     "output_type": "execute_result"
    }
   ],
   "source": [
    "#Run across all documents and summarize counts\n",
    "summary = []\n",
    "for d in docs:\n",
    "    summary.append({\n",
    "        \"doc_id\": d.get(\"id\"),\n",
    "        \"n_entities\": len(get_validated_entities(d, DATE_CUI)),\n",
    "        \"n_dates\": len(get_validated_dates(d, DATE_CUI)),\n",
    "        \"n_rel_dates\": len(get_validated_relative_dates(d, RELATIVE_DATE_CUI)),\n",
    "        \"n_relations\": len(get_validated_relations(d, DATE_CUI, RELATIVE_DATE_CUI)),\n",
    "    })\n",
    "\n",
    "pd.DataFrame(summary).sort_values(\"doc_id\").reset_index(drop=True)"
   ]
  },
  {
   "cell_type": "markdown",
   "id": "bff2d2e6",
   "metadata": {},
   "source": [
    "Create Dataset"
   ]
  },
  {
   "cell_type": "code",
   "execution_count": 17,
   "id": "a16f2f92",
   "metadata": {},
   "outputs": [],
   "source": [
    "#Extract validated entities, dates, relative dates and relations from all docs in dataset and append to rows\n",
    "rows = []\n",
    "for doc in docs:\n",
    "    # Extract entities, dates, relative dates and relations\n",
    "    ents = get_validated_entities(doc, DATE_CUI)\n",
    "    dates = get_validated_dates(doc, DATE_CUI)\n",
    "    relative_dates = get_validated_relative_dates(doc, RELATIVE_DATE_CUI)\n",
    "    relations = get_validated_relations(doc, DATE_CUI, RELATIVE_DATE_CUI)\n",
    "\n",
    "    # Mapping from validated items\n",
    "    id2value = id2value_from_items(ents, dates, relative_dates)\n",
    "\n",
    "    # Serialize each field\n",
    "    entities_json = doc_to_entities_json(ents)\n",
    "    dates_json = doc_to_dates_json(dates)\n",
    "    relative_dates_json = doc_to_relative_dates_json(relative_dates)\n",
    "    relations_json = doc_to_relations_value_json(relations, id2value)\n",
    "\n",
    "    # Assemble row\n",
    "    rows.append(make_row(\n",
    "        doc_id=doc.get(\"id\"),\n",
    "        note_text=doc.get(\"text\", \"\"),\n",
    "        entities_json=entities_json,\n",
    "        dates_json=dates_json,\n",
    "        relative_dates_json=relative_dates_json,\n",
    "        relations_json=relations_json\n",
    "    ))"
   ]
  },
  {
   "cell_type": "code",
   "execution_count": 18,
   "id": "d0a4fb11",
   "metadata": {},
   "outputs": [
    {
     "data": {
      "text/html": [
       "<div>\n",
       "<style scoped>\n",
       "    .dataframe tbody tr th:only-of-type {\n",
       "        vertical-align: middle;\n",
       "    }\n",
       "\n",
       "    .dataframe tbody tr th {\n",
       "        vertical-align: top;\n",
       "    }\n",
       "\n",
       "    .dataframe thead th {\n",
       "        text-align: right;\n",
       "    }\n",
       "</style>\n",
       "<table border=\"1\" class=\"dataframe\">\n",
       "  <thead>\n",
       "    <tr style=\"text-align: right;\">\n",
       "      <th></th>\n",
       "      <th>doc_id</th>\n",
       "      <th>note_text</th>\n",
       "      <th>entities_json</th>\n",
       "      <th>dates_json</th>\n",
       "      <th>relative_dates_json</th>\n",
       "      <th>relations_json</th>\n",
       "    </tr>\n",
       "  </thead>\n",
       "  <tbody>\n",
       "    <tr>\n",
       "      <th>0</th>\n",
       "      <td>26461</td>\n",
       "      <td>Ultrasound (30nd Jun 2024): no significant fin...</td>\n",
       "      <td>[{\"id\": 308244, \"value\": \"history of meningiti...</td>\n",
       "      <td>[{\"id\": 308320, \"value\": \"30nd Jun 2024\", \"sta...</td>\n",
       "      <td>[]</td>\n",
       "      <td>[{\"date\": \"12nd Sep 2024\", \"entity\": \"pituitar...</td>\n",
       "    </tr>\n",
       "    <tr>\n",
       "      <th>1</th>\n",
       "      <td>26462</td>\n",
       "      <td>Labs (27th Sep 2024): anemia. resolving  Skin:...</td>\n",
       "      <td>[{\"id\": 308371, \"value\": \"lesions\", \"cui\": \"52...</td>\n",
       "      <td>[{\"id\": 308581, \"value\": \"22/11/24\", \"start\": ...</td>\n",
       "      <td>[]</td>\n",
       "      <td>[{\"date\": \"27th Sep 2024\", \"entity\": \"anemia\",...</td>\n",
       "    </tr>\n",
       "    <tr>\n",
       "      <th>2</th>\n",
       "      <td>26463</td>\n",
       "      <td>URGENT REVIEW (2024-10-04): cough. suspect ost...</td>\n",
       "      <td>[{\"id\": 308886, \"value\": \"frequent urination\",...</td>\n",
       "      <td>[{\"id\": 308940, \"value\": \"2024-10-04\", \"start\"...</td>\n",
       "      <td>[]</td>\n",
       "      <td>[{\"date\": \"2024-10-04\", \"entity\": \"cough\", \"da...</td>\n",
       "    </tr>\n",
       "    <tr>\n",
       "      <th>3</th>\n",
       "      <td>26464</td>\n",
       "      <td>URGENT REVIEW (13rd Feb 2025) MRI of the brain...</td>\n",
       "      <td>[{\"id\": 308951, \"value\": \"multiple_sclerosis\",...</td>\n",
       "      <td>[{\"id\": 308996, \"value\": \"05-03-2025\", \"start\"...</td>\n",
       "      <td>[]</td>\n",
       "      <td>[{\"date\": \"13rd Feb 2025\", \"entity\": \"visual\",...</td>\n",
       "    </tr>\n",
       "    <tr>\n",
       "      <th>4</th>\n",
       "      <td>26465</td>\n",
       "      <td>New pt((18/11/24)): pt presents with nausea/vo...</td>\n",
       "      <td>[{\"id\": 308998, \"value\": \"history of neoplasm ...</td>\n",
       "      <td>[{\"id\": 309070, \"value\": \"18/11/24\", \"start\": ...</td>\n",
       "      <td>[]</td>\n",
       "      <td>[{\"date\": \"18/11/24\", \"entity\": \"nausea/vomiti...</td>\n",
       "    </tr>\n",
       "  </tbody>\n",
       "</table>\n",
       "</div>"
      ],
      "text/plain": [
       "   doc_id                                          note_text  \\\n",
       "0   26461  Ultrasound (30nd Jun 2024): no significant fin...   \n",
       "1   26462  Labs (27th Sep 2024): anemia. resolving  Skin:...   \n",
       "2   26463  URGENT REVIEW (2024-10-04): cough. suspect ost...   \n",
       "3   26464  URGENT REVIEW (13rd Feb 2025) MRI of the brain...   \n",
       "4   26465  New pt((18/11/24)): pt presents with nausea/vo...   \n",
       "\n",
       "                                       entities_json  \\\n",
       "0  [{\"id\": 308244, \"value\": \"history of meningiti...   \n",
       "1  [{\"id\": 308371, \"value\": \"lesions\", \"cui\": \"52...   \n",
       "2  [{\"id\": 308886, \"value\": \"frequent urination\",...   \n",
       "3  [{\"id\": 308951, \"value\": \"multiple_sclerosis\",...   \n",
       "4  [{\"id\": 308998, \"value\": \"history of neoplasm ...   \n",
       "\n",
       "                                          dates_json relative_dates_json  \\\n",
       "0  [{\"id\": 308320, \"value\": \"30nd Jun 2024\", \"sta...                  []   \n",
       "1  [{\"id\": 308581, \"value\": \"22/11/24\", \"start\": ...                  []   \n",
       "2  [{\"id\": 308940, \"value\": \"2024-10-04\", \"start\"...                  []   \n",
       "3  [{\"id\": 308996, \"value\": \"05-03-2025\", \"start\"...                  []   \n",
       "4  [{\"id\": 309070, \"value\": \"18/11/24\", \"start\": ...                  []   \n",
       "\n",
       "                                      relations_json  \n",
       "0  [{\"date\": \"12nd Sep 2024\", \"entity\": \"pituitar...  \n",
       "1  [{\"date\": \"27th Sep 2024\", \"entity\": \"anemia\",...  \n",
       "2  [{\"date\": \"2024-10-04\", \"entity\": \"cough\", \"da...  \n",
       "3  [{\"date\": \"13rd Feb 2025\", \"entity\": \"visual\",...  \n",
       "4  [{\"date\": \"18/11/24\", \"entity\": \"nausea/vomiti...  "
      ]
     },
     "execution_count": 18,
     "metadata": {},
     "output_type": "execute_result"
    }
   ],
   "source": [
    "#Create dataframe\n",
    "df = pd.DataFrame(rows, columns=[\"doc_id\", \"note_text\", \"entities_json\", \"dates_json\", \"relative_dates_json\", \"relations_json\"])\n",
    "df"
   ]
  },
  {
   "cell_type": "code",
   "execution_count": 19,
   "id": "ed84c3ac",
   "metadata": {},
   "outputs": [],
   "source": [
    "#Save csv\n",
    "out_path = \"../data/training_dataset.csv\"\n",
    "df.to_csv(out_path, index=False)"
   ]
  }
 ],
 "metadata": {
  "kernelspec": {
   "display_name": "venv",
   "language": "python",
   "name": "python3"
  },
  "language_info": {
   "codemirror_mode": {
    "name": "ipython",
    "version": 3
   },
   "file_extension": ".py",
   "mimetype": "text/x-python",
   "name": "python",
   "nbconvert_exporter": "python",
   "pygments_lexer": "ipython3",
   "version": "3.9.8"
  }
 },
 "nbformat": 4,
 "nbformat_minor": 5
}
