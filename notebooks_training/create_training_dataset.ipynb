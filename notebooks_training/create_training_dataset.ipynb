{
 "cells": [
  {
   "cell_type": "markdown",
   "id": "6aa62a72",
   "metadata": {},
   "source": [
    "Imports & Data Loading"
   ]
  },
  {
   "cell_type": "code",
   "execution_count": null,
   "id": "a3964e4d",
   "metadata": {},
   "outputs": [],
   "source": [
    "#Imports\n",
    "import sys\n",
    "import os\n",
    "import pandas as pd\n",
    "\n",
    "utils_path = os.path.abspath(os.path.join(os.getcwd(), '..', 'utils'))\n",
    "\n",
    "if utils_path not in sys.path:\n",
    "    sys.path.insert(0, utils_path)\n",
    "\n",
    "from create_training_dataset_utils import (load_medcat_export,\n",
    "    get_validated_entities, get_validated_dates, get_validated_relations, get_validated_relative_dates,\n",
    "    doc_to_entities_json, doc_to_dates_json, doc_to_relations_json, doc_to_relations_value_json, doc_to_relative_dates_json,\n",
    "    id2value_from_items, make_row)"
   ]
  },
  {
   "cell_type": "code",
   "execution_count": null,
   "id": "7f0d429c",
   "metadata": {},
   "outputs": [],
   "source": [
    "#Define cuis for absolute and relative dates (these should align with the cuis that were used to add these terms in MedCAT Trainer)\n",
    "DATE_CUI = \"410671006\"\n",
    "RELATIVE_DATE_CUI = \"118578006\""
   ]
  },
  {
   "cell_type": "code",
   "execution_count": null,
   "id": "54d3d6d9",
   "metadata": {},
   "outputs": [],
   "source": [
    "#Load data\n",
    "export_path = \"../data/MedCAT_Export_NPH.json\"\n",
    "export = load_medcat_export(export_path)"
   ]
  },
  {
   "cell_type": "markdown",
   "id": "9c409005",
   "metadata": {},
   "source": [
    "Explore Data"
   ]
  },
  {
   "cell_type": "code",
   "execution_count": null,
   "id": "57c9a477",
   "metadata": {},
   "outputs": [],
   "source": [
    "#Look at data\n",
    "#export"
   ]
  },
  {
   "cell_type": "code",
   "execution_count": null,
   "id": "7f060c8e",
   "metadata": {},
   "outputs": [],
   "source": [
    "#Flatten documents\n",
    "docs = []\n",
    "for proj in export.get(\"projects\", []):\n",
    "    for doc in proj.get(\"documents\", []):\n",
    "        docs.append(doc)\n",
    "\n",
    "len(docs)"
   ]
  },
  {
   "cell_type": "code",
   "execution_count": null,
   "id": "8919cb25",
   "metadata": {},
   "outputs": [],
   "source": [
    "#Pick a document to test\n",
    "doc = docs[0]\n",
    "#doc"
   ]
  },
  {
   "cell_type": "code",
   "execution_count": null,
   "id": "b8bb0956",
   "metadata": {},
   "outputs": [],
   "source": [
    "#Get validated clincial entities, absolute dates, relative dates and relations\n",
    "ents = get_validated_entities(doc, date_cui=DATE_CUI)\n",
    "dates = get_validated_dates(doc, date_cui=DATE_CUI)\n",
    "relative_dates = get_validated_relative_dates(doc, relative_date_cui=RELATIVE_DATE_CUI)\n",
    "relations = get_validated_relations(doc, date_cui=DATE_CUI, relative_date_cui=RELATIVE_DATE_CUI)\n",
    "\n",
    "print(\"Clincial entities:\", len(ents))\n",
    "print(\"Absolute dates:\", len(dates))\n",
    "print(\"Relative dates:\", len(relative_dates))\n",
    "print(\"Relations:\", len(relations))"
   ]
  },
  {
   "cell_type": "code",
   "execution_count": null,
   "id": "6f10ac00",
   "metadata": {},
   "outputs": [],
   "source": [
    "#Look at first 5 of each\n",
    "ents[:5], dates[:5], relative_dates[:5], relations[:5]"
   ]
  },
  {
   "cell_type": "code",
   "execution_count": null,
   "id": "639d42d5",
   "metadata": {},
   "outputs": [],
   "source": [
    "# Make relations human-readable (map IDs to values)\n",
    "id2value = id2value_from_items(ents, dates, relative_dates)\n",
    "\n",
    "readable_relations = [\n",
    "    {\n",
    "        \"date_value\": id2value.get(L[\"date_id\"]),\n",
    "        \"entity_value\": id2value.get(L[\"entity_id\"]),\n",
    "    }\n",
    "    for L in relations\n",
    "]\n",
    "readable_relations"
   ]
  },
  {
   "cell_type": "code",
   "execution_count": null,
   "id": "f1a2b66e",
   "metadata": {},
   "outputs": [],
   "source": [
    "#Run across all documents and summarize counts\n",
    "summary = []\n",
    "for d in docs:\n",
    "    summary.append({\n",
    "        \"doc_id\": d.get(\"id\"),\n",
    "        \"n_entities\": len(get_validated_entities(d, DATE_CUI)),\n",
    "        \"n_dates\": len(get_validated_dates(d, DATE_CUI)),\n",
    "        \"n_rel_dates\": len(get_validated_relative_dates(d, RELATIVE_DATE_CUI)),\n",
    "        \"n_relations\": len(get_validated_relations(d, DATE_CUI, RELATIVE_DATE_CUI)),\n",
    "    })\n",
    "\n",
    "pd.DataFrame(summary).sort_values(\"doc_id\").reset_index(drop=True)"
   ]
  },
  {
   "cell_type": "markdown",
   "id": "bff2d2e6",
   "metadata": {},
   "source": [
    "Create Dataset"
   ]
  },
  {
   "cell_type": "code",
   "execution_count": null,
   "id": "a16f2f92",
   "metadata": {},
   "outputs": [],
   "source": [
    "#Extract validated entities, dates, relative dates and relations from all docs in dataset and append to rows\n",
    "rows = []\n",
    "for doc in docs:\n",
    "    # Extract entities, dates, relative dates and relations\n",
    "    ents = get_validated_entities(doc, DATE_CUI)\n",
    "    dates = get_validated_dates(doc, DATE_CUI)\n",
    "    relative_dates = get_validated_relative_dates(doc, RELATIVE_DATE_CUI)\n",
    "    relations = get_validated_relations(doc, DATE_CUI, RELATIVE_DATE_CUI)\n",
    "\n",
    "    # Mapping from validated items\n",
    "    id2value = id2value_from_items(ents, dates, relative_dates)\n",
    "\n",
    "    # Serialize each field\n",
    "    entities_json = doc_to_entities_json(ents)\n",
    "    dates_json = doc_to_dates_json(dates)\n",
    "    relative_dates_json = doc_to_relative_dates_json(relative_dates)\n",
    "    relations_json = doc_to_relations_value_json(relations, id2value)\n",
    "\n",
    "    # Assemble row\n",
    "    rows.append(make_row(\n",
    "        doc_id=doc.get(\"id\"),\n",
    "        note_text=doc.get(\"text\", \"\"),\n",
    "        entities_json=entities_json,\n",
    "        dates_json=dates_json,\n",
    "        relative_dates_json=relative_dates_json,\n",
    "        relations_json=relations_json\n",
    "    ))"
   ]
  },
  {
   "cell_type": "code",
   "execution_count": null,
   "id": "d0a4fb11",
   "metadata": {},
   "outputs": [],
   "source": [
    "#Create dataframe\n",
    "df = pd.DataFrame(rows, columns=[\"doc_id\", \"note_text\", \"entities_json\", \"dates_json\", \"relative_dates_json\", \"relations_json\"])\n",
    "df"
   ]
  },
  {
   "cell_type": "code",
   "execution_count": null,
   "id": "ed84c3ac",
   "metadata": {},
   "outputs": [],
   "source": [
    "#Save csv\n",
    "out_path = \"../data/training_dataset.csv\"\n",
    "df.to_csv(out_path, index=False)"
   ]
  }
 ],
 "metadata": {
  "kernelspec": {
   "display_name": "venv",
   "language": "python",
   "name": "python3"
  },
  "language_info": {
   "codemirror_mode": {
    "name": "ipython",
    "version": 3
   },
   "file_extension": ".py",
   "mimetype": "text/x-python",
   "name": "python",
   "nbconvert_exporter": "python",
   "pygments_lexer": "ipython3",
   "version": "3.9.8"
  }
 },
 "nbformat": 4,
 "nbformat_minor": 5
}
