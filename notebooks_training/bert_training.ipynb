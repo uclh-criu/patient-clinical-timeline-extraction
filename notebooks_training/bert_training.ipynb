{
 "cells": [
  {
   "cell_type": "markdown",
   "id": "dfb4652a",
   "metadata": {},
   "source": [
    "Imports"
   ]
  },
  {
   "cell_type": "code",
   "execution_count": 1,
   "id": "02c805a7",
   "metadata": {},
   "outputs": [],
   "source": [
    "#imports\n",
    "import pandas as pd\n",
    "import numpy as np\n",
    "import torch\n",
    "from sklearn.model_selection import train_test_split\n",
    "from transformers import AutoTokenizer, AutoModelForSequenceClassification, Trainer, TrainingArguments, EarlyStoppingCallback, set_seed\n",
    "from datasets import Dataset\n",
    "from tqdm import tqdm\n",
    "import matplotlib.pyplot as plt\n",
    "\n",
    "# Import our modules\n",
    "import sys\n",
    "import os\n",
    "\n",
    "utils_path = os.path.abspath(os.path.join(os.getcwd(), '..', 'utils'))\n",
    "models_path = os.path.abspath(os.path.join(os.getcwd(), '..', 'models'))\n",
    "\n",
    "if utils_path not in sys.path:\n",
    "    sys.path.insert(0, utils_path)\n",
    "if models_path not in sys.path:\n",
    "    sys.path.insert(0, models_path)\n",
    "\n",
    "from general_utils import load_data, prepare_all_samples, get_entity_date_pairs, calculate_metrics\n",
    "from bert_training_utils import create_training_pairs, handle_class_imbalance, add_special_tokens, tokenize_function, compute_metrics, build_gold_lookup, get_label_for_pair\n",
    "from bert_extractor_utils import preprocess_input, bert_extraction, mark_entities_full_text\n",
    "from bert_model import BertRC"
   ]
  },
  {
   "cell_type": "markdown",
   "id": "e368136f",
   "metadata": {},
   "source": [
    "Data Loading"
   ]
  },
  {
   "cell_type": "code",
   "execution_count": 2,
   "id": "8b69680b",
   "metadata": {},
   "outputs": [
    {
     "name": "stdout",
     "output_type": "stream",
     "text": [
      "Loaded 101 records\n"
     ]
    }
   ],
   "source": [
    "# Load data\n",
    "df = load_data(\"../data/training_dataset_synthetic.csv\")\n",
    "print(f\"Loaded {len(df)} records\")"
   ]
  },
  {
   "cell_type": "code",
   "execution_count": 3,
   "id": "1ef7e0ca",
   "metadata": {},
   "outputs": [
    {
     "data": {
      "text/html": [
       "<div>\n",
       "<style scoped>\n",
       "    .dataframe tbody tr th:only-of-type {\n",
       "        vertical-align: middle;\n",
       "    }\n",
       "\n",
       "    .dataframe tbody tr th {\n",
       "        vertical-align: top;\n",
       "    }\n",
       "\n",
       "    .dataframe thead th {\n",
       "        text-align: right;\n",
       "    }\n",
       "</style>\n",
       "<table border=\"1\" class=\"dataframe\">\n",
       "  <thead>\n",
       "    <tr style=\"text-align: right;\">\n",
       "      <th></th>\n",
       "      <th>doc_id</th>\n",
       "      <th>note_text</th>\n",
       "      <th>entities_json</th>\n",
       "      <th>dates_json</th>\n",
       "      <th>relations_json</th>\n",
       "      <th>relative_dates_json</th>\n",
       "    </tr>\n",
       "  </thead>\n",
       "  <tbody>\n",
       "    <tr>\n",
       "      <th>0</th>\n",
       "      <td>0</td>\n",
       "      <td>Ultrasound (30nd Jun 2024): no significant fin...</td>\n",
       "      <td>[{'id': 300001, 'value': 'asthma', 'cui': 'pla...</td>\n",
       "      <td>[{'id': 308001, 'value': '02nd Aug 2024', 'sta...</td>\n",
       "      <td>[{'date': '02nd Aug 2024', 'entity': 'asthma',...</td>\n",
       "      <td>[]</td>\n",
       "    </tr>\n",
       "    <tr>\n",
       "      <th>1</th>\n",
       "      <td>1</td>\n",
       "      <td>Labs (27th Sep 2024): anemia. resolving  Skin:...</td>\n",
       "      <td>[{'id': 300001, 'value': 'multiple_sclerosis',...</td>\n",
       "      <td>[{'id': 308001, 'value': '27th Sep 2024', 'sta...</td>\n",
       "      <td>[{'date': '27th Sep 2024', 'entity': 'multiple...</td>\n",
       "      <td>[]</td>\n",
       "    </tr>\n",
       "    <tr>\n",
       "      <th>2</th>\n",
       "      <td>2</td>\n",
       "      <td>URGENT REVIEW (2024-10-04): cough. suspect ost...</td>\n",
       "      <td>[{'id': 300001, 'value': 'osteoarthritis', 'cu...</td>\n",
       "      <td>[{'id': 308001, 'value': '2024-10-04', 'start'...</td>\n",
       "      <td>[{'date': '2024-10-04', 'entity': 'osteoarthri...</td>\n",
       "      <td>[]</td>\n",
       "    </tr>\n",
       "    <tr>\n",
       "      <th>3</th>\n",
       "      <td>3</td>\n",
       "      <td>URGENT REVIEW (13rd Feb 2025) MRI of the brain...</td>\n",
       "      <td>[{'id': 300001, 'value': 'schizophrenia', 'cui...</td>\n",
       "      <td>[{'id': 308001, 'value': '13rd Feb 2025', 'sta...</td>\n",
       "      <td>[{'date': '13rd Feb 2025', 'entity': 'schizoph...</td>\n",
       "      <td>[]</td>\n",
       "    </tr>\n",
       "    <tr>\n",
       "      <th>4</th>\n",
       "      <td>4</td>\n",
       "      <td>New pt((18/11/24)): pt presents with nausea/vo...</td>\n",
       "      <td>[{'id': 300001, 'value': 'diabetes_mellitus', ...</td>\n",
       "      <td>[{'id': 308001, 'value': '18/11/24', 'start': ...</td>\n",
       "      <td>[{'date': '18/11/24', 'entity': 'diabetes_mell...</td>\n",
       "      <td>[]</td>\n",
       "    </tr>\n",
       "  </tbody>\n",
       "</table>\n",
       "</div>"
      ],
      "text/plain": [
       "   doc_id                                          note_text  \\\n",
       "0       0  Ultrasound (30nd Jun 2024): no significant fin...   \n",
       "1       1  Labs (27th Sep 2024): anemia. resolving  Skin:...   \n",
       "2       2  URGENT REVIEW (2024-10-04): cough. suspect ost...   \n",
       "3       3  URGENT REVIEW (13rd Feb 2025) MRI of the brain...   \n",
       "4       4  New pt((18/11/24)): pt presents with nausea/vo...   \n",
       "\n",
       "                                       entities_json  \\\n",
       "0  [{'id': 300001, 'value': 'asthma', 'cui': 'pla...   \n",
       "1  [{'id': 300001, 'value': 'multiple_sclerosis',...   \n",
       "2  [{'id': 300001, 'value': 'osteoarthritis', 'cu...   \n",
       "3  [{'id': 300001, 'value': 'schizophrenia', 'cui...   \n",
       "4  [{'id': 300001, 'value': 'diabetes_mellitus', ...   \n",
       "\n",
       "                                          dates_json  \\\n",
       "0  [{'id': 308001, 'value': '02nd Aug 2024', 'sta...   \n",
       "1  [{'id': 308001, 'value': '27th Sep 2024', 'sta...   \n",
       "2  [{'id': 308001, 'value': '2024-10-04', 'start'...   \n",
       "3  [{'id': 308001, 'value': '13rd Feb 2025', 'sta...   \n",
       "4  [{'id': 308001, 'value': '18/11/24', 'start': ...   \n",
       "\n",
       "                                      relations_json relative_dates_json  \n",
       "0  [{'date': '02nd Aug 2024', 'entity': 'asthma',...                  []  \n",
       "1  [{'date': '27th Sep 2024', 'entity': 'multiple...                  []  \n",
       "2  [{'date': '2024-10-04', 'entity': 'osteoarthri...                  []  \n",
       "3  [{'date': '13rd Feb 2025', 'entity': 'schizoph...                  []  \n",
       "4  [{'date': '18/11/24', 'entity': 'diabetes_mell...                  []  "
      ]
     },
     "execution_count": 3,
     "metadata": {},
     "output_type": "execute_result"
    }
   ],
   "source": [
    "#Inspect df\n",
    "df.head()"
   ]
  },
  {
   "cell_type": "code",
   "execution_count": 4,
   "id": "e0fc9f0c",
   "metadata": {},
   "outputs": [
    {
     "name": "stdout",
     "output_type": "stream",
     "text": [
      "Prepared 101 samples\n"
     ]
    }
   ],
   "source": [
    "# Prepare all samples\n",
    "samples = prepare_all_samples(df)\n",
    "print(f\"Prepared {len(samples)} samples\")\n",
    "#samples[0]"
   ]
  },
  {
   "cell_type": "markdown",
   "id": "094065cf",
   "metadata": {},
   "source": [
    "Model & Data Preparation for Finetuning"
   ]
  },
  {
   "cell_type": "code",
   "execution_count": 5,
   "id": "e11a1e79",
   "metadata": {},
   "outputs": [],
   "source": [
    "# Set seed for reproducibility\n",
    "set_seed(42)"
   ]
  },
  {
   "cell_type": "code",
   "execution_count": 6,
   "id": "16f5eddf",
   "metadata": {},
   "outputs": [],
   "source": [
    "#Set path to save model\n",
    "model_save_path = '../models/bert_models/'"
   ]
  },
  {
   "cell_type": "code",
   "execution_count": null,
   "id": "382400c5",
   "metadata": {},
   "outputs": [],
   "source": [
    "#Choose model to use - any BERT model from HuggingFace can be used, see: https://huggingface.co/google-bert\n",
    "\n",
    "#model_name = \"google/bert_uncased_L-2_H-128_A-2\" #2 layers, 128 hidden dim, 2 attention heads\n",
    "#model_name = \"google-bert/bert-base-uncased\" #12 layers, 768 hidden dim, 12 attention heads\n",
    "model_name = \"google-bert/bert-base-cased\" #12 layers, 768 hidden dim, 12 attention heads\n",
    "#model_name = \"prajjwal1/bert-tiny\"  # 4.4M parameters, 2 layers, 128 hidden dim\n",
    "#model_name = \"roberta-small\"  # ~45M parameters, 6 layers, 768 hidden dim\n",
    "#model_name = \"distilroberta-base\"  # ~82M parameters, 6 layers, 768 hidden dim\n",
    "#model_name = \"SpanBERT/spanbert-base-cased\"  # 110M parameters, 12 layers, 768 hidden dim\n",
    "#model_name = \"allenai/biomed_roberta_base\"  # 125M parameters, 12 layers, 768 hidden dim\n",
    "#model_name = \"microsoft/BiomedNLP-PubMedBERT-base-uncased-abstract-fulltext\"  # 125M parameters, 12 layers, 768 hidden dim"
   ]
  },
  {
   "cell_type": "code",
   "execution_count": 8,
   "id": "ba264bb7",
   "metadata": {},
   "outputs": [
    {
     "name": "stdout",
     "output_type": "stream",
     "text": [
      "\n",
      "Created 1242 training pairs\n"
     ]
    }
   ],
   "source": [
    "# Create training pairs\n",
    "processed_df = create_training_pairs(samples)\n",
    "print(f\"\\nCreated {len(processed_df)} training pairs\")"
   ]
  },
  {
   "cell_type": "code",
   "execution_count": 9,
   "id": "30358a95",
   "metadata": {},
   "outputs": [
    {
     "name": "stdout",
     "output_type": "stream",
     "text": [
      "Class weights: tensor([0.3027, 1.6973])\n",
      "\n",
      "After balancing:\n",
      "label\n",
      "0    1054\n",
      "1     188\n",
      "Name: count, dtype: int64\n"
     ]
    }
   ],
   "source": [
    "# Handle class imbalance\n",
    "balanced_df, class_weights = handle_class_imbalance(processed_df, method='weighted')\n",
    "print(f\"Class weights: {class_weights}\")\n",
    "\n",
    "print(\"\\nAfter balancing:\")\n",
    "print(balanced_df['label'].value_counts())"
   ]
  },
  {
   "cell_type": "code",
   "execution_count": 10,
   "id": "d411c840",
   "metadata": {},
   "outputs": [
    {
     "name": "stdout",
     "output_type": "stream",
     "text": [
      "Train: 993, Test: 249\n",
      "\n",
      "Train set distribution:\n",
      "label\n",
      "0    843\n",
      "1    150\n",
      "Name: count, dtype: int64\n",
      "\n",
      "Test set distribution:\n",
      "label\n",
      "0    211\n",
      "1     38\n",
      "Name: count, dtype: int64\n"
     ]
    }
   ],
   "source": [
    "# Train-test split\n",
    "train_df, test_df = train_test_split(balanced_df, test_size=0.2, random_state=42, stratify=balanced_df['label'])\n",
    "print(f\"Train: {len(train_df)}, Test: {len(test_df)}\")\n",
    "\n",
    "print(\"\\nTrain set distribution:\")\n",
    "print(train_df['label'].value_counts())\n",
    "print(\"\\nTest set distribution:\") \n",
    "print(test_df['label'].value_counts())"
   ]
  },
  {
   "cell_type": "code",
   "execution_count": 11,
   "id": "c1d9cd34",
   "metadata": {},
   "outputs": [],
   "source": [
    "# Setup tokenizer with special tokens\n",
    "tokenizer = AutoTokenizer.from_pretrained(model_name)\n",
    "tokenizer = add_special_tokens(tokenizer)"
   ]
  },
  {
   "cell_type": "code",
   "execution_count": 12,
   "id": "0e04f139",
   "metadata": {},
   "outputs": [],
   "source": [
    "# Prepare PyTorch datasets\n",
    "train_dataset = Dataset.from_pandas(train_df[['marked_text', 'label']])\n",
    "test_dataset = Dataset.from_pandas(test_df[['marked_text', 'label']])"
   ]
  },
  {
   "cell_type": "code",
   "execution_count": 13,
   "id": "cd55b726",
   "metadata": {},
   "outputs": [
    {
     "data": {
      "application/vnd.jupyter.widget-view+json": {
       "model_id": "c79a59777def42c3928e52a0599e9484",
       "version_major": 2,
       "version_minor": 0
      },
      "text/plain": [
       "Map:   0%|          | 0/993 [00:00<?, ? examples/s]"
      ]
     },
     "metadata": {},
     "output_type": "display_data"
    },
    {
     "data": {
      "application/vnd.jupyter.widget-view+json": {
       "model_id": "32c98046c9b0453abd7200a2916ae721",
       "version_major": 2,
       "version_minor": 0
      },
      "text/plain": [
       "Map:   0%|          | 0/249 [00:00<?, ? examples/s]"
      ]
     },
     "metadata": {},
     "output_type": "display_data"
    }
   ],
   "source": [
    "# Tokenize\n",
    "train_tokenized = train_dataset.map(lambda x: tokenize_function(x, tokenizer, max_length=256), batched=True)\n",
    "test_tokenized = test_dataset.map(lambda x: tokenize_function(x, tokenizer, max_length=256), batched=True)"
   ]
  },
  {
   "cell_type": "code",
   "execution_count": 14,
   "id": "e1ed086a",
   "metadata": {},
   "outputs": [],
   "source": [
    "# Set format for PyTorch\n",
    "train_tokenized.set_format(type='torch', columns=['input_ids', 'attention_mask', 'label'])\n",
    "test_tokenized.set_format(type='torch', columns=['input_ids', 'attention_mask', 'label'])"
   ]
  },
  {
   "cell_type": "markdown",
   "id": "50803ee7",
   "metadata": {},
   "source": [
    "BERT Finetuning"
   ]
  },
  {
   "cell_type": "code",
   "execution_count": 15,
   "id": "e0ae50e9",
   "metadata": {},
   "outputs": [
    {
     "name": "stderr",
     "output_type": "stream",
     "text": [
      "The new embeddings will be initialized from a multivariate normal distribution that has old embeddings' mean and covariance. As described in this article: https://nlp.stanford.edu/~johnhew/vocab-expansion.html. To disable this, use `mean_resizing=False`\n"
     ]
    }
   ],
   "source": [
    "# Create custom model with span pooling\n",
    "# Note embeddings are re-sized within bert_model.py so doesn't need to be manually done here\n",
    "model = BertRC(\n",
    "    model_name=model_name,\n",
    "    tokenizer=tokenizer,\n",
    "    num_labels=2,\n",
    "    class_weights=class_weights\n",
    ")"
   ]
  },
  {
   "cell_type": "code",
   "execution_count": 16,
   "id": "d8380545",
   "metadata": {},
   "outputs": [],
   "source": [
    "#Or alternatively use the BERT model as is - note you should only use one of these options\n",
    "#model = AutoModelForSequenceClassification.from_pretrained(model_name, num_labels=2)\n",
    "#model.resize_token_embeddings(len(tokenizer))"
   ]
  },
  {
   "cell_type": "code",
   "execution_count": 17,
   "id": "d20ceb7c",
   "metadata": {},
   "outputs": [
    {
     "data": {
      "text/plain": [
       "bert_model.BertRC"
      ]
     },
     "execution_count": 17,
     "metadata": {},
     "output_type": "execute_result"
    }
   ],
   "source": [
    "#Confirm model type\n",
    "type(model)"
   ]
  },
  {
   "cell_type": "code",
   "execution_count": 18,
   "id": "00d7bbc7",
   "metadata": {},
   "outputs": [],
   "source": [
    "# Training arguments\n",
    "training_args = TrainingArguments(\n",
    "    output_dir=model_save_path,\n",
    "    eval_strategy=\"epoch\",\n",
    "    save_strategy=\"epoch\",\n",
    "    load_best_model_at_end=True,\n",
    "    logging_strategy=\"steps\",\n",
    "    logging_steps=100,\n",
    "    metric_for_best_model=\"eval_positive_f1\",\n",
    "    greater_is_better=True,\n",
    "    num_train_epochs=5,\n",
    "    learning_rate=3e-5,\n",
    "    per_device_train_batch_size=16,\n",
    "    per_device_eval_batch_size=32,\n",
    "    warmup_ratio=0.05,\n",
    "    weight_decay=0.01,\n",
    "    fp16=torch.cuda.is_available(),\n",
    "    report_to=[],\n",
    "    seed=42,\n",
    ")"
   ]
  },
  {
   "cell_type": "code",
   "execution_count": 19,
   "id": "b2fb7e35",
   "metadata": {},
   "outputs": [
    {
     "name": "stderr",
     "output_type": "stream",
     "text": [
      "C:\\Users\\Satyam\\AppData\\Local\\Temp\\ipykernel_18092\\1321931947.py:2: FutureWarning: `tokenizer` is deprecated and will be removed in version 5.0.0 for `Trainer.__init__`. Use `processing_class` instead.\n",
      "  trainer = Trainer(\n"
     ]
    }
   ],
   "source": [
    "# Create trainer\n",
    "trainer = Trainer(\n",
    "    model=model,\n",
    "    args=training_args,\n",
    "    train_dataset=train_tokenized,\n",
    "    eval_dataset=test_tokenized,\n",
    "    tokenizer=tokenizer,\n",
    "    compute_metrics=compute_metrics,\n",
    "    callbacks=[EarlyStoppingCallback(early_stopping_patience=3)]\n",
    ")"
   ]
  },
  {
   "cell_type": "code",
   "execution_count": 20,
   "id": "93471464",
   "metadata": {},
   "outputs": [
    {
     "name": "stderr",
     "output_type": "stream",
     "text": [
      "c:\\Users\\Satyam\\Downloads\\pituitary_adenoma\\venv\\lib\\site-packages\\torch\\utils\\data\\dataloader.py:666: UserWarning: 'pin_memory' argument is set as true but no accelerator is found, then device pinned memory won't be used.\n",
      "  warnings.warn(warn_msg)\n"
     ]
    },
    {
     "data": {
      "text/html": [
       "\n",
       "    <div>\n",
       "      \n",
       "      <progress value='315' max='315' style='width:300px; height:20px; vertical-align: middle;'></progress>\n",
       "      [315/315 1:45:06, Epoch 5/5]\n",
       "    </div>\n",
       "    <table border=\"1\" class=\"dataframe\">\n",
       "  <thead>\n",
       " <tr style=\"text-align: left;\">\n",
       "      <th>Epoch</th>\n",
       "      <th>Training Loss</th>\n",
       "      <th>Validation Loss</th>\n",
       "      <th>Accuracy</th>\n",
       "      <th>F1 Macro</th>\n",
       "      <th>F1 Micro</th>\n",
       "      <th>F1 Weighted</th>\n",
       "      <th>Positive Precision</th>\n",
       "      <th>Positive Recall</th>\n",
       "      <th>Positive F1</th>\n",
       "      <th>True Negatives</th>\n",
       "      <th>False Positives</th>\n",
       "      <th>False Negatives</th>\n",
       "      <th>True Positives</th>\n",
       "    </tr>\n",
       "  </thead>\n",
       "  <tbody>\n",
       "    <tr>\n",
       "      <td>1</td>\n",
       "      <td>No log</td>\n",
       "      <td>0.724464</td>\n",
       "      <td>0.847390</td>\n",
       "      <td>0.458696</td>\n",
       "      <td>0.847390</td>\n",
       "      <td>0.777388</td>\n",
       "      <td>0.000000</td>\n",
       "      <td>0.000000</td>\n",
       "      <td>0.000000</td>\n",
       "      <td>211</td>\n",
       "      <td>0</td>\n",
       "      <td>38</td>\n",
       "      <td>0</td>\n",
       "    </tr>\n",
       "    <tr>\n",
       "      <td>2</td>\n",
       "      <td>0.724900</td>\n",
       "      <td>0.751929</td>\n",
       "      <td>0.799197</td>\n",
       "      <td>0.463177</td>\n",
       "      <td>0.799197</td>\n",
       "      <td>0.758260</td>\n",
       "      <td>0.071429</td>\n",
       "      <td>0.026316</td>\n",
       "      <td>0.038462</td>\n",
       "      <td>198</td>\n",
       "      <td>13</td>\n",
       "      <td>37</td>\n",
       "      <td>1</td>\n",
       "    </tr>\n",
       "    <tr>\n",
       "      <td>3</td>\n",
       "      <td>0.724900</td>\n",
       "      <td>0.697902</td>\n",
       "      <td>0.630522</td>\n",
       "      <td>0.511265</td>\n",
       "      <td>0.630522</td>\n",
       "      <td>0.679001</td>\n",
       "      <td>0.193182</td>\n",
       "      <td>0.447368</td>\n",
       "      <td>0.269841</td>\n",
       "      <td>140</td>\n",
       "      <td>71</td>\n",
       "      <td>21</td>\n",
       "      <td>17</td>\n",
       "    </tr>\n",
       "    <tr>\n",
       "      <td>4</td>\n",
       "      <td>0.579100</td>\n",
       "      <td>0.747773</td>\n",
       "      <td>0.730924</td>\n",
       "      <td>0.571098</td>\n",
       "      <td>0.730924</td>\n",
       "      <td>0.753005</td>\n",
       "      <td>0.254237</td>\n",
       "      <td>0.394737</td>\n",
       "      <td>0.309278</td>\n",
       "      <td>167</td>\n",
       "      <td>44</td>\n",
       "      <td>23</td>\n",
       "      <td>15</td>\n",
       "    </tr>\n",
       "    <tr>\n",
       "      <td>5</td>\n",
       "      <td>0.453400</td>\n",
       "      <td>0.937596</td>\n",
       "      <td>0.742972</td>\n",
       "      <td>0.523445</td>\n",
       "      <td>0.742972</td>\n",
       "      <td>0.748168</td>\n",
       "      <td>0.190476</td>\n",
       "      <td>0.210526</td>\n",
       "      <td>0.200000</td>\n",
       "      <td>177</td>\n",
       "      <td>34</td>\n",
       "      <td>30</td>\n",
       "      <td>8</td>\n",
       "    </tr>\n",
       "  </tbody>\n",
       "</table><p>"
      ],
      "text/plain": [
       "<IPython.core.display.HTML object>"
      ]
     },
     "metadata": {},
     "output_type": "display_data"
    },
    {
     "name": "stderr",
     "output_type": "stream",
     "text": [
      "c:\\Users\\Satyam\\Downloads\\pituitary_adenoma\\venv\\lib\\site-packages\\torch\\utils\\data\\dataloader.py:666: UserWarning: 'pin_memory' argument is set as true but no accelerator is found, then device pinned memory won't be used.\n",
      "  warnings.warn(warn_msg)\n",
      "c:\\Users\\Satyam\\Downloads\\pituitary_adenoma\\venv\\lib\\site-packages\\torch\\utils\\data\\dataloader.py:666: UserWarning: 'pin_memory' argument is set as true but no accelerator is found, then device pinned memory won't be used.\n",
      "  warnings.warn(warn_msg)\n",
      "c:\\Users\\Satyam\\Downloads\\pituitary_adenoma\\venv\\lib\\site-packages\\torch\\utils\\data\\dataloader.py:666: UserWarning: 'pin_memory' argument is set as true but no accelerator is found, then device pinned memory won't be used.\n",
      "  warnings.warn(warn_msg)\n",
      "c:\\Users\\Satyam\\Downloads\\pituitary_adenoma\\venv\\lib\\site-packages\\torch\\utils\\data\\dataloader.py:666: UserWarning: 'pin_memory' argument is set as true but no accelerator is found, then device pinned memory won't be used.\n",
      "  warnings.warn(warn_msg)\n"
     ]
    },
    {
     "data": {
      "text/plain": [
       "TrainOutput(global_step=315, training_loss=0.5778542019072033, metrics={'train_runtime': 6326.346, 'train_samples_per_second': 0.785, 'train_steps_per_second': 0.05, 'total_flos': 0.0, 'train_loss': 0.5778542019072033, 'epoch': 5.0})"
      ]
     },
     "execution_count": 20,
     "metadata": {},
     "output_type": "execute_result"
    }
   ],
   "source": [
    "#Train\n",
    "trainer.train()"
   ]
  },
  {
   "cell_type": "code",
   "execution_count": 21,
   "id": "d04a79a6",
   "metadata": {},
   "outputs": [
    {
     "data": {
      "image/png": "[encoded data removed]",
      "text/plain": [
       "<Figure size 640x480 with 1 Axes>"
      ]
     },
     "metadata": {},
     "output_type": "display_data"
    },
    {
     "data": {
      "image/png": "[encoded data removed]",
      "text/plain": [
       "<Figure size 640x480 with 1 Axes>"
      ]
     },
     "metadata": {},
     "output_type": "display_data"
    },
    {
     "data": {
      "image/png": "[encoded data removed]",
      "text/plain": [
       "<Figure size 640x480 with 1 Axes>"
      ]
     },
     "metadata": {},
     "output_type": "display_data"
    }
   ],
   "source": [
    "#Loss and training curves\n",
    "logs = pd.DataFrame(trainer.state.log_history)\n",
    "\n",
    "# Training loss per step\n",
    "train_loss = logs[logs.loss.notna()][[\"step\",\"loss\"]]\n",
    "train_loss.plot(x=\"step\", y=\"loss\", title=\"Training Loss\"); plt.show()\n",
    "\n",
    "# Eval loss/metrics per eval\n",
    "eval_logs = logs[logs.eval_loss.notna()]\n",
    "# Plot loss and overall metrics\n",
    "eval_logs.plot(x=\"epoch\", y=[\"eval_loss\",\"eval_f1_macro\",\"eval_f1_weighted\"], \n",
    "               title=\"Overall Metrics\"); plt.show()\n",
    "\n",
    "# Plot positive class metrics separately\n",
    "eval_logs.plot(x=\"epoch\", \n",
    "               y=[\"eval_positive_precision\",\"eval_positive_recall\",\"eval_positive_f1\"],\n",
    "               title=\"Positive Class Metrics\"); plt.show()"
   ]
  },
  {
   "cell_type": "code",
   "execution_count": 22,
   "id": "7bd8869c",
   "metadata": {},
   "outputs": [
    {
     "name": "stderr",
     "output_type": "stream",
     "text": [
      "c:\\Users\\Satyam\\Downloads\\pituitary_adenoma\\venv\\lib\\site-packages\\torch\\utils\\data\\dataloader.py:666: UserWarning: 'pin_memory' argument is set as true but no accelerator is found, then device pinned memory won't be used.\n",
      "  warnings.warn(warn_msg)\n"
     ]
    },
    {
     "data": {
      "text/html": [
       "\n",
       "    <div>\n",
       "      \n",
       "      <progress value='8' max='8' style='width:300px; height:20px; vertical-align: middle;'></progress>\n",
       "      [8/8 00:55]\n",
       "    </div>\n",
       "    "
      ],
      "text/plain": [
       "<IPython.core.display.HTML object>"
      ]
     },
     "metadata": {},
     "output_type": "display_data"
    },
    {
     "name": "stdout",
     "output_type": "stream",
     "text": [
      "\n",
      "Test Results:\n",
      "\n",
      "Overall Metrics:\n",
      "loss: 0.7478\n",
      "accuracy: 0.7309\n",
      "f1_macro: 0.5711\n",
      "f1_weighted: 0.7530\n",
      "f1_micro: 0.7309\n",
      "\n",
      "Positive Class Metrics:\n",
      "positive_precision: 0.2542\n",
      "positive_recall: 0.3947\n",
      "positive_f1: 0.3093\n",
      "\n",
      "Confusion Matrix:\n",
      "True Positives: 15\n",
      "False Positives: 44\n",
      "True Negatives: 167\n",
      "False Negatives: 23\n"
     ]
    }
   ],
   "source": [
    "# Evaluate on test set\n",
    "eval_results = trainer.evaluate(test_tokenized)\n",
    "print(\"\\nTest Results:\")\n",
    "print(\"\\nOverall Metrics:\")\n",
    "for metric in ['loss', 'accuracy', 'f1_macro', 'f1_weighted', 'f1_micro']:\n",
    "    print(f\"{metric}: {eval_results[f'eval_{metric}']:.4f}\")\n",
    "\n",
    "print(\"\\nPositive Class Metrics:\")\n",
    "for metric in ['positive_precision', 'positive_recall', 'positive_f1']:\n",
    "    print(f\"{metric}: {eval_results[f'eval_{metric}']:.4f}\")\n",
    "\n",
    "print(\"\\nConfusion Matrix:\")\n",
    "print(f\"True Positives: {eval_results['eval_true_positives']}\")\n",
    "print(f\"False Positives: {eval_results['eval_false_positives']}\")\n",
    "print(f\"True Negatives: {eval_results['eval_true_negatives']}\")\n",
    "print(f\"False Negatives: {eval_results['eval_false_negatives']}\")"
   ]
  },
  {
   "cell_type": "code",
   "execution_count": 23,
   "id": "d7cd035a",
   "metadata": {},
   "outputs": [
    {
     "name": "stdout",
     "output_type": "stream",
     "text": [
      "\n",
      "Model saved to ../models/bert_models/\n"
     ]
    }
   ],
   "source": [
    "# Save the final model\n",
    "trainer.save_model(model_save_path)\n",
    "tokenizer.save_pretrained(model_save_path)\n",
    "print(f\"\\nModel saved to {model_save_path}\")"
   ]
  }
 ],
 "metadata": {
  "kernelspec": {
   "display_name": "venv",
   "language": "python",
   "name": "python3"
  },
  "language_info": {
   "codemirror_mode": {
    "name": "ipython",
    "version": 3
   },
   "file_extension": ".py",
   "mimetype": "text/x-python",
   "name": "python",
   "nbconvert_exporter": "python",
   "pygments_lexer": "ipython3",
   "version": "3.9.8"
  }
 },
 "nbformat": 4,
 "nbformat_minor": 5
}
